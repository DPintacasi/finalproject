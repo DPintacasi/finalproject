{
 "cells": [
  {
   "cell_type": "markdown",
   "metadata": {},
   "source": [
    "# Predicting Movie Ratings - Deep Learning\n",
    "\n",
    "## Features: genre, corpus length, plot\n",
    "\n",
    "#### In this notebook we will be building a Deep Learning model to predict movies' Motion Picture Association rating."
   ]
  },
  {
   "cell_type": "code",
   "execution_count": 1,
   "metadata": {},
   "outputs": [
    {
     "name": "stderr",
     "output_type": "stream",
     "text": [
      "[nltk_data] Downloading package punkt to /Users/ZTC/nltk_data...\n",
      "[nltk_data]   Package punkt is already up-to-date!\n",
      "[nltk_data] Downloading package stopwords to /Users/ZTC/nltk_data...\n",
      "[nltk_data]   Package stopwords is already up-to-date!\n",
      "[nltk_data] Downloading package wordnet to /Users/ZTC/nltk_data...\n",
      "[nltk_data]   Package wordnet is already up-to-date!\n"
     ]
    },
    {
     "data": {
      "text/plain": [
       "True"
      ]
     },
     "execution_count": 1,
     "metadata": {},
     "output_type": "execute_result"
    }
   ],
   "source": [
    "# Dependencies\n",
    "import pandas as pd\n",
    "import os\n",
    "import numpy as np\n",
    "import matplotlib.pyplot as plt\n",
    "import seaborn as sn\n",
    "\n",
    "import nltk\n",
    "nltk.download('punkt')\n",
    "nltk.download('stopwords')\n",
    "nltk.download('wordnet')"
   ]
  },
  {
   "cell_type": "code",
   "execution_count": 2,
   "metadata": {},
   "outputs": [],
   "source": [
    "# Visualize more columns\n",
    "pd.options.display.max_columns = None"
   ]
  },
  {
   "cell_type": "markdown",
   "metadata": {},
   "source": [
    "# Load data"
   ]
  },
  {
   "cell_type": "code",
   "execution_count": 3,
   "metadata": {
    "scrolled": true
   },
   "outputs": [
    {
     "data": {
      "text/html": [
       "<div>\n",
       "<style scoped>\n",
       "    .dataframe tbody tr th:only-of-type {\n",
       "        vertical-align: middle;\n",
       "    }\n",
       "\n",
       "    .dataframe tbody tr th {\n",
       "        vertical-align: top;\n",
       "    }\n",
       "\n",
       "    .dataframe thead th {\n",
       "        text-align: right;\n",
       "    }\n",
       "</style>\n",
       "<table border=\"1\" class=\"dataframe\">\n",
       "  <thead>\n",
       "    <tr style=\"text-align: right;\">\n",
       "      <th></th>\n",
       "      <th>name</th>\n",
       "      <th>production</th>\n",
       "      <th>director</th>\n",
       "      <th>runtime</th>\n",
       "      <th>released</th>\n",
       "      <th>year</th>\n",
       "      <th>month</th>\n",
       "      <th>country_kaggle</th>\n",
       "      <th>country_omdb</th>\n",
       "      <th>star_kaggle</th>\n",
       "      <th>actors_omdb</th>\n",
       "      <th>writer_kaggle</th>\n",
       "      <th>writers_omdb</th>\n",
       "      <th>language_omdb</th>\n",
       "      <th>plot</th>\n",
       "      <th>awards</th>\n",
       "      <th>score_imdb</th>\n",
       "      <th>votes_imdb</th>\n",
       "      <th>score_metacritic</th>\n",
       "      <th>budget</th>\n",
       "      <th>genre_kaggle</th>\n",
       "      <th>gross</th>\n",
       "      <th>genres_omdb</th>\n",
       "      <th>rating</th>\n",
       "    </tr>\n",
       "  </thead>\n",
       "  <tbody>\n",
       "    <tr>\n",
       "      <th>0</th>\n",
       "      <td>Doctor Strange</td>\n",
       "      <td>Marvel Studios</td>\n",
       "      <td>Scott Derrickson</td>\n",
       "      <td>115</td>\n",
       "      <td>2016-11-04</td>\n",
       "      <td>2016</td>\n",
       "      <td>11</td>\n",
       "      <td>USA</td>\n",
       "      <td>USA</td>\n",
       "      <td>Benedict Cumberbatch</td>\n",
       "      <td>Benedict Cumberbatch, Chiwetel Ejiofor, Rachel...</td>\n",
       "      <td>Jon Spaihts</td>\n",
       "      <td>Jon Spaihts, Scott Derrickson, C. Robert Cargi...</td>\n",
       "      <td>English</td>\n",
       "      <td>Marvel's \"Doctor Strange\" follows the story of...</td>\n",
       "      <td>Nominated for 1 Oscar. Another 19 wins &amp; 67 no...</td>\n",
       "      <td>7.5</td>\n",
       "      <td>348307</td>\n",
       "      <td>72.0</td>\n",
       "      <td>165000000</td>\n",
       "      <td>Action</td>\n",
       "      <td>232641920</td>\n",
       "      <td>Action, Adventure, Fantasy, Sci-Fi</td>\n",
       "      <td>PG-13</td>\n",
       "    </tr>\n",
       "    <tr>\n",
       "      <th>1</th>\n",
       "      <td>Sleight</td>\n",
       "      <td>Diablo Entertainment (II)</td>\n",
       "      <td>J.D. Dillard</td>\n",
       "      <td>89</td>\n",
       "      <td>2017-04-28</td>\n",
       "      <td>2016</td>\n",
       "      <td>4</td>\n",
       "      <td>USA</td>\n",
       "      <td>USA</td>\n",
       "      <td>Jacob Latimore</td>\n",
       "      <td>Jacob Latimore, Seychelle Gabriel, Storm Reid,...</td>\n",
       "      <td>J.D. Dillard</td>\n",
       "      <td>J.D. Dillard, Alex Theurer</td>\n",
       "      <td>English</td>\n",
       "      <td>A young street magician (Jacob Latimore) is le...</td>\n",
       "      <td>3 nominations.</td>\n",
       "      <td>5.9</td>\n",
       "      <td>4012</td>\n",
       "      <td>62.0</td>\n",
       "      <td>250000</td>\n",
       "      <td>Action</td>\n",
       "      <td>3986245</td>\n",
       "      <td>Crime, Drama, Sci-Fi</td>\n",
       "      <td>R</td>\n",
       "    </tr>\n",
       "  </tbody>\n",
       "</table>\n",
       "</div>"
      ],
      "text/plain": [
       "             name                 production          director  runtime  \\\n",
       "0  Doctor Strange             Marvel Studios  Scott Derrickson      115   \n",
       "1         Sleight  Diablo Entertainment (II)      J.D. Dillard       89   \n",
       "\n",
       "     released  year  month country_kaggle country_omdb           star_kaggle  \\\n",
       "0  2016-11-04  2016     11            USA          USA  Benedict Cumberbatch   \n",
       "1  2017-04-28  2016      4            USA          USA        Jacob Latimore   \n",
       "\n",
       "                                         actors_omdb writer_kaggle  \\\n",
       "0  Benedict Cumberbatch, Chiwetel Ejiofor, Rachel...   Jon Spaihts   \n",
       "1  Jacob Latimore, Seychelle Gabriel, Storm Reid,...  J.D. Dillard   \n",
       "\n",
       "                                        writers_omdb language_omdb  \\\n",
       "0  Jon Spaihts, Scott Derrickson, C. Robert Cargi...       English   \n",
       "1                         J.D. Dillard, Alex Theurer       English   \n",
       "\n",
       "                                                plot  \\\n",
       "0  Marvel's \"Doctor Strange\" follows the story of...   \n",
       "1  A young street magician (Jacob Latimore) is le...   \n",
       "\n",
       "                                              awards  score_imdb  votes_imdb  \\\n",
       "0  Nominated for 1 Oscar. Another 19 wins & 67 no...         7.5      348307   \n",
       "1                                     3 nominations.         5.9        4012   \n",
       "\n",
       "   score_metacritic     budget genre_kaggle      gross  \\\n",
       "0              72.0  165000000       Action  232641920   \n",
       "1              62.0     250000       Action    3986245   \n",
       "\n",
       "                          genres_omdb rating  \n",
       "0  Action, Adventure, Fantasy, Sci-Fi  PG-13  \n",
       "1                Crime, Drama, Sci-Fi      R  "
      ]
     },
     "execution_count": 3,
     "metadata": {},
     "output_type": "execute_result"
    }
   ],
   "source": [
    "path = os.path.join('..', '..', 'resources','cleaned_data', 'movies_complete_cleaned.csv')\n",
    "df = pd.read_csv(path)\n",
    "# Drop Null values in `plot` column\n",
    "df = df.dropna(axis='index', subset=['plot'])\n",
    "\n",
    "df.head(2)"
   ]
  },
  {
   "cell_type": "markdown",
   "metadata": {},
   "source": [
    "**Add a feature that's the length of the raw text.**"
   ]
  },
  {
   "cell_type": "code",
   "execution_count": 4,
   "metadata": {},
   "outputs": [],
   "source": [
    "df['length'] = [len(x) for x in df['plot']]"
   ]
  },
  {
   "cell_type": "code",
   "execution_count": 5,
   "metadata": {},
   "outputs": [
    {
     "data": {
      "text/html": [
       "<div>\n",
       "<style scoped>\n",
       "    .dataframe tbody tr th:only-of-type {\n",
       "        vertical-align: middle;\n",
       "    }\n",
       "\n",
       "    .dataframe tbody tr th {\n",
       "        vertical-align: top;\n",
       "    }\n",
       "\n",
       "    .dataframe thead th {\n",
       "        text-align: right;\n",
       "    }\n",
       "</style>\n",
       "<table border=\"1\" class=\"dataframe\">\n",
       "  <thead>\n",
       "    <tr style=\"text-align: right;\">\n",
       "      <th></th>\n",
       "      <th>name</th>\n",
       "      <th>production</th>\n",
       "      <th>director</th>\n",
       "      <th>runtime</th>\n",
       "      <th>released</th>\n",
       "      <th>year</th>\n",
       "      <th>month</th>\n",
       "      <th>country_kaggle</th>\n",
       "      <th>country_omdb</th>\n",
       "      <th>star_kaggle</th>\n",
       "      <th>actors_omdb</th>\n",
       "      <th>writer_kaggle</th>\n",
       "      <th>writers_omdb</th>\n",
       "      <th>language_omdb</th>\n",
       "      <th>plot</th>\n",
       "      <th>awards</th>\n",
       "      <th>score_imdb</th>\n",
       "      <th>votes_imdb</th>\n",
       "      <th>score_metacritic</th>\n",
       "      <th>budget</th>\n",
       "      <th>genre_kaggle</th>\n",
       "      <th>gross</th>\n",
       "      <th>genres_omdb</th>\n",
       "      <th>rating</th>\n",
       "      <th>length</th>\n",
       "    </tr>\n",
       "  </thead>\n",
       "  <tbody>\n",
       "    <tr>\n",
       "      <th>0</th>\n",
       "      <td>Doctor Strange</td>\n",
       "      <td>Marvel Studios</td>\n",
       "      <td>Scott Derrickson</td>\n",
       "      <td>115</td>\n",
       "      <td>2016-11-04</td>\n",
       "      <td>2016</td>\n",
       "      <td>11</td>\n",
       "      <td>USA</td>\n",
       "      <td>USA</td>\n",
       "      <td>Benedict Cumberbatch</td>\n",
       "      <td>Benedict Cumberbatch, Chiwetel Ejiofor, Rachel...</td>\n",
       "      <td>Jon Spaihts</td>\n",
       "      <td>Jon Spaihts, Scott Derrickson, C. Robert Cargi...</td>\n",
       "      <td>English</td>\n",
       "      <td>Marvel's \"Doctor Strange\" follows the story of...</td>\n",
       "      <td>Nominated for 1 Oscar. Another 19 wins &amp; 67 no...</td>\n",
       "      <td>7.5</td>\n",
       "      <td>348307</td>\n",
       "      <td>72.0</td>\n",
       "      <td>165000000</td>\n",
       "      <td>Action</td>\n",
       "      <td>232641920</td>\n",
       "      <td>Action, Adventure, Fantasy, Sci-Fi</td>\n",
       "      <td>PG-13</td>\n",
       "      <td>464</td>\n",
       "    </tr>\n",
       "    <tr>\n",
       "      <th>1</th>\n",
       "      <td>Sleight</td>\n",
       "      <td>Diablo Entertainment (II)</td>\n",
       "      <td>J.D. Dillard</td>\n",
       "      <td>89</td>\n",
       "      <td>2017-04-28</td>\n",
       "      <td>2016</td>\n",
       "      <td>4</td>\n",
       "      <td>USA</td>\n",
       "      <td>USA</td>\n",
       "      <td>Jacob Latimore</td>\n",
       "      <td>Jacob Latimore, Seychelle Gabriel, Storm Reid,...</td>\n",
       "      <td>J.D. Dillard</td>\n",
       "      <td>J.D. Dillard, Alex Theurer</td>\n",
       "      <td>English</td>\n",
       "      <td>A young street magician (Jacob Latimore) is le...</td>\n",
       "      <td>3 nominations.</td>\n",
       "      <td>5.9</td>\n",
       "      <td>4012</td>\n",
       "      <td>62.0</td>\n",
       "      <td>250000</td>\n",
       "      <td>Action</td>\n",
       "      <td>3986245</td>\n",
       "      <td>Crime, Drama, Sci-Fi</td>\n",
       "      <td>R</td>\n",
       "      <td>289</td>\n",
       "    </tr>\n",
       "  </tbody>\n",
       "</table>\n",
       "</div>"
      ],
      "text/plain": [
       "             name                 production          director  runtime  \\\n",
       "0  Doctor Strange             Marvel Studios  Scott Derrickson      115   \n",
       "1         Sleight  Diablo Entertainment (II)      J.D. Dillard       89   \n",
       "\n",
       "     released  year  month country_kaggle country_omdb           star_kaggle  \\\n",
       "0  2016-11-04  2016     11            USA          USA  Benedict Cumberbatch   \n",
       "1  2017-04-28  2016      4            USA          USA        Jacob Latimore   \n",
       "\n",
       "                                         actors_omdb writer_kaggle  \\\n",
       "0  Benedict Cumberbatch, Chiwetel Ejiofor, Rachel...   Jon Spaihts   \n",
       "1  Jacob Latimore, Seychelle Gabriel, Storm Reid,...  J.D. Dillard   \n",
       "\n",
       "                                        writers_omdb language_omdb  \\\n",
       "0  Jon Spaihts, Scott Derrickson, C. Robert Cargi...       English   \n",
       "1                         J.D. Dillard, Alex Theurer       English   \n",
       "\n",
       "                                                plot  \\\n",
       "0  Marvel's \"Doctor Strange\" follows the story of...   \n",
       "1  A young street magician (Jacob Latimore) is le...   \n",
       "\n",
       "                                              awards  score_imdb  votes_imdb  \\\n",
       "0  Nominated for 1 Oscar. Another 19 wins & 67 no...         7.5      348307   \n",
       "1                                     3 nominations.         5.9        4012   \n",
       "\n",
       "   score_metacritic     budget genre_kaggle      gross  \\\n",
       "0              72.0  165000000       Action  232641920   \n",
       "1              62.0     250000       Action    3986245   \n",
       "\n",
       "                          genres_omdb rating  length  \n",
       "0  Action, Adventure, Fantasy, Sci-Fi  PG-13     464  \n",
       "1                Crime, Drama, Sci-Fi      R     289  "
      ]
     },
     "execution_count": 5,
     "metadata": {},
     "output_type": "execute_result"
    }
   ],
   "source": [
    "df.head(2)"
   ]
  },
  {
   "cell_type": "code",
   "execution_count": 6,
   "metadata": {},
   "outputs": [
    {
     "data": {
      "text/html": [
       "<div>\n",
       "<style scoped>\n",
       "    .dataframe tbody tr th:only-of-type {\n",
       "        vertical-align: middle;\n",
       "    }\n",
       "\n",
       "    .dataframe tbody tr th {\n",
       "        vertical-align: top;\n",
       "    }\n",
       "\n",
       "    .dataframe thead th {\n",
       "        text-align: right;\n",
       "    }\n",
       "</style>\n",
       "<table border=\"1\" class=\"dataframe\">\n",
       "  <thead>\n",
       "    <tr style=\"text-align: right;\">\n",
       "      <th></th>\n",
       "      <th>name</th>\n",
       "      <th>genre_kaggle</th>\n",
       "      <th>genres_omdb</th>\n",
       "      <th>action</th>\n",
       "      <th>adventure</th>\n",
       "      <th>fantasy</th>\n",
       "      <th>sci-fi</th>\n",
       "      <th>crime</th>\n",
       "      <th>drama</th>\n",
       "      <th>history</th>\n",
       "      <th>comedy</th>\n",
       "      <th>biography</th>\n",
       "      <th>romance</th>\n",
       "      <th>horror</th>\n",
       "      <th>thriller</th>\n",
       "      <th>war</th>\n",
       "      <th>animation</th>\n",
       "      <th>family</th>\n",
       "      <th>sport</th>\n",
       "      <th>music</th>\n",
       "      <th>mystery</th>\n",
       "      <th>short</th>\n",
       "      <th>western</th>\n",
       "      <th>musical</th>\n",
       "      <th>documentary</th>\n",
       "      <th>film-noir</th>\n",
       "      <th>adult</th>\n",
       "    </tr>\n",
       "  </thead>\n",
       "  <tbody>\n",
       "    <tr>\n",
       "      <th>0</th>\n",
       "      <td>Doctor Strange</td>\n",
       "      <td>Action</td>\n",
       "      <td>Action, Adventure, Fantasy, Sci-Fi</td>\n",
       "      <td>1</td>\n",
       "      <td>1</td>\n",
       "      <td>1</td>\n",
       "      <td>1</td>\n",
       "      <td>0</td>\n",
       "      <td>0</td>\n",
       "      <td>0</td>\n",
       "      <td>0</td>\n",
       "      <td>0</td>\n",
       "      <td>0</td>\n",
       "      <td>0</td>\n",
       "      <td>0</td>\n",
       "      <td>0</td>\n",
       "      <td>0</td>\n",
       "      <td>0</td>\n",
       "      <td>0</td>\n",
       "      <td>0</td>\n",
       "      <td>0</td>\n",
       "      <td>0</td>\n",
       "      <td>0</td>\n",
       "      <td>0</td>\n",
       "      <td>0</td>\n",
       "      <td>0</td>\n",
       "      <td>0</td>\n",
       "    </tr>\n",
       "    <tr>\n",
       "      <th>1</th>\n",
       "      <td>Sleight</td>\n",
       "      <td>Action</td>\n",
       "      <td>Crime, Drama, Sci-Fi</td>\n",
       "      <td>0</td>\n",
       "      <td>0</td>\n",
       "      <td>0</td>\n",
       "      <td>1</td>\n",
       "      <td>1</td>\n",
       "      <td>1</td>\n",
       "      <td>0</td>\n",
       "      <td>0</td>\n",
       "      <td>0</td>\n",
       "      <td>0</td>\n",
       "      <td>0</td>\n",
       "      <td>0</td>\n",
       "      <td>0</td>\n",
       "      <td>0</td>\n",
       "      <td>0</td>\n",
       "      <td>0</td>\n",
       "      <td>0</td>\n",
       "      <td>0</td>\n",
       "      <td>0</td>\n",
       "      <td>0</td>\n",
       "      <td>0</td>\n",
       "      <td>0</td>\n",
       "      <td>0</td>\n",
       "      <td>0</td>\n",
       "    </tr>\n",
       "  </tbody>\n",
       "</table>\n",
       "</div>"
      ],
      "text/plain": [
       "             name genre_kaggle                         genres_omdb  action  \\\n",
       "0  Doctor Strange       Action  Action, Adventure, Fantasy, Sci-Fi       1   \n",
       "1         Sleight       Action                Crime, Drama, Sci-Fi       0   \n",
       "\n",
       "   adventure  fantasy  sci-fi  crime  drama  history  comedy  biography  \\\n",
       "0          1        1       1      0      0        0       0          0   \n",
       "1          0        0       1      1      1        0       0          0   \n",
       "\n",
       "   romance  horror  thriller  war  animation  family  sport  music  mystery  \\\n",
       "0        0       0         0    0          0       0      0      0        0   \n",
       "1        0       0         0    0          0       0      0      0        0   \n",
       "\n",
       "   short  western  musical  documentary  film-noir  adult  \n",
       "0      0        0        0            0          0      0  \n",
       "1      0        0        0            0          0      0  "
      ]
     },
     "execution_count": 6,
     "metadata": {},
     "output_type": "execute_result"
    }
   ],
   "source": [
    "genres_path = os.path.join('..', '..', 'resources','cleaned_data', 'parsed_genres_table.csv')\n",
    "df_genres = pd.read_csv(genres_path)\n",
    "\n",
    "df_genres.head(2)"
   ]
  },
  {
   "cell_type": "markdown",
   "metadata": {},
   "source": [
    "# Select initial features to work with"
   ]
  },
  {
   "cell_type": "code",
   "execution_count": 7,
   "metadata": {
    "scrolled": true
   },
   "outputs": [
    {
     "data": {
      "text/html": [
       "<div>\n",
       "<style scoped>\n",
       "    .dataframe tbody tr th:only-of-type {\n",
       "        vertical-align: middle;\n",
       "    }\n",
       "\n",
       "    .dataframe tbody tr th {\n",
       "        vertical-align: top;\n",
       "    }\n",
       "\n",
       "    .dataframe thead th {\n",
       "        text-align: right;\n",
       "    }\n",
       "</style>\n",
       "<table border=\"1\" class=\"dataframe\">\n",
       "  <thead>\n",
       "    <tr style=\"text-align: right;\">\n",
       "      <th></th>\n",
       "      <th>name</th>\n",
       "      <th>action</th>\n",
       "      <th>adventure</th>\n",
       "      <th>fantasy</th>\n",
       "      <th>sci-fi</th>\n",
       "      <th>crime</th>\n",
       "      <th>drama</th>\n",
       "      <th>history</th>\n",
       "      <th>comedy</th>\n",
       "      <th>biography</th>\n",
       "      <th>romance</th>\n",
       "      <th>horror</th>\n",
       "      <th>thriller</th>\n",
       "      <th>war</th>\n",
       "      <th>animation</th>\n",
       "      <th>family</th>\n",
       "      <th>sport</th>\n",
       "      <th>music</th>\n",
       "      <th>mystery</th>\n",
       "      <th>short</th>\n",
       "      <th>western</th>\n",
       "      <th>musical</th>\n",
       "      <th>documentary</th>\n",
       "      <th>film-noir</th>\n",
       "      <th>adult</th>\n",
       "      <th>plot</th>\n",
       "      <th>rating</th>\n",
       "      <th>length</th>\n",
       "    </tr>\n",
       "  </thead>\n",
       "  <tbody>\n",
       "    <tr>\n",
       "      <th>0</th>\n",
       "      <td>Doctor Strange</td>\n",
       "      <td>1</td>\n",
       "      <td>1</td>\n",
       "      <td>1</td>\n",
       "      <td>1</td>\n",
       "      <td>0</td>\n",
       "      <td>0</td>\n",
       "      <td>0</td>\n",
       "      <td>0</td>\n",
       "      <td>0</td>\n",
       "      <td>0</td>\n",
       "      <td>0</td>\n",
       "      <td>0</td>\n",
       "      <td>0</td>\n",
       "      <td>0</td>\n",
       "      <td>0</td>\n",
       "      <td>0</td>\n",
       "      <td>0</td>\n",
       "      <td>0</td>\n",
       "      <td>0</td>\n",
       "      <td>0</td>\n",
       "      <td>0</td>\n",
       "      <td>0</td>\n",
       "      <td>0</td>\n",
       "      <td>0</td>\n",
       "      <td>Marvel's \"Doctor Strange\" follows the story of...</td>\n",
       "      <td>PG-13</td>\n",
       "      <td>464</td>\n",
       "    </tr>\n",
       "    <tr>\n",
       "      <th>1</th>\n",
       "      <td>Sleight</td>\n",
       "      <td>0</td>\n",
       "      <td>0</td>\n",
       "      <td>0</td>\n",
       "      <td>1</td>\n",
       "      <td>1</td>\n",
       "      <td>1</td>\n",
       "      <td>0</td>\n",
       "      <td>0</td>\n",
       "      <td>0</td>\n",
       "      <td>0</td>\n",
       "      <td>0</td>\n",
       "      <td>0</td>\n",
       "      <td>0</td>\n",
       "      <td>0</td>\n",
       "      <td>0</td>\n",
       "      <td>0</td>\n",
       "      <td>0</td>\n",
       "      <td>0</td>\n",
       "      <td>0</td>\n",
       "      <td>0</td>\n",
       "      <td>0</td>\n",
       "      <td>0</td>\n",
       "      <td>0</td>\n",
       "      <td>0</td>\n",
       "      <td>A young street magician (Jacob Latimore) is le...</td>\n",
       "      <td>R</td>\n",
       "      <td>289</td>\n",
       "    </tr>\n",
       "  </tbody>\n",
       "</table>\n",
       "</div>"
      ],
      "text/plain": [
       "             name  action  adventure  fantasy  sci-fi  crime  drama  history  \\\n",
       "0  Doctor Strange       1          1        1       1      0      0        0   \n",
       "1         Sleight       0          0        0       1      1      1        0   \n",
       "\n",
       "   comedy  biography  romance  horror  thriller  war  animation  family  \\\n",
       "0       0          0        0       0         0    0          0       0   \n",
       "1       0          0        0       0         0    0          0       0   \n",
       "\n",
       "   sport  music  mystery  short  western  musical  documentary  film-noir  \\\n",
       "0      0      0        0      0        0        0            0          0   \n",
       "1      0      0        0      0        0        0            0          0   \n",
       "\n",
       "   adult                                               plot rating  length  \n",
       "0      0  Marvel's \"Doctor Strange\" follows the story of...  PG-13     464  \n",
       "1      0  A young street magician (Jacob Latimore) is le...      R     289  "
      ]
     },
     "execution_count": 7,
     "metadata": {},
     "output_type": "execute_result"
    }
   ],
   "source": [
    "# Select features\n",
    "df_plot = df[['name', 'plot', 'rating', 'length']]\n",
    "full_df = pd.merge(df_genres, df_plot, on='name', how='inner')\n",
    "full_df.drop(columns=['genre_kaggle', 'genres_omdb'], inplace=True)\n",
    "full_df.head(2)"
   ]
  },
  {
   "cell_type": "code",
   "execution_count": 8,
   "metadata": {},
   "outputs": [
    {
     "data": {
      "text/plain": [
       "name           False\n",
       "action         False\n",
       "adventure      False\n",
       "fantasy        False\n",
       "sci-fi         False\n",
       "crime          False\n",
       "drama          False\n",
       "history        False\n",
       "comedy         False\n",
       "biography      False\n",
       "romance        False\n",
       "horror         False\n",
       "thriller       False\n",
       "war            False\n",
       "animation      False\n",
       "family         False\n",
       "sport          False\n",
       "music          False\n",
       "mystery        False\n",
       "short          False\n",
       "western        False\n",
       "musical        False\n",
       "documentary    False\n",
       "film-noir      False\n",
       "adult          False\n",
       "plot           False\n",
       "rating         False\n",
       "length         False\n",
       "dtype: bool"
      ]
     },
     "execution_count": 8,
     "metadata": {},
     "output_type": "execute_result"
    }
   ],
   "source": [
    "# Check if there's missing values\n",
    "full_df.isna().any()"
   ]
  },
  {
   "cell_type": "markdown",
   "metadata": {},
   "source": [
    "# Preprocessing - NLP - pt1"
   ]
  },
  {
   "cell_type": "markdown",
   "metadata": {},
   "source": [
    "### Remove punctuations"
   ]
  },
  {
   "cell_type": "code",
   "execution_count": 9,
   "metadata": {},
   "outputs": [],
   "source": [
    "import string\n",
    "\n",
    "def remove_punct(text):\n",
    "    table = str.maketrans(\"\", \"\", string.punctuation)\n",
    "    return text.translate(table)\n",
    "\n",
    "\n",
    "punc_removed = full_df.copy()\n",
    "punc_removed[\"punc_removed\"] = [remove_punct(x) for x in punc_removed['plot']]"
   ]
  },
  {
   "cell_type": "code",
   "execution_count": 10,
   "metadata": {},
   "outputs": [
    {
     "data": {
      "text/html": [
       "<div>\n",
       "<style scoped>\n",
       "    .dataframe tbody tr th:only-of-type {\n",
       "        vertical-align: middle;\n",
       "    }\n",
       "\n",
       "    .dataframe tbody tr th {\n",
       "        vertical-align: top;\n",
       "    }\n",
       "\n",
       "    .dataframe thead th {\n",
       "        text-align: right;\n",
       "    }\n",
       "</style>\n",
       "<table border=\"1\" class=\"dataframe\">\n",
       "  <thead>\n",
       "    <tr style=\"text-align: right;\">\n",
       "      <th></th>\n",
       "      <th>name</th>\n",
       "      <th>action</th>\n",
       "      <th>adventure</th>\n",
       "      <th>fantasy</th>\n",
       "      <th>sci-fi</th>\n",
       "      <th>crime</th>\n",
       "      <th>drama</th>\n",
       "      <th>history</th>\n",
       "      <th>comedy</th>\n",
       "      <th>biography</th>\n",
       "      <th>romance</th>\n",
       "      <th>horror</th>\n",
       "      <th>thriller</th>\n",
       "      <th>war</th>\n",
       "      <th>animation</th>\n",
       "      <th>family</th>\n",
       "      <th>sport</th>\n",
       "      <th>music</th>\n",
       "      <th>mystery</th>\n",
       "      <th>short</th>\n",
       "      <th>western</th>\n",
       "      <th>musical</th>\n",
       "      <th>documentary</th>\n",
       "      <th>film-noir</th>\n",
       "      <th>adult</th>\n",
       "      <th>plot</th>\n",
       "      <th>rating</th>\n",
       "      <th>length</th>\n",
       "      <th>punc_removed</th>\n",
       "    </tr>\n",
       "  </thead>\n",
       "  <tbody>\n",
       "    <tr>\n",
       "      <th>0</th>\n",
       "      <td>Doctor Strange</td>\n",
       "      <td>1</td>\n",
       "      <td>1</td>\n",
       "      <td>1</td>\n",
       "      <td>1</td>\n",
       "      <td>0</td>\n",
       "      <td>0</td>\n",
       "      <td>0</td>\n",
       "      <td>0</td>\n",
       "      <td>0</td>\n",
       "      <td>0</td>\n",
       "      <td>0</td>\n",
       "      <td>0</td>\n",
       "      <td>0</td>\n",
       "      <td>0</td>\n",
       "      <td>0</td>\n",
       "      <td>0</td>\n",
       "      <td>0</td>\n",
       "      <td>0</td>\n",
       "      <td>0</td>\n",
       "      <td>0</td>\n",
       "      <td>0</td>\n",
       "      <td>0</td>\n",
       "      <td>0</td>\n",
       "      <td>0</td>\n",
       "      <td>Marvel's \"Doctor Strange\" follows the story of...</td>\n",
       "      <td>PG-13</td>\n",
       "      <td>464</td>\n",
       "      <td>Marvels Doctor Strange follows the story of th...</td>\n",
       "    </tr>\n",
       "    <tr>\n",
       "      <th>1</th>\n",
       "      <td>Sleight</td>\n",
       "      <td>0</td>\n",
       "      <td>0</td>\n",
       "      <td>0</td>\n",
       "      <td>1</td>\n",
       "      <td>1</td>\n",
       "      <td>1</td>\n",
       "      <td>0</td>\n",
       "      <td>0</td>\n",
       "      <td>0</td>\n",
       "      <td>0</td>\n",
       "      <td>0</td>\n",
       "      <td>0</td>\n",
       "      <td>0</td>\n",
       "      <td>0</td>\n",
       "      <td>0</td>\n",
       "      <td>0</td>\n",
       "      <td>0</td>\n",
       "      <td>0</td>\n",
       "      <td>0</td>\n",
       "      <td>0</td>\n",
       "      <td>0</td>\n",
       "      <td>0</td>\n",
       "      <td>0</td>\n",
       "      <td>0</td>\n",
       "      <td>A young street magician (Jacob Latimore) is le...</td>\n",
       "      <td>R</td>\n",
       "      <td>289</td>\n",
       "      <td>A young street magician Jacob Latimore is left...</td>\n",
       "    </tr>\n",
       "  </tbody>\n",
       "</table>\n",
       "</div>"
      ],
      "text/plain": [
       "             name  action  adventure  fantasy  sci-fi  crime  drama  history  \\\n",
       "0  Doctor Strange       1          1        1       1      0      0        0   \n",
       "1         Sleight       0          0        0       1      1      1        0   \n",
       "\n",
       "   comedy  biography  romance  horror  thriller  war  animation  family  \\\n",
       "0       0          0        0       0         0    0          0       0   \n",
       "1       0          0        0       0         0    0          0       0   \n",
       "\n",
       "   sport  music  mystery  short  western  musical  documentary  film-noir  \\\n",
       "0      0      0        0      0        0        0            0          0   \n",
       "1      0      0        0      0        0        0            0          0   \n",
       "\n",
       "   adult                                               plot rating  length  \\\n",
       "0      0  Marvel's \"Doctor Strange\" follows the story of...  PG-13     464   \n",
       "1      0  A young street magician (Jacob Latimore) is le...      R     289   \n",
       "\n",
       "                                        punc_removed  \n",
       "0  Marvels Doctor Strange follows the story of th...  \n",
       "1  A young street magician Jacob Latimore is left...  "
      ]
     },
     "execution_count": 10,
     "metadata": {},
     "output_type": "execute_result"
    }
   ],
   "source": [
    "punc_removed.head(2)"
   ]
  },
  {
   "cell_type": "markdown",
   "metadata": {},
   "source": [
    "### Tokenization"
   ]
  },
  {
   "cell_type": "code",
   "execution_count": 11,
   "metadata": {
    "scrolled": false
   },
   "outputs": [],
   "source": [
    "# Tokenization with `nltk.word_tokenize`\n",
    "tokenized_df = punc_removed.copy()\n",
    "tokenized_df['tokens'] = tokenized_df.\\\n",
    "    apply(lambda row: nltk.word_tokenize(row['punc_removed']), axis=1)"
   ]
  },
  {
   "cell_type": "code",
   "execution_count": 12,
   "metadata": {},
   "outputs": [
    {
     "data": {
      "text/html": [
       "<div>\n",
       "<style scoped>\n",
       "    .dataframe tbody tr th:only-of-type {\n",
       "        vertical-align: middle;\n",
       "    }\n",
       "\n",
       "    .dataframe tbody tr th {\n",
       "        vertical-align: top;\n",
       "    }\n",
       "\n",
       "    .dataframe thead th {\n",
       "        text-align: right;\n",
       "    }\n",
       "</style>\n",
       "<table border=\"1\" class=\"dataframe\">\n",
       "  <thead>\n",
       "    <tr style=\"text-align: right;\">\n",
       "      <th></th>\n",
       "      <th>name</th>\n",
       "      <th>plot</th>\n",
       "      <th>punc_removed</th>\n",
       "      <th>tokens</th>\n",
       "    </tr>\n",
       "  </thead>\n",
       "  <tbody>\n",
       "    <tr>\n",
       "      <th>0</th>\n",
       "      <td>Doctor Strange</td>\n",
       "      <td>Marvel's \"Doctor Strange\" follows the story of...</td>\n",
       "      <td>Marvels Doctor Strange follows the story of th...</td>\n",
       "      <td>[Marvels, Doctor, Strange, follows, the, story...</td>\n",
       "    </tr>\n",
       "    <tr>\n",
       "      <th>1</th>\n",
       "      <td>Sleight</td>\n",
       "      <td>A young street magician (Jacob Latimore) is le...</td>\n",
       "      <td>A young street magician Jacob Latimore is left...</td>\n",
       "      <td>[A, young, street, magician, Jacob, Latimore, ...</td>\n",
       "    </tr>\n",
       "  </tbody>\n",
       "</table>\n",
       "</div>"
      ],
      "text/plain": [
       "             name                                               plot  \\\n",
       "0  Doctor Strange  Marvel's \"Doctor Strange\" follows the story of...   \n",
       "1         Sleight  A young street magician (Jacob Latimore) is le...   \n",
       "\n",
       "                                        punc_removed  \\\n",
       "0  Marvels Doctor Strange follows the story of th...   \n",
       "1  A young street magician Jacob Latimore is left...   \n",
       "\n",
       "                                              tokens  \n",
       "0  [Marvels, Doctor, Strange, follows, the, story...  \n",
       "1  [A, young, street, magician, Jacob, Latimore, ...  "
      ]
     },
     "execution_count": 12,
     "metadata": {},
     "output_type": "execute_result"
    }
   ],
   "source": [
    "tokenized_df[['name', 'plot', 'punc_removed', 'tokens']].head(2)"
   ]
  },
  {
   "cell_type": "markdown",
   "metadata": {},
   "source": [
    "### Stopwords removal"
   ]
  },
  {
   "cell_type": "code",
   "execution_count": 13,
   "metadata": {},
   "outputs": [],
   "source": [
    "# Remove stopwords\n",
    "from nltk.corpus import stopwords\n",
    "\n",
    "stop = set(stopwords.words(\"english\"))\n",
    "\n",
    "def remove_stopwords(tokens):\n",
    "    text = [word.lower() for word in tokens if word.lower() not in stop]\n",
    "    return text"
   ]
  },
  {
   "cell_type": "code",
   "execution_count": 14,
   "metadata": {},
   "outputs": [],
   "source": [
    "# Remove stopwords\n",
    "filtered_df = tokenized_df.copy()\n",
    "\n",
    "filtered_df[\"filtered\"] = [remove_stopwords(x) for x in filtered_df[\"tokens\"]]"
   ]
  },
  {
   "cell_type": "code",
   "execution_count": 15,
   "metadata": {},
   "outputs": [
    {
     "data": {
      "text/html": [
       "<div>\n",
       "<style scoped>\n",
       "    .dataframe tbody tr th:only-of-type {\n",
       "        vertical-align: middle;\n",
       "    }\n",
       "\n",
       "    .dataframe tbody tr th {\n",
       "        vertical-align: top;\n",
       "    }\n",
       "\n",
       "    .dataframe thead th {\n",
       "        text-align: right;\n",
       "    }\n",
       "</style>\n",
       "<table border=\"1\" class=\"dataframe\">\n",
       "  <thead>\n",
       "    <tr style=\"text-align: right;\">\n",
       "      <th></th>\n",
       "      <th>name</th>\n",
       "      <th>plot</th>\n",
       "      <th>punc_removed</th>\n",
       "      <th>tokens</th>\n",
       "      <th>filtered</th>\n",
       "    </tr>\n",
       "  </thead>\n",
       "  <tbody>\n",
       "    <tr>\n",
       "      <th>0</th>\n",
       "      <td>Doctor Strange</td>\n",
       "      <td>Marvel's \"Doctor Strange\" follows the story of...</td>\n",
       "      <td>Marvels Doctor Strange follows the story of th...</td>\n",
       "      <td>[Marvels, Doctor, Strange, follows, the, story...</td>\n",
       "      <td>[marvels, doctor, strange, follows, story, tal...</td>\n",
       "    </tr>\n",
       "    <tr>\n",
       "      <th>1</th>\n",
       "      <td>Sleight</td>\n",
       "      <td>A young street magician (Jacob Latimore) is le...</td>\n",
       "      <td>A young street magician Jacob Latimore is left...</td>\n",
       "      <td>[A, young, street, magician, Jacob, Latimore, ...</td>\n",
       "      <td>[young, street, magician, jacob, latimore, lef...</td>\n",
       "    </tr>\n",
       "  </tbody>\n",
       "</table>\n",
       "</div>"
      ],
      "text/plain": [
       "             name                                               plot  \\\n",
       "0  Doctor Strange  Marvel's \"Doctor Strange\" follows the story of...   \n",
       "1         Sleight  A young street magician (Jacob Latimore) is le...   \n",
       "\n",
       "                                        punc_removed  \\\n",
       "0  Marvels Doctor Strange follows the story of th...   \n",
       "1  A young street magician Jacob Latimore is left...   \n",
       "\n",
       "                                              tokens  \\\n",
       "0  [Marvels, Doctor, Strange, follows, the, story...   \n",
       "1  [A, young, street, magician, Jacob, Latimore, ...   \n",
       "\n",
       "                                            filtered  \n",
       "0  [marvels, doctor, strange, follows, story, tal...  \n",
       "1  [young, street, magician, jacob, latimore, lef...  "
      ]
     },
     "execution_count": 15,
     "metadata": {},
     "output_type": "execute_result"
    }
   ],
   "source": [
    "filtered_df[['name', 'plot', 'punc_removed', 'tokens', 'filtered']].head(2)"
   ]
  },
  {
   "cell_type": "code",
   "execution_count": 16,
   "metadata": {},
   "outputs": [
    {
     "data": {
      "text/plain": [
       "27     133\n",
       "24     132\n",
       "32     129\n",
       "31     128\n",
       "22     128\n",
       "      ... \n",
       "157      1\n",
       "156      1\n",
       "146      1\n",
       "144      1\n",
       "226      1\n",
       "Name: stopwords_filtered_out, Length: 188, dtype: int64"
      ]
     },
     "execution_count": 16,
     "metadata": {},
     "output_type": "execute_result"
    }
   ],
   "source": [
    "# Compare number of tokens pre- and post- stopwords removal\n",
    "check_filter = filtered_df.copy()\n",
    "check_filter['stopwords_filtered_out'] = ''\n",
    "\n",
    "for index, row in check_filter.iterrows():\n",
    "    token_count = len(check_filter.loc[index, 'tokens'])\n",
    "    filtered_count = len(check_filter.loc[index, 'filtered'])\n",
    "    check_filter.loc[index, 'stopwords_filtered_out'] = token_count - filtered_count\n",
    "\n",
    "check_filter['stopwords_filtered_out'].value_counts()"
   ]
  },
  {
   "cell_type": "code",
   "execution_count": 17,
   "metadata": {},
   "outputs": [
    {
     "data": {
      "text/html": [
       "<div>\n",
       "<style scoped>\n",
       "    .dataframe tbody tr th:only-of-type {\n",
       "        vertical-align: middle;\n",
       "    }\n",
       "\n",
       "    .dataframe tbody tr th {\n",
       "        vertical-align: top;\n",
       "    }\n",
       "\n",
       "    .dataframe thead th {\n",
       "        text-align: right;\n",
       "    }\n",
       "</style>\n",
       "<table border=\"1\" class=\"dataframe\">\n",
       "  <thead>\n",
       "    <tr style=\"text-align: right;\">\n",
       "      <th></th>\n",
       "      <th>name</th>\n",
       "      <th>tokens</th>\n",
       "      <th>filtered</th>\n",
       "      <th>stopwords_filtered_out</th>\n",
       "    </tr>\n",
       "  </thead>\n",
       "  <tbody>\n",
       "    <tr>\n",
       "      <th>0</th>\n",
       "      <td>Doctor Strange</td>\n",
       "      <td>[Marvels, Doctor, Strange, follows, the, story...</td>\n",
       "      <td>[marvels, doctor, strange, follows, story, tal...</td>\n",
       "      <td>24</td>\n",
       "    </tr>\n",
       "    <tr>\n",
       "      <th>1</th>\n",
       "      <td>Sleight</td>\n",
       "      <td>[A, young, street, magician, Jacob, Latimore, ...</td>\n",
       "      <td>[young, street, magician, jacob, latimore, lef...</td>\n",
       "      <td>27</td>\n",
       "    </tr>\n",
       "    <tr>\n",
       "      <th>2</th>\n",
       "      <td>Silence</td>\n",
       "      <td>[The, story, of, two, Catholic, missionaries, ...</td>\n",
       "      <td>[story, two, catholic, missionaries, andrew, g...</td>\n",
       "      <td>18</td>\n",
       "    </tr>\n",
       "  </tbody>\n",
       "</table>\n",
       "</div>"
      ],
      "text/plain": [
       "             name                                             tokens  \\\n",
       "0  Doctor Strange  [Marvels, Doctor, Strange, follows, the, story...   \n",
       "1         Sleight  [A, young, street, magician, Jacob, Latimore, ...   \n",
       "2         Silence  [The, story, of, two, Catholic, missionaries, ...   \n",
       "\n",
       "                                            filtered stopwords_filtered_out  \n",
       "0  [marvels, doctor, strange, follows, story, tal...                     24  \n",
       "1  [young, street, magician, jacob, latimore, lef...                     27  \n",
       "2  [story, two, catholic, missionaries, andrew, g...                     18  "
      ]
     },
     "execution_count": 17,
     "metadata": {},
     "output_type": "execute_result"
    }
   ],
   "source": [
    "check_filter[['name', 'tokens', 'filtered', 'stopwords_filtered_out']].head(3)"
   ]
  },
  {
   "cell_type": "markdown",
   "metadata": {},
   "source": [
    "### Word Normalization with Lemmatization\n",
    "\n",
    "Reduce inflection in words to their root forms and ensure the root form belongs to English."
   ]
  },
  {
   "cell_type": "code",
   "execution_count": 18,
   "metadata": {},
   "outputs": [],
   "source": [
    "# Lemmatization\n",
    "from nltk.stem import WordNetLemmatizer\n",
    "\n",
    "wordnet_lemmatizer = WordNetLemmatizer()\n",
    "\n",
    "def stemming(stopwords_removed):\n",
    "    text = [wordnet_lemmatizer.lemmatize(word) for word in stopwords_removed]\n",
    "    return text"
   ]
  },
  {
   "cell_type": "code",
   "execution_count": 19,
   "metadata": {},
   "outputs": [],
   "source": [
    "stemmed_df = filtered_df.copy()\n",
    "stemmed_df['stemmed'] = [stemming(x) for x in stemmed_df['filtered']]"
   ]
  },
  {
   "cell_type": "code",
   "execution_count": 20,
   "metadata": {},
   "outputs": [
    {
     "data": {
      "text/html": [
       "<div>\n",
       "<style scoped>\n",
       "    .dataframe tbody tr th:only-of-type {\n",
       "        vertical-align: middle;\n",
       "    }\n",
       "\n",
       "    .dataframe tbody tr th {\n",
       "        vertical-align: top;\n",
       "    }\n",
       "\n",
       "    .dataframe thead th {\n",
       "        text-align: right;\n",
       "    }\n",
       "</style>\n",
       "<table border=\"1\" class=\"dataframe\">\n",
       "  <thead>\n",
       "    <tr style=\"text-align: right;\">\n",
       "      <th></th>\n",
       "      <th>name</th>\n",
       "      <th>plot</th>\n",
       "      <th>punc_removed</th>\n",
       "      <th>tokens</th>\n",
       "      <th>filtered</th>\n",
       "      <th>stemmed</th>\n",
       "    </tr>\n",
       "  </thead>\n",
       "  <tbody>\n",
       "    <tr>\n",
       "      <th>0</th>\n",
       "      <td>Doctor Strange</td>\n",
       "      <td>Marvel's \"Doctor Strange\" follows the story of...</td>\n",
       "      <td>Marvels Doctor Strange follows the story of th...</td>\n",
       "      <td>[Marvels, Doctor, Strange, follows, the, story...</td>\n",
       "      <td>[marvels, doctor, strange, follows, story, tal...</td>\n",
       "      <td>[marvel, doctor, strange, follows, story, tale...</td>\n",
       "    </tr>\n",
       "    <tr>\n",
       "      <th>1</th>\n",
       "      <td>Sleight</td>\n",
       "      <td>A young street magician (Jacob Latimore) is le...</td>\n",
       "      <td>A young street magician Jacob Latimore is left...</td>\n",
       "      <td>[A, young, street, magician, Jacob, Latimore, ...</td>\n",
       "      <td>[young, street, magician, jacob, latimore, lef...</td>\n",
       "      <td>[young, street, magician, jacob, latimore, lef...</td>\n",
       "    </tr>\n",
       "  </tbody>\n",
       "</table>\n",
       "</div>"
      ],
      "text/plain": [
       "             name                                               plot  \\\n",
       "0  Doctor Strange  Marvel's \"Doctor Strange\" follows the story of...   \n",
       "1         Sleight  A young street magician (Jacob Latimore) is le...   \n",
       "\n",
       "                                        punc_removed  \\\n",
       "0  Marvels Doctor Strange follows the story of th...   \n",
       "1  A young street magician Jacob Latimore is left...   \n",
       "\n",
       "                                              tokens  \\\n",
       "0  [Marvels, Doctor, Strange, follows, the, story...   \n",
       "1  [A, young, street, magician, Jacob, Latimore, ...   \n",
       "\n",
       "                                            filtered  \\\n",
       "0  [marvels, doctor, strange, follows, story, tal...   \n",
       "1  [young, street, magician, jacob, latimore, lef...   \n",
       "\n",
       "                                             stemmed  \n",
       "0  [marvel, doctor, strange, follows, story, tale...  \n",
       "1  [young, street, magician, jacob, latimore, lef...  "
      ]
     },
     "execution_count": 20,
     "metadata": {},
     "output_type": "execute_result"
    }
   ],
   "source": [
    "stemmed_df[['name', 'plot', 'punc_removed', 'tokens', 'filtered', 'stemmed']].head(2)"
   ]
  },
  {
   "cell_type": "markdown",
   "metadata": {},
   "source": [
    "# Encoding"
   ]
  },
  {
   "cell_type": "code",
   "execution_count": 21,
   "metadata": {},
   "outputs": [
    {
     "data": {
      "text/plain": [
       "R        3071\n",
       "PG-13    1812\n",
       "PG        883\n",
       "G         128\n",
       "NC-17      19\n",
       "Name: rating, dtype: int64"
      ]
     },
     "execution_count": 21,
     "metadata": {},
     "output_type": "execute_result"
    }
   ],
   "source": [
    "# Check labels distribution\n",
    "stemmed_df['rating'].value_counts()"
   ]
  },
  {
   "cell_type": "markdown",
   "metadata": {},
   "source": [
    "**There is very little data on the rating \"NC-17\" and \"G\" compared with \"R\" and \"PG-13\". We will remove NC-17.**"
   ]
  },
  {
   "cell_type": "code",
   "execution_count": 22,
   "metadata": {},
   "outputs": [],
   "source": [
    "filt_nc = stemmed_df['rating'] != 'NC-17'\n",
    "stemmed_df = stemmed_df.loc[filt_nc]"
   ]
  },
  {
   "cell_type": "code",
   "execution_count": 23,
   "metadata": {},
   "outputs": [],
   "source": [
    "# Encode 'rating'\n",
    "# ---------------\n",
    "from sklearn.preprocessing import LabelEncoder\n",
    "\n",
    "label_encoder = LabelEncoder()\n",
    "\n",
    "label_encoder.fit(stemmed_df['rating'])\n",
    "rating_encoded = stemmed_df.copy()\n",
    "rating_encoded['rating'] = label_encoder.transform(rating_encoded['rating'])"
   ]
  },
  {
   "cell_type": "code",
   "execution_count": 24,
   "metadata": {},
   "outputs": [
    {
     "data": {
      "text/html": [
       "<div>\n",
       "<style scoped>\n",
       "    .dataframe tbody tr th:only-of-type {\n",
       "        vertical-align: middle;\n",
       "    }\n",
       "\n",
       "    .dataframe tbody tr th {\n",
       "        vertical-align: top;\n",
       "    }\n",
       "\n",
       "    .dataframe thead th {\n",
       "        text-align: right;\n",
       "    }\n",
       "</style>\n",
       "<table border=\"1\" class=\"dataframe\">\n",
       "  <thead>\n",
       "    <tr style=\"text-align: right;\">\n",
       "      <th></th>\n",
       "      <th>rating</th>\n",
       "      <th>label</th>\n",
       "      <th>count</th>\n",
       "    </tr>\n",
       "  </thead>\n",
       "  <tbody>\n",
       "    <tr>\n",
       "      <th>0</th>\n",
       "      <td>R</td>\n",
       "      <td>3</td>\n",
       "      <td>3071</td>\n",
       "    </tr>\n",
       "    <tr>\n",
       "      <th>1</th>\n",
       "      <td>PG-13</td>\n",
       "      <td>2</td>\n",
       "      <td>1812</td>\n",
       "    </tr>\n",
       "    <tr>\n",
       "      <th>2</th>\n",
       "      <td>PG</td>\n",
       "      <td>1</td>\n",
       "      <td>883</td>\n",
       "    </tr>\n",
       "    <tr>\n",
       "      <th>3</th>\n",
       "      <td>G</td>\n",
       "      <td>0</td>\n",
       "      <td>128</td>\n",
       "    </tr>\n",
       "  </tbody>\n",
       "</table>\n",
       "</div>"
      ],
      "text/plain": [
       "  rating  label  count\n",
       "0      R      3   3071\n",
       "1  PG-13      2   1812\n",
       "2     PG      1    883\n",
       "3      G      0    128"
      ]
     },
     "execution_count": 24,
     "metadata": {},
     "output_type": "execute_result"
    }
   ],
   "source": [
    "# Check success\n",
    "rating_original = pd.DataFrame(stemmed_df['rating'].value_counts()).reset_index()\n",
    "rating_new = pd.DataFrame(rating_encoded['rating'].value_counts()).reset_index()\n",
    "merged_rating = pd.merge(rating_original, rating_new, on='rating')\n",
    "merged_rating = merged_rating.rename(columns={'rating': 'count',\n",
    "                                              'index_x': 'rating',\n",
    "                                              'index_y': 'label'\n",
    "                                             })[['rating', 'label', 'count']]\n",
    "merged_rating"
   ]
  },
  {
   "cell_type": "markdown",
   "metadata": {},
   "source": [
    "Set target names for classification report"
   ]
  },
  {
   "cell_type": "code",
   "execution_count": 25,
   "metadata": {},
   "outputs": [
    {
     "data": {
      "text/plain": [
       "['G', 'PG', 'PG-13', 'R']"
      ]
     },
     "execution_count": 25,
     "metadata": {},
     "output_type": "execute_result"
    }
   ],
   "source": [
    "# Check class categories\n",
    "classes = list(label_encoder.classes_)\n",
    "classes"
   ]
  },
  {
   "cell_type": "code",
   "execution_count": 26,
   "metadata": {},
   "outputs": [
    {
     "data": {
      "text/plain": [
       "['G', 'PG', 'PG-13', 'R']"
      ]
     },
     "execution_count": 26,
     "metadata": {},
     "output_type": "execute_result"
    }
   ],
   "source": [
    "# Set target names\n",
    "target_names = classes\n",
    "target_names"
   ]
  },
  {
   "cell_type": "markdown",
   "metadata": {},
   "source": [
    "# Select final features"
   ]
  },
  {
   "cell_type": "code",
   "execution_count": 27,
   "metadata": {},
   "outputs": [],
   "source": [
    "features_df = stemmed_df.drop(columns=['name', 'plot',\n",
    "                                       'punc_removed', 'tokens', 'filtered'])"
   ]
  },
  {
   "cell_type": "code",
   "execution_count": 28,
   "metadata": {},
   "outputs": [],
   "source": [
    "# Set features as X and output as y\n",
    "features_df = features_df.drop(\"rating\", axis=1)"
   ]
  },
  {
   "cell_type": "code",
   "execution_count": 29,
   "metadata": {},
   "outputs": [
    {
     "data": {
      "text/html": [
       "<div>\n",
       "<style scoped>\n",
       "    .dataframe tbody tr th:only-of-type {\n",
       "        vertical-align: middle;\n",
       "    }\n",
       "\n",
       "    .dataframe tbody tr th {\n",
       "        vertical-align: top;\n",
       "    }\n",
       "\n",
       "    .dataframe thead th {\n",
       "        text-align: right;\n",
       "    }\n",
       "</style>\n",
       "<table border=\"1\" class=\"dataframe\">\n",
       "  <thead>\n",
       "    <tr style=\"text-align: right;\">\n",
       "      <th></th>\n",
       "      <th>action</th>\n",
       "      <th>adventure</th>\n",
       "      <th>fantasy</th>\n",
       "      <th>sci-fi</th>\n",
       "      <th>crime</th>\n",
       "      <th>drama</th>\n",
       "      <th>history</th>\n",
       "      <th>comedy</th>\n",
       "      <th>biography</th>\n",
       "      <th>romance</th>\n",
       "      <th>horror</th>\n",
       "      <th>thriller</th>\n",
       "      <th>war</th>\n",
       "      <th>animation</th>\n",
       "      <th>family</th>\n",
       "      <th>sport</th>\n",
       "      <th>music</th>\n",
       "      <th>mystery</th>\n",
       "      <th>short</th>\n",
       "      <th>western</th>\n",
       "      <th>musical</th>\n",
       "      <th>documentary</th>\n",
       "      <th>film-noir</th>\n",
       "      <th>adult</th>\n",
       "      <th>length</th>\n",
       "      <th>stemmed</th>\n",
       "    </tr>\n",
       "  </thead>\n",
       "  <tbody>\n",
       "    <tr>\n",
       "      <th>0</th>\n",
       "      <td>1</td>\n",
       "      <td>1</td>\n",
       "      <td>1</td>\n",
       "      <td>1</td>\n",
       "      <td>0</td>\n",
       "      <td>0</td>\n",
       "      <td>0</td>\n",
       "      <td>0</td>\n",
       "      <td>0</td>\n",
       "      <td>0</td>\n",
       "      <td>0</td>\n",
       "      <td>0</td>\n",
       "      <td>0</td>\n",
       "      <td>0</td>\n",
       "      <td>0</td>\n",
       "      <td>0</td>\n",
       "      <td>0</td>\n",
       "      <td>0</td>\n",
       "      <td>0</td>\n",
       "      <td>0</td>\n",
       "      <td>0</td>\n",
       "      <td>0</td>\n",
       "      <td>0</td>\n",
       "      <td>0</td>\n",
       "      <td>464</td>\n",
       "      <td>[marvel, doctor, strange, follows, story, tale...</td>\n",
       "    </tr>\n",
       "  </tbody>\n",
       "</table>\n",
       "</div>"
      ],
      "text/plain": [
       "   action  adventure  fantasy  sci-fi  crime  drama  history  comedy  \\\n",
       "0       1          1        1       1      0      0        0       0   \n",
       "\n",
       "   biography  romance  horror  thriller  war  animation  family  sport  music  \\\n",
       "0          0        0       0         0    0          0       0      0      0   \n",
       "\n",
       "   mystery  short  western  musical  documentary  film-noir  adult  length  \\\n",
       "0        0      0        0        0            0          0      0     464   \n",
       "\n",
       "                                             stemmed  \n",
       "0  [marvel, doctor, strange, follows, story, tale...  "
      ]
     },
     "execution_count": 29,
     "metadata": {},
     "output_type": "execute_result"
    }
   ],
   "source": [
    "features_df.head(1)"
   ]
  },
  {
   "cell_type": "markdown",
   "metadata": {},
   "source": [
    "**We will be using sklearn's HashingVectorizer and TfidfTransformer to vectorize our plot NLP feature and scale by accounting for inverse document-frequency. Thus it's necessary to work with strings of plot objects instead of lists of tokenized plot objects.**"
   ]
  },
  {
   "cell_type": "code",
   "execution_count": 30,
   "metadata": {
    "scrolled": true
   },
   "outputs": [],
   "source": [
    "# Function to turn tokenized/filtered/Lemmatized list of words back to plot\n",
    "def tokens_to_plot(tokens_list):\n",
    "    plot = str(tokens_list).replace('[', '').replace(']', '').replace(',', '').replace(\"'\", '')\n",
    "    return plot"
   ]
  },
  {
   "cell_type": "markdown",
   "metadata": {},
   "source": [
    "**Define X and y**"
   ]
  },
  {
   "cell_type": "code",
   "execution_count": 31,
   "metadata": {},
   "outputs": [
    {
     "name": "stdout",
     "output_type": "stream",
     "text": [
      "(5894, 26) (5894,)\n"
     ]
    }
   ],
   "source": [
    "X = features_df.copy()\n",
    "X['stemmed'] = [tokens_to_plot(x) for x in X['stemmed']]\n",
    "\n",
    "y = rating_encoded['rating'].values.reshape(-1, 1)\n",
    "y = rating_encoded['rating'].values.reshape(-1, )\n",
    "\n",
    "print(X.shape, y.shape)"
   ]
  },
  {
   "cell_type": "code",
   "execution_count": 32,
   "metadata": {},
   "outputs": [
    {
     "data": {
      "text/html": [
       "<div>\n",
       "<style scoped>\n",
       "    .dataframe tbody tr th:only-of-type {\n",
       "        vertical-align: middle;\n",
       "    }\n",
       "\n",
       "    .dataframe tbody tr th {\n",
       "        vertical-align: top;\n",
       "    }\n",
       "\n",
       "    .dataframe thead th {\n",
       "        text-align: right;\n",
       "    }\n",
       "</style>\n",
       "<table border=\"1\" class=\"dataframe\">\n",
       "  <thead>\n",
       "    <tr style=\"text-align: right;\">\n",
       "      <th></th>\n",
       "      <th>action</th>\n",
       "      <th>adventure</th>\n",
       "      <th>fantasy</th>\n",
       "      <th>sci-fi</th>\n",
       "      <th>crime</th>\n",
       "      <th>drama</th>\n",
       "      <th>history</th>\n",
       "      <th>comedy</th>\n",
       "      <th>biography</th>\n",
       "      <th>romance</th>\n",
       "      <th>horror</th>\n",
       "      <th>thriller</th>\n",
       "      <th>war</th>\n",
       "      <th>animation</th>\n",
       "      <th>family</th>\n",
       "      <th>sport</th>\n",
       "      <th>music</th>\n",
       "      <th>mystery</th>\n",
       "      <th>short</th>\n",
       "      <th>western</th>\n",
       "      <th>musical</th>\n",
       "      <th>documentary</th>\n",
       "      <th>film-noir</th>\n",
       "      <th>adult</th>\n",
       "      <th>length</th>\n",
       "      <th>stemmed</th>\n",
       "    </tr>\n",
       "  </thead>\n",
       "  <tbody>\n",
       "    <tr>\n",
       "      <th>0</th>\n",
       "      <td>1</td>\n",
       "      <td>1</td>\n",
       "      <td>1</td>\n",
       "      <td>1</td>\n",
       "      <td>0</td>\n",
       "      <td>0</td>\n",
       "      <td>0</td>\n",
       "      <td>0</td>\n",
       "      <td>0</td>\n",
       "      <td>0</td>\n",
       "      <td>0</td>\n",
       "      <td>0</td>\n",
       "      <td>0</td>\n",
       "      <td>0</td>\n",
       "      <td>0</td>\n",
       "      <td>0</td>\n",
       "      <td>0</td>\n",
       "      <td>0</td>\n",
       "      <td>0</td>\n",
       "      <td>0</td>\n",
       "      <td>0</td>\n",
       "      <td>0</td>\n",
       "      <td>0</td>\n",
       "      <td>0</td>\n",
       "      <td>464</td>\n",
       "      <td>marvel doctor strange follows story talented n...</td>\n",
       "    </tr>\n",
       "    <tr>\n",
       "      <th>1</th>\n",
       "      <td>0</td>\n",
       "      <td>0</td>\n",
       "      <td>0</td>\n",
       "      <td>1</td>\n",
       "      <td>1</td>\n",
       "      <td>1</td>\n",
       "      <td>0</td>\n",
       "      <td>0</td>\n",
       "      <td>0</td>\n",
       "      <td>0</td>\n",
       "      <td>0</td>\n",
       "      <td>0</td>\n",
       "      <td>0</td>\n",
       "      <td>0</td>\n",
       "      <td>0</td>\n",
       "      <td>0</td>\n",
       "      <td>0</td>\n",
       "      <td>0</td>\n",
       "      <td>0</td>\n",
       "      <td>0</td>\n",
       "      <td>0</td>\n",
       "      <td>0</td>\n",
       "      <td>0</td>\n",
       "      <td>0</td>\n",
       "      <td>289</td>\n",
       "      <td>young street magician jacob latimore left care...</td>\n",
       "    </tr>\n",
       "  </tbody>\n",
       "</table>\n",
       "</div>"
      ],
      "text/plain": [
       "   action  adventure  fantasy  sci-fi  crime  drama  history  comedy  \\\n",
       "0       1          1        1       1      0      0        0       0   \n",
       "1       0          0        0       1      1      1        0       0   \n",
       "\n",
       "   biography  romance  horror  thriller  war  animation  family  sport  music  \\\n",
       "0          0        0       0         0    0          0       0      0      0   \n",
       "1          0        0       0         0    0          0       0      0      0   \n",
       "\n",
       "   mystery  short  western  musical  documentary  film-noir  adult  length  \\\n",
       "0        0      0        0        0            0          0      0     464   \n",
       "1        0      0        0        0            0          0      0     289   \n",
       "\n",
       "                                             stemmed  \n",
       "0  marvel doctor strange follows story talented n...  \n",
       "1  young street magician jacob latimore left care...  "
      ]
     },
     "execution_count": 32,
     "metadata": {},
     "output_type": "execute_result"
    }
   ],
   "source": [
    "X.head(2)"
   ]
  },
  {
   "cell_type": "markdown",
   "metadata": {},
   "source": [
    "# Create a Train Test Split"
   ]
  },
  {
   "cell_type": "code",
   "execution_count": 33,
   "metadata": {},
   "outputs": [],
   "source": [
    "# Split train and test\n",
    "from sklearn.model_selection import train_test_split\n",
    "\n",
    "# Save the original labeled classes\n",
    "labeled_y = stemmed_df['rating'].values.reshape(-1, 1)\n",
    "\n",
    "# We will create an unvectorized train and test split sets too for testing purposes...\n",
    "features_train, features_test, labeled_y_train, labeled_y_test = train_test_split(features_df, labeled_y, random_state=42)\n",
    "\n",
    "# Actual data split\n",
    "X_train, X_test, y_train, y_test = train_test_split(X, y, random_state=42)"
   ]
  },
  {
   "cell_type": "code",
   "execution_count": 34,
   "metadata": {},
   "outputs": [
    {
     "name": "stdout",
     "output_type": "stream",
     "text": [
      "(4420, 26)\n",
      "(4420,)\n"
     ]
    }
   ],
   "source": [
    "print(X_train.shape)\n",
    "print(y_train.shape)"
   ]
  },
  {
   "cell_type": "markdown",
   "metadata": {},
   "source": [
    "# Preprocessing - NLP - pt2"
   ]
  },
  {
   "cell_type": "markdown",
   "metadata": {},
   "source": [
    "## TF-IDF-Vectorize plot data"
   ]
  },
  {
   "cell_type": "code",
   "execution_count": 35,
   "metadata": {},
   "outputs": [
    {
     "data": {
      "text/html": [
       "<div>\n",
       "<style scoped>\n",
       "    .dataframe tbody tr th:only-of-type {\n",
       "        vertical-align: middle;\n",
       "    }\n",
       "\n",
       "    .dataframe tbody tr th {\n",
       "        vertical-align: top;\n",
       "    }\n",
       "\n",
       "    .dataframe thead th {\n",
       "        text-align: right;\n",
       "    }\n",
       "</style>\n",
       "<table border=\"1\" class=\"dataframe\">\n",
       "  <thead>\n",
       "    <tr style=\"text-align: right;\">\n",
       "      <th></th>\n",
       "      <th>action</th>\n",
       "      <th>adventure</th>\n",
       "      <th>fantasy</th>\n",
       "      <th>sci-fi</th>\n",
       "      <th>crime</th>\n",
       "      <th>drama</th>\n",
       "      <th>history</th>\n",
       "      <th>comedy</th>\n",
       "      <th>biography</th>\n",
       "      <th>romance</th>\n",
       "      <th>horror</th>\n",
       "      <th>thriller</th>\n",
       "      <th>war</th>\n",
       "      <th>animation</th>\n",
       "      <th>family</th>\n",
       "      <th>sport</th>\n",
       "      <th>music</th>\n",
       "      <th>mystery</th>\n",
       "      <th>short</th>\n",
       "      <th>western</th>\n",
       "      <th>musical</th>\n",
       "      <th>documentary</th>\n",
       "      <th>film-noir</th>\n",
       "      <th>adult</th>\n",
       "      <th>length</th>\n",
       "      <th>stemmed</th>\n",
       "    </tr>\n",
       "  </thead>\n",
       "  <tbody>\n",
       "    <tr>\n",
       "      <th>1035</th>\n",
       "      <td>0</td>\n",
       "      <td>0</td>\n",
       "      <td>0</td>\n",
       "      <td>0</td>\n",
       "      <td>0</td>\n",
       "      <td>1</td>\n",
       "      <td>0</td>\n",
       "      <td>0</td>\n",
       "      <td>0</td>\n",
       "      <td>1</td>\n",
       "      <td>0</td>\n",
       "      <td>0</td>\n",
       "      <td>0</td>\n",
       "      <td>0</td>\n",
       "      <td>0</td>\n",
       "      <td>0</td>\n",
       "      <td>0</td>\n",
       "      <td>0</td>\n",
       "      <td>0</td>\n",
       "      <td>0</td>\n",
       "      <td>0</td>\n",
       "      <td>0</td>\n",
       "      <td>0</td>\n",
       "      <td>0</td>\n",
       "      <td>376</td>\n",
       "      <td>parent death jacob jankowski left penniless ho...</td>\n",
       "    </tr>\n",
       "  </tbody>\n",
       "</table>\n",
       "</div>"
      ],
      "text/plain": [
       "      action  adventure  fantasy  sci-fi  crime  drama  history  comedy  \\\n",
       "1035       0          0        0       0      0      1        0       0   \n",
       "\n",
       "      biography  romance  horror  thriller  war  animation  family  sport  \\\n",
       "1035          0        1       0         0    0          0       0      0   \n",
       "\n",
       "      music  mystery  short  western  musical  documentary  film-noir  adult  \\\n",
       "1035      0        0      0        0        0            0          0      0   \n",
       "\n",
       "      length                                            stemmed  \n",
       "1035     376  parent death jacob jankowski left penniless ho...  "
      ]
     },
     "execution_count": 35,
     "metadata": {},
     "output_type": "execute_result"
    }
   ],
   "source": [
    "X_train.head(1)"
   ]
  },
  {
   "cell_type": "code",
   "execution_count": 36,
   "metadata": {},
   "outputs": [],
   "source": [
    "from sklearn.feature_extraction.text import TfidfVectorizer\n",
    "\n",
    "vectorizer = TfidfVectorizer()\n",
    "\n",
    "# If we use the plot and the genre as the features\n",
    "# Make a copy for vecorized data\n",
    "X_train_tfidf = X_train.copy().drop(columns='stemmed')\n",
    "X_test_tfidf = X_test.copy().drop(columns='stemmed')\n",
    "\n",
    "# Fit with train\n",
    "X_train_tfidf['tfidf_vectorized'] = vectorizer.fit_transform(X_train['stemmed'])\n",
    "# Transform test\n",
    "X_test_tfidf['tfidf_vectorized'] = vectorizer.transform(X_test['stemmed']) # transform only..."
   ]
  },
  {
   "cell_type": "markdown",
   "metadata": {},
   "source": [
    "### Convert features other than the vectorized plot data (genres and length) into a matrix\n",
    "\n",
    "So that we can later join tfidf_vectorized with the genre and length data."
   ]
  },
  {
   "cell_type": "code",
   "execution_count": 37,
   "metadata": {},
   "outputs": [],
   "source": [
    "import scipy\n",
    "from scipy.sparse import csr_matrix\n",
    "\n",
    "# Matrix conversion\n",
    "features_mat_train = csr_matrix(X_train_tfidf.iloc[:, :-1].values)\n",
    "features_mat_test = csr_matrix(X_test_tfidf.iloc[:, :-1].values)"
   ]
  },
  {
   "cell_type": "code",
   "execution_count": 38,
   "metadata": {
    "scrolled": true
   },
   "outputs": [
    {
     "data": {
      "text/plain": [
       "array([[   0,    0,    0, ...,    0,    0,  376],\n",
       "       [   0,    1,    0, ...,    0,    0, 1077],\n",
       "       [   0,    0,    0, ...,    0,    0, 1362],\n",
       "       ...,\n",
       "       [   0,    0,    0, ...,    0,    0,  182],\n",
       "       [   0,    0,    0, ...,    0,    0,  216],\n",
       "       [   0,    0,    0, ...,    0,    0,  631]])"
      ]
     },
     "execution_count": 38,
     "metadata": {},
     "output_type": "execute_result"
    }
   ],
   "source": [
    "features_mat_train.toarray()"
   ]
  },
  {
   "cell_type": "markdown",
   "metadata": {},
   "source": [
    "### Join tfidf_vectorized with the converted matrix"
   ]
  },
  {
   "cell_type": "code",
   "execution_count": 39,
   "metadata": {},
   "outputs": [],
   "source": [
    "# Get the plot only data as a matrix as well for joining\n",
    "X_train_plot_only = vectorizer.fit_transform(X_train['stemmed'])\n",
    "X_test_plot_only = vectorizer.transform(X_test['stemmed']) # transform only..."
   ]
  },
  {
   "cell_type": "code",
   "execution_count": 40,
   "metadata": {},
   "outputs": [],
   "source": [
    "# Join matrices\n",
    "from scipy.sparse import hstack\n",
    "\n",
    "X_train_with_genres = hstack([features_mat_train, X_train_plot_only])\n",
    "X_test_with_genres = hstack([features_mat_test, X_test_plot_only])"
   ]
  },
  {
   "cell_type": "code",
   "execution_count": 41,
   "metadata": {},
   "outputs": [
    {
     "data": {
      "text/plain": [
       "<4420x26822 sparse matrix of type '<class 'numpy.float64'>'\n",
       "\twith 223797 stored elements in COOrdinate format>"
      ]
     },
     "execution_count": 41,
     "metadata": {},
     "output_type": "execute_result"
    }
   ],
   "source": [
    "X_train_with_genres"
   ]
  },
  {
   "cell_type": "markdown",
   "metadata": {},
   "source": [
    "Validation..."
   ]
  },
  {
   "cell_type": "code",
   "execution_count": 42,
   "metadata": {
    "scrolled": true
   },
   "outputs": [
    {
     "name": "stdout",
     "output_type": "stream",
     "text": [
      "[1.0, 1.0, 376.0, 0.1098033602995272, 0.3900715627736618, 0.11620949234471986, 0.12267042720687812, 0.21096479045655606, 0.17780049614092763, 0.09834394651199359, 0.11971112816866741, 0.12225667896016754, 0.14501390806143835, 0.06575030556786744, 0.11400246067221245, 0.16960868942399537, 0.12124912857632231, 0.3623848305631871, 0.23579625440437982, 0.18723960189704125, 0.10473309329573763, 0.1131089736865019, 0.08024795973241312, 0.23579625440437982, 0.10993333648994974, 0.18959760879988224, 0.21096479045655606, 0.1539427890593824, 0.14407933325016856, 0.09476775772836082, 0.19218051312417997, 0.18723960189704125, 0.1850704458194541, 0.13355449427390473, 0.10903632842533419, 0.08938378512698705, 0.11238626462382494]\n",
      "[1.0, 1.0, 1.0, 1.0, 1.0, 1077.0, 0.05449897979598542, 0.04962602695468612, 0.06486763090360406, 0.04145246792982052, 0.046132067387602914, 0.06518967678551799, 0.05540906305226113, 0.13811859247378214, 0.04126124453442222, 0.05413066523757891, 0.05925612451620117, 0.07878558318710664, 0.06658021489615461, 0.043950853888783205, 0.0812646645278431, 0.05475148623330838, 0.06207557661326182, 0.08896539453590237, 0.07428094490421386, 0.07504744225239977, 0.0658632045117246, 0.04107325688520193, 0.07878558318710664, 0.059449343386233276, 0.06338412317098814, 0.032615975639731946, 0.054624515651373884, 0.06046930735539893, 0.09652787812889377, 0.06658021489615461, 0.02982779168734692, 0.057661339564483896, 0.08896539453590237, 0.07878558318710664, 0.059449343386233276, 0.09216148626106882, 0.043024500473396725, 0.05054888066773027, 0.04962602695468612, 0.037858540168257036, 0.07504744225239977, 0.08274817226045902, 0.24824451678137707, 0.057820607376540344, 0.06817003736345818, 0.13634007472691637, 0.06552133738459959, 0.059449343386233276, 0.0480523173328376, 0.6756860500240764, 0.03506028447948759, 0.07995611797011679, 0.1689215125060191, 0.05377417032033036, 0.046551355071896346, 0.07054280396950698, 0.029376435267111825, 0.07289040679357724, 0.04692378564331463, 0.027038748592305352, 0.06552133738459959, 0.26689618360770706, 0.04869967353929964, 0.045067847339280424, 0.057488946777458735, 0.05732675696274537, 0.07995611797011679, 0.07504744225239977, 0.07616825543130236, 0.07054280396950698, 0.042046716789003555, 0.05266226261265203, 0.08274817226045902, 0.04819294965361945, 0.07054280396950698, 0.08896539453590237, 0.08446075625300956, 0.05554538138821269, 0.08446075625300956, 0.04589939281022991, 0.11739169513346581, 0.03194039945680452, 0.052044892402784704, 0.06005001967110548, 0.09666612454396159, 0.05732675696274537, 0.039223055635255376, 0.05194525222822202, 0.07002597566749239, 0.03552556863692496, 0.06905929623689107]\n"
     ]
    }
   ],
   "source": [
    "# Test to see if the combined matrix with genre, length, and plot data worked\n",
    "print([x for x in X_train_with_genres.toarray()[0].tolist() if x != 0])\n",
    "print([x for x in X_train_with_genres.toarray()[1].tolist() if x != 0])"
   ]
  },
  {
   "cell_type": "markdown",
   "metadata": {},
   "source": [
    "### One-Hot encode classes\n",
    "\n",
    "**Using the Keras to perform one-hot encoding on y (for Neural Networks/Deep Learning purpose)**"
   ]
  },
  {
   "cell_type": "code",
   "execution_count": 56,
   "metadata": {},
   "outputs": [
    {
     "name": "stderr",
     "output_type": "stream",
     "text": [
      "Using TensorFlow backend.\n"
     ]
    }
   ],
   "source": [
    "from keras.utils import to_categorical\n",
    "\n",
    "y_train_one_hot = to_categorical(y_train)\n",
    "y_test_one_hot = to_categorical(y_test)"
   ]
  },
  {
   "cell_type": "code",
   "execution_count": 57,
   "metadata": {},
   "outputs": [
    {
     "data": {
      "text/plain": [
       "array([[0., 0., 1., 0.],\n",
       "       [0., 1., 0., 0.],\n",
       "       [0., 0., 0., 1.],\n",
       "       ...,\n",
       "       [0., 0., 0., 1.],\n",
       "       [0., 0., 0., 1.],\n",
       "       [0., 0., 0., 1.]], dtype=float32)"
      ]
     },
     "execution_count": 57,
     "metadata": {},
     "output_type": "execute_result"
    }
   ],
   "source": [
    "y_train_one_hot"
   ]
  },
  {
   "cell_type": "markdown",
   "metadata": {},
   "source": [
    "<hr>"
   ]
  },
  {
   "cell_type": "markdown",
   "metadata": {},
   "source": [
    "# Train the Model"
   ]
  },
  {
   "cell_type": "markdown",
   "metadata": {},
   "source": [
    "**Deep Learning (with TensorFlow)**"
   ]
  },
  {
   "cell_type": "code",
   "execution_count": 43,
   "metadata": {},
   "outputs": [],
   "source": [
    "from tensorflow.keras.models import Sequential\n",
    "from tensorflow.keras.layers import Dense"
   ]
  },
  {
   "cell_type": "code",
   "execution_count": 51,
   "metadata": {},
   "outputs": [],
   "source": [
    "# Create model and add layers\n",
    "dl_model = Sequential()\n",
    "\n",
    "# Input Layer :\n",
    "dl_model.add(Dense(units=256, activation='relu', input_dim=X_train_with_genres.shape[1]))\n",
    "\n",
    "# Hidden Layers :\n",
    "dl_model.add(Dense(units=256, activation='relu'))\n",
    "dl_model.add(Dense(units=256, activation='relu'))\n",
    "\n",
    "# Output Layer :\n",
    "dl_model.add(Dense(units=len(np.unique(y_train)), activation='softmax'))"
   ]
  },
  {
   "cell_type": "code",
   "execution_count": 52,
   "metadata": {},
   "outputs": [],
   "source": [
    "# Compile\n",
    "dl_model.compile(optimizer='adam',\n",
    "                 loss='categorical_crossentropy',\n",
    "                 metrics=['accuracy'])"
   ]
  },
  {
   "cell_type": "code",
   "execution_count": 53,
   "metadata": {},
   "outputs": [
    {
     "name": "stdout",
     "output_type": "stream",
     "text": [
      "Model: \"sequential\"\n",
      "_________________________________________________________________\n",
      "Layer (type)                 Output Shape              Param #   \n",
      "=================================================================\n",
      "dense (Dense)                (None, 256)               6866688   \n",
      "_________________________________________________________________\n",
      "dense_1 (Dense)              (None, 256)               65792     \n",
      "_________________________________________________________________\n",
      "dense_2 (Dense)              (None, 256)               65792     \n",
      "_________________________________________________________________\n",
      "dense_3 (Dense)              (None, 4)                 1028      \n",
      "=================================================================\n",
      "Total params: 6,999,300\n",
      "Trainable params: 6,999,300\n",
      "Non-trainable params: 0\n",
      "_________________________________________________________________\n"
     ]
    }
   ],
   "source": [
    "dl_model.summary()"
   ]
  },
  {
   "cell_type": "code",
   "execution_count": 58,
   "metadata": {},
   "outputs": [
    {
     "name": "stdout",
     "output_type": "stream",
     "text": [
      "WARNING:tensorflow:Falling back from v2 loop because of error: Failed to find data adapter that can handle input: <class 'scipy.sparse.coo.coo_matrix'>, <class 'NoneType'>\n",
      "Train on 4420 samples\n",
      "Epoch 1/200\n",
      "4420/4420 - 37s - loss: 1.2359 - accuracy: 0.4794\n",
      "Epoch 2/200\n",
      "4420/4420 - 33s - loss: 1.0201 - accuracy: 0.5459\n",
      "Epoch 3/200\n",
      "4420/4420 - 40s - loss: 0.8468 - accuracy: 0.6167\n",
      "Epoch 4/200\n",
      "4420/4420 - 33s - loss: 0.8003 - accuracy: 0.6509\n",
      "Epoch 5/200\n",
      "4420/4420 - 22s - loss: 0.7151 - accuracy: 0.6986\n",
      "Epoch 6/200\n",
      "4420/4420 - 23s - loss: 0.5670 - accuracy: 0.7828\n",
      "Epoch 7/200\n",
      "4420/4420 - 22s - loss: 0.4724 - accuracy: 0.8244\n",
      "Epoch 8/200\n",
      "4420/4420 - 22s - loss: 0.4273 - accuracy: 0.8611\n",
      "Epoch 9/200\n",
      "4420/4420 - 22s - loss: 0.4109 - accuracy: 0.8529\n",
      "Epoch 10/200\n",
      "4420/4420 - 23s - loss: 0.3691 - accuracy: 0.8747\n",
      "Epoch 11/200\n",
      "4420/4420 - 22s - loss: 0.2861 - accuracy: 0.9081\n",
      "Epoch 12/200\n",
      "4420/4420 - 22s - loss: 0.2152 - accuracy: 0.9262\n",
      "Epoch 13/200\n",
      "4420/4420 - 21s - loss: 0.1132 - accuracy: 0.9615\n",
      "Epoch 14/200\n",
      "4420/4420 - 22s - loss: 0.2243 - accuracy: 0.9324\n",
      "Epoch 15/200\n",
      "4420/4420 - 21s - loss: 0.0586 - accuracy: 0.9817\n",
      "Epoch 16/200\n",
      "4420/4420 - 27s - loss: 0.1497 - accuracy: 0.9498\n",
      "Epoch 17/200\n",
      "4420/4420 - 30s - loss: 0.0952 - accuracy: 0.9692\n",
      "Epoch 18/200\n",
      "4420/4420 - 50s - loss: 0.1397 - accuracy: 0.9579\n",
      "Epoch 19/200\n",
      "4420/4420 - 42s - loss: 0.0653 - accuracy: 0.9821\n",
      "Epoch 20/200\n",
      "4420/4420 - 24s - loss: 0.0424 - accuracy: 0.9864\n",
      "Epoch 21/200\n",
      "4420/4420 - 23s - loss: 0.0253 - accuracy: 0.9919\n",
      "Epoch 22/200\n",
      "4420/4420 - 21s - loss: 0.0191 - accuracy: 0.9941\n",
      "Epoch 23/200\n",
      "4420/4420 - 22s - loss: 0.1036 - accuracy: 0.9699\n",
      "Epoch 24/200\n",
      "4420/4420 - 22s - loss: 0.1108 - accuracy: 0.9753\n",
      "Epoch 25/200\n",
      "4420/4420 - 21s - loss: 0.0768 - accuracy: 0.9753\n",
      "Epoch 26/200\n",
      "4420/4420 - 21s - loss: 0.0139 - accuracy: 0.9968\n",
      "Epoch 27/200\n",
      "4420/4420 - 21s - loss: 0.0610 - accuracy: 0.9819\n",
      "Epoch 28/200\n",
      "4420/4420 - 21s - loss: 0.1669 - accuracy: 0.9548\n",
      "Epoch 29/200\n",
      "4420/4420 - 21s - loss: 0.0945 - accuracy: 0.9686\n",
      "Epoch 30/200\n",
      "4420/4420 - 21s - loss: 0.0173 - accuracy: 0.9955\n",
      "Epoch 31/200\n",
      "4420/4420 - 22s - loss: 0.0352 - accuracy: 0.9896\n",
      "Epoch 32/200\n",
      "4420/4420 - 21s - loss: 0.0825 - accuracy: 0.9835\n",
      "Epoch 33/200\n",
      "4420/4420 - 21s - loss: 0.2741 - accuracy: 0.9380\n",
      "Epoch 34/200\n",
      "4420/4420 - 21s - loss: 0.1535 - accuracy: 0.9552\n",
      "Epoch 35/200\n",
      "4420/4420 - 21s - loss: 0.0267 - accuracy: 0.9932\n",
      "Epoch 36/200\n",
      "4420/4420 - 20s - loss: 0.0704 - accuracy: 0.9860\n",
      "Epoch 37/200\n",
      "4420/4420 - 21s - loss: 0.6236 - accuracy: 0.8776\n",
      "Epoch 38/200\n",
      "4420/4420 - 21s - loss: 0.1615 - accuracy: 0.9577\n",
      "Epoch 39/200\n",
      "4420/4420 - 20s - loss: 0.1048 - accuracy: 0.9722\n",
      "Epoch 40/200\n",
      "4420/4420 - 21s - loss: 0.1001 - accuracy: 0.9783\n",
      "Epoch 41/200\n",
      "4420/4420 - 21s - loss: 0.0940 - accuracy: 0.9774\n",
      "Epoch 42/200\n",
      "4420/4420 - 20s - loss: 0.0083 - accuracy: 0.9984\n",
      "Epoch 43/200\n",
      "4420/4420 - 20s - loss: 0.0123 - accuracy: 0.9959\n",
      "Epoch 44/200\n",
      "4420/4420 - 20s - loss: 0.0274 - accuracy: 0.9925\n",
      "Epoch 45/200\n",
      "4420/4420 - 26s - loss: 0.0040 - accuracy: 0.9986\n",
      "Epoch 46/200\n",
      "4420/4420 - 25s - loss: 0.1032 - accuracy: 0.9722\n",
      "Epoch 47/200\n",
      "4420/4420 - 21s - loss: 0.0088 - accuracy: 0.9975\n",
      "Epoch 48/200\n",
      "4420/4420 - 25s - loss: 0.0820 - accuracy: 0.9719\n",
      "Epoch 49/200\n",
      "4420/4420 - 25s - loss: 0.0076 - accuracy: 0.9984\n",
      "Epoch 50/200\n",
      "4420/4420 - 22s - loss: 0.0102 - accuracy: 0.9968\n",
      "Epoch 51/200\n",
      "4420/4420 - 21s - loss: 0.0410 - accuracy: 0.9898\n",
      "Epoch 52/200\n",
      "4420/4420 - 21s - loss: 0.0314 - accuracy: 0.9910\n",
      "Epoch 53/200\n",
      "4420/4420 - 21s - loss: 0.1387 - accuracy: 0.9724\n",
      "Epoch 54/200\n",
      "4420/4420 - 24s - loss: 0.0207 - accuracy: 0.9946\n",
      "Epoch 55/200\n",
      "4420/4420 - 21s - loss: 0.0106 - accuracy: 0.9971\n",
      "Epoch 56/200\n",
      "4420/4420 - 21s - loss: 0.0913 - accuracy: 0.9749\n",
      "Epoch 57/200\n",
      "4420/4420 - 21s - loss: 0.0066 - accuracy: 0.9991\n",
      "Epoch 58/200\n",
      "4420/4420 - 20s - loss: 0.0044 - accuracy: 0.9993\n",
      "Epoch 59/200\n",
      "4420/4420 - 17s - loss: 0.0111 - accuracy: 0.9964\n",
      "Epoch 60/200\n",
      "4420/4420 - 17s - loss: 0.0686 - accuracy: 0.9826\n",
      "Epoch 61/200\n",
      "4420/4420 - 17s - loss: 0.2385 - accuracy: 0.9421\n",
      "Epoch 62/200\n",
      "4420/4420 - 19s - loss: 0.1461 - accuracy: 0.9631\n",
      "Epoch 63/200\n",
      "4420/4420 - 17s - loss: 0.0107 - accuracy: 0.9980\n",
      "Epoch 64/200\n",
      "4420/4420 - 16s - loss: 0.0651 - accuracy: 0.9803\n",
      "Epoch 65/200\n",
      "4420/4420 - 17s - loss: 0.1481 - accuracy: 0.9661\n",
      "Epoch 66/200\n",
      "4420/4420 - 17s - loss: 0.0160 - accuracy: 0.9977\n",
      "Epoch 67/200\n",
      "4420/4420 - 17s - loss: 0.0158 - accuracy: 0.9959\n",
      "Epoch 68/200\n",
      "4420/4420 - 16s - loss: 0.0059 - accuracy: 0.9986\n",
      "Epoch 69/200\n",
      "4420/4420 - 17s - loss: 0.0501 - accuracy: 0.9864\n",
      "Epoch 70/200\n",
      "4420/4420 - 17s - loss: 0.0137 - accuracy: 0.9966\n",
      "Epoch 71/200\n",
      "4420/4420 - 17s - loss: 0.0093 - accuracy: 0.9977\n",
      "Epoch 72/200\n",
      "4420/4420 - 17s - loss: 0.0065 - accuracy: 0.9982\n",
      "Epoch 73/200\n",
      "4420/4420 - 17s - loss: 0.0042 - accuracy: 0.9989\n",
      "Epoch 74/200\n",
      "4420/4420 - 17s - loss: 0.0508 - accuracy: 0.9867\n",
      "Epoch 75/200\n",
      "4420/4420 - 18s - loss: 0.0204 - accuracy: 0.9928\n",
      "Epoch 76/200\n",
      "4420/4420 - 20s - loss: 0.3513 - accuracy: 0.9398\n",
      "Epoch 77/200\n",
      "4420/4420 - 19s - loss: 0.0675 - accuracy: 0.9824\n",
      "Epoch 78/200\n",
      "4420/4420 - 18s - loss: 0.0409 - accuracy: 0.9857\n",
      "Epoch 79/200\n",
      "4420/4420 - 18s - loss: 0.0119 - accuracy: 0.9973\n",
      "Epoch 80/200\n",
      "4420/4420 - 18s - loss: 0.0096 - accuracy: 0.9977\n",
      "Epoch 81/200\n",
      "4420/4420 - 17s - loss: 0.0628 - accuracy: 0.9814\n",
      "Epoch 82/200\n",
      "4420/4420 - 17s - loss: 0.0236 - accuracy: 0.9946\n",
      "Epoch 83/200\n",
      "4420/4420 - 17s - loss: 0.0138 - accuracy: 0.9959\n",
      "Epoch 84/200\n",
      "4420/4420 - 17s - loss: 0.0084 - accuracy: 0.9980\n",
      "Epoch 85/200\n",
      "4420/4420 - 17s - loss: 0.0073 - accuracy: 0.9982\n",
      "Epoch 86/200\n",
      "4420/4420 - 17s - loss: 0.1672 - accuracy: 0.9525\n",
      "Epoch 87/200\n",
      "4420/4420 - 17s - loss: 0.0096 - accuracy: 0.9975\n",
      "Epoch 88/200\n",
      "4420/4420 - 17s - loss: 0.0059 - accuracy: 0.9984\n",
      "Epoch 89/200\n",
      "4420/4420 - 16s - loss: 0.0412 - accuracy: 0.9873\n",
      "Epoch 90/200\n",
      "4420/4420 - 17s - loss: 0.0056 - accuracy: 0.9986\n",
      "Epoch 91/200\n",
      "4420/4420 - 17s - loss: 0.0079 - accuracy: 0.9980\n",
      "Epoch 92/200\n",
      "4420/4420 - 16s - loss: 0.0317 - accuracy: 0.9903\n",
      "Epoch 93/200\n",
      "4420/4420 - 17s - loss: 0.0156 - accuracy: 0.9952\n",
      "Epoch 94/200\n",
      "4420/4420 - 17s - loss: 0.0097 - accuracy: 0.9980\n",
      "Epoch 95/200\n",
      "4420/4420 - 17s - loss: 0.0133 - accuracy: 0.9962\n",
      "Epoch 96/200\n",
      "4420/4420 - 16s - loss: 0.0778 - accuracy: 0.9762\n",
      "Epoch 97/200\n",
      "4420/4420 - 17s - loss: 0.0072 - accuracy: 0.9986\n",
      "Epoch 98/200\n",
      "4420/4420 - 17s - loss: 0.0033 - accuracy: 0.9993\n",
      "Epoch 99/200\n",
      "4420/4420 - 18s - loss: 0.0181 - accuracy: 0.9941\n",
      "Epoch 100/200\n",
      "4420/4420 - 17s - loss: 0.0146 - accuracy: 0.9955\n",
      "Epoch 101/200\n",
      "4420/4420 - 21s - loss: 0.1283 - accuracy: 0.9667\n",
      "Epoch 102/200\n",
      "4420/4420 - 24s - loss: 0.0300 - accuracy: 0.9907\n",
      "Epoch 103/200\n",
      "4420/4420 - 23s - loss: 0.0100 - accuracy: 0.9984\n",
      "Epoch 104/200\n",
      "4420/4420 - 22s - loss: 0.0074 - accuracy: 0.9982\n",
      "Epoch 105/200\n",
      "4420/4420 - 21s - loss: 0.0743 - accuracy: 0.9781\n",
      "Epoch 106/200\n",
      "4420/4420 - 23s - loss: 0.0126 - accuracy: 0.9973\n",
      "Epoch 107/200\n",
      "4420/4420 - 23s - loss: 0.1003 - accuracy: 0.9792\n",
      "Epoch 108/200\n",
      "4420/4420 - 35s - loss: 0.0083 - accuracy: 0.9982\n",
      "Epoch 109/200\n",
      "4420/4420 - 39s - loss: 0.0072 - accuracy: 0.9984\n",
      "Epoch 110/200\n",
      "4420/4420 - 27s - loss: 0.0156 - accuracy: 0.9955\n",
      "Epoch 111/200\n",
      "4420/4420 - 27s - loss: 0.0117 - accuracy: 0.9959\n",
      "Epoch 112/200\n",
      "4420/4420 - 20s - loss: 0.0071 - accuracy: 0.9975\n",
      "Epoch 113/200\n",
      "4420/4420 - 22s - loss: 0.0148 - accuracy: 0.9962\n",
      "Epoch 114/200\n",
      "4420/4420 - 21s - loss: 0.0366 - accuracy: 0.9873\n",
      "Epoch 115/200\n",
      "4420/4420 - 24s - loss: 0.0136 - accuracy: 0.9955\n",
      "Epoch 116/200\n",
      "4420/4420 - 29s - loss: 0.0064 - accuracy: 0.9984\n",
      "Epoch 117/200\n",
      "4420/4420 - 26s - loss: 0.0050 - accuracy: 0.9986\n",
      "Epoch 118/200\n",
      "4420/4420 - 22s - loss: 0.0101 - accuracy: 0.9973\n",
      "Epoch 119/200\n",
      "4420/4420 - 19s - loss: 0.0459 - accuracy: 0.9896\n",
      "Epoch 120/200\n",
      "4420/4420 - 26s - loss: 0.0102 - accuracy: 0.9973\n",
      "Epoch 121/200\n",
      "4420/4420 - 18s - loss: 0.0058 - accuracy: 0.9986\n",
      "Epoch 122/200\n",
      "4420/4420 - 17s - loss: 0.0069 - accuracy: 0.9984\n",
      "Epoch 123/200\n",
      "4420/4420 - 18s - loss: 0.0082 - accuracy: 0.9971\n",
      "Epoch 124/200\n",
      "4420/4420 - 17s - loss: 0.0676 - accuracy: 0.9801\n",
      "Epoch 125/200\n",
      "4420/4420 - 17s - loss: 0.0377 - accuracy: 0.9878\n",
      "Epoch 126/200\n",
      "4420/4420 - 17s - loss: 0.0110 - accuracy: 0.9980\n",
      "Epoch 127/200\n",
      "4420/4420 - 17s - loss: 0.0079 - accuracy: 0.9973\n"
     ]
    },
    {
     "name": "stdout",
     "output_type": "stream",
     "text": [
      "Epoch 128/200\n",
      "4420/4420 - 19s - loss: 0.0925 - accuracy: 0.9774\n",
      "Epoch 129/200\n",
      "4420/4420 - 18s - loss: 0.0083 - accuracy: 0.9986\n",
      "Epoch 130/200\n",
      "4420/4420 - 17s - loss: 0.0145 - accuracy: 0.9957\n",
      "Epoch 131/200\n",
      "4420/4420 - 17s - loss: 0.0059 - accuracy: 0.9986\n",
      "Epoch 132/200\n",
      "4420/4420 - 19s - loss: 0.0287 - accuracy: 0.9910\n",
      "Epoch 133/200\n",
      "4420/4420 - 17s - loss: 0.0076 - accuracy: 0.9982\n",
      "Epoch 134/200\n",
      "4420/4420 - 16s - loss: 0.1524 - accuracy: 0.9552\n",
      "Epoch 135/200\n",
      "4420/4420 - 17s - loss: 0.0063 - accuracy: 0.9982\n",
      "Epoch 136/200\n",
      "4420/4420 - 17s - loss: 0.0046 - accuracy: 0.9982\n",
      "Epoch 137/200\n",
      "4420/4420 - 19s - loss: 0.0049 - accuracy: 0.9982\n",
      "Epoch 138/200\n",
      "4420/4420 - 19s - loss: 0.0054 - accuracy: 0.9986\n",
      "Epoch 139/200\n",
      "4420/4420 - 17s - loss: 0.0044 - accuracy: 0.9986\n",
      "Epoch 140/200\n",
      "4420/4420 - 17s - loss: 0.0208 - accuracy: 0.9925\n",
      "Epoch 141/200\n",
      "4420/4420 - 17s - loss: 0.0097 - accuracy: 0.9964\n",
      "Epoch 142/200\n",
      "4420/4420 - 17s - loss: 0.0134 - accuracy: 0.9955\n",
      "Epoch 143/200\n",
      "4420/4420 - 17s - loss: 0.0466 - accuracy: 0.9828\n",
      "Epoch 144/200\n",
      "4420/4420 - 17s - loss: 0.0066 - accuracy: 0.9982\n",
      "Epoch 145/200\n",
      "4420/4420 - 17s - loss: 0.0044 - accuracy: 0.9984\n",
      "Epoch 146/200\n",
      "4420/4420 - 17s - loss: 0.0383 - accuracy: 0.9878\n",
      "Epoch 147/200\n",
      "4420/4420 - 17s - loss: 0.0073 - accuracy: 0.9980\n",
      "Epoch 148/200\n",
      "4420/4420 - 16s - loss: 0.0137 - accuracy: 0.9950\n",
      "Epoch 149/200\n",
      "4420/4420 - 26s - loss: 0.0049 - accuracy: 0.9984\n",
      "Epoch 150/200\n",
      "4420/4420 - 17s - loss: 0.0064 - accuracy: 0.9977\n",
      "Epoch 151/200\n",
      "4420/4420 - 16s - loss: 0.0050 - accuracy: 0.9980\n",
      "Epoch 152/200\n",
      "4420/4420 - 17s - loss: 0.0762 - accuracy: 0.9774\n",
      "Epoch 153/200\n",
      "4420/4420 - 17s - loss: 0.0068 - accuracy: 0.9980\n",
      "Epoch 154/200\n",
      "4420/4420 - 17s - loss: 0.0061 - accuracy: 0.9977\n",
      "Epoch 155/200\n",
      "4420/4420 - 17s - loss: 0.0777 - accuracy: 0.9769\n",
      "Epoch 156/200\n",
      "4420/4420 - 17s - loss: 0.0216 - accuracy: 0.9948\n",
      "Epoch 157/200\n",
      "4420/4420 - 17s - loss: 0.0062 - accuracy: 0.9980\n",
      "Epoch 158/200\n",
      "4420/4420 - 17s - loss: 0.0112 - accuracy: 0.9959\n",
      "Epoch 159/200\n",
      "4420/4420 - 17s - loss: 0.0138 - accuracy: 0.9957\n",
      "Epoch 160/200\n",
      "4420/4420 - 18s - loss: 0.0042 - accuracy: 0.9984\n",
      "Epoch 161/200\n",
      "4420/4420 - 17s - loss: 0.0065 - accuracy: 0.9975\n",
      "Epoch 162/200\n",
      "4420/4420 - 17s - loss: 0.0076 - accuracy: 0.9975\n",
      "Epoch 163/200\n",
      "4420/4420 - 17s - loss: 0.0056 - accuracy: 0.9982\n",
      "Epoch 164/200\n",
      "4420/4420 - 17s - loss: 0.0056 - accuracy: 0.9980\n",
      "Epoch 165/200\n",
      "4420/4420 - 17s - loss: 0.0048 - accuracy: 0.9980\n",
      "Epoch 166/200\n",
      "4420/4420 - 16s - loss: 0.0698 - accuracy: 0.9873\n",
      "Epoch 167/200\n",
      "4420/4420 - 17s - loss: 0.1484 - accuracy: 0.9615\n",
      "Epoch 168/200\n",
      "4420/4420 - 20s - loss: 0.0054 - accuracy: 0.9982\n",
      "Epoch 169/200\n",
      "4420/4420 - 17s - loss: 0.0047 - accuracy: 0.9984\n",
      "Epoch 170/200\n",
      "4420/4420 - 17s - loss: 0.0400 - accuracy: 0.9898\n",
      "Epoch 171/200\n",
      "4420/4420 - 17s - loss: 0.0258 - accuracy: 0.9932\n",
      "Epoch 172/200\n",
      "4420/4420 - 21s - loss: 0.0143 - accuracy: 0.9957\n",
      "Epoch 173/200\n",
      "4420/4420 - 17s - loss: 0.0496 - accuracy: 0.9855\n",
      "Epoch 174/200\n",
      "4420/4420 - 17s - loss: 0.0067 - accuracy: 0.9984\n",
      "Epoch 175/200\n",
      "4420/4420 - 17s - loss: 0.0117 - accuracy: 0.9962\n",
      "Epoch 176/200\n",
      "4420/4420 - 18s - loss: 0.0140 - accuracy: 0.9952\n",
      "Epoch 177/200\n",
      "4420/4420 - 17s - loss: 0.0042 - accuracy: 0.9984\n",
      "Epoch 178/200\n",
      "4420/4420 - 17s - loss: 0.0243 - accuracy: 0.9939\n",
      "Epoch 179/200\n",
      "4420/4420 - 17s - loss: 0.0035 - accuracy: 0.9991\n",
      "Epoch 180/200\n",
      "4420/4420 - 16s - loss: 0.0038 - accuracy: 0.9984\n",
      "Epoch 181/200\n",
      "4420/4420 - 17s - loss: 0.0028 - accuracy: 0.9989\n",
      "Epoch 182/200\n",
      "4420/4420 - 17s - loss: 0.0064 - accuracy: 0.9982\n",
      "Epoch 183/200\n",
      "4420/4420 - 16s - loss: 0.0054 - accuracy: 0.9980\n",
      "Epoch 184/200\n",
      "4420/4420 - 18s - loss: 0.0142 - accuracy: 0.9948\n",
      "Epoch 185/200\n",
      "4420/4420 - 17s - loss: 0.0155 - accuracy: 0.9955\n",
      "Epoch 186/200\n",
      "4420/4420 - 20s - loss: 0.0074 - accuracy: 0.9977\n",
      "Epoch 187/200\n",
      "4420/4420 - 16s - loss: 0.0142 - accuracy: 0.9948\n",
      "Epoch 188/200\n",
      "4420/4420 - 21s - loss: 0.0209 - accuracy: 0.9925\n",
      "Epoch 189/200\n",
      "4420/4420 - 16s - loss: 0.0032 - accuracy: 0.9984\n",
      "Epoch 190/200\n",
      "4420/4420 - 18s - loss: 0.0926 - accuracy: 0.9769\n",
      "Epoch 191/200\n",
      "4420/4420 - 146s - loss: 0.0262 - accuracy: 0.9923\n",
      "Epoch 192/200\n",
      "4420/4420 - 18s - loss: 0.0059 - accuracy: 0.9973\n",
      "Epoch 193/200\n",
      "4420/4420 - 17s - loss: 0.0055 - accuracy: 0.9984\n",
      "Epoch 194/200\n",
      "4420/4420 - 17s - loss: 0.0058 - accuracy: 0.9980\n",
      "Epoch 195/200\n",
      "4420/4420 - 17s - loss: 0.0110 - accuracy: 0.9964\n",
      "Epoch 196/200\n",
      "4420/4420 - 17s - loss: 0.0063 - accuracy: 0.9982\n",
      "Epoch 197/200\n",
      "4420/4420 - 17s - loss: 0.0089 - accuracy: 0.9966\n",
      "Epoch 198/200\n",
      "4420/4420 - 16s - loss: 0.0058 - accuracy: 0.9984\n",
      "Epoch 199/200\n",
      "4420/4420 - 25s - loss: 0.0060 - accuracy: 0.9982\n",
      "Epoch 200/200\n",
      "4420/4420 - 18s - loss: 0.0044 - accuracy: 0.9984\n"
     ]
    },
    {
     "data": {
      "text/plain": [
       "<tensorflow.python.keras.callbacks.History at 0x7fae168ad4e0>"
      ]
     },
     "execution_count": 58,
     "metadata": {},
     "output_type": "execute_result"
    }
   ],
   "source": [
    "# Fit\n",
    "dl_model.fit(\n",
    "    X_train_with_genres,\n",
    "    y_train_one_hot,\n",
    "    epochs=200,\n",
    "    shuffle=True,\n",
    "    verbose=2\n",
    ")"
   ]
  },
  {
   "cell_type": "code",
   "execution_count": 71,
   "metadata": {},
   "outputs": [
    {
     "name": "stdout",
     "output_type": "stream",
     "text": [
      "WARNING:tensorflow:Falling back from v2 loop because of error: Failed to find data adapter that can handle input: <class 'scipy.sparse.coo.coo_matrix'>, <class 'NoneType'>\n",
      "4420/4420 [==============================] - 2s 549us/sample - loss: 0.0039 - accuracy: 0.9984\n",
      "WARNING:tensorflow:Falling back from v2 loop because of error: Failed to find data adapter that can handle input: <class 'scipy.sparse.coo.coo_matrix'>, <class 'NoneType'>\n",
      "1474/1474 [==============================] - 1s 466us/sample - loss: 3.0881 - accuracy: 0.5556\n",
      "\n",
      "        \"Model on Train - Loss: 0.0039479049242800105, Accuracy: 0.9984163045883179\"\n",
      "        \"Model on Test - Loss: 3.088065629736539, Accuracy: 0.5556309223175049\"\n",
      "    \n"
     ]
    }
   ],
   "source": [
    "# Quantify trained model\n",
    "model_loss_train, model_accuracy_train = dl_model.evaluate(\n",
    "    X_train_with_genres, y_train_one_hot)\n",
    "model_loss_test, model_accuracy_test = dl_model.evaluate(\n",
    "    X_test_with_genres, y_test_one_hot)\n",
    "\n",
    "print(\n",
    "    f\"\"\"\n",
    "        \"Model on Train - Loss: {model_loss_train}, Accuracy: {model_accuracy_train}\"\n",
    "        \"Model on Test - Loss: {model_loss_test}, Accuracy: {model_accuracy_test}\"\n",
    "    \"\"\"\n",
    ")"
   ]
  },
  {
   "cell_type": "markdown",
   "metadata": {},
   "source": [
    "#### Observation on model performance\n",
    "\n",
    "* This model's overall accuracy on the test data is 0.56, this is in line with the other models."
   ]
  },
  {
   "cell_type": "markdown",
   "metadata": {},
   "source": [
    "<hr>\n",
    "\n",
    "## Classification Reports"
   ]
  },
  {
   "cell_type": "code",
   "execution_count": 61,
   "metadata": {},
   "outputs": [
    {
     "name": "stdout",
     "output_type": "stream",
     "text": [
      "WARNING:tensorflow:Falling back from v2 loop because of error: Failed to find data adapter that can handle input: <class 'scipy.sparse.coo.coo_matrix'>, <class 'NoneType'>\n",
      "1474/1474 - 1s\n"
     ]
    },
    {
     "data": {
      "text/plain": [
       "array([[5.9704013e-07, 3.9975927e-03, 9.9462271e-01, 1.3790890e-03],\n",
       "       [2.0015671e-12, 5.3448912e-07, 7.3374897e-01, 2.6625046e-01],\n",
       "       [6.1557598e-10, 5.9217240e-05, 9.9898094e-01, 9.5981854e-04],\n",
       "       ...,\n",
       "       [8.2540091e-10, 4.4833200e-06, 2.7892274e-01, 7.2107279e-01],\n",
       "       [1.8907728e-10, 1.1727127e-05, 9.9596584e-01, 4.0224465e-03],\n",
       "       [8.3740029e-14, 9.5028161e-12, 1.8109509e-07, 9.9999976e-01]],\n",
       "      dtype=float32)"
      ]
     },
     "execution_count": 61,
     "metadata": {},
     "output_type": "execute_result"
    }
   ],
   "source": [
    "# Make predictions\n",
    "predictions = dl_model.predict(X_test_with_genres, verbose=2)\n",
    "predictions"
   ]
  },
  {
   "cell_type": "code",
   "execution_count": 62,
   "metadata": {},
   "outputs": [
    {
     "name": "stdout",
     "output_type": "stream",
     "text": [
      "WARNING:tensorflow:Falling back from v2 loop because of error: Failed to find data adapter that can handle input: <class 'scipy.sparse.coo.coo_matrix'>, <class 'NoneType'>\n",
      "1474/1474 - 1s\n"
     ]
    },
    {
     "data": {
      "text/plain": [
       "array([2, 2, 2, ..., 3, 2, 3])"
      ]
     },
     "execution_count": 62,
     "metadata": {},
     "output_type": "execute_result"
    }
   ],
   "source": [
    "# Predict class\n",
    "predictions_class = dl_model.predict_classes(X_test_with_genres, verbose=2)\n",
    "predictions_class"
   ]
  },
  {
   "cell_type": "code",
   "execution_count": 70,
   "metadata": {},
   "outputs": [
    {
     "name": "stdout",
     "output_type": "stream",
     "text": [
      "              precision    recall  f1-score   support\n",
      "\n",
      "           G       0.50      0.12      0.20        33\n",
      "          PG       0.63      0.52      0.57       219\n",
      "       PG-13       0.41      0.74      0.53       444\n",
      "           R       0.76      0.48      0.59       778\n",
      "\n",
      "    accuracy                           0.56      1474\n",
      "   macro avg       0.58      0.46      0.47      1474\n",
      "weighted avg       0.63      0.56      0.56      1474\n",
      "\n"
     ]
    }
   ],
   "source": [
    "from sklearn.metrics import classification_report\n",
    "\n",
    "print(classification_report(y_test, predictions_class,\n",
    "                            target_names=target_names,\n",
    "                            zero_division=0))"
   ]
  },
  {
   "cell_type": "markdown",
   "metadata": {},
   "source": [
    "## Confusion Matrix"
   ]
  },
  {
   "cell_type": "code",
   "execution_count": 67,
   "metadata": {},
   "outputs": [
    {
     "data": {
      "text/plain": [
       "3    778\n",
       "2    444\n",
       "1    219\n",
       "0     33\n",
       "Name: rating, dtype: int64"
      ]
     },
     "execution_count": 67,
     "metadata": {},
     "output_type": "execute_result"
    }
   ],
   "source": [
    "# Actual classes\n",
    "pd.DataFrame(y_test, columns=['rating'])['rating'].value_counts()"
   ]
  },
  {
   "cell_type": "code",
   "execution_count": 68,
   "metadata": {
    "scrolled": false
   },
   "outputs": [
    {
     "data": {
      "text/plain": [
       "2    793\n",
       "3    491\n",
       "1    182\n",
       "0      8\n",
       "Name: rating, dtype: int64"
      ]
     },
     "execution_count": 68,
     "metadata": {},
     "output_type": "execute_result"
    }
   ],
   "source": [
    "# Predicted classes\n",
    "pd.DataFrame(predictions_class, columns=['rating'])['rating'].value_counts()"
   ]
  },
  {
   "cell_type": "code",
   "execution_count": 69,
   "metadata": {
    "scrolled": false
   },
   "outputs": [
    {
     "data": {
      "image/png": "[encoded data removed]",
      "text/plain": [
       "<Figure size 432x288 with 2 Axes>"
      ]
     },
     "metadata": {
      "needs_background": "light"
     },
     "output_type": "display_data"
    }
   ],
   "source": [
    "# Use Confusion Matrix to visualize\n",
    "from sklearn.metrics import confusion_matrix\n",
    "\n",
    "cm = confusion_matrix(y_test, predictions_class)\n",
    "df_cm = pd.DataFrame(cm, index=target_names, columns=target_names)\n",
    "\n",
    "heatmap = sn.heatmap(df_cm, annot=True, cmap=\"YlGnBu\")\n",
    "\n",
    "plt.title(\"Confusion Matrix - TF Deep Learning (Plot & Genre)\")\n",
    "plt.xlabel(\"Predicted\")\n",
    "plt.ylabel(\"Actual\")\n",
    "\n",
    "plt.savefig('../../image_highlights/rating_deep_learning/confusion_matrix_deep_learning_with_genre.png')\n",
    "plt.show()"
   ]
  },
  {
   "cell_type": "code",
   "execution_count": 72,
   "metadata": {},
   "outputs": [
    {
     "data": {
      "text/plain": [
       "1474"
      ]
     },
     "execution_count": 72,
     "metadata": {},
     "output_type": "execute_result"
    }
   ],
   "source": [
    "# Check to see if the confusion matrix accounted for all predictions\n",
    "total = 0\n",
    "for column in df_cm.columns:\n",
    "    total += df_cm[column].sum()\n",
    "total"
   ]
  },
  {
   "cell_type": "code",
   "execution_count": 73,
   "metadata": {},
   "outputs": [
    {
     "data": {
      "text/plain": [
       "1474"
      ]
     },
     "execution_count": 73,
     "metadata": {},
     "output_type": "execute_result"
    }
   ],
   "source": [
    "len(y_test)"
   ]
  },
  {
   "cell_type": "markdown",
   "metadata": {},
   "source": [
    "# Save the Model"
   ]
  },
  {
   "cell_type": "code",
   "execution_count": 74,
   "metadata": {},
   "outputs": [],
   "source": [
    "# Save the model\n",
    "filename = os.path.join('..', '..', 'saved_models','rating_deep_learning_with_genre.h5')\n",
    "dl_model.save(filename)"
   ]
  },
  {
   "cell_type": "code",
   "execution_count": 75,
   "metadata": {},
   "outputs": [],
   "source": [
    "# # Testing to make sure model saved correctly...\n",
    "\n",
    "# from tensorflow.keras.models import load_model\n",
    "# loaded_model = load_model(filename)"
   ]
  },
  {
   "cell_type": "code",
   "execution_count": null,
   "metadata": {},
   "outputs": [],
   "source": []
  }
 ],
 "metadata": {
  "kernelspec": {
   "display_name": "Python [conda env:PythonAdv] *",
   "language": "python",
   "name": "conda-env-PythonAdv-py"
  },
  "language_info": {
   "codemirror_mode": {
    "name": "ipython",
    "version": 3
   },
   "file_extension": ".py",
   "mimetype": "text/x-python",
   "name": "python",
   "nbconvert_exporter": "python",
   "pygments_lexer": "ipython3",
   "version": "3.6.13"
  }
 },
 "nbformat": 4,
 "nbformat_minor": 4
}
