{
 "cells": [
  {
   "cell_type": "code",
   "execution_count": 1,
   "id": "443056d6",
   "metadata": {},
   "outputs": [],
   "source": [
    "import pandas as pd\n",
    "import os"
   ]
  },
  {
   "cell_type": "code",
   "execution_count": 2,
   "id": "b4129425",
   "metadata": {},
   "outputs": [
    {
     "data": {
      "text/html": [
       "<div>\n",
       "<style scoped>\n",
       "    .dataframe tbody tr th:only-of-type {\n",
       "        vertical-align: middle;\n",
       "    }\n",
       "\n",
       "    .dataframe tbody tr th {\n",
       "        vertical-align: top;\n",
       "    }\n",
       "\n",
       "    .dataframe thead th {\n",
       "        text-align: right;\n",
       "    }\n",
       "</style>\n",
       "<table border=\"1\" class=\"dataframe\">\n",
       "  <thead>\n",
       "    <tr style=\"text-align: right;\">\n",
       "      <th></th>\n",
       "      <th>name</th>\n",
       "      <th>year</th>\n",
       "      <th>budget</th>\n",
       "      <th>gross</th>\n",
       "    </tr>\n",
       "  </thead>\n",
       "  <tbody>\n",
       "    <tr>\n",
       "      <th>0</th>\n",
       "      <td>Gold</td>\n",
       "      <td>2016</td>\n",
       "      <td>20000000</td>\n",
       "      <td>7222964</td>\n",
       "    </tr>\n",
       "    <tr>\n",
       "      <th>1</th>\n",
       "      <td>The Choice</td>\n",
       "      <td>2016</td>\n",
       "      <td>0</td>\n",
       "      <td>18709066</td>\n",
       "    </tr>\n",
       "    <tr>\n",
       "      <th>2</th>\n",
       "      <td>Middle School: The Worst Years of My Life</td>\n",
       "      <td>2016</td>\n",
       "      <td>8500000</td>\n",
       "      <td>19985196</td>\n",
       "    </tr>\n",
       "    <tr>\n",
       "      <th>3</th>\n",
       "      <td>Midnight Special</td>\n",
       "      <td>2016</td>\n",
       "      <td>18000000</td>\n",
       "      <td>3707794</td>\n",
       "    </tr>\n",
       "    <tr>\n",
       "      <th>4</th>\n",
       "      <td>A Monster Calls</td>\n",
       "      <td>2016</td>\n",
       "      <td>43000000</td>\n",
       "      <td>3730982</td>\n",
       "    </tr>\n",
       "    <tr>\n",
       "      <th>...</th>\n",
       "      <td>...</td>\n",
       "      <td>...</td>\n",
       "      <td>...</td>\n",
       "      <td>...</td>\n",
       "    </tr>\n",
       "    <tr>\n",
       "      <th>6251</th>\n",
       "      <td>The Karate Kid Part II</td>\n",
       "      <td>1986</td>\n",
       "      <td>0</td>\n",
       "      <td>115103979</td>\n",
       "    </tr>\n",
       "    <tr>\n",
       "      <th>6252</th>\n",
       "      <td>Mona Lisa</td>\n",
       "      <td>1986</td>\n",
       "      <td>0</td>\n",
       "      <td>5794184</td>\n",
       "    </tr>\n",
       "    <tr>\n",
       "      <th>6253</th>\n",
       "      <td>Ginger and Fred</td>\n",
       "      <td>1986</td>\n",
       "      <td>0</td>\n",
       "      <td>837623</td>\n",
       "    </tr>\n",
       "    <tr>\n",
       "      <th>6254</th>\n",
       "      <td>Critters</td>\n",
       "      <td>1986</td>\n",
       "      <td>2000000</td>\n",
       "      <td>13167232</td>\n",
       "    </tr>\n",
       "    <tr>\n",
       "      <th>6255</th>\n",
       "      <td>Poltergeist II: The Other Side</td>\n",
       "      <td>1986</td>\n",
       "      <td>19000000</td>\n",
       "      <td>40996665</td>\n",
       "    </tr>\n",
       "  </tbody>\n",
       "</table>\n",
       "<p>6256 rows × 4 columns</p>\n",
       "</div>"
      ],
      "text/plain": [
       "                                           name  year    budget      gross\n",
       "0                                          Gold  2016  20000000    7222964\n",
       "1                                    The Choice  2016         0   18709066\n",
       "2     Middle School: The Worst Years of My Life  2016   8500000   19985196\n",
       "3                              Midnight Special  2016  18000000    3707794\n",
       "4                               A Monster Calls  2016  43000000    3730982\n",
       "...                                         ...   ...       ...        ...\n",
       "6251                     The Karate Kid Part II  1986         0  115103979\n",
       "6252                                  Mona Lisa  1986         0    5794184\n",
       "6253                            Ginger and Fred  1986         0     837623\n",
       "6254                                   Critters  1986   2000000   13167232\n",
       "6255             Poltergeist II: The Other Side  1986  19000000   40996665\n",
       "\n",
       "[6256 rows x 4 columns]"
      ]
     },
     "execution_count": 2,
     "metadata": {},
     "output_type": "execute_result"
    }
   ],
   "source": [
    "path = os.path.join('..','resources','cleaned_data', 'movies_complete_cleaned.csv')\n",
    "df = pd.read_csv(path)\n",
    "selected = ['name', 'year', 'budget', 'gross']\n",
    "df = df[selected]\n",
    "df"
   ]
  },
  {
   "cell_type": "code",
   "execution_count": null,
   "id": "658a175f",
   "metadata": {},
   "outputs": [],
   "source": []
  },
  {
   "cell_type": "code",
   "execution_count": 3,
   "id": "a75864dd",
   "metadata": {},
   "outputs": [
    {
     "data": {
      "text/plain": [
       "Year\n",
       "1986    109.6\n",
       "1987    113.6\n",
       "1988    118.3\n",
       "1989    124.0\n",
       "1990    130.7\n",
       "Name: Annual, dtype: float64"
      ]
     },
     "execution_count": 3,
     "metadata": {},
     "output_type": "execute_result"
    }
   ],
   "source": [
    "path = os.path.join('..','resources','raw_data', 'CPI_data.csv')\n",
    "CPI = pd.read_csv(path)\n",
    "CPI.set_index(\"Year\", inplace = True)\n",
    "CPI = CPI[CPI.index >= min(df.year)]\n",
    "CPI = CPI[\"Annual\"]\n",
    "CPI.head()\n"
   ]
  },
  {
   "cell_type": "code",
   "execution_count": 4,
   "id": "59ff823e",
   "metadata": {},
   "outputs": [],
   "source": [
    "CPI_dict = CPI.to_dict()"
   ]
  },
  {
   "cell_type": "code",
   "execution_count": 5,
   "id": "05a8ad08",
   "metadata": {},
   "outputs": [
    {
     "data": {
      "text/plain": [
       "258.811"
      ]
     },
     "execution_count": 5,
     "metadata": {},
     "output_type": "execute_result"
    }
   ],
   "source": [
    "CPI_dict[2020]"
   ]
  },
  {
   "cell_type": "code",
   "execution_count": 9,
   "id": "1030c7d2",
   "metadata": {},
   "outputs": [
    {
     "data": {
      "text/html": [
       "<div>\n",
       "<style scoped>\n",
       "    .dataframe tbody tr th:only-of-type {\n",
       "        vertical-align: middle;\n",
       "    }\n",
       "\n",
       "    .dataframe tbody tr th {\n",
       "        vertical-align: top;\n",
       "    }\n",
       "\n",
       "    .dataframe thead th {\n",
       "        text-align: right;\n",
       "    }\n",
       "</style>\n",
       "<table border=\"1\" class=\"dataframe\">\n",
       "  <thead>\n",
       "    <tr style=\"text-align: right;\">\n",
       "      <th></th>\n",
       "      <th>name</th>\n",
       "      <th>year</th>\n",
       "      <th>budget</th>\n",
       "      <th>gross</th>\n",
       "      <th>adjusted_budget</th>\n",
       "      <th>adjusted_gross</th>\n",
       "    </tr>\n",
       "  </thead>\n",
       "  <tbody>\n",
       "    <tr>\n",
       "      <th>0</th>\n",
       "      <td>Gold</td>\n",
       "      <td>2016</td>\n",
       "      <td>20000000</td>\n",
       "      <td>7222964</td>\n",
       "      <td>21566954</td>\n",
       "      <td>7788867</td>\n",
       "    </tr>\n",
       "    <tr>\n",
       "      <th>1</th>\n",
       "      <td>The Choice</td>\n",
       "      <td>2016</td>\n",
       "      <td>0</td>\n",
       "      <td>18709066</td>\n",
       "      <td>0</td>\n",
       "      <td>20174879</td>\n",
       "    </tr>\n",
       "    <tr>\n",
       "      <th>2</th>\n",
       "      <td>Middle School: The Worst Years of My Life</td>\n",
       "      <td>2016</td>\n",
       "      <td>8500000</td>\n",
       "      <td>19985196</td>\n",
       "      <td>9165956</td>\n",
       "      <td>21550990</td>\n",
       "    </tr>\n",
       "    <tr>\n",
       "      <th>3</th>\n",
       "      <td>Midnight Special</td>\n",
       "      <td>2016</td>\n",
       "      <td>18000000</td>\n",
       "      <td>3707794</td>\n",
       "      <td>19410259</td>\n",
       "      <td>3998291</td>\n",
       "    </tr>\n",
       "    <tr>\n",
       "      <th>4</th>\n",
       "      <td>A Monster Calls</td>\n",
       "      <td>2016</td>\n",
       "      <td>43000000</td>\n",
       "      <td>3730982</td>\n",
       "      <td>46368952</td>\n",
       "      <td>4023296</td>\n",
       "    </tr>\n",
       "  </tbody>\n",
       "</table>\n",
       "</div>"
      ],
      "text/plain": [
       "                                        name  year    budget     gross  \\\n",
       "0                                       Gold  2016  20000000   7222964   \n",
       "1                                 The Choice  2016         0  18709066   \n",
       "2  Middle School: The Worst Years of My Life  2016   8500000  19985196   \n",
       "3                           Midnight Special  2016  18000000   3707794   \n",
       "4                            A Monster Calls  2016  43000000   3730982   \n",
       "\n",
       "  adjusted_budget adjusted_gross  \n",
       "0        21566954        7788867  \n",
       "1               0       20174879  \n",
       "2         9165956       21550990  \n",
       "3        19410259        3998291  \n",
       "4        46368952        4023296  "
      ]
     },
     "execution_count": 9,
     "metadata": {},
     "output_type": "execute_result"
    }
   ],
   "source": [
    "df_new = df.copy()\n",
    "\n",
    "df_new['adjusted_budget'] = ''\n",
    "df_new['adjusted_gross'] = ''\n",
    "\n",
    "CPI_new =CPI_dict[2020]\n",
    "\n",
    "for i, row in df.iterrows():\n",
    "    year_old = row[1]\n",
    "    \n",
    "    CPI_old = CPI_dict[year_old]\n",
    "            \n",
    "    budget_new = int(round(row[2]*(CPI_new/CPI_old),0))\n",
    "    gross_new = int(round(row[3]*(CPI_new/CPI_old),0))\n",
    "    \n",
    "    df_new.loc[i, 'adjusted_budget'] = budget_new\n",
    "    df_new.loc[i, 'adjusted_gross'] = gross_new\n",
    "\n",
    "    \n",
    "df_new.head()"
   ]
  },
  {
   "cell_type": "code",
   "execution_count": 12,
   "id": "c2e6b21f",
   "metadata": {
    "scrolled": true
   },
   "outputs": [],
   "source": [
    "df_new[['adjusted_budget', 'adjusted_gross']] = df_new[['adjusted_budget', 'adjusted_gross']].astype(int)"
   ]
  },
  {
   "cell_type": "code",
   "execution_count": 13,
   "id": "506d9bdb",
   "metadata": {},
   "outputs": [
    {
     "data": {
      "text/plain": [
       "name               object\n",
       "year                int64\n",
       "budget              int64\n",
       "gross               int64\n",
       "adjusted_budget     int64\n",
       "adjusted_gross      int64\n",
       "dtype: object"
      ]
     },
     "execution_count": 13,
     "metadata": {},
     "output_type": "execute_result"
    }
   ],
   "source": [
    "df_new.dtypes"
   ]
  },
  {
   "cell_type": "code",
   "execution_count": 14,
   "id": "42569816",
   "metadata": {},
   "outputs": [],
   "source": [
    "path = os.path.join('..','resources','cleaned_data', 'adjusted_financials.csv')\n",
    "df_new.to_csv(path, index = False)"
   ]
  }
 ],
 "metadata": {
  "kernelspec": {
   "display_name": "Python [conda env:PythonAdv] *",
   "language": "python",
   "name": "conda-env-PythonAdv-py"
  },
  "language_info": {
   "codemirror_mode": {
    "name": "ipython",
    "version": 3
   },
   "file_extension": ".py",
   "mimetype": "text/x-python",
   "name": "python",
   "nbconvert_exporter": "python",
   "pygments_lexer": "ipython3",
   "version": "3.6.13"
  }
 },
 "nbformat": 4,
 "nbformat_minor": 5
}
