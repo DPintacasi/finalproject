{
 "cells": [
  {
   "cell_type": "markdown",
   "metadata": {},
   "source": []
  },
  {
   "cell_type": "code",
   "execution_count": 55,
   "metadata": {},
   "outputs": [
    {
     "name": "stdout",
     "output_type": "stream",
     "text": [
      "The nb_black extension is already loaded. To reload it, use:\n",
      "  %reload_ext nb_black\n"
     ]
    },
    {
     "data": {
      "application/javascript": [
       "\n",
       "            setTimeout(function() {\n",
       "                var nbb_cell_id = 55;\n",
       "                var nbb_unformatted_code = \"from IPython.core.debugger import set_trace\\n\\n%load_ext nb_black\\n\\nimport pandas as pd\\nimport numpy as np\\nimport os\\nimport matplotlib.pyplot as plt\\nimport time\\n\\nplt.style.use(style=\\\"seaborn\\\")\\n%matplotlib inline\";\n",
       "                var nbb_formatted_code = \"from IPython.core.debugger import set_trace\\n\\n%load_ext nb_black\\n\\nimport pandas as pd\\nimport numpy as np\\nimport os\\nimport matplotlib.pyplot as plt\\nimport time\\n\\nplt.style.use(style=\\\"seaborn\\\")\\n%matplotlib inline\";\n",
       "                var nbb_cells = Jupyter.notebook.get_cells();\n",
       "                for (var i = 0; i < nbb_cells.length; ++i) {\n",
       "                    if (nbb_cells[i].input_prompt_number == nbb_cell_id) {\n",
       "                        if (nbb_cells[i].get_text() == nbb_unformatted_code) {\n",
       "                             nbb_cells[i].set_text(nbb_formatted_code);\n",
       "                        }\n",
       "                        break;\n",
       "                    }\n",
       "                }\n",
       "            }, 500);\n",
       "            "
      ],
      "text/plain": [
       "<IPython.core.display.Javascript object>"
      ]
     },
     "metadata": {},
     "output_type": "display_data"
    }
   ],
   "source": [
    "from IPython.core.debugger import set_trace\n",
    "\n",
    "%load_ext nb_black\n",
    "\n",
    "import pandas as pd\n",
    "import numpy as np\n",
    "import os\n",
    "import matplotlib.pyplot as plt\n",
    "import time\n",
    "\n",
    "plt.style.use(style=\"seaborn\")\n",
    "%matplotlib inline"
   ]
  },
  {
   "cell_type": "code",
   "execution_count": 56,
   "metadata": {
    "scrolled": true
   },
   "outputs": [
    {
     "data": {
      "text/html": [
       "<div>\n",
       "<style scoped>\n",
       "    .dataframe tbody tr th:only-of-type {\n",
       "        vertical-align: middle;\n",
       "    }\n",
       "\n",
       "    .dataframe tbody tr th {\n",
       "        vertical-align: top;\n",
       "    }\n",
       "\n",
       "    .dataframe thead th {\n",
       "        text-align: right;\n",
       "    }\n",
       "</style>\n",
       "<table border=\"1\" class=\"dataframe\">\n",
       "  <thead>\n",
       "    <tr style=\"text-align: right;\">\n",
       "      <th></th>\n",
       "      <th>name</th>\n",
       "      <th>plot</th>\n",
       "      <th>oscar_nom</th>\n",
       "    </tr>\n",
       "  </thead>\n",
       "  <tbody>\n",
       "    <tr>\n",
       "      <th>0</th>\n",
       "      <td>Doctor Strange</td>\n",
       "      <td>Marvel's \"Doctor Strange\" follows the story of...</td>\n",
       "      <td>1</td>\n",
       "    </tr>\n",
       "    <tr>\n",
       "      <th>1</th>\n",
       "      <td>Sleight</td>\n",
       "      <td>A young street magician (Jacob Latimore) is le...</td>\n",
       "      <td>0</td>\n",
       "    </tr>\n",
       "    <tr>\n",
       "      <th>2</th>\n",
       "      <td>Silence</td>\n",
       "      <td>The story of two Catholic missionaries (Andrew...</td>\n",
       "      <td>1</td>\n",
       "    </tr>\n",
       "    <tr>\n",
       "      <th>3</th>\n",
       "      <td>Manchester by the Sea</td>\n",
       "      <td>Lee Chandler is a brooding, irritable loner wh...</td>\n",
       "      <td>1</td>\n",
       "    </tr>\n",
       "    <tr>\n",
       "      <th>4</th>\n",
       "      <td>Dirty Grandpa</td>\n",
       "      <td>Jason Kelly, the grandson of Dick Kelly, loses...</td>\n",
       "      <td>0</td>\n",
       "    </tr>\n",
       "  </tbody>\n",
       "</table>\n",
       "</div>"
      ],
      "text/plain": [
       "                    name                                               plot  \\\n",
       "0         Doctor Strange  Marvel's \"Doctor Strange\" follows the story of...   \n",
       "1                Sleight  A young street magician (Jacob Latimore) is le...   \n",
       "2                Silence  The story of two Catholic missionaries (Andrew...   \n",
       "3  Manchester by the Sea  Lee Chandler is a brooding, irritable loner wh...   \n",
       "4          Dirty Grandpa  Jason Kelly, the grandson of Dick Kelly, loses...   \n",
       "\n",
       "   oscar_nom  \n",
       "0          1  \n",
       "1          0  \n",
       "2          1  \n",
       "3          1  \n",
       "4          0  "
      ]
     },
     "execution_count": 56,
     "metadata": {},
     "output_type": "execute_result"
    },
    {
     "data": {
      "application/javascript": [
       "\n",
       "            setTimeout(function() {\n",
       "                var nbb_cell_id = 56;\n",
       "                var nbb_unformatted_code = \"movies = pd.read_csv(\\n    \\\"https://data-bootcamp-ztc.s3.amazonaws.com/movies_complete_cleaned.csv\\\"\\n)\\n\\nawards = pd.read_csv(\\n    \\\"https://data-bootcamp-ztc.s3.amazonaws.com/parsed_awards_table.csv\\\"\\n)\\n\\nmovies_sel = movies[[\\\"name\\\", \\\"plot\\\"]]\\n\\nawards_sel = awards[[\\\"name\\\", \\\"oscar wins and nominations\\\"]]\\n\\ndf = pd.merge(movies_sel, awards_sel, how=\\\"right\\\", on=\\\"name\\\")\\n\\ndf[\\\"oscar_nom\\\"] = [1 if x != 0 else 0 for x in df[\\\"oscar wins and nominations\\\"]]\\n\\ndf = df[[\\\"name\\\", \\\"plot\\\", \\\"oscar_nom\\\"]]\\n\\ndf[\\\"plot\\\"].fillna(\\\"\\\", inplace=True)\\n\\ndf.head()\";\n",
       "                var nbb_formatted_code = \"movies = pd.read_csv(\\n    \\\"https://data-bootcamp-ztc.s3.amazonaws.com/movies_complete_cleaned.csv\\\"\\n)\\n\\nawards = pd.read_csv(\\n    \\\"https://data-bootcamp-ztc.s3.amazonaws.com/parsed_awards_table.csv\\\"\\n)\\n\\nmovies_sel = movies[[\\\"name\\\", \\\"plot\\\"]]\\n\\nawards_sel = awards[[\\\"name\\\", \\\"oscar wins and nominations\\\"]]\\n\\ndf = pd.merge(movies_sel, awards_sel, how=\\\"right\\\", on=\\\"name\\\")\\n\\ndf[\\\"oscar_nom\\\"] = [1 if x != 0 else 0 for x in df[\\\"oscar wins and nominations\\\"]]\\n\\ndf = df[[\\\"name\\\", \\\"plot\\\", \\\"oscar_nom\\\"]]\\n\\ndf[\\\"plot\\\"].fillna(\\\"\\\", inplace=True)\\n\\ndf.head()\";\n",
       "                var nbb_cells = Jupyter.notebook.get_cells();\n",
       "                for (var i = 0; i < nbb_cells.length; ++i) {\n",
       "                    if (nbb_cells[i].input_prompt_number == nbb_cell_id) {\n",
       "                        if (nbb_cells[i].get_text() == nbb_unformatted_code) {\n",
       "                             nbb_cells[i].set_text(nbb_formatted_code);\n",
       "                        }\n",
       "                        break;\n",
       "                    }\n",
       "                }\n",
       "            }, 500);\n",
       "            "
      ],
      "text/plain": [
       "<IPython.core.display.Javascript object>"
      ]
     },
     "metadata": {},
     "output_type": "display_data"
    }
   ],
   "source": [
    "movies = pd.read_csv(\n",
    "    \"https://data-bootcamp-ztc.s3.amazonaws.com/movies_complete_cleaned.csv\"\n",
    ")\n",
    "\n",
    "awards = pd.read_csv(\n",
    "    \"https://data-bootcamp-ztc.s3.amazonaws.com/parsed_awards_table.csv\"\n",
    ")\n",
    "\n",
    "movies_sel = movies[[\"name\", \"plot\"]]\n",
    "\n",
    "awards_sel = awards[[\"name\", \"oscar wins and nominations\"]]\n",
    "\n",
    "df = pd.merge(movies_sel, awards_sel, how=\"right\", on=\"name\")\n",
    "\n",
    "df[\"oscar_nom\"] = [1 if x != 0 else 0 for x in df[\"oscar wins and nominations\"]]\n",
    "\n",
    "df = df[[\"name\", \"plot\", \"oscar_nom\"]]\n",
    "\n",
    "df[\"plot\"].fillna(\"\", inplace=True)\n",
    "\n",
    "df.head()"
   ]
  },
  {
   "cell_type": "markdown",
   "metadata": {},
   "source": [
    "## Cleaning the text"
   ]
  },
  {
   "cell_type": "markdown",
   "metadata": {},
   "source": [
    "Remove punctuation"
   ]
  },
  {
   "cell_type": "code",
   "execution_count": 57,
   "metadata": {},
   "outputs": [
    {
     "data": {
      "application/javascript": [
       "\n",
       "            setTimeout(function() {\n",
       "                var nbb_cell_id = 57;\n",
       "                var nbb_unformatted_code = \"import string\\n\\n\\ndef remove_punct(text):\\n    table = str.maketrans(\\\"\\\", \\\"\\\", string.punctuation)\\n    return text.translate(table)\\n\\n\\ndf[\\\"plot\\\"] = [remove_punct(x) for x in df[\\\"plot\\\"]]\";\n",
       "                var nbb_formatted_code = \"import string\\n\\n\\ndef remove_punct(text):\\n    table = str.maketrans(\\\"\\\", \\\"\\\", string.punctuation)\\n    return text.translate(table)\\n\\n\\ndf[\\\"plot\\\"] = [remove_punct(x) for x in df[\\\"plot\\\"]]\";\n",
       "                var nbb_cells = Jupyter.notebook.get_cells();\n",
       "                for (var i = 0; i < nbb_cells.length; ++i) {\n",
       "                    if (nbb_cells[i].input_prompt_number == nbb_cell_id) {\n",
       "                        if (nbb_cells[i].get_text() == nbb_unformatted_code) {\n",
       "                             nbb_cells[i].set_text(nbb_formatted_code);\n",
       "                        }\n",
       "                        break;\n",
       "                    }\n",
       "                }\n",
       "            }, 500);\n",
       "            "
      ],
      "text/plain": [
       "<IPython.core.display.Javascript object>"
      ]
     },
     "metadata": {},
     "output_type": "display_data"
    }
   ],
   "source": [
    "import string\n",
    "\n",
    "\n",
    "def remove_punct(text):\n",
    "    table = str.maketrans(\"\", \"\", string.punctuation)\n",
    "    return text.translate(table)\n",
    "\n",
    "\n",
    "df[\"plot\"] = [remove_punct(x) for x in df[\"plot\"]]"
   ]
  },
  {
   "cell_type": "markdown",
   "metadata": {},
   "source": [
    "Remove stopwords"
   ]
  },
  {
   "cell_type": "code",
   "execution_count": 58,
   "metadata": {},
   "outputs": [
    {
     "data": {
      "application/javascript": [
       "\n",
       "            setTimeout(function() {\n",
       "                var nbb_cell_id = 58;\n",
       "                var nbb_unformatted_code = \"from nltk.corpus import stopwords\\n\\nstop = set(stopwords.words(\\\"english\\\"))\\n\\n\\ndef remove_stopwords(text):\\n    text = [word.lower() for word in text.split() if word.lower() not in stop]\\n\\n    return \\\" \\\".join(text)\\n\\n\\ndf[\\\"plot\\\"] = [remove_stopwords(x) for x in df[\\\"plot\\\"]]\";\n",
       "                var nbb_formatted_code = \"from nltk.corpus import stopwords\\n\\nstop = set(stopwords.words(\\\"english\\\"))\\n\\n\\ndef remove_stopwords(text):\\n    text = [word.lower() for word in text.split() if word.lower() not in stop]\\n\\n    return \\\" \\\".join(text)\\n\\n\\ndf[\\\"plot\\\"] = [remove_stopwords(x) for x in df[\\\"plot\\\"]]\";\n",
       "                var nbb_cells = Jupyter.notebook.get_cells();\n",
       "                for (var i = 0; i < nbb_cells.length; ++i) {\n",
       "                    if (nbb_cells[i].input_prompt_number == nbb_cell_id) {\n",
       "                        if (nbb_cells[i].get_text() == nbb_unformatted_code) {\n",
       "                             nbb_cells[i].set_text(nbb_formatted_code);\n",
       "                        }\n",
       "                        break;\n",
       "                    }\n",
       "                }\n",
       "            }, 500);\n",
       "            "
      ],
      "text/plain": [
       "<IPython.core.display.Javascript object>"
      ]
     },
     "metadata": {},
     "output_type": "display_data"
    }
   ],
   "source": [
    "from nltk.corpus import stopwords\n",
    "\n",
    "stop = set(stopwords.words(\"english\"))\n",
    "\n",
    "\n",
    "def remove_stopwords(text):\n",
    "    text = [word.lower() for word in text.split() if word.lower() not in stop]\n",
    "\n",
    "    return \" \".join(text)\n",
    "\n",
    "\n",
    "df[\"plot\"] = [remove_stopwords(x) for x in df[\"plot\"]]"
   ]
  },
  {
   "cell_type": "markdown",
   "metadata": {},
   "source": [
    "Stemming. Bundling together words of same root.\n"
   ]
  },
  {
   "cell_type": "code",
   "execution_count": 59,
   "metadata": {},
   "outputs": [
    {
     "data": {
      "application/javascript": [
       "\n",
       "            setTimeout(function() {\n",
       "                var nbb_cell_id = 59;\n",
       "                var nbb_unformatted_code = \"# from nltk.stem.porter import PorterStemmer\\n\\n# stemmer = PorterStemmer()\\n\\n\\n# def stemming(text):\\n#     text = [stemmer.stem(word) for word in text.split()]\\n\\n#     return \\\" \\\".join(text)\\n\\n\\n# df[\\\"plot\\\"] = [stemming(x) for x in df[\\\"plot\\\"]]\";\n",
       "                var nbb_formatted_code = \"# from nltk.stem.porter import PorterStemmer\\n\\n# stemmer = PorterStemmer()\\n\\n\\n# def stemming(text):\\n#     text = [stemmer.stem(word) for word in text.split()]\\n\\n#     return \\\" \\\".join(text)\\n\\n\\n# df[\\\"plot\\\"] = [stemming(x) for x in df[\\\"plot\\\"]]\";\n",
       "                var nbb_cells = Jupyter.notebook.get_cells();\n",
       "                for (var i = 0; i < nbb_cells.length; ++i) {\n",
       "                    if (nbb_cells[i].input_prompt_number == nbb_cell_id) {\n",
       "                        if (nbb_cells[i].get_text() == nbb_unformatted_code) {\n",
       "                             nbb_cells[i].set_text(nbb_formatted_code);\n",
       "                        }\n",
       "                        break;\n",
       "                    }\n",
       "                }\n",
       "            }, 500);\n",
       "            "
      ],
      "text/plain": [
       "<IPython.core.display.Javascript object>"
      ]
     },
     "metadata": {},
     "output_type": "display_data"
    }
   ],
   "source": [
    "# from nltk.stem.porter import PorterStemmer\n",
    "\n",
    "# stemmer = PorterStemmer()\n",
    "\n",
    "\n",
    "# def stemming(text):\n",
    "#     text = [stemmer.stem(word) for word in text.split()]\n",
    "\n",
    "#     return \" \".join(text)\n",
    "\n",
    "\n",
    "# df[\"plot\"] = [stemming(x) for x in df[\"plot\"]]"
   ]
  },
  {
   "cell_type": "markdown",
   "metadata": {},
   "source": [
    "#### Tokenization"
   ]
  },
  {
   "cell_type": "code",
   "execution_count": 60,
   "metadata": {},
   "outputs": [
    {
     "data": {
      "text/html": [
       "<div>\n",
       "<style scoped>\n",
       "    .dataframe tbody tr th:only-of-type {\n",
       "        vertical-align: middle;\n",
       "    }\n",
       "\n",
       "    .dataframe tbody tr th {\n",
       "        vertical-align: top;\n",
       "    }\n",
       "\n",
       "    .dataframe thead th {\n",
       "        text-align: right;\n",
       "    }\n",
       "</style>\n",
       "<table border=\"1\" class=\"dataframe\">\n",
       "  <thead>\n",
       "    <tr style=\"text-align: right;\">\n",
       "      <th></th>\n",
       "      <th>plot</th>\n",
       "      <th>tokens</th>\n",
       "    </tr>\n",
       "  </thead>\n",
       "  <tbody>\n",
       "    <tr>\n",
       "      <th>0</th>\n",
       "      <td>marvels doctor strange follows story talented ...</td>\n",
       "      <td>[marvels, doctor, strange, follows, story, tal...</td>\n",
       "    </tr>\n",
       "    <tr>\n",
       "      <th>1</th>\n",
       "      <td>young street magician jacob latimore left care...</td>\n",
       "      <td>[young, street, magician, jacob, latimore, lef...</td>\n",
       "    </tr>\n",
       "    <tr>\n",
       "      <th>2</th>\n",
       "      <td>story two catholic missionaries andrew garfiel...</td>\n",
       "      <td>[story, two, catholic, missionaries, andrew, g...</td>\n",
       "    </tr>\n",
       "    <tr>\n",
       "      <th>3</th>\n",
       "      <td>lee chandler brooding irritable loner works ha...</td>\n",
       "      <td>[lee, chandler, brooding, irritable, loner, wo...</td>\n",
       "    </tr>\n",
       "    <tr>\n",
       "      <th>4</th>\n",
       "      <td>jason kelly grandson dick kelly loses grandmot...</td>\n",
       "      <td>[jason, kelly, grandson, dick, kelly, loses, g...</td>\n",
       "    </tr>\n",
       "    <tr>\n",
       "      <th>5</th>\n",
       "      <td></td>\n",
       "      <td>[]</td>\n",
       "    </tr>\n",
       "    <tr>\n",
       "      <th>6</th>\n",
       "      <td>movie portrait one important tragic moments am...</td>\n",
       "      <td>[movie, portrait, one, important, tragic, mome...</td>\n",
       "    </tr>\n",
       "    <tr>\n",
       "      <th>7</th>\n",
       "      <td>national manhunt ordered rebellious kid foster...</td>\n",
       "      <td>[national, manhunt, ordered, rebellious, kid, ...</td>\n",
       "    </tr>\n",
       "    <tr>\n",
       "      <th>8</th>\n",
       "      <td>rural england 1865 katherine stifled loveless ...</td>\n",
       "      <td>[rural, england, 1865, katherine, stifled, lov...</td>\n",
       "    </tr>\n",
       "    <tr>\n",
       "      <th>9</th>\n",
       "      <td>rocky young woman wanting start better life si...</td>\n",
       "      <td>[rocky, young, woman, wanting, start, better, ...</td>\n",
       "    </tr>\n",
       "  </tbody>\n",
       "</table>\n",
       "</div>"
      ],
      "text/plain": [
       "                                                plot  \\\n",
       "0  marvels doctor strange follows story talented ...   \n",
       "1  young street magician jacob latimore left care...   \n",
       "2  story two catholic missionaries andrew garfiel...   \n",
       "3  lee chandler brooding irritable loner works ha...   \n",
       "4  jason kelly grandson dick kelly loses grandmot...   \n",
       "5                                                      \n",
       "6  movie portrait one important tragic moments am...   \n",
       "7  national manhunt ordered rebellious kid foster...   \n",
       "8  rural england 1865 katherine stifled loveless ...   \n",
       "9  rocky young woman wanting start better life si...   \n",
       "\n",
       "                                              tokens  \n",
       "0  [marvels, doctor, strange, follows, story, tal...  \n",
       "1  [young, street, magician, jacob, latimore, lef...  \n",
       "2  [story, two, catholic, missionaries, andrew, g...  \n",
       "3  [lee, chandler, brooding, irritable, loner, wo...  \n",
       "4  [jason, kelly, grandson, dick, kelly, loses, g...  \n",
       "5                                                 []  \n",
       "6  [movie, portrait, one, important, tragic, mome...  \n",
       "7  [national, manhunt, ordered, rebellious, kid, ...  \n",
       "8  [rural, england, 1865, katherine, stifled, lov...  \n",
       "9  [rocky, young, woman, wanting, start, better, ...  "
      ]
     },
     "execution_count": 60,
     "metadata": {},
     "output_type": "execute_result"
    },
    {
     "data": {
      "application/javascript": [
       "\n",
       "            setTimeout(function() {\n",
       "                var nbb_cell_id = 60;\n",
       "                var nbb_unformatted_code = \"from nltk.tokenize import TreebankWordTokenizer\\n\\ntokenizer = TreebankWordTokenizer()\\n\\ndf[\\\"tokens\\\"] = df[\\\"plot\\\"].map(tokenizer.tokenize)\\n\\ndf[[\\\"plot\\\", \\\"tokens\\\"]].head(10)\";\n",
       "                var nbb_formatted_code = \"from nltk.tokenize import TreebankWordTokenizer\\n\\ntokenizer = TreebankWordTokenizer()\\n\\ndf[\\\"tokens\\\"] = df[\\\"plot\\\"].map(tokenizer.tokenize)\\n\\ndf[[\\\"plot\\\", \\\"tokens\\\"]].head(10)\";\n",
       "                var nbb_cells = Jupyter.notebook.get_cells();\n",
       "                for (var i = 0; i < nbb_cells.length; ++i) {\n",
       "                    if (nbb_cells[i].input_prompt_number == nbb_cell_id) {\n",
       "                        if (nbb_cells[i].get_text() == nbb_unformatted_code) {\n",
       "                             nbb_cells[i].set_text(nbb_formatted_code);\n",
       "                        }\n",
       "                        break;\n",
       "                    }\n",
       "                }\n",
       "            }, 500);\n",
       "            "
      ],
      "text/plain": [
       "<IPython.core.display.Javascript object>"
      ]
     },
     "metadata": {},
     "output_type": "display_data"
    }
   ],
   "source": [
    "from nltk.tokenize import TreebankWordTokenizer\n",
    "\n",
    "tokenizer = TreebankWordTokenizer()\n",
    "\n",
    "df[\"tokens\"] = df[\"plot\"].map(tokenizer.tokenize)\n",
    "\n",
    "df[[\"plot\", \"tokens\"]].head(10)"
   ]
  },
  {
   "cell_type": "markdown",
   "metadata": {},
   "source": [
    "## TF IDF\n",
    "\n",
    "Downweighting frequently occuring words in the feature vectors. Frequently occuring words typically don't contain useful information therefore TF - IDF is great for assessing word relevancy."
   ]
  },
  {
   "cell_type": "code",
   "execution_count": 114,
   "metadata": {},
   "outputs": [
    {
     "name": "stdout",
     "output_type": "stream",
     "text": [
      "(6256, 34876)\n",
      "[0.13209349307215396, 0.09998789127898605, 0.11070723790277437, 0.15810319302318845, 0.17283510357018544, 0.1689601042326595, 0.1433712824761914, 0.09541153688976615, 0.11471980182598308, 0.09279723157672788, 0.17283510357018544, 0.12972954187544986, 0.18369201477965652, 0.3274945364572547, 0.1423343131942321, 0.09801244673620638, 0.17757771946663126, 0.11417480647059823, 0.18369201477965652, 0.09776240086050933, 0.1214881073342098, 0.18369201477965652, 0.17283510357018544, 0.1923096300136283, 0.13909266163724518, 0.18369201477965652, 0.18369201477965652, 0.057591342797369965, 0.10358864611097897, 0.09839311937744659, 0.09183536362481674, 0.11047992392536639, 0.14134559286441048, 0.07258774667782177, 0.3197018225154413, 0.12710229359003125, 0.1214881073342098, 0.13338198782564017, 0.1923096300136283, 0.15095192842820385, 0.1111692920629914, 0.13519132601662598, 0.0830304903135123]\n"
     ]
    },
    {
     "data": {
      "application/javascript": [
       "\n",
       "            setTimeout(function() {\n",
       "                var nbb_cell_id = 114;\n",
       "                var nbb_unformatted_code = \"from sklearn.feature_extraction.text import TfidfVectorizer\\n\\n\\ndef tfidf(data, ngrams=(1, 1)):\\n    tfidf_vectorizer = TfidfVectorizer(ngram_range=ngrams)\\n    train = tfidf_vectorizer.fit_transform(data)\\n    return train\\n\\n\\nX_train_tfidf = tfidf(df[\\\"plot\\\"])\\n\\nprint(X_train_tfidf.shape)\\nprint([x for x in X_train_tfidf.todense()[0][0:].tolist()[0] if x != 0])\";\n",
       "                var nbb_formatted_code = \"from sklearn.feature_extraction.text import TfidfVectorizer\\n\\n\\ndef tfidf(data, ngrams=(1, 1)):\\n    tfidf_vectorizer = TfidfVectorizer(ngram_range=ngrams)\\n    train = tfidf_vectorizer.fit_transform(data)\\n    return train\\n\\n\\nX_train_tfidf = tfidf(df[\\\"plot\\\"])\\n\\nprint(X_train_tfidf.shape)\\nprint([x for x in X_train_tfidf.todense()[0][0:].tolist()[0] if x != 0])\";\n",
       "                var nbb_cells = Jupyter.notebook.get_cells();\n",
       "                for (var i = 0; i < nbb_cells.length; ++i) {\n",
       "                    if (nbb_cells[i].input_prompt_number == nbb_cell_id) {\n",
       "                        if (nbb_cells[i].get_text() == nbb_unformatted_code) {\n",
       "                             nbb_cells[i].set_text(nbb_formatted_code);\n",
       "                        }\n",
       "                        break;\n",
       "                    }\n",
       "                }\n",
       "            }, 500);\n",
       "            "
      ],
      "text/plain": [
       "<IPython.core.display.Javascript object>"
      ]
     },
     "metadata": {},
     "output_type": "display_data"
    }
   ],
   "source": [
    "from sklearn.feature_extraction.text import TfidfVectorizer\n",
    "\n",
    "\n",
    "def tfidf(data, ngrams=(1, 1)):\n",
    "    tfidf_vectorizer = TfidfVectorizer(ngram_range=ngrams)\n",
    "    train = tfidf_vectorizer.fit_transform(data)\n",
    "    return train\n",
    "\n",
    "\n",
    "X_train_tfidf = tfidf(df[\"plot\"])\n",
    "\n",
    "print(X_train_tfidf.shape)\n",
    "print([x for x in X_train_tfidf.todense()[0][0:].tolist()[0] if x != 0])\n"
   ]
  },
  {
   "cell_type": "markdown",
   "metadata": {},
   "source": [
    "### hashing then transform\n",
    "source: https://stackoverflow.com/questions/54745482/what-is-the-difference-between-tfidf-vectorizer-and-tfidf-transformer"
   ]
  },
  {
   "cell_type": "code",
   "execution_count": 64,
   "metadata": {},
   "outputs": [
    {
     "name": "stdout",
     "output_type": "stream",
     "text": [
      "  (0, 1019414)\t-0.0928251752595355\n",
      "  (0, 1009665)\t-0.18374732926811788\n",
      "  (0, 995898)\t-0.1105131923310971\n",
      "  (0, 983378)\t0.10001800025821993\n",
      "  (0, 979472)\t0.18374732926811788\n",
      "  (0, 976640)\t-0.09804196085722336\n",
      "  (0, 965118)\t-0.14237717379290474\n",
      "  (0, 877251)\t-0.15815080204558757\n",
      "  (0, 771159)\t-0.1776311927802438\n",
      "  (0, 766433)\t-0.17288714875763478\n",
      "  (0, 764247)\t-0.0726096047541288\n",
      "  (0, 745451)\t-0.13913454608952486\n",
      "  (0, 724631)\t-0.15099738401707785\n",
      "  (0, 720710)\t0.31979809312793267\n",
      "  (0, 703726)\t-0.1297686068465417\n",
      "  (0, 686826)\t-0.0954402678085418\n",
      "  (0, 681351)\t0.05760868506273986\n",
      "  (0, 654798)\t0.17288714875763478\n",
      "  (0, 639749)\t-0.13523203567432118\n",
      "  (0, 628860)\t-0.18374732926811788\n",
      "  (0, 582700)\t-0.19236753949229105\n",
      "  (0, 574181)\t0.11074057475871177\n",
      "  (0, 565760)\t0.09842274812899038\n",
      "  (0, 551567)\t0.11475434697026715\n",
      "  (0, 550563)\t-0.16901098255607067\n",
      "  :\t:\n",
      "  (6255, 458613)\t0.09692089807210025\n",
      "  (6255, 453602)\t0.09356124633788845\n",
      "  (6255, 447656)\t-0.07589694703392917\n",
      "  (6255, 416002)\t0.13932372128144413\n",
      "  (6255, 406624)\t0.14409011564708035\n",
      "  (6255, 398857)\t0.11244272322022826\n",
      "  (6255, 386980)\t0.12875690289972522\n",
      "  (6255, 380846)\t-0.10076843181783625\n",
      "  (6255, 369935)\t0.14634063897717134\n",
      "  (6255, 366755)\t-0.10787140067245943\n",
      "  (6255, 324844)\t-0.12773955750474686\n",
      "  (6255, 299065)\t0.16114641219588932\n",
      "  (6255, 298395)\t-0.1058177470825128\n",
      "  (6255, 249106)\t0.14477213872114136\n",
      "  (6255, 190748)\t-0.14110477042538802\n",
      "  (6255, 170522)\t-0.1058177470825128\n",
      "  (6255, 160094)\t-0.12494948224671533\n",
      "  (6255, 159628)\t-0.19327382966887047\n",
      "  (6255, 141383)\t-0.12287404363132176\n",
      "  (6255, 120506)\t-0.1723489943686206\n",
      "  (6255, 108328)\t-0.09953971010495147\n",
      "  (6255, 99395)\t0.15500146110430293\n",
      "  (6255, 49766)\t0.11733082854536175\n",
      "  (6255, 30393)\t0.12287404363132176\n",
      "  (6255, 27487)\t-0.10691338290942264\n"
     ]
    },
    {
     "data": {
      "application/javascript": [
       "\n",
       "            setTimeout(function() {\n",
       "                var nbb_cell_id = 64;\n",
       "                var nbb_unformatted_code = \"from sklearn.feature_extraction.text import TfidfTransformer\\nfrom sklearn.feature_extraction.text import CountVectorizer\\nfrom sklearn.feature_extraction.text import HashingVectorizer\\n\\n\\ncv = HashingVectorizer()\\nX_train_counts = cv.fit_transform(df[\\\"plot\\\"])\\ntf_transformer = TfidfTransformer(use_idf=True).fit(X_train_counts)\\nX_train_hashed = tf_transformer.transform(X_train_counts)\\nprint(X_train_hashed)\";\n",
       "                var nbb_formatted_code = \"from sklearn.feature_extraction.text import TfidfTransformer\\nfrom sklearn.feature_extraction.text import CountVectorizer\\nfrom sklearn.feature_extraction.text import HashingVectorizer\\n\\n\\ncv = HashingVectorizer()\\nX_train_counts = cv.fit_transform(df[\\\"plot\\\"])\\ntf_transformer = TfidfTransformer(use_idf=True).fit(X_train_counts)\\nX_train_hashed = tf_transformer.transform(X_train_counts)\\nprint(X_train_hashed)\";\n",
       "                var nbb_cells = Jupyter.notebook.get_cells();\n",
       "                for (var i = 0; i < nbb_cells.length; ++i) {\n",
       "                    if (nbb_cells[i].input_prompt_number == nbb_cell_id) {\n",
       "                        if (nbb_cells[i].get_text() == nbb_unformatted_code) {\n",
       "                             nbb_cells[i].set_text(nbb_formatted_code);\n",
       "                        }\n",
       "                        break;\n",
       "                    }\n",
       "                }\n",
       "            }, 500);\n",
       "            "
      ],
      "text/plain": [
       "<IPython.core.display.Javascript object>"
      ]
     },
     "metadata": {},
     "output_type": "display_data"
    }
   ],
   "source": [
    "from sklearn.feature_extraction.text import HashingVectorizer\n",
    "from sklearn.feature_extraction.text import TfidfTransformer\n",
    "\n",
    "cv = HashingVectorizer()\n",
    "X_train_counts = cv.fit_transform(df[\"plot\"])\n",
    "tf_transformer = TfidfTransformer(use_idf=True).fit(X_train_counts)\n",
    "X_train_hashed = tf_transformer.transform(X_train_counts)\n",
    "print(X_train_hashed)"
   ]
  },
  {
   "cell_type": "markdown",
   "metadata": {},
   "source": [
    "Test to see if TfidfVectorizer worked as expected"
   ]
  },
  {
   "cell_type": "markdown",
   "metadata": {},
   "source": [
    "#### Visualizing the embeddings\n"
   ]
  },
  {
   "cell_type": "code",
   "execution_count": 22,
   "metadata": {},
   "outputs": [
    {
     "data": {
      "application/javascript": [
       "\n",
       "            setTimeout(function() {\n",
       "                var nbb_cell_id = 22;\n",
       "                var nbb_unformatted_code = \"# X_counts = train_counts\\nX_tfidf = train_tfidf\\ny = df[\\\"oscar_nom\\\"].values\";\n",
       "                var nbb_formatted_code = \"# X_counts = train_counts\\nX_tfidf = train_tfidf\\ny = df[\\\"oscar_nom\\\"].values\";\n",
       "                var nbb_cells = Jupyter.notebook.get_cells();\n",
       "                for (var i = 0; i < nbb_cells.length; ++i) {\n",
       "                    if (nbb_cells[i].input_prompt_number == nbb_cell_id) {\n",
       "                        if (nbb_cells[i].get_text() == nbb_unformatted_code) {\n",
       "                             nbb_cells[i].set_text(nbb_formatted_code);\n",
       "                        }\n",
       "                        break;\n",
       "                    }\n",
       "                }\n",
       "            }, 500);\n",
       "            "
      ],
      "text/plain": [
       "<IPython.core.display.Javascript object>"
      ]
     },
     "metadata": {},
     "output_type": "display_data"
    }
   ],
   "source": [
    "X_tfidf = train_tfidf\n",
    "y = df[\"oscar_nom\"].values"
   ]
  },
  {
   "cell_type": "markdown",
   "metadata": {},
   "source": [
    "Dimensionality reduction using truncated SVD (aka LSA).\n",
    "\n",
    "This transformer performs linear dimensionality reduction by means of truncated singular value decomposition (SVD). \n",
    "\n",
    "Contrary to PCA, this estimator does not center the data before computing the singular value decomposition. This means it can work with scipy.sparse matrices efficiently."
   ]
  },
  {
   "cell_type": "code",
   "execution_count": 23,
   "metadata": {},
   "outputs": [
    {
     "data": {
      "application/javascript": [
       "\n",
       "            setTimeout(function() {\n",
       "                var nbb_cell_id = 23;\n",
       "                var nbb_unformatted_code = \"from sklearn.decomposition import PCA, TruncatedSVD\\nimport matplotlib\\nimport matplotlib.patches as mpatches\\n\\n\\ndef plot_LSA(test_data, test_labels, plot=True):\\n    lsa = TruncatedSVD(n_components=2)\\n    lsa.fit(test_data)\\n    lsa_scores = lsa.transform(test_data)\\n    color_mapper = {label: idx for idx, label in enumerate(set(test_labels))}\\n    color_column = [color_mapper[label] for label in test_labels]\\n    colors = [\\\"orange\\\", \\\"blue\\\", \\\"blue\\\"]\\n    if plot:\\n        plt.scatter(\\n            lsa_scores[:, 0],\\n            lsa_scores[:, 1],\\n            s=8,\\n            alpha=0.8,\\n            c=test_labels,\\n            cmap=matplotlib.colors.ListedColormap(colors),\\n        )\\n        red_patch = mpatches.Patch(color=\\\"orange\\\", label=\\\"no oscar nomination\\\")\\n        green_patch = mpatches.Patch(color=\\\"blue\\\", label=\\\"oscar nomination\\\")\\n        plt.legend(handles=[red_patch, green_patch], prop={\\\"size\\\": 16})\";\n",
       "                var nbb_formatted_code = \"from sklearn.decomposition import PCA, TruncatedSVD\\nimport matplotlib\\nimport matplotlib.patches as mpatches\\n\\n\\ndef plot_LSA(test_data, test_labels, plot=True):\\n    lsa = TruncatedSVD(n_components=2)\\n    lsa.fit(test_data)\\n    lsa_scores = lsa.transform(test_data)\\n    color_mapper = {label: idx for idx, label in enumerate(set(test_labels))}\\n    color_column = [color_mapper[label] for label in test_labels]\\n    colors = [\\\"orange\\\", \\\"blue\\\", \\\"blue\\\"]\\n    if plot:\\n        plt.scatter(\\n            lsa_scores[:, 0],\\n            lsa_scores[:, 1],\\n            s=8,\\n            alpha=0.8,\\n            c=test_labels,\\n            cmap=matplotlib.colors.ListedColormap(colors),\\n        )\\n        red_patch = mpatches.Patch(color=\\\"orange\\\", label=\\\"no oscar nomination\\\")\\n        green_patch = mpatches.Patch(color=\\\"blue\\\", label=\\\"oscar nomination\\\")\\n        plt.legend(handles=[red_patch, green_patch], prop={\\\"size\\\": 16})\";\n",
       "                var nbb_cells = Jupyter.notebook.get_cells();\n",
       "                for (var i = 0; i < nbb_cells.length; ++i) {\n",
       "                    if (nbb_cells[i].input_prompt_number == nbb_cell_id) {\n",
       "                        if (nbb_cells[i].get_text() == nbb_unformatted_code) {\n",
       "                             nbb_cells[i].set_text(nbb_formatted_code);\n",
       "                        }\n",
       "                        break;\n",
       "                    }\n",
       "                }\n",
       "            }, 500);\n",
       "            "
      ],
      "text/plain": [
       "<IPython.core.display.Javascript object>"
      ]
     },
     "metadata": {},
     "output_type": "display_data"
    }
   ],
   "source": [
    "from sklearn.decomposition import PCA, TruncatedSVD\n",
    "import matplotlib\n",
    "import matplotlib.patches as mpatches\n",
    "\n",
    "\n",
    "def plot_LSA(test_data, test_labels, plot=True):\n",
    "    lsa = TruncatedSVD(n_components=2)\n",
    "    lsa.fit(test_data)\n",
    "    lsa_scores = lsa.transform(test_data)\n",
    "    color_mapper = {label: idx for idx, label in enumerate(set(test_labels))}\n",
    "    color_column = [color_mapper[label] for label in test_labels]\n",
    "    colors = [\"orange\", \"blue\", \"blue\"]\n",
    "    if plot:\n",
    "        plt.scatter(\n",
    "            lsa_scores[:, 0],\n",
    "            lsa_scores[:, 1],\n",
    "            s=8,\n",
    "            alpha=0.8,\n",
    "            c=test_labels,\n",
    "            cmap=matplotlib.colors.ListedColormap(colors),\n",
    "        )\n",
    "        red_patch = mpatches.Patch(color=\"orange\", label=\"no oscar nomination\")\n",
    "        green_patch = mpatches.Patch(color=\"blue\", label=\"oscar nomination\")\n",
    "        plt.legend(handles=[red_patch, green_patch], prop={\"size\": 16})\n"
   ]
  },
  {
   "cell_type": "code",
   "execution_count": 24,
   "metadata": {
    "scrolled": false
   },
   "outputs": [
    {
     "data": {
      "image/png": "[encoded data removed]",
      "text/plain": [
       "<Figure size 1152x864 with 1 Axes>"
      ]
     },
     "metadata": {
      "needs_background": "light"
     },
     "output_type": "display_data"
    },
    {
     "data": {
      "application/javascript": [
       "\n",
       "            setTimeout(function() {\n",
       "                var nbb_cell_id = 24;\n",
       "                var nbb_unformatted_code = \"plt.figure(1, figsize=(16, 12))\\nplt.subplot(2, 1, 1)\\n# plot_LSA(X_counts, y)\\n# plt.subplot(2, 1, 2)\\nplot_LSA(X_tfidf, y)\";\n",
       "                var nbb_formatted_code = \"plt.figure(1, figsize=(16, 12))\\nplt.subplot(2, 1, 1)\\n# plot_LSA(X_counts, y)\\n# plt.subplot(2, 1, 2)\\nplot_LSA(X_tfidf, y)\";\n",
       "                var nbb_cells = Jupyter.notebook.get_cells();\n",
       "                for (var i = 0; i < nbb_cells.length; ++i) {\n",
       "                    if (nbb_cells[i].input_prompt_number == nbb_cell_id) {\n",
       "                        if (nbb_cells[i].get_text() == nbb_unformatted_code) {\n",
       "                             nbb_cells[i].set_text(nbb_formatted_code);\n",
       "                        }\n",
       "                        break;\n",
       "                    }\n",
       "                }\n",
       "            }, 500);\n",
       "            "
      ],
      "text/plain": [
       "<IPython.core.display.Javascript object>"
      ]
     },
     "metadata": {},
     "output_type": "display_data"
    }
   ],
   "source": [
    "plt.figure(1, figsize=(16, 12))\n",
    "plt.subplot(2, 1, 1)\n",
    "# plot_LSA(X_counts, y)\n",
    "# plt.subplot(2, 1, 2)\n",
    "plot_LSA(X_tfidf, y)"
   ]
  },
  {
   "cell_type": "markdown",
   "metadata": {},
   "source": [
    "TF IDF in this situation has better linearly separable classes."
   ]
  },
  {
   "cell_type": "markdown",
   "metadata": {},
   "source": [
    "### Basic Logistic Regression"
   ]
  },
  {
   "cell_type": "code",
   "execution_count": 25,
   "metadata": {},
   "outputs": [
    {
     "data": {
      "application/javascript": [
       "\n",
       "            setTimeout(function() {\n",
       "                var nbb_cell_id = 25;\n",
       "                var nbb_unformatted_code = \"from sklearn.linear_model import LogisticRegression\\nfrom sklearn.model_selection import train_test_split\\nfrom sklearn.metrics import f1_score\";\n",
       "                var nbb_formatted_code = \"from sklearn.linear_model import LogisticRegression\\nfrom sklearn.model_selection import train_test_split\\nfrom sklearn.metrics import f1_score\";\n",
       "                var nbb_cells = Jupyter.notebook.get_cells();\n",
       "                for (var i = 0; i < nbb_cells.length; ++i) {\n",
       "                    if (nbb_cells[i].input_prompt_number == nbb_cell_id) {\n",
       "                        if (nbb_cells[i].get_text() == nbb_unformatted_code) {\n",
       "                             nbb_cells[i].set_text(nbb_formatted_code);\n",
       "                        }\n",
       "                        break;\n",
       "                    }\n",
       "                }\n",
       "            }, 500);\n",
       "            "
      ],
      "text/plain": [
       "<IPython.core.display.Javascript object>"
      ]
     },
     "metadata": {},
     "output_type": "display_data"
    }
   ],
   "source": [
    "from sklearn.linear_model import LogisticRegression\n",
    "from sklearn.model_selection import train_test_split\n",
    "from sklearn.metrics import f1_score"
   ]
  },
  {
   "cell_type": "markdown",
   "metadata": {},
   "source": [
    "#### With TfidfVectorizer"
   ]
  },
  {
   "cell_type": "code",
   "execution_count": 112,
   "metadata": {},
   "outputs": [
    {
     "ename": "ValueError",
     "evalue": "Found input variables with inconsistent numbers of samples: [5004, 6256]",
     "output_type": "error",
     "traceback": [
      "\u001b[0;31m---------------------------------------------------------------------------\u001b[0m",
      "\u001b[0;31mValueError\u001b[0m                                Traceback (most recent call last)",
      "\u001b[0;32m<ipython-input-112-2c4c7e7f0610>\u001b[0m in \u001b[0;36m<module>\u001b[0;34m\u001b[0m\n\u001b[1;32m      3\u001b[0m \u001b[0;34m\u001b[0m\u001b[0m\n\u001b[1;32m      4\u001b[0m X_train_tfidf, X_test, y_train_tfidf, y_test = train_test_split(\n\u001b[0;32m----> 5\u001b[0;31m     \u001b[0mX\u001b[0m\u001b[0;34m,\u001b[0m \u001b[0my\u001b[0m\u001b[0;34m,\u001b[0m \u001b[0mtest_size\u001b[0m\u001b[0;34m=\u001b[0m\u001b[0;36m0.2\u001b[0m\u001b[0;34m,\u001b[0m \u001b[0mrandom_state\u001b[0m\u001b[0;34m=\u001b[0m\u001b[0;36m2020\u001b[0m\u001b[0;34m\u001b[0m\u001b[0;34m\u001b[0m\u001b[0m\n\u001b[0m\u001b[1;32m      6\u001b[0m )\n\u001b[1;32m      7\u001b[0m \u001b[0;34m\u001b[0m\u001b[0m\n",
      "\u001b[0;32m/opt/anaconda3/envs/PythonAdv/lib/python3.6/site-packages/sklearn/model_selection/_split.py\u001b[0m in \u001b[0;36mtrain_test_split\u001b[0;34m(test_size, train_size, random_state, shuffle, stratify, *arrays)\u001b[0m\n\u001b[1;32m   2170\u001b[0m         \u001b[0;32mraise\u001b[0m \u001b[0mValueError\u001b[0m\u001b[0;34m(\u001b[0m\u001b[0;34m\"At least one array required as input\"\u001b[0m\u001b[0;34m)\u001b[0m\u001b[0;34m\u001b[0m\u001b[0;34m\u001b[0m\u001b[0m\n\u001b[1;32m   2171\u001b[0m \u001b[0;34m\u001b[0m\u001b[0m\n\u001b[0;32m-> 2172\u001b[0;31m     \u001b[0marrays\u001b[0m \u001b[0;34m=\u001b[0m \u001b[0mindexable\u001b[0m\u001b[0;34m(\u001b[0m\u001b[0;34m*\u001b[0m\u001b[0marrays\u001b[0m\u001b[0;34m)\u001b[0m\u001b[0;34m\u001b[0m\u001b[0;34m\u001b[0m\u001b[0m\n\u001b[0m\u001b[1;32m   2173\u001b[0m \u001b[0;34m\u001b[0m\u001b[0m\n\u001b[1;32m   2174\u001b[0m     \u001b[0mn_samples\u001b[0m \u001b[0;34m=\u001b[0m \u001b[0m_num_samples\u001b[0m\u001b[0;34m(\u001b[0m\u001b[0marrays\u001b[0m\u001b[0;34m[\u001b[0m\u001b[0;36m0\u001b[0m\u001b[0;34m]\u001b[0m\u001b[0;34m)\u001b[0m\u001b[0;34m\u001b[0m\u001b[0;34m\u001b[0m\u001b[0m\n",
      "\u001b[0;32m/opt/anaconda3/envs/PythonAdv/lib/python3.6/site-packages/sklearn/utils/validation.py\u001b[0m in \u001b[0;36mindexable\u001b[0;34m(*iterables)\u001b[0m\n\u001b[1;32m    297\u001b[0m     \"\"\"\n\u001b[1;32m    298\u001b[0m     \u001b[0mresult\u001b[0m \u001b[0;34m=\u001b[0m \u001b[0;34m[\u001b[0m\u001b[0m_make_indexable\u001b[0m\u001b[0;34m(\u001b[0m\u001b[0mX\u001b[0m\u001b[0;34m)\u001b[0m \u001b[0;32mfor\u001b[0m \u001b[0mX\u001b[0m \u001b[0;32min\u001b[0m \u001b[0miterables\u001b[0m\u001b[0;34m]\u001b[0m\u001b[0;34m\u001b[0m\u001b[0;34m\u001b[0m\u001b[0m\n\u001b[0;32m--> 299\u001b[0;31m     \u001b[0mcheck_consistent_length\u001b[0m\u001b[0;34m(\u001b[0m\u001b[0;34m*\u001b[0m\u001b[0mresult\u001b[0m\u001b[0;34m)\u001b[0m\u001b[0;34m\u001b[0m\u001b[0;34m\u001b[0m\u001b[0m\n\u001b[0m\u001b[1;32m    300\u001b[0m     \u001b[0;32mreturn\u001b[0m \u001b[0mresult\u001b[0m\u001b[0;34m\u001b[0m\u001b[0;34m\u001b[0m\u001b[0m\n\u001b[1;32m    301\u001b[0m \u001b[0;34m\u001b[0m\u001b[0m\n",
      "\u001b[0;32m/opt/anaconda3/envs/PythonAdv/lib/python3.6/site-packages/sklearn/utils/validation.py\u001b[0m in \u001b[0;36mcheck_consistent_length\u001b[0;34m(*arrays)\u001b[0m\n\u001b[1;32m    261\u001b[0m     \u001b[0;32mif\u001b[0m \u001b[0mlen\u001b[0m\u001b[0;34m(\u001b[0m\u001b[0muniques\u001b[0m\u001b[0;34m)\u001b[0m \u001b[0;34m>\u001b[0m \u001b[0;36m1\u001b[0m\u001b[0;34m:\u001b[0m\u001b[0;34m\u001b[0m\u001b[0;34m\u001b[0m\u001b[0m\n\u001b[1;32m    262\u001b[0m         raise ValueError(\"Found input variables with inconsistent numbers of\"\n\u001b[0;32m--> 263\u001b[0;31m                          \" samples: %r\" % [int(l) for l in lengths])\n\u001b[0m\u001b[1;32m    264\u001b[0m \u001b[0;34m\u001b[0m\u001b[0m\n\u001b[1;32m    265\u001b[0m \u001b[0;34m\u001b[0m\u001b[0m\n",
      "\u001b[0;31mValueError\u001b[0m: Found input variables with inconsistent numbers of samples: [5004, 6256]"
     ]
    },
    {
     "data": {
      "application/javascript": [
       "\n",
       "            setTimeout(function() {\n",
       "                var nbb_cell_id = 112;\n",
       "                var nbb_unformatted_code = \"X = X_train_tfidf\\ny = df[\\\"oscar_nom\\\"].values.reshape(-1, 1)\\n\\nX_train_tfidf, X_test, y_train_tfidf, y_test = train_test_split(\\n    X, y, test_size=0.2, random_state=2020\\n)\\n\\nmodel = LogisticRegression(class_weight=\\\"balanced\\\")\\nmodel.fit(X_train_tfidf, y_train_tfidf)\\n\\ny_pred = model.predict(X_test)\\n\\nfrom sklearn import metrics\\n\\nprint(metrics.classification_report(y_test, y_pred))\\nmetrics.confusion_matrix(y_test, y_pred)\";\n",
       "                var nbb_formatted_code = \"X = X_train_tfidf\\ny = df[\\\"oscar_nom\\\"].values.reshape(-1, 1)\\n\\nX_train_tfidf, X_test, y_train_tfidf, y_test = train_test_split(\\n    X, y, test_size=0.2, random_state=2020\\n)\\n\\nmodel = LogisticRegression(class_weight=\\\"balanced\\\")\\nmodel.fit(X_train_tfidf, y_train_tfidf)\\n\\ny_pred = model.predict(X_test)\\n\\nfrom sklearn import metrics\\n\\nprint(metrics.classification_report(y_test, y_pred))\\nmetrics.confusion_matrix(y_test, y_pred)\";\n",
       "                var nbb_cells = Jupyter.notebook.get_cells();\n",
       "                for (var i = 0; i < nbb_cells.length; ++i) {\n",
       "                    if (nbb_cells[i].input_prompt_number == nbb_cell_id) {\n",
       "                        if (nbb_cells[i].get_text() == nbb_unformatted_code) {\n",
       "                             nbb_cells[i].set_text(nbb_formatted_code);\n",
       "                        }\n",
       "                        break;\n",
       "                    }\n",
       "                }\n",
       "            }, 500);\n",
       "            "
      ],
      "text/plain": [
       "<IPython.core.display.Javascript object>"
      ]
     },
     "metadata": {},
     "output_type": "display_data"
    }
   ],
   "source": [
    "X = X_train_tfidf\n",
    "y = df[\"oscar_nom\"].values.reshape(-1, 1)\n",
    "\n",
    "X_train_tfidf, X_test, y_train_tfidf, y_test = train_test_split(\n",
    "    X, y, test_size=0.2, random_state=2020\n",
    ")\n",
    "\n",
    "model = LogisticRegression(class_weight=\"balanced\")\n",
    "model.fit(X_train_tfidf, y_train_tfidf)\n",
    "\n",
    "y_pred = model.predict(X_test)\n",
    "\n",
    "from sklearn import metrics\n",
    "\n",
    "print(metrics.classification_report(y_test, y_pred))\n",
    "metrics.confusion_matrix(y_test, y_pred)"
   ]
  },
  {
   "cell_type": "markdown",
   "metadata": {},
   "source": [
    "#### With hashed vector and tf id transformer"
   ]
  },
  {
   "cell_type": "code",
   "execution_count": 113,
   "metadata": {},
   "outputs": [
    {
     "name": "stderr",
     "output_type": "stream",
     "text": [
      "/opt/anaconda3/envs/PythonAdv/lib/python3.6/site-packages/sklearn/utils/validation.py:63: DataConversionWarning: A column-vector y was passed when a 1d array was expected. Please change the shape of y to (n_samples, ), for example using ravel().\n",
      "  return f(*args, **kwargs)\n"
     ]
    },
    {
     "name": "stdout",
     "output_type": "stream",
     "text": [
      "              precision    recall  f1-score   support\n",
      "\n",
      "           0       0.87      0.89      0.88      1062\n",
      "           1       0.28      0.23      0.25       190\n",
      "\n",
      "    accuracy                           0.79      1252\n",
      "   macro avg       0.57      0.56      0.57      1252\n",
      "weighted avg       0.78      0.79      0.78      1252\n",
      "\n"
     ]
    },
    {
     "data": {
      "text/plain": [
       "array([[947, 115],\n",
       "       [146,  44]])"
      ]
     },
     "execution_count": 113,
     "metadata": {},
     "output_type": "execute_result"
    },
    {
     "data": {
      "application/javascript": [
       "\n",
       "            setTimeout(function() {\n",
       "                var nbb_cell_id = 113;\n",
       "                var nbb_unformatted_code = \"X = X_train_hashed\\ny = df[\\\"oscar_nom\\\"].values.reshape(-1, 1)\\n\\nX_train_tfidf, X_test, y_train_tfidf, y_test = train_test_split(\\n    X, y, test_size=0.2, random_state=2020\\n)\\n\\nmodel = LogisticRegression(class_weight=\\\"balanced\\\")\\nmodel.fit(X_train_tfidf, y_train_tfidf)\\n\\ny_pred = model.predict(X_test)\\n\\nfrom sklearn import metrics\\n\\nprint(metrics.classification_report(y_test, y_pred))\\nmetrics.confusion_matrix(y_test, y_pred)\";\n",
       "                var nbb_formatted_code = \"X = X_train_hashed\\ny = df[\\\"oscar_nom\\\"].values.reshape(-1, 1)\\n\\nX_train_tfidf, X_test, y_train_tfidf, y_test = train_test_split(\\n    X, y, test_size=0.2, random_state=2020\\n)\\n\\nmodel = LogisticRegression(class_weight=\\\"balanced\\\")\\nmodel.fit(X_train_tfidf, y_train_tfidf)\\n\\ny_pred = model.predict(X_test)\\n\\nfrom sklearn import metrics\\n\\nprint(metrics.classification_report(y_test, y_pred))\\nmetrics.confusion_matrix(y_test, y_pred)\";\n",
       "                var nbb_cells = Jupyter.notebook.get_cells();\n",
       "                for (var i = 0; i < nbb_cells.length; ++i) {\n",
       "                    if (nbb_cells[i].input_prompt_number == nbb_cell_id) {\n",
       "                        if (nbb_cells[i].get_text() == nbb_unformatted_code) {\n",
       "                             nbb_cells[i].set_text(nbb_formatted_code);\n",
       "                        }\n",
       "                        break;\n",
       "                    }\n",
       "                }\n",
       "            }, 500);\n",
       "            "
      ],
      "text/plain": [
       "<IPython.core.display.Javascript object>"
      ]
     },
     "metadata": {},
     "output_type": "display_data"
    }
   ],
   "source": [
    "X = X_train_hashed\n",
    "y = df[\"oscar_nom\"].values.reshape(-1, 1)\n",
    "\n",
    "X_train_tfidf, X_test, y_train_tfidf, y_test = train_test_split(\n",
    "    X, y, test_size=0.2, random_state=2020\n",
    ")\n",
    "\n",
    "model = LogisticRegression(class_weight=\"balanced\")\n",
    "model.fit(X_train_tfidf, y_train_tfidf)\n",
    "\n",
    "y_pred = model.predict(X_test)\n",
    "\n",
    "from sklearn import metrics\n",
    "\n",
    "print(metrics.classification_report(y_test, y_pred))\n",
    "metrics.confusion_matrix(y_test, y_pred)\n"
   ]
  },
  {
   "cell_type": "code",
   "execution_count": 110,
   "metadata": {},
   "outputs": [
    {
     "name": "stderr",
     "output_type": "stream",
     "text": [
      "/opt/anaconda3/envs/PythonAdv/lib/python3.6/site-packages/sklearn/utils/validation.py:63: DataConversionWarning: A column-vector y was passed when a 1d array was expected. Please change the shape of y to (n_samples, ), for example using ravel().\n",
      "  return f(*args, **kwargs)\n"
     ]
    },
    {
     "name": "stdout",
     "output_type": "stream",
     "text": [
      "              precision    recall  f1-score   support\n",
      "\n",
      "           0       0.85      1.00      0.92      1062\n",
      "           1       0.00      0.00      0.00       190\n",
      "\n",
      "    accuracy                           0.85      1252\n",
      "   macro avg       0.42      0.50      0.46      1252\n",
      "weighted avg       0.72      0.85      0.78      1252\n",
      "\n"
     ]
    },
    {
     "name": "stderr",
     "output_type": "stream",
     "text": [
      "/opt/anaconda3/envs/PythonAdv/lib/python3.6/site-packages/sklearn/metrics/_classification.py:1245: UndefinedMetricWarning: Precision and F-score are ill-defined and being set to 0.0 in labels with no predicted samples. Use `zero_division` parameter to control this behavior.\n",
      "  _warn_prf(average, modifier, msg_start, len(result))\n",
      "/opt/anaconda3/envs/PythonAdv/lib/python3.6/site-packages/sklearn/metrics/_classification.py:1245: UndefinedMetricWarning: Precision and F-score are ill-defined and being set to 0.0 in labels with no predicted samples. Use `zero_division` parameter to control this behavior.\n",
      "  _warn_prf(average, modifier, msg_start, len(result))\n",
      "/opt/anaconda3/envs/PythonAdv/lib/python3.6/site-packages/sklearn/metrics/_classification.py:1245: UndefinedMetricWarning: Precision and F-score are ill-defined and being set to 0.0 in labels with no predicted samples. Use `zero_division` parameter to control this behavior.\n",
      "  _warn_prf(average, modifier, msg_start, len(result))\n"
     ]
    },
    {
     "data": {
      "text/plain": [
       "array([[1062,    0],\n",
       "       [ 190,    0]])"
      ]
     },
     "execution_count": 110,
     "metadata": {},
     "output_type": "execute_result"
    },
    {
     "data": {
      "application/javascript": [
       "\n",
       "            setTimeout(function() {\n",
       "                var nbb_cell_id = 110;\n",
       "                var nbb_unformatted_code = \"X = X_train_tfidf\\ny = df[\\\"oscar_nom\\\"].values.reshape(-1, 1)\\n\\nX_train_tfidf, X_test, y_train_tfidf, y_test = train_test_split(\\n    X, y, test_size=0.2, random_state=2020\\n)\\n\\nmodel = LogisticRegression(class_weight=\\\"balanced\\\")\\nmodel.fit(X_train_tfidf, y_train_tfidf)\\n\\ny_pred = model.predict(X_test)\\n\\nfrom sklearn import metrics\\n\\nprint(metrics.classification_report(y_test, y_pred))\\nmetrics.confusion_matrix(y_test, y_pred)\";\n",
       "                var nbb_formatted_code = \"X = X_train_tfidf\\ny = df[\\\"oscar_nom\\\"].values.reshape(-1, 1)\\n\\nX_train_tfidf, X_test, y_train_tfidf, y_test = train_test_split(\\n    X, y, test_size=0.2, random_state=2020\\n)\\n\\nmodel = LogisticRegression(class_weight=\\\"balanced\\\")\\nmodel.fit(X_train_tfidf, y_train_tfidf)\\n\\ny_pred = model.predict(X_test)\\n\\nfrom sklearn import metrics\\n\\nprint(metrics.classification_report(y_test, y_pred))\\nmetrics.confusion_matrix(y_test, y_pred)\";\n",
       "                var nbb_cells = Jupyter.notebook.get_cells();\n",
       "                for (var i = 0; i < nbb_cells.length; ++i) {\n",
       "                    if (nbb_cells[i].input_prompt_number == nbb_cell_id) {\n",
       "                        if (nbb_cells[i].get_text() == nbb_unformatted_code) {\n",
       "                             nbb_cells[i].set_text(nbb_formatted_code);\n",
       "                        }\n",
       "                        break;\n",
       "                    }\n",
       "                }\n",
       "            }, 500);\n",
       "            "
      ],
      "text/plain": [
       "<IPython.core.display.Javascript object>"
      ]
     },
     "metadata": {},
     "output_type": "display_data"
    }
   ],
   "source": [
    "X = X_train_tfidf\n",
    "y = df[\"oscar_nom\"].values.reshape(-1, 1)\n",
    "\n",
    "X_train_tfidf, X_test, y_train_tfidf, y_test = train_test_split(\n",
    "    X, y, test_size=0.2, random_state=2020\n",
    ")\n",
    "\n",
    "model = LogisticRegression(class_weight=\"balanced\")\n",
    "model.fit(X_train_tfidf, y_train_tfidf)\n",
    "\n",
    "y_pred = model.predict(X_test)\n",
    "\n",
    "from sklearn import metrics\n",
    "\n",
    "print(metrics.classification_report(y_test, y_pred))\n",
    "metrics.confusion_matrix(y_test, y_pred)\n"
   ]
  },
  {
   "cell_type": "code",
   "execution_count": null,
   "metadata": {},
   "outputs": [],
   "source": []
  },
  {
   "cell_type": "code",
   "execution_count": null,
   "metadata": {},
   "outputs": [],
   "source": []
  },
  {
   "cell_type": "code",
   "execution_count": null,
   "metadata": {},
   "outputs": [],
   "source": []
  },
  {
   "cell_type": "code",
   "execution_count": null,
   "metadata": {},
   "outputs": [],
   "source": []
  }
 ],
 "metadata": {
  "kernelspec": {
   "display_name": "Python [conda env:PythonAdv] *",
   "language": "python",
   "name": "conda-env-PythonAdv-py"
  },
  "language_info": {
   "codemirror_mode": {
    "name": "ipython",
    "version": 3
   },
   "file_extension": ".py",
   "mimetype": "text/x-python",
   "name": "python",
   "nbconvert_exporter": "python",
   "pygments_lexer": "ipython3",
   "version": "3.6.13"
  }
 },
 "nbformat": 4,
 "nbformat_minor": 4
}
