{
 "cells": [
  {
   "cell_type": "markdown",
   "metadata": {},
   "source": [
    "Each sample in the train and test set has the following information:\n",
    "\n",
    "- The text of a tweet\n",
    "- A keyword from that tweet (although this may be blank!)\n",
    "- The location the tweet was sent from (may also be blank)\n",
    "\n",
    "We are predicting whether a given tweet is about a real disaster or not. If so, predict a 1. If not, predict a 0.\n",
    "\n",
    "\n",
    "More details about the competition here:\n",
    "https://www.kaggle.com/c/nlp-getting-started"
   ]
  },
  {
   "cell_type": "code",
   "execution_count": 1,
   "metadata": {},
   "outputs": [
    {
     "data": {
      "application/javascript": [
       "\n",
       "            setTimeout(function() {\n",
       "                var nbb_cell_id = 1;\n",
       "                var nbb_unformatted_code = \"from IPython.core.debugger import set_trace\\n\\n%load_ext nb_black\\n\\nimport pandas as pd\\nimport numpy as np\\nimport os\\nimport matplotlib.pyplot as plt\\nimport time\\n\\nplt.style.use(style=\\\"seaborn\\\")\\n%matplotlib inline\";\n",
       "                var nbb_formatted_code = \"from IPython.core.debugger import set_trace\\n\\n%load_ext nb_black\\n\\nimport pandas as pd\\nimport numpy as np\\nimport os\\nimport matplotlib.pyplot as plt\\nimport time\\n\\nplt.style.use(style=\\\"seaborn\\\")\\n%matplotlib inline\";\n",
       "                var nbb_cells = Jupyter.notebook.get_cells();\n",
       "                for (var i = 0; i < nbb_cells.length; ++i) {\n",
       "                    if (nbb_cells[i].input_prompt_number == nbb_cell_id) {\n",
       "                        if (nbb_cells[i].get_text() == nbb_unformatted_code) {\n",
       "                             nbb_cells[i].set_text(nbb_formatted_code);\n",
       "                        }\n",
       "                        break;\n",
       "                    }\n",
       "                }\n",
       "            }, 500);\n",
       "            "
      ],
      "text/plain": [
       "<IPython.core.display.Javascript object>"
      ]
     },
     "metadata": {},
     "output_type": "display_data"
    }
   ],
   "source": [
    "from IPython.core.debugger import set_trace\n",
    "\n",
    "%load_ext nb_black\n",
    "\n",
    "import pandas as pd\n",
    "import numpy as np\n",
    "import os\n",
    "import matplotlib.pyplot as plt\n",
    "import time\n",
    "\n",
    "plt.style.use(style=\"seaborn\")\n",
    "%matplotlib inline"
   ]
  },
  {
   "cell_type": "code",
   "execution_count": 2,
   "metadata": {},
   "outputs": [
    {
     "data": {
      "text/html": [
       "<div>\n",
       "<style scoped>\n",
       "    .dataframe tbody tr th:only-of-type {\n",
       "        vertical-align: middle;\n",
       "    }\n",
       "\n",
       "    .dataframe tbody tr th {\n",
       "        vertical-align: top;\n",
       "    }\n",
       "\n",
       "    .dataframe thead th {\n",
       "        text-align: right;\n",
       "    }\n",
       "</style>\n",
       "<table border=\"1\" class=\"dataframe\">\n",
       "  <thead>\n",
       "    <tr style=\"text-align: right;\">\n",
       "      <th></th>\n",
       "      <th>name</th>\n",
       "      <th>plot</th>\n",
       "      <th>oscar_nom</th>\n",
       "    </tr>\n",
       "  </thead>\n",
       "  <tbody>\n",
       "    <tr>\n",
       "      <th>0</th>\n",
       "      <td>Gold</td>\n",
       "      <td>With the sudden death of his father, fourth-ge...</td>\n",
       "      <td>0</td>\n",
       "    </tr>\n",
       "    <tr>\n",
       "      <th>1</th>\n",
       "      <td>The Choice</td>\n",
       "      <td>In a small coastal town, the veterinarian Trav...</td>\n",
       "      <td>0</td>\n",
       "    </tr>\n",
       "    <tr>\n",
       "      <th>2</th>\n",
       "      <td>Middle School: The Worst Years of My Life</td>\n",
       "      <td>Imaginative quiet teenager Rafe Katchadorian i...</td>\n",
       "      <td>0</td>\n",
       "    </tr>\n",
       "    <tr>\n",
       "      <th>3</th>\n",
       "      <td>Midnight Special</td>\n",
       "      <td>Alton Meyer is a boy unlike any other in the w...</td>\n",
       "      <td>0</td>\n",
       "    </tr>\n",
       "    <tr>\n",
       "      <th>4</th>\n",
       "      <td>A Monster Calls</td>\n",
       "      <td>The monster does not come walking often. This ...</td>\n",
       "      <td>0</td>\n",
       "    </tr>\n",
       "  </tbody>\n",
       "</table>\n",
       "</div>"
      ],
      "text/plain": [
       "                                        name  \\\n",
       "0                                       Gold   \n",
       "1                                 The Choice   \n",
       "2  Middle School: The Worst Years of My Life   \n",
       "3                           Midnight Special   \n",
       "4                            A Monster Calls   \n",
       "\n",
       "                                                plot  oscar_nom  \n",
       "0  With the sudden death of his father, fourth-ge...          0  \n",
       "1  In a small coastal town, the veterinarian Trav...          0  \n",
       "2  Imaginative quiet teenager Rafe Katchadorian i...          0  \n",
       "3  Alton Meyer is a boy unlike any other in the w...          0  \n",
       "4  The monster does not come walking often. This ...          0  "
      ]
     },
     "execution_count": 2,
     "metadata": {},
     "output_type": "execute_result"
    },
    {
     "data": {
      "application/javascript": [
       "\n",
       "            setTimeout(function() {\n",
       "                var nbb_cell_id = 2;\n",
       "                var nbb_unformatted_code = \"movies = pd.read_csv(\\n    \\\"https://data-bootcamp-ztc.s3.amazonaws.com/movies_complete_cleaned.csv\\\"\\n)\\n\\nawards = pd.read_csv(\\n    \\\"https://data-bootcamp-ztc.s3.amazonaws.com/parsed_awards_table.csv\\\"\\n)\\n\\nmovies_sel = movies[[\\\"name\\\", \\\"plot\\\"]]\\n\\nawards_sel = awards[[\\\"name\\\", \\\"oscar wins and nominations\\\"]]\\n\\ndf = pd.merge(movies_sel, awards_sel, how=\\\"right\\\", on=\\\"name\\\")\\n\\ndf[\\\"oscar_nom\\\"] = [1 if x != 0 else 0 for x in df[\\\"oscar wins and nominations\\\"]]\\n\\ndf = df[[\\\"name\\\", \\\"plot\\\", \\\"oscar_nom\\\"]]\\n\\ndf[\\\"plot\\\"].fillna(\\\"\\\", inplace=True)\\n\\ndf.head()\";\n",
       "                var nbb_formatted_code = \"movies = pd.read_csv(\\n    \\\"https://data-bootcamp-ztc.s3.amazonaws.com/movies_complete_cleaned.csv\\\"\\n)\\n\\nawards = pd.read_csv(\\n    \\\"https://data-bootcamp-ztc.s3.amazonaws.com/parsed_awards_table.csv\\\"\\n)\\n\\nmovies_sel = movies[[\\\"name\\\", \\\"plot\\\"]]\\n\\nawards_sel = awards[[\\\"name\\\", \\\"oscar wins and nominations\\\"]]\\n\\ndf = pd.merge(movies_sel, awards_sel, how=\\\"right\\\", on=\\\"name\\\")\\n\\ndf[\\\"oscar_nom\\\"] = [1 if x != 0 else 0 for x in df[\\\"oscar wins and nominations\\\"]]\\n\\ndf = df[[\\\"name\\\", \\\"plot\\\", \\\"oscar_nom\\\"]]\\n\\ndf[\\\"plot\\\"].fillna(\\\"\\\", inplace=True)\\n\\ndf.head()\";\n",
       "                var nbb_cells = Jupyter.notebook.get_cells();\n",
       "                for (var i = 0; i < nbb_cells.length; ++i) {\n",
       "                    if (nbb_cells[i].input_prompt_number == nbb_cell_id) {\n",
       "                        if (nbb_cells[i].get_text() == nbb_unformatted_code) {\n",
       "                             nbb_cells[i].set_text(nbb_formatted_code);\n",
       "                        }\n",
       "                        break;\n",
       "                    }\n",
       "                }\n",
       "            }, 500);\n",
       "            "
      ],
      "text/plain": [
       "<IPython.core.display.Javascript object>"
      ]
     },
     "metadata": {},
     "output_type": "display_data"
    }
   ],
   "source": [
    "movies = pd.read_csv(\n",
    "    \"https://data-bootcamp-ztc.s3.amazonaws.com/movies_complete_cleaned.csv\"\n",
    ")\n",
    "\n",
    "awards = pd.read_csv(\n",
    "    \"https://data-bootcamp-ztc.s3.amazonaws.com/parsed_awards_table.csv\"\n",
    ")\n",
    "\n",
    "movies_sel = movies[[\"name\", \"plot\"]]\n",
    "\n",
    "awards_sel = awards[[\"name\", \"oscar wins and nominations\"]]\n",
    "\n",
    "df = pd.merge(movies_sel, awards_sel, how=\"right\", on=\"name\")\n",
    "\n",
    "df[\"oscar_nom\"] = [1 if x != 0 else 0 for x in df[\"oscar wins and nominations\"]]\n",
    "\n",
    "df = df[[\"name\", \"plot\", \"oscar_nom\"]]\n",
    "\n",
    "df[\"plot\"].fillna(\"\", inplace=True)\n",
    "\n",
    "df.head()"
   ]
  },
  {
   "cell_type": "markdown",
   "metadata": {},
   "source": [
    "### N-gram analysis"
   ]
  },
  {
   "cell_type": "markdown",
   "metadata": {},
   "source": [
    "Note: zip() in conjunction with the * operator can be used to unzip a list"
   ]
  },
  {
   "cell_type": "code",
   "execution_count": 3,
   "metadata": {},
   "outputs": [
    {
     "data": {
      "application/javascript": [
       "\n",
       "            setTimeout(function() {\n",
       "                var nbb_cell_id = 3;\n",
       "                var nbb_unformatted_code = \"from nltk.corpus import stopwords\\n\\n\\ndef generate_ngrams(text, n_gram=1, stop=True):\\n    \\\"\\\"\\\"\\n    Simple n-gram generator.\\n    \\\"\\\"\\\"\\n    stop = set(stopwords.words(\\\"english\\\")) if stop else {}\\n\\n    token = [\\n        token for token in text.lower().split(\\\" \\\") if token != \\\"\\\" if token not in stop\\n    ]\\n    z = zip(*[token[i:] for i in range(n_gram)])\\n    ngrams = [\\\" \\\".join(ngram) for ngram in z]\\n\\n    return ngrams\";\n",
       "                var nbb_formatted_code = \"from nltk.corpus import stopwords\\n\\n\\ndef generate_ngrams(text, n_gram=1, stop=True):\\n    \\\"\\\"\\\"\\n    Simple n-gram generator.\\n    \\\"\\\"\\\"\\n    stop = set(stopwords.words(\\\"english\\\")) if stop else {}\\n\\n    token = [\\n        token for token in text.lower().split(\\\" \\\") if token != \\\"\\\" if token not in stop\\n    ]\\n    z = zip(*[token[i:] for i in range(n_gram)])\\n    ngrams = [\\\" \\\".join(ngram) for ngram in z]\\n\\n    return ngrams\";\n",
       "                var nbb_cells = Jupyter.notebook.get_cells();\n",
       "                for (var i = 0; i < nbb_cells.length; ++i) {\n",
       "                    if (nbb_cells[i].input_prompt_number == nbb_cell_id) {\n",
       "                        if (nbb_cells[i].get_text() == nbb_unformatted_code) {\n",
       "                             nbb_cells[i].set_text(nbb_formatted_code);\n",
       "                        }\n",
       "                        break;\n",
       "                    }\n",
       "                }\n",
       "            }, 500);\n",
       "            "
      ],
      "text/plain": [
       "<IPython.core.display.Javascript object>"
      ]
     },
     "metadata": {},
     "output_type": "display_data"
    }
   ],
   "source": [
    "from nltk.corpus import stopwords\n",
    "\n",
    "\n",
    "def generate_ngrams(text, n_gram=1, stop=True):\n",
    "    \"\"\"\n",
    "    Simple n-gram generator.\n",
    "    \"\"\"\n",
    "    stop = set(stopwords.words(\"english\")) if stop else {}\n",
    "\n",
    "    token = [\n",
    "        token for token in text.lower().split(\" \") if token != \"\" if token not in stop\n",
    "    ]\n",
    "    z = zip(*[token[i:] for i in range(n_gram)])\n",
    "    ngrams = [\" \".join(ngram) for ngram in z]\n",
    "\n",
    "    return ngrams"
   ]
  },
  {
   "cell_type": "markdown",
   "metadata": {},
   "source": [
    "#### Create unigrams"
   ]
  },
  {
   "cell_type": "code",
   "execution_count": 4,
   "metadata": {},
   "outputs": [
    {
     "data": {
      "application/javascript": [
       "\n",
       "            setTimeout(function() {\n",
       "                var nbb_cell_id = 4;\n",
       "                var nbb_unformatted_code = \"from collections import defaultdict\";\n",
       "                var nbb_formatted_code = \"from collections import defaultdict\";\n",
       "                var nbb_cells = Jupyter.notebook.get_cells();\n",
       "                for (var i = 0; i < nbb_cells.length; ++i) {\n",
       "                    if (nbb_cells[i].input_prompt_number == nbb_cell_id) {\n",
       "                        if (nbb_cells[i].get_text() == nbb_unformatted_code) {\n",
       "                             nbb_cells[i].set_text(nbb_formatted_code);\n",
       "                        }\n",
       "                        break;\n",
       "                    }\n",
       "                }\n",
       "            }, 500);\n",
       "            "
      ],
      "text/plain": [
       "<IPython.core.display.Javascript object>"
      ]
     },
     "metadata": {},
     "output_type": "display_data"
    }
   ],
   "source": [
    "from collections import defaultdict"
   ]
  },
  {
   "cell_type": "markdown",
   "metadata": {},
   "source": [
    "In our case when a new word is encountered and is missing from the mapping, the default_factory function calls int() to supply a default count of zero and then, the increment operation builds up the count. \n",
    "\n",
    "Therefore, the default_factory int assign makes the defaultdict useful for counting."
   ]
  },
  {
   "cell_type": "code",
   "execution_count": 5,
   "metadata": {},
   "outputs": [
    {
     "data": {
      "application/javascript": [
       "\n",
       "            setTimeout(function() {\n",
       "                var nbb_cell_id = 5;\n",
       "                var nbb_unformatted_code = \"oscar_unigrams = defaultdict(int)\\nnonoscar_unigrams = defaultdict(int)\";\n",
       "                var nbb_formatted_code = \"oscar_unigrams = defaultdict(int)\\nnonoscar_unigrams = defaultdict(int)\";\n",
       "                var nbb_cells = Jupyter.notebook.get_cells();\n",
       "                for (var i = 0; i < nbb_cells.length; ++i) {\n",
       "                    if (nbb_cells[i].input_prompt_number == nbb_cell_id) {\n",
       "                        if (nbb_cells[i].get_text() == nbb_unformatted_code) {\n",
       "                             nbb_cells[i].set_text(nbb_formatted_code);\n",
       "                        }\n",
       "                        break;\n",
       "                    }\n",
       "                }\n",
       "            }, 500);\n",
       "            "
      ],
      "text/plain": [
       "<IPython.core.display.Javascript object>"
      ]
     },
     "metadata": {},
     "output_type": "display_data"
    }
   ],
   "source": [
    "oscar_unigrams = defaultdict(int)\n",
    "nonoscar_unigrams = defaultdict(int)"
   ]
  },
  {
   "cell_type": "code",
   "execution_count": 6,
   "metadata": {},
   "outputs": [
    {
     "data": {
      "application/javascript": [
       "\n",
       "            setTimeout(function() {\n",
       "                var nbb_cell_id = 6;\n",
       "                var nbb_unformatted_code = \"for text in df[df[\\\"oscar_nom\\\"] == 1][\\\"plot\\\"]:\\n    for word in generate_ngrams(text):\\n        oscar_unigrams[word] += 1\\n\\nfor text in df[df[\\\"oscar_nom\\\"] == 0][\\\"plot\\\"]:\\n    for word in generate_ngrams(text):\\n        nonoscar_unigrams[word] += 1\";\n",
       "                var nbb_formatted_code = \"for text in df[df[\\\"oscar_nom\\\"] == 1][\\\"plot\\\"]:\\n    for word in generate_ngrams(text):\\n        oscar_unigrams[word] += 1\\n\\nfor text in df[df[\\\"oscar_nom\\\"] == 0][\\\"plot\\\"]:\\n    for word in generate_ngrams(text):\\n        nonoscar_unigrams[word] += 1\";\n",
       "                var nbb_cells = Jupyter.notebook.get_cells();\n",
       "                for (var i = 0; i < nbb_cells.length; ++i) {\n",
       "                    if (nbb_cells[i].input_prompt_number == nbb_cell_id) {\n",
       "                        if (nbb_cells[i].get_text() == nbb_unformatted_code) {\n",
       "                             nbb_cells[i].set_text(nbb_formatted_code);\n",
       "                        }\n",
       "                        break;\n",
       "                    }\n",
       "                }\n",
       "            }, 500);\n",
       "            "
      ],
      "text/plain": [
       "<IPython.core.display.Javascript object>"
      ]
     },
     "metadata": {},
     "output_type": "display_data"
    }
   ],
   "source": [
    "for text in df[df[\"oscar_nom\"] == 1][\"plot\"]:\n",
    "    for word in generate_ngrams(text):\n",
    "        oscar_unigrams[word] += 1\n",
    "\n",
    "for text in df[df[\"oscar_nom\"] == 0][\"plot\"]:\n",
    "    for word in generate_ngrams(text):\n",
    "        nonoscar_unigrams[word] += 1"
   ]
  },
  {
   "cell_type": "code",
   "execution_count": 7,
   "metadata": {},
   "outputs": [
    {
     "data": {
      "application/javascript": [
       "\n",
       "            setTimeout(function() {\n",
       "                var nbb_cell_id = 7;\n",
       "                var nbb_unformatted_code = \"df_oscar_unigrams = pd.DataFrame(\\n    sorted(oscar_unigrams.items(), key=lambda x: x[1], reverse=True)\\n)\\ndf_nonoscar_unigrams = pd.DataFrame(\\n    sorted(nonoscar_unigrams.items(), key=lambda x: x[1], reverse=True)\\n)\";\n",
       "                var nbb_formatted_code = \"df_oscar_unigrams = pd.DataFrame(\\n    sorted(oscar_unigrams.items(), key=lambda x: x[1], reverse=True)\\n)\\ndf_nonoscar_unigrams = pd.DataFrame(\\n    sorted(nonoscar_unigrams.items(), key=lambda x: x[1], reverse=True)\\n)\";\n",
       "                var nbb_cells = Jupyter.notebook.get_cells();\n",
       "                for (var i = 0; i < nbb_cells.length; ++i) {\n",
       "                    if (nbb_cells[i].input_prompt_number == nbb_cell_id) {\n",
       "                        if (nbb_cells[i].get_text() == nbb_unformatted_code) {\n",
       "                             nbb_cells[i].set_text(nbb_formatted_code);\n",
       "                        }\n",
       "                        break;\n",
       "                    }\n",
       "                }\n",
       "            }, 500);\n",
       "            "
      ],
      "text/plain": [
       "<IPython.core.display.Javascript object>"
      ]
     },
     "metadata": {},
     "output_type": "display_data"
    }
   ],
   "source": [
    "df_oscar_unigrams = pd.DataFrame(\n",
    "    sorted(oscar_unigrams.items(), key=lambda x: x[1], reverse=True)\n",
    ")\n",
    "df_nonoscar_unigrams = pd.DataFrame(\n",
    "    sorted(nonoscar_unigrams.items(), key=lambda x: x[1], reverse=True)\n",
    ")\n"
   ]
  },
  {
   "cell_type": "code",
   "execution_count": 8,
   "metadata": {
    "scrolled": false
   },
   "outputs": [
    {
     "data": {
      "text/plain": [
       "[('one', 289),\n",
       " ('life', 269),\n",
       " ('new', 255),\n",
       " ('young', 187),\n",
       " ('two', 177),\n",
       " ('family', 155),\n",
       " ('man', 151),\n",
       " ('-', 148),\n",
       " ('love', 146),\n",
       " ('find', 142)]"
      ]
     },
     "execution_count": 8,
     "metadata": {},
     "output_type": "execute_result"
    },
    {
     "data": {
      "application/javascript": [
       "\n",
       "            setTimeout(function() {\n",
       "                var nbb_cell_id = 8;\n",
       "                var nbb_unformatted_code = \"sorted(oscar_unigrams.items(), key=lambda x: x[1], reverse=True)[:10]\";\n",
       "                var nbb_formatted_code = \"sorted(oscar_unigrams.items(), key=lambda x: x[1], reverse=True)[:10]\";\n",
       "                var nbb_cells = Jupyter.notebook.get_cells();\n",
       "                for (var i = 0; i < nbb_cells.length; ++i) {\n",
       "                    if (nbb_cells[i].input_prompt_number == nbb_cell_id) {\n",
       "                        if (nbb_cells[i].get_text() == nbb_unformatted_code) {\n",
       "                             nbb_cells[i].set_text(nbb_formatted_code);\n",
       "                        }\n",
       "                        break;\n",
       "                    }\n",
       "                }\n",
       "            }, 500);\n",
       "            "
      ],
      "text/plain": [
       "<IPython.core.display.Javascript object>"
      ]
     },
     "metadata": {},
     "output_type": "display_data"
    }
   ],
   "source": [
    "sorted(oscar_unigrams.items(), key=lambda x: x[1], reverse=True)[:10]"
   ]
  },
  {
   "cell_type": "code",
   "execution_count": 9,
   "metadata": {},
   "outputs": [
    {
     "data": {
      "text/plain": [
       "[('one', 1416),\n",
       " ('new', 1190),\n",
       " ('two', 976),\n",
       " ('get', 934),\n",
       " ('life', 931),\n",
       " ('find', 868),\n",
       " ('young', 831),\n",
       " ('-', 752),\n",
       " ('man', 696),\n",
       " ('finds', 683)]"
      ]
     },
     "execution_count": 9,
     "metadata": {},
     "output_type": "execute_result"
    },
    {
     "data": {
      "application/javascript": [
       "\n",
       "            setTimeout(function() {\n",
       "                var nbb_cell_id = 9;\n",
       "                var nbb_unformatted_code = \"sorted(nonoscar_unigrams.items(), key=lambda x: x[1], reverse=True)[:10]\";\n",
       "                var nbb_formatted_code = \"sorted(nonoscar_unigrams.items(), key=lambda x: x[1], reverse=True)[:10]\";\n",
       "                var nbb_cells = Jupyter.notebook.get_cells();\n",
       "                for (var i = 0; i < nbb_cells.length; ++i) {\n",
       "                    if (nbb_cells[i].input_prompt_number == nbb_cell_id) {\n",
       "                        if (nbb_cells[i].get_text() == nbb_unformatted_code) {\n",
       "                             nbb_cells[i].set_text(nbb_formatted_code);\n",
       "                        }\n",
       "                        break;\n",
       "                    }\n",
       "                }\n",
       "            }, 500);\n",
       "            "
      ],
      "text/plain": [
       "<IPython.core.display.Javascript object>"
      ]
     },
     "metadata": {},
     "output_type": "display_data"
    }
   ],
   "source": [
    "sorted(nonoscar_unigrams.items(), key=lambda x: x[1], reverse=True)[:10]"
   ]
  },
  {
   "cell_type": "code",
   "execution_count": 10,
   "metadata": {
    "scrolled": true
   },
   "outputs": [
    {
     "data": {
      "image/png": "[encoded data removed]",
      "text/plain": [
       "<Figure size 1152x288 with 2 Axes>"
      ]
     },
     "metadata": {
      "needs_background": "light"
     },
     "output_type": "display_data"
    },
    {
     "data": {
      "application/javascript": [
       "\n",
       "            setTimeout(function() {\n",
       "                var nbb_cell_id = 10;\n",
       "                var nbb_unformatted_code = \"d1 = df_oscar_unigrams[0][:10]\\nd2 = df_oscar_unigrams[1][:10]\\n\\nnd1 = df_nonoscar_unigrams[0][:10]\\nnd2 = df_nonoscar_unigrams[1][:10]\\n\\nplt.figure(1, figsize=(16, 4))\\nplt.subplot(2, 1, 1)\\n_ = plt.bar(d1, d2)\\n\\nplt.subplot(2, 1, 2)\\n_ = plt.bar(nd1, nd2)\";\n",
       "                var nbb_formatted_code = \"d1 = df_oscar_unigrams[0][:10]\\nd2 = df_oscar_unigrams[1][:10]\\n\\nnd1 = df_nonoscar_unigrams[0][:10]\\nnd2 = df_nonoscar_unigrams[1][:10]\\n\\nplt.figure(1, figsize=(16, 4))\\nplt.subplot(2, 1, 1)\\n_ = plt.bar(d1, d2)\\n\\nplt.subplot(2, 1, 2)\\n_ = plt.bar(nd1, nd2)\";\n",
       "                var nbb_cells = Jupyter.notebook.get_cells();\n",
       "                for (var i = 0; i < nbb_cells.length; ++i) {\n",
       "                    if (nbb_cells[i].input_prompt_number == nbb_cell_id) {\n",
       "                        if (nbb_cells[i].get_text() == nbb_unformatted_code) {\n",
       "                             nbb_cells[i].set_text(nbb_formatted_code);\n",
       "                        }\n",
       "                        break;\n",
       "                    }\n",
       "                }\n",
       "            }, 500);\n",
       "            "
      ],
      "text/plain": [
       "<IPython.core.display.Javascript object>"
      ]
     },
     "metadata": {},
     "output_type": "display_data"
    }
   ],
   "source": [
    "d1 = df_oscar_unigrams[0][:10]\n",
    "d2 = df_oscar_unigrams[1][:10]\n",
    "\n",
    "nd1 = df_nonoscar_unigrams[0][:10]\n",
    "nd2 = df_nonoscar_unigrams[1][:10]\n",
    "\n",
    "plt.figure(1, figsize=(16, 4))\n",
    "plt.subplot(2, 1, 1)\n",
    "_ = plt.bar(d1, d2)\n",
    "\n",
    "plt.subplot(2, 1, 2)\n",
    "_ = plt.bar(nd1, nd2)"
   ]
  },
  {
   "cell_type": "markdown",
   "metadata": {},
   "source": [
    "Based on the plot above we can see that most common shared unigrams are punctuation and stopwords so it's important to clean them out.\n",
    "\n",
    "Regarding the context, even from the unigrams we can see that we get a lot of context regarding whether the text refers to a disaster or not. "
   ]
  },
  {
   "cell_type": "markdown",
   "metadata": {},
   "source": [
    "#### Create bigrams"
   ]
  },
  {
   "cell_type": "code",
   "execution_count": 11,
   "metadata": {},
   "outputs": [
    {
     "data": {
      "application/javascript": [
       "\n",
       "            setTimeout(function() {\n",
       "                var nbb_cell_id = 11;\n",
       "                var nbb_unformatted_code = \"import string\\n\\n\\ndef remove_punct(text):\\n    table = str.maketrans(\\\"\\\", \\\"\\\", string.punctuation)\\n    return text.translate(table)\\n\\n\\ndf[\\\"plot\\\"] = [remove_punct(x) for x in df[\\\"plot\\\"]]\\n\\nfrom nltk.corpus import stopwords\\n\\nstop = set(stopwords.words(\\\"english\\\"))\\n\\n\\ndef remove_stopwords(text):\\n    text = [word.lower() for word in text.split() if word.lower() not in stop]\\n\\n    return \\\" \\\".join(text)\\n\\n\\ndf[\\\"plot\\\"] = [remove_stopwords(x) for x in df[\\\"plot\\\"]]\\n\\noscar_bigrams = defaultdict(int)\\nnonoscar_bigrams = defaultdict(int)\\n\\nfor text in df[df[\\\"oscar_nom\\\"] == 1][\\\"plot\\\"]:\\n    for word in generate_ngrams(text, n_gram=2):\\n        oscar_bigrams[word] += 1\\n\\nfor text in df[df[\\\"oscar_nom\\\"] == 0][\\\"plot\\\"]:\\n    for word in generate_ngrams(text, n_gram=2):\\n        nonoscar_bigrams[word] += 1\\n\\ndf_oscar_bigrams = pd.DataFrame(sorted(oscar_bigrams.items(), key=lambda x: x[1])[::-1])\\ndf_nonoscar_bigrams = pd.DataFrame(\\n    sorted(nonoscar_bigrams.items(), key=lambda x: x[1])[::-1]\\n)\";\n",
       "                var nbb_formatted_code = \"import string\\n\\n\\ndef remove_punct(text):\\n    table = str.maketrans(\\\"\\\", \\\"\\\", string.punctuation)\\n    return text.translate(table)\\n\\n\\ndf[\\\"plot\\\"] = [remove_punct(x) for x in df[\\\"plot\\\"]]\\n\\nfrom nltk.corpus import stopwords\\n\\nstop = set(stopwords.words(\\\"english\\\"))\\n\\n\\ndef remove_stopwords(text):\\n    text = [word.lower() for word in text.split() if word.lower() not in stop]\\n\\n    return \\\" \\\".join(text)\\n\\n\\ndf[\\\"plot\\\"] = [remove_stopwords(x) for x in df[\\\"plot\\\"]]\\n\\noscar_bigrams = defaultdict(int)\\nnonoscar_bigrams = defaultdict(int)\\n\\nfor text in df[df[\\\"oscar_nom\\\"] == 1][\\\"plot\\\"]:\\n    for word in generate_ngrams(text, n_gram=2):\\n        oscar_bigrams[word] += 1\\n\\nfor text in df[df[\\\"oscar_nom\\\"] == 0][\\\"plot\\\"]:\\n    for word in generate_ngrams(text, n_gram=2):\\n        nonoscar_bigrams[word] += 1\\n\\ndf_oscar_bigrams = pd.DataFrame(sorted(oscar_bigrams.items(), key=lambda x: x[1])[::-1])\\ndf_nonoscar_bigrams = pd.DataFrame(\\n    sorted(nonoscar_bigrams.items(), key=lambda x: x[1])[::-1]\\n)\";\n",
       "                var nbb_cells = Jupyter.notebook.get_cells();\n",
       "                for (var i = 0; i < nbb_cells.length; ++i) {\n",
       "                    if (nbb_cells[i].input_prompt_number == nbb_cell_id) {\n",
       "                        if (nbb_cells[i].get_text() == nbb_unformatted_code) {\n",
       "                             nbb_cells[i].set_text(nbb_formatted_code);\n",
       "                        }\n",
       "                        break;\n",
       "                    }\n",
       "                }\n",
       "            }, 500);\n",
       "            "
      ],
      "text/plain": [
       "<IPython.core.display.Javascript object>"
      ]
     },
     "metadata": {},
     "output_type": "display_data"
    }
   ],
   "source": [
    "import string\n",
    "\n",
    "\n",
    "def remove_punct(text):\n",
    "    table = str.maketrans(\"\", \"\", string.punctuation)\n",
    "    return text.translate(table)\n",
    "\n",
    "\n",
    "df[\"plot\"] = [remove_punct(x) for x in df[\"plot\"]]\n",
    "\n",
    "from nltk.corpus import stopwords\n",
    "\n",
    "stop = set(stopwords.words(\"english\"))\n",
    "\n",
    "\n",
    "def remove_stopwords(text):\n",
    "    text = [word.lower() for word in text.split() if word.lower() not in stop]\n",
    "\n",
    "    return \" \".join(text)\n",
    "\n",
    "\n",
    "df[\"plot\"] = [remove_stopwords(x) for x in df[\"plot\"]]\n",
    "\n",
    "oscar_bigrams = defaultdict(int)\n",
    "nonoscar_bigrams = defaultdict(int)\n",
    "\n",
    "for text in df[df[\"oscar_nom\"] == 1][\"plot\"]:\n",
    "    for word in generate_ngrams(text, n_gram=2):\n",
    "        oscar_bigrams[word] += 1\n",
    "\n",
    "for text in df[df[\"oscar_nom\"] == 0][\"plot\"]:\n",
    "    for word in generate_ngrams(text, n_gram=2):\n",
    "        nonoscar_bigrams[word] += 1\n",
    "\n",
    "df_oscar_bigrams = pd.DataFrame(sorted(oscar_bigrams.items(), key=lambda x: x[1])[::-1])\n",
    "df_nonoscar_bigrams = pd.DataFrame(\n",
    "    sorted(nonoscar_bigrams.items(), key=lambda x: x[1])[::-1]\n",
    ")"
   ]
  },
  {
   "cell_type": "code",
   "execution_count": 12,
   "metadata": {
    "scrolled": false
   },
   "outputs": [
    {
     "data": {
      "image/png": "[encoded data removed]",
      "text/plain": [
       "<Figure size 1152x288 with 2 Axes>"
      ]
     },
     "metadata": {
      "needs_background": "light"
     },
     "output_type": "display_data"
    },
    {
     "data": {
      "application/javascript": [
       "\n",
       "            setTimeout(function() {\n",
       "                var nbb_cell_id = 12;\n",
       "                var nbb_unformatted_code = \"d1 = df_oscar_bigrams[0][:10]\\nd2 = df_oscar_bigrams[1][:10]\\n\\nnd1 = df_nonoscar_bigrams[0][:10]\\nnd2 = df_nonoscar_bigrams[1][:10]\\n\\nplt.figure(1, figsize=(16, 4))\\nplt.subplot(2, 1, 1)\\n_ = plt.bar(d1, d2)\\n\\nplt.subplot(2, 1, 2)\\n_ = plt.bar(nd1, nd2)\";\n",
       "                var nbb_formatted_code = \"d1 = df_oscar_bigrams[0][:10]\\nd2 = df_oscar_bigrams[1][:10]\\n\\nnd1 = df_nonoscar_bigrams[0][:10]\\nnd2 = df_nonoscar_bigrams[1][:10]\\n\\nplt.figure(1, figsize=(16, 4))\\nplt.subplot(2, 1, 1)\\n_ = plt.bar(d1, d2)\\n\\nplt.subplot(2, 1, 2)\\n_ = plt.bar(nd1, nd2)\";\n",
       "                var nbb_cells = Jupyter.notebook.get_cells();\n",
       "                for (var i = 0; i < nbb_cells.length; ++i) {\n",
       "                    if (nbb_cells[i].input_prompt_number == nbb_cell_id) {\n",
       "                        if (nbb_cells[i].get_text() == nbb_unformatted_code) {\n",
       "                             nbb_cells[i].set_text(nbb_formatted_code);\n",
       "                        }\n",
       "                        break;\n",
       "                    }\n",
       "                }\n",
       "            }, 500);\n",
       "            "
      ],
      "text/plain": [
       "<IPython.core.display.Javascript object>"
      ]
     },
     "metadata": {},
     "output_type": "display_data"
    }
   ],
   "source": [
    "d1 = df_oscar_bigrams[0][:10]\n",
    "d2 = df_oscar_bigrams[1][:10]\n",
    "\n",
    "nd1 = df_nonoscar_bigrams[0][:10]\n",
    "nd2 = df_nonoscar_bigrams[1][:10]\n",
    "\n",
    "plt.figure(1, figsize=(16, 4))\n",
    "plt.subplot(2, 1, 1)\n",
    "_ = plt.bar(d1, d2)\n",
    "\n",
    "plt.subplot(2, 1, 2)\n",
    "_ = plt.bar(nd1, nd2)"
   ]
  },
  {
   "cell_type": "markdown",
   "metadata": {},
   "source": [
    "The plot above shows that bigrams give a lot of context to the type of text with regard to whether it's a disaster or not. If we clean the punctuation and stopwords and urls we should get a better understanding."
   ]
  },
  {
   "cell_type": "markdown",
   "metadata": {},
   "source": [
    "Check the most common bigrams in a whole corpus."
   ]
  },
  {
   "cell_type": "code",
   "execution_count": 13,
   "metadata": {},
   "outputs": [
    {
     "data": {
      "application/javascript": [
       "\n",
       "            setTimeout(function() {\n",
       "                var nbb_cell_id = 13;\n",
       "                var nbb_unformatted_code = \"from sklearn.feature_extraction.text import CountVectorizer\\n\\n\\ndef get_top_text_ngrams(corpus, ngrams=(1, 1), nr=None):\\n    \\\"\\\"\\\"\\n    Creates a bag of ngrams and counts ngram frequency.\\n\\n    Returns a sorted list of tuples: (ngram, count)\\n    \\\"\\\"\\\"\\n    vec = CountVectorizer(ngram_range=ngrams).fit(corpus)\\n    bag_of_words = vec.transform(corpus)\\n    sum_words = bag_of_words.sum(axis=0)\\n    words_freq = [(word, sum_words[0, idx]) for word, idx in vec.vocabulary_.items()]\\n    words_freq = sorted(words_freq, key=lambda x: x[1], reverse=True)\\n    return words_freq[:nr]\";\n",
       "                var nbb_formatted_code = \"from sklearn.feature_extraction.text import CountVectorizer\\n\\n\\ndef get_top_text_ngrams(corpus, ngrams=(1, 1), nr=None):\\n    \\\"\\\"\\\"\\n    Creates a bag of ngrams and counts ngram frequency.\\n\\n    Returns a sorted list of tuples: (ngram, count)\\n    \\\"\\\"\\\"\\n    vec = CountVectorizer(ngram_range=ngrams).fit(corpus)\\n    bag_of_words = vec.transform(corpus)\\n    sum_words = bag_of_words.sum(axis=0)\\n    words_freq = [(word, sum_words[0, idx]) for word, idx in vec.vocabulary_.items()]\\n    words_freq = sorted(words_freq, key=lambda x: x[1], reverse=True)\\n    return words_freq[:nr]\";\n",
       "                var nbb_cells = Jupyter.notebook.get_cells();\n",
       "                for (var i = 0; i < nbb_cells.length; ++i) {\n",
       "                    if (nbb_cells[i].input_prompt_number == nbb_cell_id) {\n",
       "                        if (nbb_cells[i].get_text() == nbb_unformatted_code) {\n",
       "                             nbb_cells[i].set_text(nbb_formatted_code);\n",
       "                        }\n",
       "                        break;\n",
       "                    }\n",
       "                }\n",
       "            }, 500);\n",
       "            "
      ],
      "text/plain": [
       "<IPython.core.display.Javascript object>"
      ]
     },
     "metadata": {},
     "output_type": "display_data"
    }
   ],
   "source": [
    "from sklearn.feature_extraction.text import CountVectorizer\n",
    "\n",
    "\n",
    "def get_top_text_ngrams(corpus, ngrams=(1, 1), nr=None):\n",
    "    \"\"\"\n",
    "    Creates a bag of ngrams and counts ngram frequency.\n",
    "\n",
    "    Returns a sorted list of tuples: (ngram, count)\n",
    "    \"\"\"\n",
    "    vec = CountVectorizer(ngram_range=ngrams).fit(corpus)\n",
    "    bag_of_words = vec.transform(corpus)\n",
    "    sum_words = bag_of_words.sum(axis=0)\n",
    "    words_freq = [(word, sum_words[0, idx]) for word, idx in vec.vocabulary_.items()]\n",
    "    words_freq = sorted(words_freq, key=lambda x: x[1], reverse=True)\n",
    "    return words_freq[:nr]"
   ]
  },
  {
   "cell_type": "code",
   "execution_count": 14,
   "metadata": {},
   "outputs": [
    {
     "data": {
      "application/javascript": [
       "\n",
       "            setTimeout(function() {\n",
       "                var nbb_cell_id = 14;\n",
       "                var nbb_unformatted_code = \"top_text_bigrams = get_top_text_ngrams(df[\\\"plot\\\"], ngrams=(2, 2), nr=10)\";\n",
       "                var nbb_formatted_code = \"top_text_bigrams = get_top_text_ngrams(df[\\\"plot\\\"], ngrams=(2, 2), nr=10)\";\n",
       "                var nbb_cells = Jupyter.notebook.get_cells();\n",
       "                for (var i = 0; i < nbb_cells.length; ++i) {\n",
       "                    if (nbb_cells[i].input_prompt_number == nbb_cell_id) {\n",
       "                        if (nbb_cells[i].get_text() == nbb_unformatted_code) {\n",
       "                             nbb_cells[i].set_text(nbb_formatted_code);\n",
       "                        }\n",
       "                        break;\n",
       "                    }\n",
       "                }\n",
       "            }, 500);\n",
       "            "
      ],
      "text/plain": [
       "<IPython.core.display.Javascript object>"
      ]
     },
     "metadata": {},
     "output_type": "display_data"
    }
   ],
   "source": [
    "top_text_bigrams = get_top_text_ngrams(df[\"plot\"], ngrams=(2, 2), nr=10)"
   ]
  },
  {
   "cell_type": "code",
   "execution_count": 15,
   "metadata": {},
   "outputs": [
    {
     "data": {
      "text/plain": [
       "[('new york', 399),\n",
       " ('high school', 248),\n",
       " ('one day', 167),\n",
       " ('best friend', 162),\n",
       " ('los angeles', 158),\n",
       " ('falls love', 139),\n",
       " ('years later', 128),\n",
       " ('york city', 120),\n",
       " ('young woman', 115),\n",
       " ('young man', 106)]"
      ]
     },
     "execution_count": 15,
     "metadata": {},
     "output_type": "execute_result"
    },
    {
     "data": {
      "application/javascript": [
       "\n",
       "            setTimeout(function() {\n",
       "                var nbb_cell_id = 15;\n",
       "                var nbb_unformatted_code = \"top_text_bigrams\";\n",
       "                var nbb_formatted_code = \"top_text_bigrams\";\n",
       "                var nbb_cells = Jupyter.notebook.get_cells();\n",
       "                for (var i = 0; i < nbb_cells.length; ++i) {\n",
       "                    if (nbb_cells[i].input_prompt_number == nbb_cell_id) {\n",
       "                        if (nbb_cells[i].get_text() == nbb_unformatted_code) {\n",
       "                             nbb_cells[i].set_text(nbb_formatted_code);\n",
       "                        }\n",
       "                        break;\n",
       "                    }\n",
       "                }\n",
       "            }, 500);\n",
       "            "
      ],
      "text/plain": [
       "<IPython.core.display.Javascript object>"
      ]
     },
     "metadata": {},
     "output_type": "display_data"
    }
   ],
   "source": [
    "top_text_bigrams"
   ]
  },
  {
   "cell_type": "code",
   "execution_count": 16,
   "metadata": {},
   "outputs": [
    {
     "data": {
      "text/plain": [
       "<BarContainer object of 10 artists>"
      ]
     },
     "execution_count": 16,
     "metadata": {},
     "output_type": "execute_result"
    },
    {
     "data": {
      "image/png": "[encoded data removed]",
      "text/plain": [
       "<Figure size 1152x576 with 1 Axes>"
      ]
     },
     "metadata": {
      "needs_background": "light"
     },
     "output_type": "display_data"
    },
    {
     "data": {
      "application/javascript": [
       "\n",
       "            setTimeout(function() {\n",
       "                var nbb_cell_id = 16;\n",
       "                var nbb_unformatted_code = \"x, y = zip(*top_text_bigrams)\\nplt.figure(1, figsize=(16, 8))\\nplt.subplot(1, 1, 1)\\nplt.bar(x, y)\";\n",
       "                var nbb_formatted_code = \"x, y = zip(*top_text_bigrams)\\nplt.figure(1, figsize=(16, 8))\\nplt.subplot(1, 1, 1)\\nplt.bar(x, y)\";\n",
       "                var nbb_cells = Jupyter.notebook.get_cells();\n",
       "                for (var i = 0; i < nbb_cells.length; ++i) {\n",
       "                    if (nbb_cells[i].input_prompt_number == nbb_cell_id) {\n",
       "                        if (nbb_cells[i].get_text() == nbb_unformatted_code) {\n",
       "                             nbb_cells[i].set_text(nbb_formatted_code);\n",
       "                        }\n",
       "                        break;\n",
       "                    }\n",
       "                }\n",
       "            }, 500);\n",
       "            "
      ],
      "text/plain": [
       "<IPython.core.display.Javascript object>"
      ]
     },
     "metadata": {},
     "output_type": "display_data"
    }
   ],
   "source": [
    "x, y = zip(*top_text_bigrams)\n",
    "plt.figure(1, figsize=(16, 8))\n",
    "plt.subplot(1, 1, 1)\n",
    "plt.bar(x, y)"
   ]
  },
  {
   "cell_type": "code",
   "execution_count": null,
   "metadata": {},
   "outputs": [],
   "source": []
  },
  {
   "cell_type": "code",
   "execution_count": 28,
   "metadata": {},
   "outputs": [
    {
     "data": {
      "text/plain": [
       "[('new york', 399),\n",
       " ('high school', 248),\n",
       " ('one day', 167),\n",
       " ('best friend', 162),\n",
       " ('los angeles', 158),\n",
       " ('falls love', 139),\n",
       " ('years later', 128),\n",
       " ('york city', 120),\n",
       " ('new york city', 120),\n",
       " ('young woman', 115)]"
      ]
     },
     "execution_count": 28,
     "metadata": {},
     "output_type": "execute_result"
    },
    {
     "data": {
      "application/javascript": [
       "\n",
       "            setTimeout(function() {\n",
       "                var nbb_cell_id = 28;\n",
       "                var nbb_unformatted_code = \"top_text_trigrams\";\n",
       "                var nbb_formatted_code = \"top_text_trigrams\";\n",
       "                var nbb_cells = Jupyter.notebook.get_cells();\n",
       "                for (var i = 0; i < nbb_cells.length; ++i) {\n",
       "                    if (nbb_cells[i].input_prompt_number == nbb_cell_id) {\n",
       "                        if (nbb_cells[i].get_text() == nbb_unformatted_code) {\n",
       "                             nbb_cells[i].set_text(nbb_formatted_code);\n",
       "                        }\n",
       "                        break;\n",
       "                    }\n",
       "                }\n",
       "            }, 500);\n",
       "            "
      ],
      "text/plain": [
       "<IPython.core.display.Javascript object>"
      ]
     },
     "metadata": {},
     "output_type": "display_data"
    }
   ],
   "source": [
    "top_text_bigrams_and_trigrams = get_top_text_ngrams(df[\"plot\"], ngrams=(2, 3), nr=10)"
   ]
  },
  {
   "cell_type": "code",
   "execution_count": 29,
   "metadata": {},
   "outputs": [
    {
     "data": {
      "application/javascript": [
       "\n",
       "            setTimeout(function() {\n",
       "                var nbb_cell_id = 29;\n",
       "                var nbb_unformatted_code = \"top_text_trigrams = get_top_text_ngrams(df[\\\"plot\\\"], ngrams=(3, 3), nr=10)\";\n",
       "                var nbb_formatted_code = \"top_text_trigrams = get_top_text_ngrams(df[\\\"plot\\\"], ngrams=(3, 3), nr=10)\";\n",
       "                var nbb_cells = Jupyter.notebook.get_cells();\n",
       "                for (var i = 0; i < nbb_cells.length; ++i) {\n",
       "                    if (nbb_cells[i].input_prompt_number == nbb_cell_id) {\n",
       "                        if (nbb_cells[i].get_text() == nbb_unformatted_code) {\n",
       "                             nbb_cells[i].set_text(nbb_formatted_code);\n",
       "                        }\n",
       "                        break;\n",
       "                    }\n",
       "                }\n",
       "            }, 500);\n",
       "            "
      ],
      "text/plain": [
       "<IPython.core.display.Javascript object>"
      ]
     },
     "metadata": {},
     "output_type": "display_data"
    }
   ],
   "source": [
    "top_text_trigrams = get_top_text_ngrams(df[\"plot\"], ngrams=(3, 3), nr=10)"
   ]
  },
  {
   "cell_type": "code",
   "execution_count": 30,
   "metadata": {},
   "outputs": [
    {
     "data": {
      "text/plain": [
       "[('new york city', 120),\n",
       " ('world war ii', 46),\n",
       " ('based true story', 37),\n",
       " ('must find way', 21),\n",
       " ('high school student', 19),\n",
       " ('president united states', 17),\n",
       " ('things get worse', 13),\n",
       " ('find way get', 13),\n",
       " ('year old son', 13),\n",
       " ('high school senior', 12)]"
      ]
     },
     "execution_count": 30,
     "metadata": {},
     "output_type": "execute_result"
    },
    {
     "data": {
      "application/javascript": [
       "\n",
       "            setTimeout(function() {\n",
       "                var nbb_cell_id = 30;\n",
       "                var nbb_unformatted_code = \"top_text_trigrams\";\n",
       "                var nbb_formatted_code = \"top_text_trigrams\";\n",
       "                var nbb_cells = Jupyter.notebook.get_cells();\n",
       "                for (var i = 0; i < nbb_cells.length; ++i) {\n",
       "                    if (nbb_cells[i].input_prompt_number == nbb_cell_id) {\n",
       "                        if (nbb_cells[i].get_text() == nbb_unformatted_code) {\n",
       "                             nbb_cells[i].set_text(nbb_formatted_code);\n",
       "                        }\n",
       "                        break;\n",
       "                    }\n",
       "                }\n",
       "            }, 500);\n",
       "            "
      ],
      "text/plain": [
       "<IPython.core.display.Javascript object>"
      ]
     },
     "metadata": {},
     "output_type": "display_data"
    }
   ],
   "source": [
    "top_text_trigrams"
   ]
  },
  {
   "cell_type": "code",
   "execution_count": 33,
   "metadata": {},
   "outputs": [
    {
     "data": {
      "text/plain": [
       "[('new york', 71),\n",
       " ('one day', 30),\n",
       " ('falls love', 24),\n",
       " ('year old', 23),\n",
       " ('united states', 22),\n",
       " ('true story', 22),\n",
       " ('los angeles', 22),\n",
       " ('years later', 21),\n",
       " ('best friend', 20),\n",
       " ('young man', 19)]"
      ]
     },
     "execution_count": 33,
     "metadata": {},
     "output_type": "execute_result"
    },
    {
     "data": {
      "application/javascript": [
       "\n",
       "            setTimeout(function() {\n",
       "                var nbb_cell_id = 33;\n",
       "                var nbb_unformatted_code = \"top_text_trigrams_oscars = get_top_text_ngrams(\\n    df[df[\\\"oscar_nom\\\"] == 1][\\\"plot\\\"], ngrams=(2, 3), nr=10\\n)\\ntop_text_trigrams_oscars\";\n",
       "                var nbb_formatted_code = \"top_text_trigrams_oscars = get_top_text_ngrams(\\n    df[df[\\\"oscar_nom\\\"] == 1][\\\"plot\\\"], ngrams=(2, 3), nr=10\\n)\\ntop_text_trigrams_oscars\";\n",
       "                var nbb_cells = Jupyter.notebook.get_cells();\n",
       "                for (var i = 0; i < nbb_cells.length; ++i) {\n",
       "                    if (nbb_cells[i].input_prompt_number == nbb_cell_id) {\n",
       "                        if (nbb_cells[i].get_text() == nbb_unformatted_code) {\n",
       "                             nbb_cells[i].set_text(nbb_formatted_code);\n",
       "                        }\n",
       "                        break;\n",
       "                    }\n",
       "                }\n",
       "            }, 500);\n",
       "            "
      ],
      "text/plain": [
       "<IPython.core.display.Javascript object>"
      ]
     },
     "metadata": {},
     "output_type": "display_data"
    }
   ],
   "source": [
    "top_text_trigrams_oscars = get_top_text_ngrams(\n",
    "    df[df[\"oscar_nom\"] == 1][\"plot\"], ngrams=(2, 3), nr=10\n",
    ")\n",
    "top_text_trigrams_oscars"
   ]
  },
  {
   "cell_type": "code",
   "execution_count": 34,
   "metadata": {},
   "outputs": [
    {
     "data": {
      "text/plain": [
       "[('new york', 328),\n",
       " ('high school', 234),\n",
       " ('best friend', 142),\n",
       " ('one day', 137),\n",
       " ('los angeles', 136),\n",
       " ('falls love', 115),\n",
       " ('years later', 107),\n",
       " ('york city', 107),\n",
       " ('new york city', 107),\n",
       " ('young woman', 102)]"
      ]
     },
     "execution_count": 34,
     "metadata": {},
     "output_type": "execute_result"
    },
    {
     "data": {
      "application/javascript": [
       "\n",
       "            setTimeout(function() {\n",
       "                var nbb_cell_id = 34;\n",
       "                var nbb_unformatted_code = \"top_text_trigrams_nonoscars = get_top_text_ngrams(\\n    df[df[\\\"oscar_nom\\\"] == 0][\\\"plot\\\"], ngrams=(2, 3), nr=10\\n)\\ntop_text_trigrams_nonoscars\";\n",
       "                var nbb_formatted_code = \"top_text_trigrams_nonoscars = get_top_text_ngrams(\\n    df[df[\\\"oscar_nom\\\"] == 0][\\\"plot\\\"], ngrams=(2, 3), nr=10\\n)\\ntop_text_trigrams_nonoscars\";\n",
       "                var nbb_cells = Jupyter.notebook.get_cells();\n",
       "                for (var i = 0; i < nbb_cells.length; ++i) {\n",
       "                    if (nbb_cells[i].input_prompt_number == nbb_cell_id) {\n",
       "                        if (nbb_cells[i].get_text() == nbb_unformatted_code) {\n",
       "                             nbb_cells[i].set_text(nbb_formatted_code);\n",
       "                        }\n",
       "                        break;\n",
       "                    }\n",
       "                }\n",
       "            }, 500);\n",
       "            "
      ],
      "text/plain": [
       "<IPython.core.display.Javascript object>"
      ]
     },
     "metadata": {},
     "output_type": "display_data"
    }
   ],
   "source": [
    "top_text_trigrams_nonoscars = get_top_text_ngrams(\n",
    "    df[df[\"oscar_nom\"] == 0][\"plot\"], ngrams=(2, 3), nr=10\n",
    ")\n",
    "top_text_trigrams_nonoscars"
   ]
  },
  {
   "cell_type": "code",
   "execution_count": null,
   "metadata": {},
   "outputs": [],
   "source": []
  }
 ],
 "metadata": {
  "kernelspec": {
   "display_name": "Python [conda env:PythonAdv] *",
   "language": "python",
   "name": "conda-env-PythonAdv-py"
  },
  "language_info": {
   "codemirror_mode": {
    "name": "ipython",
    "version": 3
   },
   "file_extension": ".py",
   "mimetype": "text/x-python",
   "name": "python",
   "nbconvert_exporter": "python",
   "pygments_lexer": "ipython3",
   "version": "3.6.13"
  }
 },
 "nbformat": 4,
 "nbformat_minor": 4
}
