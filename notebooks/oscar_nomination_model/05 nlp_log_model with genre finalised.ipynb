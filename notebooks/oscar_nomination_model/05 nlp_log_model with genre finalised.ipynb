{
 "cells": [
  {
   "cell_type": "markdown",
   "metadata": {},
   "source": []
  },
  {
   "cell_type": "code",
   "execution_count": 1,
   "metadata": {},
   "outputs": [
    {
     "data": {
      "application/javascript": [
       "\n",
       "            setTimeout(function() {\n",
       "                var nbb_cell_id = 1;\n",
       "                var nbb_unformatted_code = \"from IPython.core.debugger import set_trace\\n\\n%load_ext nb_black\\n\\nimport pandas as pd\\nimport numpy as np\\nimport os\\nimport matplotlib.pyplot as plt\\nimport time\\n\\nplt.style.use(style=\\\"seaborn\\\")\\n%matplotlib inline\";\n",
       "                var nbb_formatted_code = \"from IPython.core.debugger import set_trace\\n\\n%load_ext nb_black\\n\\nimport pandas as pd\\nimport numpy as np\\nimport os\\nimport matplotlib.pyplot as plt\\nimport time\\n\\nplt.style.use(style=\\\"seaborn\\\")\\n%matplotlib inline\";\n",
       "                var nbb_cells = Jupyter.notebook.get_cells();\n",
       "                for (var i = 0; i < nbb_cells.length; ++i) {\n",
       "                    if (nbb_cells[i].input_prompt_number == nbb_cell_id) {\n",
       "                        if (nbb_cells[i].get_text() == nbb_unformatted_code) {\n",
       "                             nbb_cells[i].set_text(nbb_formatted_code);\n",
       "                        }\n",
       "                        break;\n",
       "                    }\n",
       "                }\n",
       "            }, 500);\n",
       "            "
      ],
      "text/plain": [
       "<IPython.core.display.Javascript object>"
      ]
     },
     "metadata": {},
     "output_type": "display_data"
    }
   ],
   "source": [
    "from IPython.core.debugger import set_trace\n",
    "\n",
    "%load_ext nb_black\n",
    "\n",
    "import pandas as pd\n",
    "import numpy as np\n",
    "import os\n",
    "import matplotlib.pyplot as plt\n",
    "import time\n",
    "\n",
    "plt.style.use(style=\"seaborn\")\n",
    "%matplotlib inline"
   ]
  },
  {
   "cell_type": "code",
   "execution_count": 2,
   "metadata": {},
   "outputs": [
    {
     "data": {
      "application/javascript": [
       "\n",
       "            setTimeout(function() {\n",
       "                var nbb_cell_id = 2;\n",
       "                var nbb_unformatted_code = \"movies = pd.read_csv(\\n    \\\"https://data-bootcamp-ztc.s3.amazonaws.com/movies_complete_cleaned.csv\\\"\\n)\\n\\nawards = pd.read_csv(\\n    \\\"https://data-bootcamp-ztc.s3.amazonaws.com/parsed_awards_table.csv\\\"\\n)\";\n",
       "                var nbb_formatted_code = \"movies = pd.read_csv(\\n    \\\"https://data-bootcamp-ztc.s3.amazonaws.com/movies_complete_cleaned.csv\\\"\\n)\\n\\nawards = pd.read_csv(\\n    \\\"https://data-bootcamp-ztc.s3.amazonaws.com/parsed_awards_table.csv\\\"\\n)\";\n",
       "                var nbb_cells = Jupyter.notebook.get_cells();\n",
       "                for (var i = 0; i < nbb_cells.length; ++i) {\n",
       "                    if (nbb_cells[i].input_prompt_number == nbb_cell_id) {\n",
       "                        if (nbb_cells[i].get_text() == nbb_unformatted_code) {\n",
       "                             nbb_cells[i].set_text(nbb_formatted_code);\n",
       "                        }\n",
       "                        break;\n",
       "                    }\n",
       "                }\n",
       "            }, 500);\n",
       "            "
      ],
      "text/plain": [
       "<IPython.core.display.Javascript object>"
      ]
     },
     "metadata": {},
     "output_type": "display_data"
    }
   ],
   "source": [
    "movies = pd.read_csv(\n",
    "    \"https://data-bootcamp-ztc.s3.amazonaws.com/movies_complete_cleaned.csv\"\n",
    ")\n",
    "\n",
    "awards = pd.read_csv(\n",
    "    \"https://data-bootcamp-ztc.s3.amazonaws.com/parsed_awards_table.csv\"\n",
    ")"
   ]
  },
  {
   "cell_type": "code",
   "execution_count": 3,
   "metadata": {
    "scrolled": true
   },
   "outputs": [
    {
     "name": "stderr",
     "output_type": "stream",
     "text": [
      "/opt/anaconda3/envs/PythonAdv/lib/python3.6/site-packages/ipykernel_launcher.py:6: SettingWithCopyWarning: \n",
      "A value is trying to be set on a copy of a slice from a DataFrame.\n",
      "Try using .loc[row_indexer,col_indexer] = value instead\n",
      "\n",
      "See the caveats in the documentation: https://pandas.pydata.org/pandas-docs/stable/user_guide/indexing.html#returning-a-view-versus-a-copy\n",
      "  \n"
     ]
    },
    {
     "data": {
      "text/html": [
       "<div>\n",
       "<style scoped>\n",
       "    .dataframe tbody tr th:only-of-type {\n",
       "        vertical-align: middle;\n",
       "    }\n",
       "\n",
       "    .dataframe tbody tr th {\n",
       "        vertical-align: top;\n",
       "    }\n",
       "\n",
       "    .dataframe thead th {\n",
       "        text-align: right;\n",
       "    }\n",
       "</style>\n",
       "<table border=\"1\" class=\"dataframe\">\n",
       "  <thead>\n",
       "    <tr style=\"text-align: right;\">\n",
       "      <th></th>\n",
       "      <th>plot</th>\n",
       "      <th>oscar_nom</th>\n",
       "    </tr>\n",
       "    <tr>\n",
       "      <th>name</th>\n",
       "      <th></th>\n",
       "      <th></th>\n",
       "    </tr>\n",
       "  </thead>\n",
       "  <tbody>\n",
       "    <tr>\n",
       "      <th>Doctor Strange</th>\n",
       "      <td>Marvel's \"Doctor Strange\" follows the story of...</td>\n",
       "      <td>1</td>\n",
       "    </tr>\n",
       "    <tr>\n",
       "      <th>Sleight</th>\n",
       "      <td>A young street magician (Jacob Latimore) is le...</td>\n",
       "      <td>0</td>\n",
       "    </tr>\n",
       "    <tr>\n",
       "      <th>Silence</th>\n",
       "      <td>The story of two Catholic missionaries (Andrew...</td>\n",
       "      <td>1</td>\n",
       "    </tr>\n",
       "    <tr>\n",
       "      <th>Manchester by the Sea</th>\n",
       "      <td>Lee Chandler is a brooding, irritable loner wh...</td>\n",
       "      <td>1</td>\n",
       "    </tr>\n",
       "    <tr>\n",
       "      <th>Dirty Grandpa</th>\n",
       "      <td>Jason Kelly, the grandson of Dick Kelly, loses...</td>\n",
       "      <td>0</td>\n",
       "    </tr>\n",
       "  </tbody>\n",
       "</table>\n",
       "</div>"
      ],
      "text/plain": [
       "                                                                    plot  \\\n",
       "name                                                                       \n",
       "Doctor Strange         Marvel's \"Doctor Strange\" follows the story of...   \n",
       "Sleight                A young street magician (Jacob Latimore) is le...   \n",
       "Silence                The story of two Catholic missionaries (Andrew...   \n",
       "Manchester by the Sea  Lee Chandler is a brooding, irritable loner wh...   \n",
       "Dirty Grandpa          Jason Kelly, the grandson of Dick Kelly, loses...   \n",
       "\n",
       "                       oscar_nom  \n",
       "name                              \n",
       "Doctor Strange                 1  \n",
       "Sleight                        0  \n",
       "Silence                        1  \n",
       "Manchester by the Sea          1  \n",
       "Dirty Grandpa                  0  "
      ]
     },
     "execution_count": 3,
     "metadata": {},
     "output_type": "execute_result"
    },
    {
     "data": {
      "application/javascript": [
       "\n",
       "            setTimeout(function() {\n",
       "                var nbb_cell_id = 3;\n",
       "                var nbb_unformatted_code = \"movies_sel = movies[[\\\"name\\\", \\\"plot\\\"]]\\n\\nawards_sel = awards[[\\\"name\\\", \\\"oscar wins and nominations\\\"]]\\n\\nawards_sel[\\\"oscar_nom\\\"] = [\\n    1 if x != 0 else 0 for x in awards_sel[\\\"oscar wins and nominations\\\"]\\n]\\n\\ndf = pd.merge(movies_sel, awards_sel, how=\\\"left\\\", on=\\\"name\\\")\\n\\ndf.set_index(\\\"name\\\", inplace=True)\\n\\ndf.drop([\\\"oscar wins and nominations\\\"], axis=1, inplace=True)\\n\\ndf[\\\"plot\\\"].fillna(\\\"\\\", inplace=True)\\n\\ndf.head()\";\n",
       "                var nbb_formatted_code = \"movies_sel = movies[[\\\"name\\\", \\\"plot\\\"]]\\n\\nawards_sel = awards[[\\\"name\\\", \\\"oscar wins and nominations\\\"]]\\n\\nawards_sel[\\\"oscar_nom\\\"] = [\\n    1 if x != 0 else 0 for x in awards_sel[\\\"oscar wins and nominations\\\"]\\n]\\n\\ndf = pd.merge(movies_sel, awards_sel, how=\\\"left\\\", on=\\\"name\\\")\\n\\ndf.set_index(\\\"name\\\", inplace=True)\\n\\ndf.drop([\\\"oscar wins and nominations\\\"], axis=1, inplace=True)\\n\\ndf[\\\"plot\\\"].fillna(\\\"\\\", inplace=True)\\n\\ndf.head()\";\n",
       "                var nbb_cells = Jupyter.notebook.get_cells();\n",
       "                for (var i = 0; i < nbb_cells.length; ++i) {\n",
       "                    if (nbb_cells[i].input_prompt_number == nbb_cell_id) {\n",
       "                        if (nbb_cells[i].get_text() == nbb_unformatted_code) {\n",
       "                             nbb_cells[i].set_text(nbb_formatted_code);\n",
       "                        }\n",
       "                        break;\n",
       "                    }\n",
       "                }\n",
       "            }, 500);\n",
       "            "
      ],
      "text/plain": [
       "<IPython.core.display.Javascript object>"
      ]
     },
     "metadata": {},
     "output_type": "display_data"
    }
   ],
   "source": [
    "movies_sel = movies[[\"name\", \"plot\"]]\n",
    "\n",
    "awards_sel = awards[[\"name\", \"oscar wins and nominations\"]]\n",
    "\n",
    "awards_sel[\"oscar_nom\"] = [\n",
    "    1 if x != 0 else 0 for x in awards_sel[\"oscar wins and nominations\"]\n",
    "]\n",
    "\n",
    "df = pd.merge(movies_sel, awards_sel, how=\"left\", on=\"name\")\n",
    "\n",
    "df.set_index(\"name\", inplace=True)\n",
    "\n",
    "df.drop([\"oscar wins and nominations\"], axis=1, inplace=True)\n",
    "\n",
    "df[\"plot\"].fillna(\"\", inplace=True)\n",
    "\n",
    "df.head()"
   ]
  },
  {
   "cell_type": "markdown",
   "metadata": {},
   "source": [
    "## Exploring the Genre Feature"
   ]
  },
  {
   "cell_type": "code",
   "execution_count": 4,
   "metadata": {},
   "outputs": [
    {
     "data": {
      "text/html": [
       "<div>\n",
       "<style scoped>\n",
       "    .dataframe tbody tr th:only-of-type {\n",
       "        vertical-align: middle;\n",
       "    }\n",
       "\n",
       "    .dataframe tbody tr th {\n",
       "        vertical-align: top;\n",
       "    }\n",
       "\n",
       "    .dataframe thead th {\n",
       "        text-align: right;\n",
       "    }\n",
       "</style>\n",
       "<table border=\"1\" class=\"dataframe\">\n",
       "  <thead>\n",
       "    <tr style=\"text-align: right;\">\n",
       "      <th></th>\n",
       "      <th>name</th>\n",
       "      <th>genre_kaggle</th>\n",
       "      <th>oscar wins and nominations</th>\n",
       "      <th>oscar_nom</th>\n",
       "    </tr>\n",
       "  </thead>\n",
       "  <tbody>\n",
       "    <tr>\n",
       "      <th>0</th>\n",
       "      <td>Doctor Strange</td>\n",
       "      <td>Action</td>\n",
       "      <td>1</td>\n",
       "      <td>1</td>\n",
       "    </tr>\n",
       "    <tr>\n",
       "      <th>1</th>\n",
       "      <td>Sleight</td>\n",
       "      <td>Action</td>\n",
       "      <td>0</td>\n",
       "      <td>0</td>\n",
       "    </tr>\n",
       "    <tr>\n",
       "      <th>2</th>\n",
       "      <td>Silence</td>\n",
       "      <td>Adventure</td>\n",
       "      <td>1</td>\n",
       "      <td>1</td>\n",
       "    </tr>\n",
       "    <tr>\n",
       "      <th>3</th>\n",
       "      <td>Manchester by the Sea</td>\n",
       "      <td>Drama</td>\n",
       "      <td>2</td>\n",
       "      <td>1</td>\n",
       "    </tr>\n",
       "    <tr>\n",
       "      <th>4</th>\n",
       "      <td>Dirty Grandpa</td>\n",
       "      <td>Comedy</td>\n",
       "      <td>0</td>\n",
       "      <td>0</td>\n",
       "    </tr>\n",
       "    <tr>\n",
       "      <th>...</th>\n",
       "      <td>...</td>\n",
       "      <td>...</td>\n",
       "      <td>...</td>\n",
       "      <td>...</td>\n",
       "    </tr>\n",
       "    <tr>\n",
       "      <th>6251</th>\n",
       "      <td>Hoosiers</td>\n",
       "      <td>Drama</td>\n",
       "      <td>2</td>\n",
       "      <td>1</td>\n",
       "    </tr>\n",
       "    <tr>\n",
       "      <th>6252</th>\n",
       "      <td>Off Beat</td>\n",
       "      <td>Comedy</td>\n",
       "      <td>0</td>\n",
       "      <td>0</td>\n",
       "    </tr>\n",
       "    <tr>\n",
       "      <th>6253</th>\n",
       "      <td>Big Trouble in Little China</td>\n",
       "      <td>Action</td>\n",
       "      <td>0</td>\n",
       "      <td>0</td>\n",
       "    </tr>\n",
       "    <tr>\n",
       "      <th>6254</th>\n",
       "      <td>Biggles: Adventures in Time</td>\n",
       "      <td>Adventure</td>\n",
       "      <td>0</td>\n",
       "      <td>0</td>\n",
       "    </tr>\n",
       "    <tr>\n",
       "      <th>6255</th>\n",
       "      <td>Soul Man</td>\n",
       "      <td>Comedy</td>\n",
       "      <td>0</td>\n",
       "      <td>0</td>\n",
       "    </tr>\n",
       "  </tbody>\n",
       "</table>\n",
       "<p>6256 rows × 4 columns</p>\n",
       "</div>"
      ],
      "text/plain": [
       "                             name genre_kaggle  oscar wins and nominations  \\\n",
       "0                  Doctor Strange       Action                           1   \n",
       "1                         Sleight       Action                           0   \n",
       "2                         Silence    Adventure                           1   \n",
       "3           Manchester by the Sea        Drama                           2   \n",
       "4                   Dirty Grandpa       Comedy                           0   \n",
       "...                           ...          ...                         ...   \n",
       "6251                     Hoosiers        Drama                           2   \n",
       "6252                     Off Beat       Comedy                           0   \n",
       "6253  Big Trouble in Little China       Action                           0   \n",
       "6254  Biggles: Adventures in Time    Adventure                           0   \n",
       "6255                     Soul Man       Comedy                           0   \n",
       "\n",
       "      oscar_nom  \n",
       "0             1  \n",
       "1             0  \n",
       "2             1  \n",
       "3             1  \n",
       "4             0  \n",
       "...         ...  \n",
       "6251          1  \n",
       "6252          0  \n",
       "6253          0  \n",
       "6254          0  \n",
       "6255          0  \n",
       "\n",
       "[6256 rows x 4 columns]"
      ]
     },
     "execution_count": 4,
     "metadata": {},
     "output_type": "execute_result"
    },
    {
     "data": {
      "application/javascript": [
       "\n",
       "            setTimeout(function() {\n",
       "                var nbb_cell_id = 4;\n",
       "                var nbb_unformatted_code = \"# genre and target\\n\\nmovies_with_genre = movies[[\\\"name\\\", \\\"genre_kaggle\\\"]]\\ngenres_with_target = pd.merge(movies_with_genre, awards_sel, on=\\\"name\\\", how=\\\"left\\\")\\ngenres_with_target\";\n",
       "                var nbb_formatted_code = \"# genre and target\\n\\nmovies_with_genre = movies[[\\\"name\\\", \\\"genre_kaggle\\\"]]\\ngenres_with_target = pd.merge(movies_with_genre, awards_sel, on=\\\"name\\\", how=\\\"left\\\")\\ngenres_with_target\";\n",
       "                var nbb_cells = Jupyter.notebook.get_cells();\n",
       "                for (var i = 0; i < nbb_cells.length; ++i) {\n",
       "                    if (nbb_cells[i].input_prompt_number == nbb_cell_id) {\n",
       "                        if (nbb_cells[i].get_text() == nbb_unformatted_code) {\n",
       "                             nbb_cells[i].set_text(nbb_formatted_code);\n",
       "                        }\n",
       "                        break;\n",
       "                    }\n",
       "                }\n",
       "            }, 500);\n",
       "            "
      ],
      "text/plain": [
       "<IPython.core.display.Javascript object>"
      ]
     },
     "metadata": {},
     "output_type": "display_data"
    }
   ],
   "source": [
    "# genre and target\n",
    "\n",
    "movies_with_genre = movies[[\"name\", \"genre_kaggle\"]]\n",
    "genres_with_target = pd.merge(movies_with_genre, awards_sel, on=\"name\", how=\"left\")\n",
    "genres_with_target"
   ]
  },
  {
   "cell_type": "code",
   "execution_count": 5,
   "metadata": {},
   "outputs": [
    {
     "name": "stdout",
     "output_type": "stream",
     "text": [
      "genre_kaggle  oscar_nom\n",
      "Action        0            1113\n",
      "              1             130\n",
      "Adventure     0             301\n",
      "              1              75\n",
      "Animation     0             190\n",
      "              1              76\n",
      "Biography     0             208\n",
      "              1             126\n",
      "Comedy        0            1785\n",
      "              1             163\n",
      "Crime         0             385\n",
      "              1              79\n",
      "Drama         0             982\n",
      "              1             255\n",
      "Family        0              13\n",
      "              1               1\n",
      "Fantasy       0              27\n",
      "              1               2\n",
      "Horror        0             254\n",
      "              1               5\n",
      "Musical       0               2\n",
      "Mystery       0              36\n",
      "              1               1\n",
      "Romance       0              14\n",
      "Sci-Fi        0              13\n",
      "Thriller      0              16\n",
      "War           0               2\n",
      "Western       0               2\n",
      "Name: oscar_nom, dtype: int64\n"
     ]
    },
    {
     "data": {
      "application/javascript": [
       "\n",
       "            setTimeout(function() {\n",
       "                var nbb_cell_id = 5;\n",
       "                var nbb_unformatted_code = \"oscars_by_genre = genres_with_target.groupby(\\\"genre_kaggle\\\")[\\\"oscar_nom\\\"].value_counts()\\nprint(oscars_by_genre)\";\n",
       "                var nbb_formatted_code = \"oscars_by_genre = genres_with_target.groupby(\\\"genre_kaggle\\\")[\\\"oscar_nom\\\"].value_counts()\\nprint(oscars_by_genre)\";\n",
       "                var nbb_cells = Jupyter.notebook.get_cells();\n",
       "                for (var i = 0; i < nbb_cells.length; ++i) {\n",
       "                    if (nbb_cells[i].input_prompt_number == nbb_cell_id) {\n",
       "                        if (nbb_cells[i].get_text() == nbb_unformatted_code) {\n",
       "                             nbb_cells[i].set_text(nbb_formatted_code);\n",
       "                        }\n",
       "                        break;\n",
       "                    }\n",
       "                }\n",
       "            }, 500);\n",
       "            "
      ],
      "text/plain": [
       "<IPython.core.display.Javascript object>"
      ]
     },
     "metadata": {},
     "output_type": "display_data"
    }
   ],
   "source": [
    "oscars_by_genre = genres_with_target.groupby(\"genre_kaggle\")[\"oscar_nom\"].value_counts()\n",
    "print(oscars_by_genre)"
   ]
  },
  {
   "cell_type": "code",
   "execution_count": 6,
   "metadata": {},
   "outputs": [
    {
     "name": "stdout",
     "output_type": "stream",
     "text": [
      "              name  oscar wins and nominations  oscar_nom\n",
      "genre_kaggle                                             \n",
      "Action        1243                        1243       1243\n",
      "Adventure      376                         376        376\n",
      "Animation      266                         266        266\n",
      "Biography      334                         334        334\n",
      "Comedy        1948                        1948       1948\n",
      "Crime          464                         464        464\n",
      "Drama         1237                        1237       1237\n",
      "Family          14                          14         14\n",
      "Fantasy         29                          29         29\n",
      "Horror         259                         259        259\n",
      "Musical          2                           2          2\n",
      "Mystery         37                          37         37\n",
      "Romance         14                          14         14\n",
      "Sci-Fi          13                          13         13\n",
      "Thriller        16                          16         16\n",
      "War              2                           2          2\n",
      "Western          2                           2          2\n"
     ]
    },
    {
     "data": {
      "application/javascript": [
       "\n",
       "            setTimeout(function() {\n",
       "                var nbb_cell_id = 6;\n",
       "                var nbb_unformatted_code = \"totals_genre = genres_with_target.groupby(\\\"genre_kaggle\\\").count()\\nprint(totals_genre)\";\n",
       "                var nbb_formatted_code = \"totals_genre = genres_with_target.groupby(\\\"genre_kaggle\\\").count()\\nprint(totals_genre)\";\n",
       "                var nbb_cells = Jupyter.notebook.get_cells();\n",
       "                for (var i = 0; i < nbb_cells.length; ++i) {\n",
       "                    if (nbb_cells[i].input_prompt_number == nbb_cell_id) {\n",
       "                        if (nbb_cells[i].get_text() == nbb_unformatted_code) {\n",
       "                             nbb_cells[i].set_text(nbb_formatted_code);\n",
       "                        }\n",
       "                        break;\n",
       "                    }\n",
       "                }\n",
       "            }, 500);\n",
       "            "
      ],
      "text/plain": [
       "<IPython.core.display.Javascript object>"
      ]
     },
     "metadata": {},
     "output_type": "display_data"
    }
   ],
   "source": [
    "totals_genre = genres_with_target.groupby(\"genre_kaggle\").count()\n",
    "print(totals_genre)"
   ]
  },
  {
   "cell_type": "code",
   "execution_count": 7,
   "metadata": {
    "scrolled": true
   },
   "outputs": [
    {
     "data": {
      "text/html": [
       "<div>\n",
       "<style scoped>\n",
       "    .dataframe tbody tr th:only-of-type {\n",
       "        vertical-align: middle;\n",
       "    }\n",
       "\n",
       "    .dataframe tbody tr th {\n",
       "        vertical-align: top;\n",
       "    }\n",
       "\n",
       "    .dataframe thead th {\n",
       "        text-align: right;\n",
       "    }\n",
       "</style>\n",
       "<table border=\"1\" class=\"dataframe\">\n",
       "  <thead>\n",
       "    <tr style=\"text-align: right;\">\n",
       "      <th></th>\n",
       "      <th>plot</th>\n",
       "      <th>oscar_nom</th>\n",
       "      <th>Action</th>\n",
       "      <th>Adventure</th>\n",
       "      <th>Animation</th>\n",
       "      <th>Biography</th>\n",
       "      <th>Comedy</th>\n",
       "      <th>Crime</th>\n",
       "      <th>Drama</th>\n",
       "      <th>Family</th>\n",
       "      <th>Fantasy</th>\n",
       "      <th>Horror</th>\n",
       "      <th>Musical</th>\n",
       "      <th>Mystery</th>\n",
       "      <th>Romance</th>\n",
       "      <th>Sci-Fi</th>\n",
       "      <th>Thriller</th>\n",
       "      <th>War</th>\n",
       "      <th>Western</th>\n",
       "    </tr>\n",
       "    <tr>\n",
       "      <th>name</th>\n",
       "      <th></th>\n",
       "      <th></th>\n",
       "      <th></th>\n",
       "      <th></th>\n",
       "      <th></th>\n",
       "      <th></th>\n",
       "      <th></th>\n",
       "      <th></th>\n",
       "      <th></th>\n",
       "      <th></th>\n",
       "      <th></th>\n",
       "      <th></th>\n",
       "      <th></th>\n",
       "      <th></th>\n",
       "      <th></th>\n",
       "      <th></th>\n",
       "      <th></th>\n",
       "      <th></th>\n",
       "      <th></th>\n",
       "    </tr>\n",
       "  </thead>\n",
       "  <tbody>\n",
       "    <tr>\n",
       "      <th>Doctor Strange</th>\n",
       "      <td>Marvel's \"Doctor Strange\" follows the story of...</td>\n",
       "      <td>1</td>\n",
       "      <td>1</td>\n",
       "      <td>0</td>\n",
       "      <td>0</td>\n",
       "      <td>0</td>\n",
       "      <td>0</td>\n",
       "      <td>0</td>\n",
       "      <td>0</td>\n",
       "      <td>0</td>\n",
       "      <td>0</td>\n",
       "      <td>0</td>\n",
       "      <td>0</td>\n",
       "      <td>0</td>\n",
       "      <td>0</td>\n",
       "      <td>0</td>\n",
       "      <td>0</td>\n",
       "      <td>0</td>\n",
       "      <td>0</td>\n",
       "    </tr>\n",
       "    <tr>\n",
       "      <th>Sleight</th>\n",
       "      <td>A young street magician (Jacob Latimore) is le...</td>\n",
       "      <td>0</td>\n",
       "      <td>1</td>\n",
       "      <td>0</td>\n",
       "      <td>0</td>\n",
       "      <td>0</td>\n",
       "      <td>0</td>\n",
       "      <td>0</td>\n",
       "      <td>0</td>\n",
       "      <td>0</td>\n",
       "      <td>0</td>\n",
       "      <td>0</td>\n",
       "      <td>0</td>\n",
       "      <td>0</td>\n",
       "      <td>0</td>\n",
       "      <td>0</td>\n",
       "      <td>0</td>\n",
       "      <td>0</td>\n",
       "      <td>0</td>\n",
       "    </tr>\n",
       "    <tr>\n",
       "      <th>Silence</th>\n",
       "      <td>The story of two Catholic missionaries (Andrew...</td>\n",
       "      <td>1</td>\n",
       "      <td>0</td>\n",
       "      <td>1</td>\n",
       "      <td>0</td>\n",
       "      <td>0</td>\n",
       "      <td>0</td>\n",
       "      <td>0</td>\n",
       "      <td>0</td>\n",
       "      <td>0</td>\n",
       "      <td>0</td>\n",
       "      <td>0</td>\n",
       "      <td>0</td>\n",
       "      <td>0</td>\n",
       "      <td>0</td>\n",
       "      <td>0</td>\n",
       "      <td>0</td>\n",
       "      <td>0</td>\n",
       "      <td>0</td>\n",
       "    </tr>\n",
       "    <tr>\n",
       "      <th>Manchester by the Sea</th>\n",
       "      <td>Lee Chandler is a brooding, irritable loner wh...</td>\n",
       "      <td>1</td>\n",
       "      <td>0</td>\n",
       "      <td>0</td>\n",
       "      <td>0</td>\n",
       "      <td>0</td>\n",
       "      <td>0</td>\n",
       "      <td>0</td>\n",
       "      <td>1</td>\n",
       "      <td>0</td>\n",
       "      <td>0</td>\n",
       "      <td>0</td>\n",
       "      <td>0</td>\n",
       "      <td>0</td>\n",
       "      <td>0</td>\n",
       "      <td>0</td>\n",
       "      <td>0</td>\n",
       "      <td>0</td>\n",
       "      <td>0</td>\n",
       "    </tr>\n",
       "    <tr>\n",
       "      <th>Dirty Grandpa</th>\n",
       "      <td>Jason Kelly, the grandson of Dick Kelly, loses...</td>\n",
       "      <td>0</td>\n",
       "      <td>0</td>\n",
       "      <td>0</td>\n",
       "      <td>0</td>\n",
       "      <td>0</td>\n",
       "      <td>1</td>\n",
       "      <td>0</td>\n",
       "      <td>0</td>\n",
       "      <td>0</td>\n",
       "      <td>0</td>\n",
       "      <td>0</td>\n",
       "      <td>0</td>\n",
       "      <td>0</td>\n",
       "      <td>0</td>\n",
       "      <td>0</td>\n",
       "      <td>0</td>\n",
       "      <td>0</td>\n",
       "      <td>0</td>\n",
       "    </tr>\n",
       "    <tr>\n",
       "      <th>...</th>\n",
       "      <td>...</td>\n",
       "      <td>...</td>\n",
       "      <td>...</td>\n",
       "      <td>...</td>\n",
       "      <td>...</td>\n",
       "      <td>...</td>\n",
       "      <td>...</td>\n",
       "      <td>...</td>\n",
       "      <td>...</td>\n",
       "      <td>...</td>\n",
       "      <td>...</td>\n",
       "      <td>...</td>\n",
       "      <td>...</td>\n",
       "      <td>...</td>\n",
       "      <td>...</td>\n",
       "      <td>...</td>\n",
       "      <td>...</td>\n",
       "      <td>...</td>\n",
       "      <td>...</td>\n",
       "    </tr>\n",
       "    <tr>\n",
       "      <th>Hoosiers</th>\n",
       "      <td>Based on the true story of a small-town Indian...</td>\n",
       "      <td>1</td>\n",
       "      <td>0</td>\n",
       "      <td>0</td>\n",
       "      <td>0</td>\n",
       "      <td>0</td>\n",
       "      <td>0</td>\n",
       "      <td>0</td>\n",
       "      <td>1</td>\n",
       "      <td>0</td>\n",
       "      <td>0</td>\n",
       "      <td>0</td>\n",
       "      <td>0</td>\n",
       "      <td>0</td>\n",
       "      <td>0</td>\n",
       "      <td>0</td>\n",
       "      <td>0</td>\n",
       "      <td>0</td>\n",
       "      <td>0</td>\n",
       "    </tr>\n",
       "    <tr>\n",
       "      <th>Off Beat</th>\n",
       "      <td>Traumatised paramedic looks for the woman of h...</td>\n",
       "      <td>0</td>\n",
       "      <td>0</td>\n",
       "      <td>0</td>\n",
       "      <td>0</td>\n",
       "      <td>0</td>\n",
       "      <td>1</td>\n",
       "      <td>0</td>\n",
       "      <td>0</td>\n",
       "      <td>0</td>\n",
       "      <td>0</td>\n",
       "      <td>0</td>\n",
       "      <td>0</td>\n",
       "      <td>0</td>\n",
       "      <td>0</td>\n",
       "      <td>0</td>\n",
       "      <td>0</td>\n",
       "      <td>0</td>\n",
       "      <td>0</td>\n",
       "    </tr>\n",
       "    <tr>\n",
       "      <th>Big Trouble in Little China</th>\n",
       "      <td>Truck driver Jack Burton arrives in Chinatown,...</td>\n",
       "      <td>0</td>\n",
       "      <td>1</td>\n",
       "      <td>0</td>\n",
       "      <td>0</td>\n",
       "      <td>0</td>\n",
       "      <td>0</td>\n",
       "      <td>0</td>\n",
       "      <td>0</td>\n",
       "      <td>0</td>\n",
       "      <td>0</td>\n",
       "      <td>0</td>\n",
       "      <td>0</td>\n",
       "      <td>0</td>\n",
       "      <td>0</td>\n",
       "      <td>0</td>\n",
       "      <td>0</td>\n",
       "      <td>0</td>\n",
       "      <td>0</td>\n",
       "    </tr>\n",
       "    <tr>\n",
       "      <th>Biggles: Adventures in Time</th>\n",
       "      <td>One minute the New Yorker advertising expert J...</td>\n",
       "      <td>0</td>\n",
       "      <td>0</td>\n",
       "      <td>1</td>\n",
       "      <td>0</td>\n",
       "      <td>0</td>\n",
       "      <td>0</td>\n",
       "      <td>0</td>\n",
       "      <td>0</td>\n",
       "      <td>0</td>\n",
       "      <td>0</td>\n",
       "      <td>0</td>\n",
       "      <td>0</td>\n",
       "      <td>0</td>\n",
       "      <td>0</td>\n",
       "      <td>0</td>\n",
       "      <td>0</td>\n",
       "      <td>0</td>\n",
       "      <td>0</td>\n",
       "    </tr>\n",
       "    <tr>\n",
       "      <th>Soul Man</th>\n",
       "      <td>Mark doesn't expect any problems in going to c...</td>\n",
       "      <td>0</td>\n",
       "      <td>0</td>\n",
       "      <td>0</td>\n",
       "      <td>0</td>\n",
       "      <td>0</td>\n",
       "      <td>1</td>\n",
       "      <td>0</td>\n",
       "      <td>0</td>\n",
       "      <td>0</td>\n",
       "      <td>0</td>\n",
       "      <td>0</td>\n",
       "      <td>0</td>\n",
       "      <td>0</td>\n",
       "      <td>0</td>\n",
       "      <td>0</td>\n",
       "      <td>0</td>\n",
       "      <td>0</td>\n",
       "      <td>0</td>\n",
       "    </tr>\n",
       "  </tbody>\n",
       "</table>\n",
       "<p>6256 rows × 19 columns</p>\n",
       "</div>"
      ],
      "text/plain": [
       "                                                                          plot  \\\n",
       "name                                                                             \n",
       "Doctor Strange               Marvel's \"Doctor Strange\" follows the story of...   \n",
       "Sleight                      A young street magician (Jacob Latimore) is le...   \n",
       "Silence                      The story of two Catholic missionaries (Andrew...   \n",
       "Manchester by the Sea        Lee Chandler is a brooding, irritable loner wh...   \n",
       "Dirty Grandpa                Jason Kelly, the grandson of Dick Kelly, loses...   \n",
       "...                                                                        ...   \n",
       "Hoosiers                     Based on the true story of a small-town Indian...   \n",
       "Off Beat                     Traumatised paramedic looks for the woman of h...   \n",
       "Big Trouble in Little China  Truck driver Jack Burton arrives in Chinatown,...   \n",
       "Biggles: Adventures in Time  One minute the New Yorker advertising expert J...   \n",
       "Soul Man                     Mark doesn't expect any problems in going to c...   \n",
       "\n",
       "                             oscar_nom  Action  Adventure  Animation  \\\n",
       "name                                                                   \n",
       "Doctor Strange                       1       1          0          0   \n",
       "Sleight                              0       1          0          0   \n",
       "Silence                              1       0          1          0   \n",
       "Manchester by the Sea                1       0          0          0   \n",
       "Dirty Grandpa                        0       0          0          0   \n",
       "...                                ...     ...        ...        ...   \n",
       "Hoosiers                             1       0          0          0   \n",
       "Off Beat                             0       0          0          0   \n",
       "Big Trouble in Little China          0       1          0          0   \n",
       "Biggles: Adventures in Time          0       0          1          0   \n",
       "Soul Man                             0       0          0          0   \n",
       "\n",
       "                             Biography  Comedy  Crime  Drama  Family  Fantasy  \\\n",
       "name                                                                            \n",
       "Doctor Strange                       0       0      0      0       0        0   \n",
       "Sleight                              0       0      0      0       0        0   \n",
       "Silence                              0       0      0      0       0        0   \n",
       "Manchester by the Sea                0       0      0      1       0        0   \n",
       "Dirty Grandpa                        0       1      0      0       0        0   \n",
       "...                                ...     ...    ...    ...     ...      ...   \n",
       "Hoosiers                             0       0      0      1       0        0   \n",
       "Off Beat                             0       1      0      0       0        0   \n",
       "Big Trouble in Little China          0       0      0      0       0        0   \n",
       "Biggles: Adventures in Time          0       0      0      0       0        0   \n",
       "Soul Man                             0       1      0      0       0        0   \n",
       "\n",
       "                             Horror  Musical  Mystery  Romance  Sci-Fi  \\\n",
       "name                                                                     \n",
       "Doctor Strange                    0        0        0        0       0   \n",
       "Sleight                           0        0        0        0       0   \n",
       "Silence                           0        0        0        0       0   \n",
       "Manchester by the Sea             0        0        0        0       0   \n",
       "Dirty Grandpa                     0        0        0        0       0   \n",
       "...                             ...      ...      ...      ...     ...   \n",
       "Hoosiers                          0        0        0        0       0   \n",
       "Off Beat                          0        0        0        0       0   \n",
       "Big Trouble in Little China       0        0        0        0       0   \n",
       "Biggles: Adventures in Time       0        0        0        0       0   \n",
       "Soul Man                          0        0        0        0       0   \n",
       "\n",
       "                             Thriller  War  Western  \n",
       "name                                                 \n",
       "Doctor Strange                      0    0        0  \n",
       "Sleight                             0    0        0  \n",
       "Silence                             0    0        0  \n",
       "Manchester by the Sea               0    0        0  \n",
       "Dirty Grandpa                       0    0        0  \n",
       "...                               ...  ...      ...  \n",
       "Hoosiers                            0    0        0  \n",
       "Off Beat                            0    0        0  \n",
       "Big Trouble in Little China         0    0        0  \n",
       "Biggles: Adventures in Time         0    0        0  \n",
       "Soul Man                            0    0        0  \n",
       "\n",
       "[6256 rows x 19 columns]"
      ]
     },
     "execution_count": 7,
     "metadata": {},
     "output_type": "execute_result"
    },
    {
     "data": {
      "application/javascript": [
       "\n",
       "            setTimeout(function() {\n",
       "                var nbb_cell_id = 7;\n",
       "                var nbb_unformatted_code = \"movies01 = movies.copy()\\nmovies01.set_index(\\\"name\\\", inplace=True)\\ngenres = pd.get_dummies(movies01[\\\"genre_kaggle\\\"])  # one hot encoding genres\\ndf = pd.merge(df, genres, how=\\\"left\\\", on=\\\"name\\\")\\ndf\";\n",
       "                var nbb_formatted_code = \"movies01 = movies.copy()\\nmovies01.set_index(\\\"name\\\", inplace=True)\\ngenres = pd.get_dummies(movies01[\\\"genre_kaggle\\\"])  # one hot encoding genres\\ndf = pd.merge(df, genres, how=\\\"left\\\", on=\\\"name\\\")\\ndf\";\n",
       "                var nbb_cells = Jupyter.notebook.get_cells();\n",
       "                for (var i = 0; i < nbb_cells.length; ++i) {\n",
       "                    if (nbb_cells[i].input_prompt_number == nbb_cell_id) {\n",
       "                        if (nbb_cells[i].get_text() == nbb_unformatted_code) {\n",
       "                             nbb_cells[i].set_text(nbb_formatted_code);\n",
       "                        }\n",
       "                        break;\n",
       "                    }\n",
       "                }\n",
       "            }, 500);\n",
       "            "
      ],
      "text/plain": [
       "<IPython.core.display.Javascript object>"
      ]
     },
     "metadata": {},
     "output_type": "display_data"
    }
   ],
   "source": [
    "movies01 = movies.copy()\n",
    "movies01.set_index(\"name\", inplace=True)\n",
    "genres = pd.get_dummies(movies01[\"genre_kaggle\"])  # one hot encoding genres\n",
    "df = pd.merge(df, genres, how=\"left\", on=\"name\")\n",
    "df"
   ]
  },
  {
   "cell_type": "markdown",
   "metadata": {},
   "source": [
    "## Cleaning the text"
   ]
  },
  {
   "cell_type": "markdown",
   "metadata": {},
   "source": [
    "Remove punctuation"
   ]
  },
  {
   "cell_type": "code",
   "execution_count": 8,
   "metadata": {},
   "outputs": [
    {
     "data": {
      "application/javascript": [
       "\n",
       "            setTimeout(function() {\n",
       "                var nbb_cell_id = 8;\n",
       "                var nbb_unformatted_code = \"import string\\n\\n\\ndef remove_punct(text):\\n    table = str.maketrans(\\\"\\\", \\\"\\\", string.punctuation)\\n    return text.translate(table)\\n\\n\\ndf[\\\"plot\\\"] = [remove_punct(x) for x in df[\\\"plot\\\"]]\";\n",
       "                var nbb_formatted_code = \"import string\\n\\n\\ndef remove_punct(text):\\n    table = str.maketrans(\\\"\\\", \\\"\\\", string.punctuation)\\n    return text.translate(table)\\n\\n\\ndf[\\\"plot\\\"] = [remove_punct(x) for x in df[\\\"plot\\\"]]\";\n",
       "                var nbb_cells = Jupyter.notebook.get_cells();\n",
       "                for (var i = 0; i < nbb_cells.length; ++i) {\n",
       "                    if (nbb_cells[i].input_prompt_number == nbb_cell_id) {\n",
       "                        if (nbb_cells[i].get_text() == nbb_unformatted_code) {\n",
       "                             nbb_cells[i].set_text(nbb_formatted_code);\n",
       "                        }\n",
       "                        break;\n",
       "                    }\n",
       "                }\n",
       "            }, 500);\n",
       "            "
      ],
      "text/plain": [
       "<IPython.core.display.Javascript object>"
      ]
     },
     "metadata": {},
     "output_type": "display_data"
    }
   ],
   "source": [
    "import string\n",
    "\n",
    "def remove_punct(text):\n",
    "    table = str.maketrans(\"\", \"\", string.punctuation)\n",
    "    return text.translate(table)\n",
    "\n",
    "\n",
    "df[\"plot\"] = [remove_punct(x) for x in df[\"plot\"]]"
   ]
  },
  {
   "cell_type": "markdown",
   "metadata": {},
   "source": [
    "Remove stopwords"
   ]
  },
  {
   "cell_type": "code",
   "execution_count": 9,
   "metadata": {},
   "outputs": [
    {
     "data": {
      "application/javascript": [
       "\n",
       "            setTimeout(function() {\n",
       "                var nbb_cell_id = 9;\n",
       "                var nbb_unformatted_code = \"from nltk.corpus import stopwords\\n\\nstop = set(stopwords.words(\\\"english\\\"))\\n\\n\\ndef remove_stopwords(text):\\n    text = [word.lower() for word in text.split() if word.lower() not in stop]\\n\\n    return \\\" \\\".join(text)\\n\\n\\ndf[\\\"plot\\\"] = [remove_stopwords(x) for x in df[\\\"plot\\\"]]\";\n",
       "                var nbb_formatted_code = \"from nltk.corpus import stopwords\\n\\nstop = set(stopwords.words(\\\"english\\\"))\\n\\n\\ndef remove_stopwords(text):\\n    text = [word.lower() for word in text.split() if word.lower() not in stop]\\n\\n    return \\\" \\\".join(text)\\n\\n\\ndf[\\\"plot\\\"] = [remove_stopwords(x) for x in df[\\\"plot\\\"]]\";\n",
       "                var nbb_cells = Jupyter.notebook.get_cells();\n",
       "                for (var i = 0; i < nbb_cells.length; ++i) {\n",
       "                    if (nbb_cells[i].input_prompt_number == nbb_cell_id) {\n",
       "                        if (nbb_cells[i].get_text() == nbb_unformatted_code) {\n",
       "                             nbb_cells[i].set_text(nbb_formatted_code);\n",
       "                        }\n",
       "                        break;\n",
       "                    }\n",
       "                }\n",
       "            }, 500);\n",
       "            "
      ],
      "text/plain": [
       "<IPython.core.display.Javascript object>"
      ]
     },
     "metadata": {},
     "output_type": "display_data"
    }
   ],
   "source": [
    "from nltk.corpus import stopwords\n",
    "\n",
    "stop = set(stopwords.words(\"english\"))\n",
    "\n",
    "def remove_stopwords(text):\n",
    "    text = [word.lower() for word in text.split() if word.lower() not in stop]\n",
    "\n",
    "    return \" \".join(text)\n",
    "\n",
    "\n",
    "df[\"plot\"] = [remove_stopwords(x) for x in df[\"plot\"]]"
   ]
  },
  {
   "cell_type": "markdown",
   "metadata": {},
   "source": [
    "Stemming. Bundling together words of same root.\n"
   ]
  },
  {
   "cell_type": "code",
   "execution_count": 10,
   "metadata": {},
   "outputs": [
    {
     "data": {
      "application/javascript": [
       "\n",
       "            setTimeout(function() {\n",
       "                var nbb_cell_id = 10;\n",
       "                var nbb_unformatted_code = \"from nltk.stem.porter import PorterStemmer\\n\\nstemmer = PorterStemmer()\\n\\n\\ndef stemming(text):\\n    text = [stemmer.stem(word) for word in text.split()]\\n\\n    return \\\" \\\".join(text)\\n\\n\\ndf[\\\"plot\\\"] = [stemming(x) for x in df[\\\"plot\\\"]]\";\n",
       "                var nbb_formatted_code = \"from nltk.stem.porter import PorterStemmer\\n\\nstemmer = PorterStemmer()\\n\\n\\ndef stemming(text):\\n    text = [stemmer.stem(word) for word in text.split()]\\n\\n    return \\\" \\\".join(text)\\n\\n\\ndf[\\\"plot\\\"] = [stemming(x) for x in df[\\\"plot\\\"]]\";\n",
       "                var nbb_cells = Jupyter.notebook.get_cells();\n",
       "                for (var i = 0; i < nbb_cells.length; ++i) {\n",
       "                    if (nbb_cells[i].input_prompt_number == nbb_cell_id) {\n",
       "                        if (nbb_cells[i].get_text() == nbb_unformatted_code) {\n",
       "                             nbb_cells[i].set_text(nbb_formatted_code);\n",
       "                        }\n",
       "                        break;\n",
       "                    }\n",
       "                }\n",
       "            }, 500);\n",
       "            "
      ],
      "text/plain": [
       "<IPython.core.display.Javascript object>"
      ]
     },
     "metadata": {},
     "output_type": "display_data"
    }
   ],
   "source": [
    "from nltk.stem.porter import PorterStemmer\n",
    "\n",
    "stemmer = PorterStemmer()\n",
    "\n",
    "\n",
    "def stemming(text):\n",
    "    text = [stemmer.stem(word) for word in text.split()]\n",
    "\n",
    "    return \" \".join(text)\n",
    "\n",
    "\n",
    "df[\"plot\"] = [stemming(x) for x in df[\"plot\"]]"
   ]
  },
  {
   "cell_type": "code",
   "execution_count": null,
   "metadata": {},
   "outputs": [],
   "source": [
    "df[\"plot_len\"] = [len(x) for x in df[\"plot\"]]"
   ]
  },
  {
   "cell_type": "markdown",
   "metadata": {},
   "source": [
    "## Split Dataset"
   ]
  },
  {
   "cell_type": "code",
   "execution_count": 11,
   "metadata": {},
   "outputs": [
    {
     "data": {
      "application/javascript": [
       "\n",
       "            setTimeout(function() {\n",
       "                var nbb_cell_id = 11;\n",
       "                var nbb_unformatted_code = \"from sklearn.model_selection import train_test_split\\n\\nX = df.drop(columns=[\\\"oscar_nom\\\"])\\ny = df[\\\"oscar_nom\\\"]\\n\\nX_train, X_test, y_train, y_test = train_test_split(\\n    X, y, test_size=0.2, random_state=2020\\n)\";\n",
       "                var nbb_formatted_code = \"from sklearn.model_selection import train_test_split\\n\\nX = df.drop(columns=[\\\"oscar_nom\\\"])\\ny = df[\\\"oscar_nom\\\"]\\n\\nX_train, X_test, y_train, y_test = train_test_split(\\n    X, y, test_size=0.2, random_state=2020\\n)\";\n",
       "                var nbb_cells = Jupyter.notebook.get_cells();\n",
       "                for (var i = 0; i < nbb_cells.length; ++i) {\n",
       "                    if (nbb_cells[i].input_prompt_number == nbb_cell_id) {\n",
       "                        if (nbb_cells[i].get_text() == nbb_unformatted_code) {\n",
       "                             nbb_cells[i].set_text(nbb_formatted_code);\n",
       "                        }\n",
       "                        break;\n",
       "                    }\n",
       "                }\n",
       "            }, 500);\n",
       "            "
      ],
      "text/plain": [
       "<IPython.core.display.Javascript object>"
      ]
     },
     "metadata": {},
     "output_type": "display_data"
    }
   ],
   "source": [
    "from sklearn.model_selection import train_test_split\n",
    "\n",
    "X = df.drop(columns=[\"oscar_nom\"])\n",
    "y = df[\"oscar_nom\"]\n",
    "\n",
    "X_train, X_test, y_train, y_test = train_test_split(\n",
    "    X, y, test_size=0.2, random_state=2020\n",
    ")"
   ]
  },
  {
   "cell_type": "markdown",
   "metadata": {},
   "source": [
    "## Vectorize and Transform the plot data\n",
    "\n",
    "source: https://stackoverflow.com/questions/54745482/what-is-the-difference-between-tfidf-vectorizer-and-tfidf-transformer"
   ]
  },
  {
   "cell_type": "code",
   "execution_count": 12,
   "metadata": {},
   "outputs": [
    {
     "name": "stdout",
     "output_type": "stream",
     "text": [
      "------------------------------\n",
      "Type: <class 'scipy.sparse.csr.csr_matrix'>\n",
      "Shape : (5004, 1048576)\n",
      "------------------------------\n",
      "See one vector to check: \n",
      "\n",
      "  (0, 1033652)\t0.10385610693185514\n",
      "  (0, 1015511)\t-0.11948353198878171\n",
      "  (0, 997755)\t0.12115446480632112\n",
      "  (0, 948532)\t-0.05102918994061008\n",
      "  (0, 909266)\t0.1062183007272417\n",
      "  (0, 867795)\t-0.15114227693281207\n",
      "  (0, 817057)\t0.13252486861332569\n",
      "  (0, 757124)\t0.5379279850964213\n",
      "  (0, 741456)\t0.13582696604250874\n",
      "  (0, 734116)\t-0.17107099394347813\n",
      "  (0, 714062)\t0.08928296155481945\n",
      "  (0, 706990)\t-0.10196467405300365\n",
      "  (0, 693849)\t0.12719409043330165\n",
      "  (0, 682267)\t0.3586186567309475\n",
      "  (0, 635832)\t-0.07826107800321287\n",
      "  (0, 614924)\t0.07483981171212886\n",
      "  (0, 566600)\t-0.08533805447152064\n",
      "  (0, 554005)\t0.07004619220783505\n",
      "  (0, 550842)\t0.2472406058814394\n",
      "  (0, 510525)\t0.0803316335308261\n",
      "  (0, 509830)\t-0.09091936890490247\n",
      "  (0, 423360)\t-0.10487223029497521\n",
      "  (0, 414189)\t0.1346656080888209\n",
      "  (0, 360502)\t0.09105087896084116\n",
      "  (0, 320697)\t0.115601627227929\n",
      "  :\t:\n",
      "  (5003, 475620)\t-0.11122950693991258\n",
      "  (5003, 473432)\t-0.19296608314461436\n",
      "  (5003, 458201)\t-0.07216416580284492\n",
      "  (5003, 457828)\t-0.08196484432956849\n",
      "  (5003, 456968)\t0.09365300855164571\n",
      "  (5003, 449993)\t-0.046301077810978926\n",
      "  (5003, 401769)\t-0.10497412543522906\n",
      "  (5003, 383956)\t-0.09189508561153488\n",
      "  (5003, 376130)\t-0.0704632513645392\n",
      "  (5003, 333213)\t0.0621379358655586\n",
      "  (5003, 323079)\t-0.07486550805252415\n",
      "  (5003, 311347)\t0.17796783168720548\n",
      "  (5003, 308068)\t-0.11785193578308997\n",
      "  (5003, 261218)\t0.05567802497207268\n",
      "  (5003, 249106)\t0.044967037131210925\n",
      "  (5003, 244780)\t0.08388858513233997\n",
      "  (5003, 210525)\t0.08606954257677285\n",
      "  (5003, 199878)\t0.11122950693991258\n",
      "  (5003, 152015)\t-0.1425831537462115\n",
      "  (5003, 112243)\t-0.05309819194696328\n",
      "  (5003, 109055)\t0.08914098447652005\n",
      "  (5003, 98369)\t0.06774167513742221\n",
      "  (5003, 41144)\t0.19296608314461436\n",
      "  (5003, 16619)\t0.054794949416493155\n",
      "  (5003, 4437)\t0.08831730141978784\n"
     ]
    },
    {
     "data": {
      "application/javascript": [
       "\n",
       "            setTimeout(function() {\n",
       "                var nbb_cell_id = 12;\n",
       "                var nbb_unformatted_code = \"from sklearn.feature_extraction.text import HashingVectorizer\\nfrom sklearn.feature_extraction.text import TfidfTransformer\\n\\n# hash plot\\ncv = HashingVectorizer().fit(X_train[\\\"plot\\\"])\\nX_train_counts = cv.transform(X_train[\\\"plot\\\"])\\nX_test_counts = cv.transform(X_test[\\\"plot\\\"])\\n\\n# pass the hashed vector through a tfidf transformer\\ntf_transformer = TfidfTransformer(use_idf=True).fit(X_train_counts)\\nX_train_tfidf = tf_transformer.transform(X_train_counts)\\nX_test_tfidf = tf_transformer.transform(X_test_counts)\\n\\nprint(\\\"------------------------------\\\")\\nprint(f\\\"Type: {type(X_train_tfidf)}\\\")\\nprint(f\\\"Shape : {X_train_tfidf.shape}\\\")\\nprint(\\\"------------------------------\\\")\\nprint(\\\"See one vector to check: \\\\n\\\")\\nprint(X_train_tfidf)\";\n",
       "                var nbb_formatted_code = \"from sklearn.feature_extraction.text import HashingVectorizer\\nfrom sklearn.feature_extraction.text import TfidfTransformer\\n\\n# hash plot\\ncv = HashingVectorizer().fit(X_train[\\\"plot\\\"])\\nX_train_counts = cv.transform(X_train[\\\"plot\\\"])\\nX_test_counts = cv.transform(X_test[\\\"plot\\\"])\\n\\n# pass the hashed vector through a tfidf transformer\\ntf_transformer = TfidfTransformer(use_idf=True).fit(X_train_counts)\\nX_train_tfidf = tf_transformer.transform(X_train_counts)\\nX_test_tfidf = tf_transformer.transform(X_test_counts)\\n\\nprint(\\\"------------------------------\\\")\\nprint(f\\\"Type: {type(X_train_tfidf)}\\\")\\nprint(f\\\"Shape : {X_train_tfidf.shape}\\\")\\nprint(\\\"------------------------------\\\")\\nprint(\\\"See one vector to check: \\\\n\\\")\\nprint(X_train_tfidf)\";\n",
       "                var nbb_cells = Jupyter.notebook.get_cells();\n",
       "                for (var i = 0; i < nbb_cells.length; ++i) {\n",
       "                    if (nbb_cells[i].input_prompt_number == nbb_cell_id) {\n",
       "                        if (nbb_cells[i].get_text() == nbb_unformatted_code) {\n",
       "                             nbb_cells[i].set_text(nbb_formatted_code);\n",
       "                        }\n",
       "                        break;\n",
       "                    }\n",
       "                }\n",
       "            }, 500);\n",
       "            "
      ],
      "text/plain": [
       "<IPython.core.display.Javascript object>"
      ]
     },
     "metadata": {},
     "output_type": "display_data"
    }
   ],
   "source": [
    "from sklearn.feature_extraction.text import HashingVectorizer\n",
    "from sklearn.feature_extraction.text import TfidfTransformer\n",
    "\n",
    "# hash plot\n",
    "cv = HashingVectorizer().fit(X_train[\"plot\"])\n",
    "X_train_counts = cv.transform(X_train[\"plot\"])\n",
    "X_test_counts = cv.transform(X_test[\"plot\"])\n",
    "\n",
    "# pass the hashed vector through a tfidf transformer\n",
    "tf_transformer = TfidfTransformer(use_idf=True).fit(X_train_counts)\n",
    "X_train_tfidf = tf_transformer.transform(X_train_counts)\n",
    "X_test_tfidf = tf_transformer.transform(X_test_counts)\n",
    "\n",
    "print(\"------------------------------\")\n",
    "print(f\"Type: {type(X_train_tfidf)}\")\n",
    "print(f\"Shape : {X_train_tfidf.shape}\")\n",
    "print(\"------------------------------\")\n",
    "print(\"See one vector to check: \\n\")\n",
    "print(X_train_tfidf)"
   ]
  },
  {
   "cell_type": "code",
   "execution_count": null,
   "metadata": {},
   "outputs": [],
   "source": []
  },
  {
   "cell_type": "markdown",
   "metadata": {},
   "source": [
    "#### Visualizing the embeddings\n"
   ]
  },
  {
   "cell_type": "markdown",
   "metadata": {},
   "source": [
    "Dimensionality reduction using truncated SVD (aka LSA).\n",
    "\n",
    "This transformer performs linear dimensionality reduction by means of truncated singular value decomposition (SVD). \n",
    "\n",
    "Contrary to PCA, this estimator does not center the data before computing the singular value decomposition. This means it can work with scipy.sparse matrices efficiently."
   ]
  },
  {
   "cell_type": "code",
   "execution_count": 20,
   "metadata": {
    "scrolled": false
   },
   "outputs": [
    {
     "data": {
      "image/png": "[encoded data removed]",
      "text/plain": [
       "<Figure size 1152x864 with 1 Axes>"
      ]
     },
     "metadata": {
      "needs_background": "light"
     },
     "output_type": "display_data"
    },
    {
     "data": {
      "application/javascript": [
       "\n",
       "            setTimeout(function() {\n",
       "                var nbb_cell_id = 20;\n",
       "                var nbb_unformatted_code = \"from sklearn.decomposition import PCA, TruncatedSVD\\nimport matplotlib\\nimport matplotlib.patches as mpatches\\n\\n\\ndef plot_LSA(test_data, test_labels, plot=True):\\n    lsa = TruncatedSVD(n_components=2)\\n    lsa.fit(test_data)\\n    lsa_scores = lsa.transform(test_data)\\n    color_mapper = {label: idx for idx, label in enumerate(set(test_labels))}\\n    color_column = [color_mapper[label] for label in test_labels]\\n    colors = [\\\"orange\\\", \\\"blue\\\", \\\"blue\\\"]\\n    if plot:\\n        plt.scatter(\\n            lsa_scores[:, 0],\\n            lsa_scores[:, 1],\\n            s=8,\\n            alpha=0.8,\\n            c=test_labels,\\n            cmap=matplotlib.colors.ListedColormap(colors),\\n        )\\n        red_patch = mpatches.Patch(color=\\\"orange\\\", label=\\\"no oscar nomination\\\")\\n        green_patch = mpatches.Patch(color=\\\"blue\\\", label=\\\"oscar nomination\\\")\\n        plt.legend(handles=[red_patch, green_patch], prop={\\\"size\\\": 16})\\n\\n\\nplt.figure(1, figsize=(16, 12))\\nplt.subplot(2, 1, 1)\\nplot_LSA(X_train_tfidf, y_train)\";\n",
       "                var nbb_formatted_code = \"from sklearn.decomposition import PCA, TruncatedSVD\\nimport matplotlib\\nimport matplotlib.patches as mpatches\\n\\n\\ndef plot_LSA(test_data, test_labels, plot=True):\\n    lsa = TruncatedSVD(n_components=2)\\n    lsa.fit(test_data)\\n    lsa_scores = lsa.transform(test_data)\\n    color_mapper = {label: idx for idx, label in enumerate(set(test_labels))}\\n    color_column = [color_mapper[label] for label in test_labels]\\n    colors = [\\\"orange\\\", \\\"blue\\\", \\\"blue\\\"]\\n    if plot:\\n        plt.scatter(\\n            lsa_scores[:, 0],\\n            lsa_scores[:, 1],\\n            s=8,\\n            alpha=0.8,\\n            c=test_labels,\\n            cmap=matplotlib.colors.ListedColormap(colors),\\n        )\\n        red_patch = mpatches.Patch(color=\\\"orange\\\", label=\\\"no oscar nomination\\\")\\n        green_patch = mpatches.Patch(color=\\\"blue\\\", label=\\\"oscar nomination\\\")\\n        plt.legend(handles=[red_patch, green_patch], prop={\\\"size\\\": 16})\\n\\n\\nplt.figure(1, figsize=(16, 12))\\nplt.subplot(2, 1, 1)\\nplot_LSA(X_train_tfidf, y_train)\";\n",
       "                var nbb_cells = Jupyter.notebook.get_cells();\n",
       "                for (var i = 0; i < nbb_cells.length; ++i) {\n",
       "                    if (nbb_cells[i].input_prompt_number == nbb_cell_id) {\n",
       "                        if (nbb_cells[i].get_text() == nbb_unformatted_code) {\n",
       "                             nbb_cells[i].set_text(nbb_formatted_code);\n",
       "                        }\n",
       "                        break;\n",
       "                    }\n",
       "                }\n",
       "            }, 500);\n",
       "            "
      ],
      "text/plain": [
       "<IPython.core.display.Javascript object>"
      ]
     },
     "metadata": {},
     "output_type": "display_data"
    }
   ],
   "source": [
    "from sklearn.decomposition import PCA, TruncatedSVD\n",
    "import matplotlib\n",
    "import matplotlib.patches as mpatches\n",
    "\n",
    "\n",
    "def plot_LSA(test_data, test_labels, plot=True):\n",
    "    lsa = TruncatedSVD(n_components=2)\n",
    "    lsa.fit(test_data)\n",
    "    lsa_scores = lsa.transform(test_data)\n",
    "    color_mapper = {label: idx for idx, label in enumerate(set(test_labels))}\n",
    "    color_column = [color_mapper[label] for label in test_labels]\n",
    "    colors = [\"orange\", \"blue\", \"blue\"]\n",
    "    if plot:\n",
    "        plt.scatter(\n",
    "            lsa_scores[:, 0],\n",
    "            lsa_scores[:, 1],\n",
    "            s=8,\n",
    "            alpha=0.8,\n",
    "            c=test_labels,\n",
    "            cmap=matplotlib.colors.ListedColormap(colors),\n",
    "        )\n",
    "        red_patch = mpatches.Patch(color=\"orange\", label=\"no oscar nomination\")\n",
    "        green_patch = mpatches.Patch(color=\"blue\", label=\"oscar nomination\")\n",
    "        plt.legend(handles=[red_patch, green_patch], prop={\"size\": 16})\n",
    "\n",
    "\n",
    "plt.figure(1, figsize=(16, 12))\n",
    "plt.subplot(2, 1, 1)\n",
    "plot_LSA(X_train_tfidf, y_train)"
   ]
  },
  {
   "cell_type": "markdown",
   "metadata": {},
   "source": [
    "TF IDF in this situation has better linearly separable classes."
   ]
  },
  {
   "cell_type": "markdown",
   "metadata": {},
   "source": [
    "### Basic Logistic Regression"
   ]
  },
  {
   "cell_type": "code",
   "execution_count": null,
   "metadata": {},
   "outputs": [],
   "source": [
    "# These features and y values are chosen to be scaled because the data is heavily skewed\n",
    "from sklearn.preprocessing import MinMaxScaler\n",
    "\n",
    "# Transform selected X ('runtime', 'votes_imdb', 'adjusted_budget')\n",
    "X_scaler = MinMaxScaler().fit(X_train[\"plot_len\"].values.reshape(-1,1))\n",
    "\n",
    "X_train[\"plot_len\"] = X_scaler.transform(X_train[\"plot_len\"].values.reshape(-1,1))\n",
    "X_test[\"plot_len\"] = X_scaler.transform(X_test[\"plot_len\"].values.reshape(-1,1))"
   ]
  },
  {
   "cell_type": "code",
   "execution_count": 14,
   "metadata": {},
   "outputs": [
    {
     "data": {
      "application/javascript": [
       "\n",
       "            setTimeout(function() {\n",
       "                var nbb_cell_id = 14;\n",
       "                var nbb_unformatted_code = \"import numpy as np\\nfrom scipy.sparse import csr_matrix\\n\\nX_train_genres_mat = csr_matrix(X_train.drop(columns=[\\\"plot\\\"]))\\nX_test_genres_mat = csr_matrix(X_test.drop(columns=[\\\"plot\\\"]))\";\n",
       "                var nbb_formatted_code = \"import numpy as np\\nfrom scipy.sparse import csr_matrix\\n\\nX_train_genres_mat = csr_matrix(X_train.drop(columns=[\\\"plot\\\"]))\\nX_test_genres_mat = csr_matrix(X_test.drop(columns=[\\\"plot\\\"]))\";\n",
       "                var nbb_cells = Jupyter.notebook.get_cells();\n",
       "                for (var i = 0; i < nbb_cells.length; ++i) {\n",
       "                    if (nbb_cells[i].input_prompt_number == nbb_cell_id) {\n",
       "                        if (nbb_cells[i].get_text() == nbb_unformatted_code) {\n",
       "                             nbb_cells[i].set_text(nbb_formatted_code);\n",
       "                        }\n",
       "                        break;\n",
       "                    }\n",
       "                }\n",
       "            }, 500);\n",
       "            "
      ],
      "text/plain": [
       "<IPython.core.display.Javascript object>"
      ]
     },
     "metadata": {},
     "output_type": "display_data"
    }
   ],
   "source": [
    "import numpy as np\n",
    "from scipy.sparse import csr_matrix\n",
    "\n",
    "X_train_extra_features_mat = csr_matrix(X_train.drop(columns=[\"plot\"]))\n",
    "X_test_extra_features_mat = csr_matrix(X_test.drop(columns=[\"plot\"]))"
   ]
  },
  {
   "cell_type": "code",
   "execution_count": 15,
   "metadata": {},
   "outputs": [
    {
     "data": {
      "application/javascript": [
       "\n",
       "            setTimeout(function() {\n",
       "                var nbb_cell_id = 15;\n",
       "                var nbb_unformatted_code = \"from scipy.sparse import coo_matrix, hstack\\n\\nX_train_full = hstack([X_train_tfidf, X_train_genres_mat])\\nX_test_full = hstack([X_test_tfidf, X_test_genres_mat])\";\n",
       "                var nbb_formatted_code = \"from scipy.sparse import coo_matrix, hstack\\n\\nX_train_full = hstack([X_train_tfidf, X_train_genres_mat])\\nX_test_full = hstack([X_test_tfidf, X_test_genres_mat])\";\n",
       "                var nbb_cells = Jupyter.notebook.get_cells();\n",
       "                for (var i = 0; i < nbb_cells.length; ++i) {\n",
       "                    if (nbb_cells[i].input_prompt_number == nbb_cell_id) {\n",
       "                        if (nbb_cells[i].get_text() == nbb_unformatted_code) {\n",
       "                             nbb_cells[i].set_text(nbb_formatted_code);\n",
       "                        }\n",
       "                        break;\n",
       "                    }\n",
       "                }\n",
       "            }, 500);\n",
       "            "
      ],
      "text/plain": [
       "<IPython.core.display.Javascript object>"
      ]
     },
     "metadata": {},
     "output_type": "display_data"
    }
   ],
   "source": [
    "from scipy.sparse import coo_matrix, hstack\n",
    "\n",
    "X_train_full = hstack([X_train_tfidf, X_train_extra_features_mat])\n",
    "X_test_full = hstack([X_test_tfidf, X_test_extra_features_mat])"
   ]
  },
  {
   "cell_type": "code",
   "execution_count": 16,
   "metadata": {},
   "outputs": [
    {
     "data": {
      "text/plain": [
       "LogisticRegression(class_weight='balanced')"
      ]
     },
     "execution_count": 16,
     "metadata": {},
     "output_type": "execute_result"
    },
    {
     "data": {
      "application/javascript": [
       "\n",
       "            setTimeout(function() {\n",
       "                var nbb_cell_id = 16;\n",
       "                var nbb_unformatted_code = \"from sklearn.linear_model import LogisticRegression\\n\\nmodel = LogisticRegression(class_weight=\\\"balanced\\\")\\nmodel.fit(X_train_full, y_train)\";\n",
       "                var nbb_formatted_code = \"from sklearn.linear_model import LogisticRegression\\n\\nmodel = LogisticRegression(class_weight=\\\"balanced\\\")\\nmodel.fit(X_train_full, y_train)\";\n",
       "                var nbb_cells = Jupyter.notebook.get_cells();\n",
       "                for (var i = 0; i < nbb_cells.length; ++i) {\n",
       "                    if (nbb_cells[i].input_prompt_number == nbb_cell_id) {\n",
       "                        if (nbb_cells[i].get_text() == nbb_unformatted_code) {\n",
       "                             nbb_cells[i].set_text(nbb_formatted_code);\n",
       "                        }\n",
       "                        break;\n",
       "                    }\n",
       "                }\n",
       "            }, 500);\n",
       "            "
      ],
      "text/plain": [
       "<IPython.core.display.Javascript object>"
      ]
     },
     "metadata": {},
     "output_type": "display_data"
    }
   ],
   "source": [
    "from sklearn.linear_model import LogisticRegression\n",
    "\n",
    "model = LogisticRegression(class_weight=\"balanced\")\n",
    "model.fit(X_train_full, y_train)"
   ]
  },
  {
   "cell_type": "code",
   "execution_count": 17,
   "metadata": {},
   "outputs": [
    {
     "name": "stdout",
     "output_type": "stream",
     "text": [
      "[[854 208]\n",
      " [102  88]]\n",
      "              precision    recall  f1-score   support\n",
      "\n",
      "           0       0.89      0.80      0.85      1062\n",
      "           1       0.30      0.46      0.36       190\n",
      "\n",
      "    accuracy                           0.75      1252\n",
      "   macro avg       0.60      0.63      0.60      1252\n",
      "weighted avg       0.80      0.75      0.77      1252\n",
      "\n"
     ]
    },
    {
     "data": {
      "application/javascript": [
       "\n",
       "            setTimeout(function() {\n",
       "                var nbb_cell_id = 17;\n",
       "                var nbb_unformatted_code = \"from sklearn import metrics\\n\\ny_pred = model.predict(X_test_full)\\n\\nprint(metrics.confusion_matrix(y_test, y_pred))\\nprint(metrics.classification_report(y_test, y_pred))\";\n",
       "                var nbb_formatted_code = \"from sklearn import metrics\\n\\ny_pred = model.predict(X_test_full)\\n\\nprint(metrics.confusion_matrix(y_test, y_pred))\\nprint(metrics.classification_report(y_test, y_pred))\";\n",
       "                var nbb_cells = Jupyter.notebook.get_cells();\n",
       "                for (var i = 0; i < nbb_cells.length; ++i) {\n",
       "                    if (nbb_cells[i].input_prompt_number == nbb_cell_id) {\n",
       "                        if (nbb_cells[i].get_text() == nbb_unformatted_code) {\n",
       "                             nbb_cells[i].set_text(nbb_formatted_code);\n",
       "                        }\n",
       "                        break;\n",
       "                    }\n",
       "                }\n",
       "            }, 500);\n",
       "            "
      ],
      "text/plain": [
       "<IPython.core.display.Javascript object>"
      ]
     },
     "metadata": {},
     "output_type": "display_data"
    }
   ],
   "source": [
    "from sklearn import metrics\n",
    "\n",
    "y_pred = model.predict(X_test_full)\n",
    "\n",
    "print(metrics.confusion_matrix(y_test, y_pred))\n",
    "print(metrics.classification_report(y_test, y_pred))"
   ]
  },
  {
   "cell_type": "markdown",
   "metadata": {},
   "source": [
    "## Export Model"
   ]
  },
  {
   "cell_type": "code",
   "execution_count": 18,
   "metadata": {},
   "outputs": [
    {
     "data": {
      "text/plain": [
       "['../../saved_models/oscar_nomination_logistic_regression.sav']"
      ]
     },
     "execution_count": 18,
     "metadata": {},
     "output_type": "execute_result"
    },
    {
     "data": {
      "application/javascript": [
       "\n",
       "            setTimeout(function() {\n",
       "                var nbb_cell_id = 18;\n",
       "                var nbb_unformatted_code = \"import joblib\\n\\nfilename = os.path.join(\\n    \\\"..\\\", \\\"..\\\", \\\"saved_models\\\", \\\"oscar_nomination_logistic_regression.sav\\\"\\n)\\njoblib.dump(model, filename)\";\n",
       "                var nbb_formatted_code = \"import joblib\\n\\nfilename = os.path.join(\\n    \\\"..\\\", \\\"..\\\", \\\"saved_models\\\", \\\"oscar_nomination_logistic_regression.sav\\\"\\n)\\njoblib.dump(model, filename)\";\n",
       "                var nbb_cells = Jupyter.notebook.get_cells();\n",
       "                for (var i = 0; i < nbb_cells.length; ++i) {\n",
       "                    if (nbb_cells[i].input_prompt_number == nbb_cell_id) {\n",
       "                        if (nbb_cells[i].get_text() == nbb_unformatted_code) {\n",
       "                             nbb_cells[i].set_text(nbb_formatted_code);\n",
       "                        }\n",
       "                        break;\n",
       "                    }\n",
       "                }\n",
       "            }, 500);\n",
       "            "
      ],
      "text/plain": [
       "<IPython.core.display.Javascript object>"
      ]
     },
     "metadata": {},
     "output_type": "display_data"
    }
   ],
   "source": [
    "import joblib\n",
    "\n",
    "filename = os.path.join(\n",
    "    \"..\", \"..\", \"saved_models\", \"oscar_nomination_logistic_regression.sav\"\n",
    ")\n",
    "joblib.dump(model, filename)"
   ]
  }
 ],
 "metadata": {
  "kernelspec": {
   "display_name": "Python [conda env:PythonAdv] *",
   "language": "python",
   "name": "conda-env-PythonAdv-py"
  },
  "language_info": {
   "codemirror_mode": {
    "name": "ipython",
    "version": 3
   },
   "file_extension": ".py",
   "mimetype": "text/x-python",
   "name": "python",
   "nbconvert_exporter": "python",
   "pygments_lexer": "ipython3",
   "version": "3.6.13"
  }
 },
 "nbformat": 4,
 "nbformat_minor": 4
}
