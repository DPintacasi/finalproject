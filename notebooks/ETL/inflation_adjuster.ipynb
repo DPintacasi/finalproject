{
 "cells": [
  {
   "cell_type": "code",
   "execution_count": 11,
   "id": "443056d6",
   "metadata": {},
   "outputs": [],
   "source": [
    "import pandas as pd\n",
    "import os"
   ]
  },
  {
   "cell_type": "code",
   "execution_count": 12,
   "id": "b4129425",
   "metadata": {},
   "outputs": [
    {
     "data": {
      "text/html": [
       "<div>\n",
       "<style scoped>\n",
       "    .dataframe tbody tr th:only-of-type {\n",
       "        vertical-align: middle;\n",
       "    }\n",
       "\n",
       "    .dataframe tbody tr th {\n",
       "        vertical-align: top;\n",
       "    }\n",
       "\n",
       "    .dataframe thead th {\n",
       "        text-align: right;\n",
       "    }\n",
       "</style>\n",
       "<table border=\"1\" class=\"dataframe\">\n",
       "  <thead>\n",
       "    <tr style=\"text-align: right;\">\n",
       "      <th></th>\n",
       "      <th>name</th>\n",
       "      <th>year</th>\n",
       "      <th>budget</th>\n",
       "      <th>gross</th>\n",
       "    </tr>\n",
       "  </thead>\n",
       "  <tbody>\n",
       "    <tr>\n",
       "      <th>0</th>\n",
       "      <td>Doctor Strange</td>\n",
       "      <td>2016</td>\n",
       "      <td>165000000</td>\n",
       "      <td>232641920</td>\n",
       "    </tr>\n",
       "    <tr>\n",
       "      <th>1</th>\n",
       "      <td>Sleight</td>\n",
       "      <td>2016</td>\n",
       "      <td>250000</td>\n",
       "      <td>3986245</td>\n",
       "    </tr>\n",
       "    <tr>\n",
       "      <th>2</th>\n",
       "      <td>Silence</td>\n",
       "      <td>2016</td>\n",
       "      <td>46000000</td>\n",
       "      <td>7100177</td>\n",
       "    </tr>\n",
       "    <tr>\n",
       "      <th>3</th>\n",
       "      <td>Manchester by the Sea</td>\n",
       "      <td>2016</td>\n",
       "      <td>8500000</td>\n",
       "      <td>47695371</td>\n",
       "    </tr>\n",
       "    <tr>\n",
       "      <th>4</th>\n",
       "      <td>Dirty Grandpa</td>\n",
       "      <td>2016</td>\n",
       "      <td>27500000</td>\n",
       "      <td>35593113</td>\n",
       "    </tr>\n",
       "    <tr>\n",
       "      <th>...</th>\n",
       "      <td>...</td>\n",
       "      <td>...</td>\n",
       "      <td>...</td>\n",
       "      <td>...</td>\n",
       "    </tr>\n",
       "    <tr>\n",
       "      <th>6251</th>\n",
       "      <td>Hoosiers</td>\n",
       "      <td>1986</td>\n",
       "      <td>6000000</td>\n",
       "      <td>28607524</td>\n",
       "    </tr>\n",
       "    <tr>\n",
       "      <th>6252</th>\n",
       "      <td>Off Beat</td>\n",
       "      <td>1986</td>\n",
       "      <td>0</td>\n",
       "      <td>4842778</td>\n",
       "    </tr>\n",
       "    <tr>\n",
       "      <th>6253</th>\n",
       "      <td>Big Trouble in Little China</td>\n",
       "      <td>1986</td>\n",
       "      <td>25000000</td>\n",
       "      <td>11100000</td>\n",
       "    </tr>\n",
       "    <tr>\n",
       "      <th>6254</th>\n",
       "      <td>Biggles: Adventures in Time</td>\n",
       "      <td>1986</td>\n",
       "      <td>0</td>\n",
       "      <td>112132</td>\n",
       "    </tr>\n",
       "    <tr>\n",
       "      <th>6255</th>\n",
       "      <td>Soul Man</td>\n",
       "      <td>1986</td>\n",
       "      <td>0</td>\n",
       "      <td>27820000</td>\n",
       "    </tr>\n",
       "  </tbody>\n",
       "</table>\n",
       "<p>6256 rows × 4 columns</p>\n",
       "</div>"
      ],
      "text/plain": [
       "                             name  year     budget      gross\n",
       "0                  Doctor Strange  2016  165000000  232641920\n",
       "1                         Sleight  2016     250000    3986245\n",
       "2                         Silence  2016   46000000    7100177\n",
       "3           Manchester by the Sea  2016    8500000   47695371\n",
       "4                   Dirty Grandpa  2016   27500000   35593113\n",
       "...                           ...   ...        ...        ...\n",
       "6251                     Hoosiers  1986    6000000   28607524\n",
       "6252                     Off Beat  1986          0    4842778\n",
       "6253  Big Trouble in Little China  1986   25000000   11100000\n",
       "6254  Biggles: Adventures in Time  1986          0     112132\n",
       "6255                     Soul Man  1986          0   27820000\n",
       "\n",
       "[6256 rows x 4 columns]"
      ]
     },
     "execution_count": 12,
     "metadata": {},
     "output_type": "execute_result"
    }
   ],
   "source": [
    "path = os.path.join('..', '..', 'resources','cleaned_data', 'movies_complete_cleaned.csv')\n",
    "df = pd.read_csv(path)\n",
    "selected = ['name', 'year', 'budget', 'gross']\n",
    "df = df[selected]\n",
    "df"
   ]
  },
  {
   "cell_type": "code",
   "execution_count": null,
   "id": "658a175f",
   "metadata": {},
   "outputs": [],
   "source": []
  },
  {
   "cell_type": "code",
   "execution_count": 13,
   "id": "a75864dd",
   "metadata": {},
   "outputs": [
    {
     "data": {
      "text/plain": [
       "Year\n",
       "1986    109.6\n",
       "1987    113.6\n",
       "1988    118.3\n",
       "1989    124.0\n",
       "1990    130.7\n",
       "Name: Annual, dtype: float64"
      ]
     },
     "execution_count": 13,
     "metadata": {},
     "output_type": "execute_result"
    }
   ],
   "source": [
    "path = os.path.join('..', '..', 'resources','raw_data', 'CPI_data.csv')\n",
    "CPI = pd.read_csv(path)\n",
    "CPI.set_index(\"Year\", inplace = True)\n",
    "CPI = CPI[CPI.index >= min(df.year)]\n",
    "CPI = CPI[\"Annual\"]\n",
    "CPI.head()\n"
   ]
  },
  {
   "cell_type": "code",
   "execution_count": 14,
   "id": "59ff823e",
   "metadata": {},
   "outputs": [],
   "source": [
    "CPI_dict = CPI.to_dict()"
   ]
  },
  {
   "cell_type": "code",
   "execution_count": 15,
   "id": "05a8ad08",
   "metadata": {},
   "outputs": [
    {
     "data": {
      "text/plain": [
       "258.811"
      ]
     },
     "execution_count": 15,
     "metadata": {},
     "output_type": "execute_result"
    }
   ],
   "source": [
    "CPI_dict[2020]"
   ]
  },
  {
   "cell_type": "code",
   "execution_count": 16,
   "id": "1030c7d2",
   "metadata": {},
   "outputs": [
    {
     "data": {
      "text/html": [
       "<div>\n",
       "<style scoped>\n",
       "    .dataframe tbody tr th:only-of-type {\n",
       "        vertical-align: middle;\n",
       "    }\n",
       "\n",
       "    .dataframe tbody tr th {\n",
       "        vertical-align: top;\n",
       "    }\n",
       "\n",
       "    .dataframe thead th {\n",
       "        text-align: right;\n",
       "    }\n",
       "</style>\n",
       "<table border=\"1\" class=\"dataframe\">\n",
       "  <thead>\n",
       "    <tr style=\"text-align: right;\">\n",
       "      <th></th>\n",
       "      <th>name</th>\n",
       "      <th>year</th>\n",
       "      <th>budget</th>\n",
       "      <th>gross</th>\n",
       "      <th>adjusted_budget</th>\n",
       "      <th>adjusted_gross</th>\n",
       "    </tr>\n",
       "  </thead>\n",
       "  <tbody>\n",
       "    <tr>\n",
       "      <th>0</th>\n",
       "      <td>Doctor Strange</td>\n",
       "      <td>2016</td>\n",
       "      <td>165000000</td>\n",
       "      <td>232641920</td>\n",
       "      <td>177927373</td>\n",
       "      <td>250868883</td>\n",
       "    </tr>\n",
       "    <tr>\n",
       "      <th>1</th>\n",
       "      <td>Sleight</td>\n",
       "      <td>2016</td>\n",
       "      <td>250000</td>\n",
       "      <td>3986245</td>\n",
       "      <td>269587</td>\n",
       "      <td>4298558</td>\n",
       "    </tr>\n",
       "    <tr>\n",
       "      <th>2</th>\n",
       "      <td>Silence</td>\n",
       "      <td>2016</td>\n",
       "      <td>46000000</td>\n",
       "      <td>7100177</td>\n",
       "      <td>49603995</td>\n",
       "      <td>7656460</td>\n",
       "    </tr>\n",
       "    <tr>\n",
       "      <th>3</th>\n",
       "      <td>Manchester by the Sea</td>\n",
       "      <td>2016</td>\n",
       "      <td>8500000</td>\n",
       "      <td>47695371</td>\n",
       "      <td>9165956</td>\n",
       "      <td>51432194</td>\n",
       "    </tr>\n",
       "    <tr>\n",
       "      <th>4</th>\n",
       "      <td>Dirty Grandpa</td>\n",
       "      <td>2016</td>\n",
       "      <td>27500000</td>\n",
       "      <td>35593113</td>\n",
       "      <td>29654562</td>\n",
       "      <td>38381752</td>\n",
       "    </tr>\n",
       "  </tbody>\n",
       "</table>\n",
       "</div>"
      ],
      "text/plain": [
       "                    name  year     budget      gross adjusted_budget  \\\n",
       "0         Doctor Strange  2016  165000000  232641920       177927373   \n",
       "1                Sleight  2016     250000    3986245          269587   \n",
       "2                Silence  2016   46000000    7100177        49603995   \n",
       "3  Manchester by the Sea  2016    8500000   47695371         9165956   \n",
       "4          Dirty Grandpa  2016   27500000   35593113        29654562   \n",
       "\n",
       "  adjusted_gross  \n",
       "0      250868883  \n",
       "1        4298558  \n",
       "2        7656460  \n",
       "3       51432194  \n",
       "4       38381752  "
      ]
     },
     "execution_count": 16,
     "metadata": {},
     "output_type": "execute_result"
    }
   ],
   "source": [
    "df_new = df.copy()\n",
    "\n",
    "df_new['adjusted_budget'] = ''\n",
    "df_new['adjusted_gross'] = ''\n",
    "\n",
    "CPI_new =CPI_dict[2020]\n",
    "\n",
    "for i, row in df.iterrows():\n",
    "    year_old = row[1]\n",
    "    \n",
    "    CPI_old = CPI_dict[year_old]\n",
    "            \n",
    "    budget_new = int(round(row[2]*(CPI_new/CPI_old),0))\n",
    "    gross_new = int(round(row[3]*(CPI_new/CPI_old),0))\n",
    "    \n",
    "    df_new.loc[i, 'adjusted_budget'] = budget_new\n",
    "    df_new.loc[i, 'adjusted_gross'] = gross_new\n",
    "\n",
    "    \n",
    "df_new.head()"
   ]
  },
  {
   "cell_type": "code",
   "execution_count": 17,
   "id": "c2e6b21f",
   "metadata": {
    "scrolled": true
   },
   "outputs": [],
   "source": [
    "df_new[['adjusted_budget', 'adjusted_gross']] = df_new[['adjusted_budget', 'adjusted_gross']].astype(int)"
   ]
  },
  {
   "cell_type": "code",
   "execution_count": 18,
   "id": "506d9bdb",
   "metadata": {},
   "outputs": [
    {
     "data": {
      "text/plain": [
       "name               object\n",
       "year                int64\n",
       "budget              int64\n",
       "gross               int64\n",
       "adjusted_budget     int64\n",
       "adjusted_gross      int64\n",
       "dtype: object"
      ]
     },
     "execution_count": 18,
     "metadata": {},
     "output_type": "execute_result"
    }
   ],
   "source": [
    "df_new.dtypes"
   ]
  },
  {
   "cell_type": "code",
   "execution_count": 19,
   "id": "42569816",
   "metadata": {},
   "outputs": [],
   "source": [
    "path = os.path.join('..', '..', 'resources', 'cleaned_data', 'adjusted_financials.csv')\n",
    "df_new.to_csv(path, index = False)"
   ]
  },
  {
   "cell_type": "code",
   "execution_count": null,
   "id": "5de22400",
   "metadata": {},
   "outputs": [],
   "source": []
  }
 ],
 "metadata": {
  "kernelspec": {
   "display_name": "Python [conda env:PythonAdv] *",
   "language": "python",
   "name": "conda-env-PythonAdv-py"
  },
  "language_info": {
   "codemirror_mode": {
    "name": "ipython",
    "version": 3
   },
   "file_extension": ".py",
   "mimetype": "text/x-python",
   "name": "python",
   "nbconvert_exporter": "python",
   "pygments_lexer": "ipython3",
   "version": "3.6.13"
  }
 },
 "nbformat": 4,
 "nbformat_minor": 5
}
