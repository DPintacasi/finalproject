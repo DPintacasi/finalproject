{
 "cells": [
  {
   "cell_type": "markdown",
   "metadata": {},
   "source": [
    "# Predicting Movie Ratings - Decision Tree/Random Forests\n",
    "\n",
    "#### In this notebook we will be building a Decision Tree & Random Forests model with Natural Language processed plot data and genres as features to predict movies' Motion Picture Association rating."
   ]
  },
  {
   "cell_type": "code",
   "execution_count": 1,
   "metadata": {},
   "outputs": [
    {
     "name": "stderr",
     "output_type": "stream",
     "text": [
      "[nltk_data] Downloading package punkt to /Users/ZTC/nltk_data...\n",
      "[nltk_data]   Package punkt is already up-to-date!\n",
      "[nltk_data] Downloading package stopwords to /Users/ZTC/nltk_data...\n",
      "[nltk_data]   Package stopwords is already up-to-date!\n",
      "[nltk_data] Downloading package wordnet to /Users/ZTC/nltk_data...\n",
      "[nltk_data]   Package wordnet is already up-to-date!\n"
     ]
    },
    {
     "data": {
      "text/plain": [
       "True"
      ]
     },
     "execution_count": 1,
     "metadata": {},
     "output_type": "execute_result"
    }
   ],
   "source": [
    "# Dependencies\n",
    "import pandas as pd\n",
    "import os\n",
    "import numpy as np\n",
    "import matplotlib.pyplot as plt\n",
    "\n",
    "import nltk\n",
    "nltk.download('punkt')\n",
    "nltk.download('stopwords')\n",
    "nltk.download('wordnet')"
   ]
  },
  {
   "cell_type": "code",
   "execution_count": 2,
   "metadata": {},
   "outputs": [],
   "source": [
    "# Visualize more columns\n",
    "pd.options.display.max_columns = None"
   ]
  },
  {
   "cell_type": "markdown",
   "metadata": {},
   "source": [
    "# Load data"
   ]
  },
  {
   "cell_type": "code",
   "execution_count": 3,
   "metadata": {
    "scrolled": true
   },
   "outputs": [
    {
     "data": {
      "text/html": [
       "<div>\n",
       "<style scoped>\n",
       "    .dataframe tbody tr th:only-of-type {\n",
       "        vertical-align: middle;\n",
       "    }\n",
       "\n",
       "    .dataframe tbody tr th {\n",
       "        vertical-align: top;\n",
       "    }\n",
       "\n",
       "    .dataframe thead th {\n",
       "        text-align: right;\n",
       "    }\n",
       "</style>\n",
       "<table border=\"1\" class=\"dataframe\">\n",
       "  <thead>\n",
       "    <tr style=\"text-align: right;\">\n",
       "      <th></th>\n",
       "      <th>name</th>\n",
       "      <th>production</th>\n",
       "      <th>director</th>\n",
       "      <th>runtime</th>\n",
       "      <th>released</th>\n",
       "      <th>year</th>\n",
       "      <th>month</th>\n",
       "      <th>country_kaggle</th>\n",
       "      <th>country_omdb</th>\n",
       "      <th>star_kaggle</th>\n",
       "      <th>actors_omdb</th>\n",
       "      <th>writer_kaggle</th>\n",
       "      <th>writers_omdb</th>\n",
       "      <th>language_omdb</th>\n",
       "      <th>plot</th>\n",
       "      <th>awards</th>\n",
       "      <th>score_imdb</th>\n",
       "      <th>votes_imdb</th>\n",
       "      <th>score_metacritic</th>\n",
       "      <th>budget</th>\n",
       "      <th>genre_kaggle</th>\n",
       "      <th>gross</th>\n",
       "      <th>genres_omdb</th>\n",
       "      <th>rating</th>\n",
       "    </tr>\n",
       "  </thead>\n",
       "  <tbody>\n",
       "    <tr>\n",
       "      <th>0</th>\n",
       "      <td>Doctor Strange</td>\n",
       "      <td>Marvel Studios</td>\n",
       "      <td>Scott Derrickson</td>\n",
       "      <td>115</td>\n",
       "      <td>2016-11-04</td>\n",
       "      <td>2016</td>\n",
       "      <td>11</td>\n",
       "      <td>USA</td>\n",
       "      <td>USA</td>\n",
       "      <td>Benedict Cumberbatch</td>\n",
       "      <td>Benedict Cumberbatch, Chiwetel Ejiofor, Rachel...</td>\n",
       "      <td>Jon Spaihts</td>\n",
       "      <td>Jon Spaihts, Scott Derrickson, C. Robert Cargi...</td>\n",
       "      <td>English</td>\n",
       "      <td>Marvel's \"Doctor Strange\" follows the story of...</td>\n",
       "      <td>Nominated for 1 Oscar. Another 19 wins &amp; 67 no...</td>\n",
       "      <td>7.5</td>\n",
       "      <td>348307</td>\n",
       "      <td>72.0</td>\n",
       "      <td>165000000</td>\n",
       "      <td>Action</td>\n",
       "      <td>232641920</td>\n",
       "      <td>Action, Adventure, Fantasy, Sci-Fi</td>\n",
       "      <td>PG-13</td>\n",
       "    </tr>\n",
       "    <tr>\n",
       "      <th>1</th>\n",
       "      <td>Sleight</td>\n",
       "      <td>Diablo Entertainment (II)</td>\n",
       "      <td>J.D. Dillard</td>\n",
       "      <td>89</td>\n",
       "      <td>2017-04-28</td>\n",
       "      <td>2016</td>\n",
       "      <td>4</td>\n",
       "      <td>USA</td>\n",
       "      <td>USA</td>\n",
       "      <td>Jacob Latimore</td>\n",
       "      <td>Jacob Latimore, Seychelle Gabriel, Storm Reid,...</td>\n",
       "      <td>J.D. Dillard</td>\n",
       "      <td>J.D. Dillard, Alex Theurer</td>\n",
       "      <td>English</td>\n",
       "      <td>A young street magician (Jacob Latimore) is le...</td>\n",
       "      <td>3 nominations.</td>\n",
       "      <td>5.9</td>\n",
       "      <td>4012</td>\n",
       "      <td>62.0</td>\n",
       "      <td>250000</td>\n",
       "      <td>Action</td>\n",
       "      <td>3986245</td>\n",
       "      <td>Crime, Drama, Sci-Fi</td>\n",
       "      <td>R</td>\n",
       "    </tr>\n",
       "  </tbody>\n",
       "</table>\n",
       "</div>"
      ],
      "text/plain": [
       "             name                 production          director  runtime  \\\n",
       "0  Doctor Strange             Marvel Studios  Scott Derrickson      115   \n",
       "1         Sleight  Diablo Entertainment (II)      J.D. Dillard       89   \n",
       "\n",
       "     released  year  month country_kaggle country_omdb           star_kaggle  \\\n",
       "0  2016-11-04  2016     11            USA          USA  Benedict Cumberbatch   \n",
       "1  2017-04-28  2016      4            USA          USA        Jacob Latimore   \n",
       "\n",
       "                                         actors_omdb writer_kaggle  \\\n",
       "0  Benedict Cumberbatch, Chiwetel Ejiofor, Rachel...   Jon Spaihts   \n",
       "1  Jacob Latimore, Seychelle Gabriel, Storm Reid,...  J.D. Dillard   \n",
       "\n",
       "                                        writers_omdb language_omdb  \\\n",
       "0  Jon Spaihts, Scott Derrickson, C. Robert Cargi...       English   \n",
       "1                         J.D. Dillard, Alex Theurer       English   \n",
       "\n",
       "                                                plot  \\\n",
       "0  Marvel's \"Doctor Strange\" follows the story of...   \n",
       "1  A young street magician (Jacob Latimore) is le...   \n",
       "\n",
       "                                              awards  score_imdb  votes_imdb  \\\n",
       "0  Nominated for 1 Oscar. Another 19 wins & 67 no...         7.5      348307   \n",
       "1                                     3 nominations.         5.9        4012   \n",
       "\n",
       "   score_metacritic     budget genre_kaggle      gross  \\\n",
       "0              72.0  165000000       Action  232641920   \n",
       "1              62.0     250000       Action    3986245   \n",
       "\n",
       "                          genres_omdb rating  \n",
       "0  Action, Adventure, Fantasy, Sci-Fi  PG-13  \n",
       "1                Crime, Drama, Sci-Fi      R  "
      ]
     },
     "execution_count": 3,
     "metadata": {},
     "output_type": "execute_result"
    }
   ],
   "source": [
    "path = os.path.join('..', 'resources','cleaned_data', 'movies_complete_cleaned.csv')\n",
    "df = pd.read_csv(path)\n",
    "# Drop Null values in `plot` column\n",
    "df = df.dropna(axis='index', subset=['plot'])\n",
    "\n",
    "df.head(2)"
   ]
  },
  {
   "cell_type": "markdown",
   "metadata": {},
   "source": [
    "**Add a feature that's the length of the raw text.**"
   ]
  },
  {
   "cell_type": "code",
   "execution_count": 4,
   "metadata": {},
   "outputs": [],
   "source": [
    "df['length'] = [len(x) for x in df['plot']]"
   ]
  },
  {
   "cell_type": "code",
   "execution_count": 5,
   "metadata": {},
   "outputs": [
    {
     "data": {
      "text/html": [
       "<div>\n",
       "<style scoped>\n",
       "    .dataframe tbody tr th:only-of-type {\n",
       "        vertical-align: middle;\n",
       "    }\n",
       "\n",
       "    .dataframe tbody tr th {\n",
       "        vertical-align: top;\n",
       "    }\n",
       "\n",
       "    .dataframe thead th {\n",
       "        text-align: right;\n",
       "    }\n",
       "</style>\n",
       "<table border=\"1\" class=\"dataframe\">\n",
       "  <thead>\n",
       "    <tr style=\"text-align: right;\">\n",
       "      <th></th>\n",
       "      <th>name</th>\n",
       "      <th>production</th>\n",
       "      <th>director</th>\n",
       "      <th>runtime</th>\n",
       "      <th>released</th>\n",
       "      <th>year</th>\n",
       "      <th>month</th>\n",
       "      <th>country_kaggle</th>\n",
       "      <th>country_omdb</th>\n",
       "      <th>star_kaggle</th>\n",
       "      <th>actors_omdb</th>\n",
       "      <th>writer_kaggle</th>\n",
       "      <th>writers_omdb</th>\n",
       "      <th>language_omdb</th>\n",
       "      <th>plot</th>\n",
       "      <th>awards</th>\n",
       "      <th>score_imdb</th>\n",
       "      <th>votes_imdb</th>\n",
       "      <th>score_metacritic</th>\n",
       "      <th>budget</th>\n",
       "      <th>genre_kaggle</th>\n",
       "      <th>gross</th>\n",
       "      <th>genres_omdb</th>\n",
       "      <th>rating</th>\n",
       "      <th>length</th>\n",
       "    </tr>\n",
       "  </thead>\n",
       "  <tbody>\n",
       "    <tr>\n",
       "      <th>0</th>\n",
       "      <td>Doctor Strange</td>\n",
       "      <td>Marvel Studios</td>\n",
       "      <td>Scott Derrickson</td>\n",
       "      <td>115</td>\n",
       "      <td>2016-11-04</td>\n",
       "      <td>2016</td>\n",
       "      <td>11</td>\n",
       "      <td>USA</td>\n",
       "      <td>USA</td>\n",
       "      <td>Benedict Cumberbatch</td>\n",
       "      <td>Benedict Cumberbatch, Chiwetel Ejiofor, Rachel...</td>\n",
       "      <td>Jon Spaihts</td>\n",
       "      <td>Jon Spaihts, Scott Derrickson, C. Robert Cargi...</td>\n",
       "      <td>English</td>\n",
       "      <td>Marvel's \"Doctor Strange\" follows the story of...</td>\n",
       "      <td>Nominated for 1 Oscar. Another 19 wins &amp; 67 no...</td>\n",
       "      <td>7.5</td>\n",
       "      <td>348307</td>\n",
       "      <td>72.0</td>\n",
       "      <td>165000000</td>\n",
       "      <td>Action</td>\n",
       "      <td>232641920</td>\n",
       "      <td>Action, Adventure, Fantasy, Sci-Fi</td>\n",
       "      <td>PG-13</td>\n",
       "      <td>464</td>\n",
       "    </tr>\n",
       "    <tr>\n",
       "      <th>1</th>\n",
       "      <td>Sleight</td>\n",
       "      <td>Diablo Entertainment (II)</td>\n",
       "      <td>J.D. Dillard</td>\n",
       "      <td>89</td>\n",
       "      <td>2017-04-28</td>\n",
       "      <td>2016</td>\n",
       "      <td>4</td>\n",
       "      <td>USA</td>\n",
       "      <td>USA</td>\n",
       "      <td>Jacob Latimore</td>\n",
       "      <td>Jacob Latimore, Seychelle Gabriel, Storm Reid,...</td>\n",
       "      <td>J.D. Dillard</td>\n",
       "      <td>J.D. Dillard, Alex Theurer</td>\n",
       "      <td>English</td>\n",
       "      <td>A young street magician (Jacob Latimore) is le...</td>\n",
       "      <td>3 nominations.</td>\n",
       "      <td>5.9</td>\n",
       "      <td>4012</td>\n",
       "      <td>62.0</td>\n",
       "      <td>250000</td>\n",
       "      <td>Action</td>\n",
       "      <td>3986245</td>\n",
       "      <td>Crime, Drama, Sci-Fi</td>\n",
       "      <td>R</td>\n",
       "      <td>289</td>\n",
       "    </tr>\n",
       "  </tbody>\n",
       "</table>\n",
       "</div>"
      ],
      "text/plain": [
       "             name                 production          director  runtime  \\\n",
       "0  Doctor Strange             Marvel Studios  Scott Derrickson      115   \n",
       "1         Sleight  Diablo Entertainment (II)      J.D. Dillard       89   \n",
       "\n",
       "     released  year  month country_kaggle country_omdb           star_kaggle  \\\n",
       "0  2016-11-04  2016     11            USA          USA  Benedict Cumberbatch   \n",
       "1  2017-04-28  2016      4            USA          USA        Jacob Latimore   \n",
       "\n",
       "                                         actors_omdb writer_kaggle  \\\n",
       "0  Benedict Cumberbatch, Chiwetel Ejiofor, Rachel...   Jon Spaihts   \n",
       "1  Jacob Latimore, Seychelle Gabriel, Storm Reid,...  J.D. Dillard   \n",
       "\n",
       "                                        writers_omdb language_omdb  \\\n",
       "0  Jon Spaihts, Scott Derrickson, C. Robert Cargi...       English   \n",
       "1                         J.D. Dillard, Alex Theurer       English   \n",
       "\n",
       "                                                plot  \\\n",
       "0  Marvel's \"Doctor Strange\" follows the story of...   \n",
       "1  A young street magician (Jacob Latimore) is le...   \n",
       "\n",
       "                                              awards  score_imdb  votes_imdb  \\\n",
       "0  Nominated for 1 Oscar. Another 19 wins & 67 no...         7.5      348307   \n",
       "1                                     3 nominations.         5.9        4012   \n",
       "\n",
       "   score_metacritic     budget genre_kaggle      gross  \\\n",
       "0              72.0  165000000       Action  232641920   \n",
       "1              62.0     250000       Action    3986245   \n",
       "\n",
       "                          genres_omdb rating  length  \n",
       "0  Action, Adventure, Fantasy, Sci-Fi  PG-13     464  \n",
       "1                Crime, Drama, Sci-Fi      R     289  "
      ]
     },
     "execution_count": 5,
     "metadata": {},
     "output_type": "execute_result"
    }
   ],
   "source": [
    "df.head(2)"
   ]
  },
  {
   "cell_type": "code",
   "execution_count": 6,
   "metadata": {},
   "outputs": [
    {
     "data": {
      "text/html": [
       "<div>\n",
       "<style scoped>\n",
       "    .dataframe tbody tr th:only-of-type {\n",
       "        vertical-align: middle;\n",
       "    }\n",
       "\n",
       "    .dataframe tbody tr th {\n",
       "        vertical-align: top;\n",
       "    }\n",
       "\n",
       "    .dataframe thead th {\n",
       "        text-align: right;\n",
       "    }\n",
       "</style>\n",
       "<table border=\"1\" class=\"dataframe\">\n",
       "  <thead>\n",
       "    <tr style=\"text-align: right;\">\n",
       "      <th></th>\n",
       "      <th>name</th>\n",
       "      <th>genre_kaggle</th>\n",
       "      <th>genres_omdb</th>\n",
       "      <th>action</th>\n",
       "      <th>adventure</th>\n",
       "      <th>fantasy</th>\n",
       "      <th>sci-fi</th>\n",
       "      <th>crime</th>\n",
       "      <th>drama</th>\n",
       "      <th>history</th>\n",
       "      <th>comedy</th>\n",
       "      <th>biography</th>\n",
       "      <th>romance</th>\n",
       "      <th>horror</th>\n",
       "      <th>thriller</th>\n",
       "      <th>war</th>\n",
       "      <th>animation</th>\n",
       "      <th>family</th>\n",
       "      <th>sport</th>\n",
       "      <th>music</th>\n",
       "      <th>mystery</th>\n",
       "      <th>short</th>\n",
       "      <th>western</th>\n",
       "      <th>musical</th>\n",
       "      <th>documentary</th>\n",
       "      <th>film-noir</th>\n",
       "      <th>adult</th>\n",
       "    </tr>\n",
       "  </thead>\n",
       "  <tbody>\n",
       "    <tr>\n",
       "      <th>0</th>\n",
       "      <td>Doctor Strange</td>\n",
       "      <td>Action</td>\n",
       "      <td>Action, Adventure, Fantasy, Sci-Fi</td>\n",
       "      <td>1</td>\n",
       "      <td>1</td>\n",
       "      <td>1</td>\n",
       "      <td>1</td>\n",
       "      <td>0</td>\n",
       "      <td>0</td>\n",
       "      <td>0</td>\n",
       "      <td>0</td>\n",
       "      <td>0</td>\n",
       "      <td>0</td>\n",
       "      <td>0</td>\n",
       "      <td>0</td>\n",
       "      <td>0</td>\n",
       "      <td>0</td>\n",
       "      <td>0</td>\n",
       "      <td>0</td>\n",
       "      <td>0</td>\n",
       "      <td>0</td>\n",
       "      <td>0</td>\n",
       "      <td>0</td>\n",
       "      <td>0</td>\n",
       "      <td>0</td>\n",
       "      <td>0</td>\n",
       "      <td>0</td>\n",
       "    </tr>\n",
       "    <tr>\n",
       "      <th>1</th>\n",
       "      <td>Sleight</td>\n",
       "      <td>Action</td>\n",
       "      <td>Crime, Drama, Sci-Fi</td>\n",
       "      <td>0</td>\n",
       "      <td>0</td>\n",
       "      <td>0</td>\n",
       "      <td>1</td>\n",
       "      <td>1</td>\n",
       "      <td>1</td>\n",
       "      <td>0</td>\n",
       "      <td>0</td>\n",
       "      <td>0</td>\n",
       "      <td>0</td>\n",
       "      <td>0</td>\n",
       "      <td>0</td>\n",
       "      <td>0</td>\n",
       "      <td>0</td>\n",
       "      <td>0</td>\n",
       "      <td>0</td>\n",
       "      <td>0</td>\n",
       "      <td>0</td>\n",
       "      <td>0</td>\n",
       "      <td>0</td>\n",
       "      <td>0</td>\n",
       "      <td>0</td>\n",
       "      <td>0</td>\n",
       "      <td>0</td>\n",
       "    </tr>\n",
       "  </tbody>\n",
       "</table>\n",
       "</div>"
      ],
      "text/plain": [
       "             name genre_kaggle                         genres_omdb  action  \\\n",
       "0  Doctor Strange       Action  Action, Adventure, Fantasy, Sci-Fi       1   \n",
       "1         Sleight       Action                Crime, Drama, Sci-Fi       0   \n",
       "\n",
       "   adventure  fantasy  sci-fi  crime  drama  history  comedy  biography  \\\n",
       "0          1        1       1      0      0        0       0          0   \n",
       "1          0        0       1      1      1        0       0          0   \n",
       "\n",
       "   romance  horror  thriller  war  animation  family  sport  music  mystery  \\\n",
       "0        0       0         0    0          0       0      0      0        0   \n",
       "1        0       0         0    0          0       0      0      0        0   \n",
       "\n",
       "   short  western  musical  documentary  film-noir  adult  \n",
       "0      0        0        0            0          0      0  \n",
       "1      0        0        0            0          0      0  "
      ]
     },
     "execution_count": 6,
     "metadata": {},
     "output_type": "execute_result"
    }
   ],
   "source": [
    "genres_path = os.path.join('..', 'resources','cleaned_data', 'parsed_genres_table.csv')\n",
    "df_genres = pd.read_csv(genres_path)\n",
    "\n",
    "df_genres.head(2)"
   ]
  },
  {
   "cell_type": "markdown",
   "metadata": {},
   "source": [
    "# Select initial features to work with"
   ]
  },
  {
   "cell_type": "code",
   "execution_count": 7,
   "metadata": {
    "scrolled": true
   },
   "outputs": [
    {
     "data": {
      "text/html": [
       "<div>\n",
       "<style scoped>\n",
       "    .dataframe tbody tr th:only-of-type {\n",
       "        vertical-align: middle;\n",
       "    }\n",
       "\n",
       "    .dataframe tbody tr th {\n",
       "        vertical-align: top;\n",
       "    }\n",
       "\n",
       "    .dataframe thead th {\n",
       "        text-align: right;\n",
       "    }\n",
       "</style>\n",
       "<table border=\"1\" class=\"dataframe\">\n",
       "  <thead>\n",
       "    <tr style=\"text-align: right;\">\n",
       "      <th></th>\n",
       "      <th>name</th>\n",
       "      <th>action</th>\n",
       "      <th>adventure</th>\n",
       "      <th>fantasy</th>\n",
       "      <th>sci-fi</th>\n",
       "      <th>crime</th>\n",
       "      <th>drama</th>\n",
       "      <th>history</th>\n",
       "      <th>comedy</th>\n",
       "      <th>biography</th>\n",
       "      <th>romance</th>\n",
       "      <th>horror</th>\n",
       "      <th>thriller</th>\n",
       "      <th>war</th>\n",
       "      <th>animation</th>\n",
       "      <th>family</th>\n",
       "      <th>sport</th>\n",
       "      <th>music</th>\n",
       "      <th>mystery</th>\n",
       "      <th>short</th>\n",
       "      <th>western</th>\n",
       "      <th>musical</th>\n",
       "      <th>documentary</th>\n",
       "      <th>film-noir</th>\n",
       "      <th>adult</th>\n",
       "      <th>plot</th>\n",
       "      <th>rating</th>\n",
       "      <th>length</th>\n",
       "    </tr>\n",
       "  </thead>\n",
       "  <tbody>\n",
       "    <tr>\n",
       "      <th>0</th>\n",
       "      <td>Doctor Strange</td>\n",
       "      <td>1</td>\n",
       "      <td>1</td>\n",
       "      <td>1</td>\n",
       "      <td>1</td>\n",
       "      <td>0</td>\n",
       "      <td>0</td>\n",
       "      <td>0</td>\n",
       "      <td>0</td>\n",
       "      <td>0</td>\n",
       "      <td>0</td>\n",
       "      <td>0</td>\n",
       "      <td>0</td>\n",
       "      <td>0</td>\n",
       "      <td>0</td>\n",
       "      <td>0</td>\n",
       "      <td>0</td>\n",
       "      <td>0</td>\n",
       "      <td>0</td>\n",
       "      <td>0</td>\n",
       "      <td>0</td>\n",
       "      <td>0</td>\n",
       "      <td>0</td>\n",
       "      <td>0</td>\n",
       "      <td>0</td>\n",
       "      <td>Marvel's \"Doctor Strange\" follows the story of...</td>\n",
       "      <td>PG-13</td>\n",
       "      <td>464</td>\n",
       "    </tr>\n",
       "    <tr>\n",
       "      <th>1</th>\n",
       "      <td>Sleight</td>\n",
       "      <td>0</td>\n",
       "      <td>0</td>\n",
       "      <td>0</td>\n",
       "      <td>1</td>\n",
       "      <td>1</td>\n",
       "      <td>1</td>\n",
       "      <td>0</td>\n",
       "      <td>0</td>\n",
       "      <td>0</td>\n",
       "      <td>0</td>\n",
       "      <td>0</td>\n",
       "      <td>0</td>\n",
       "      <td>0</td>\n",
       "      <td>0</td>\n",
       "      <td>0</td>\n",
       "      <td>0</td>\n",
       "      <td>0</td>\n",
       "      <td>0</td>\n",
       "      <td>0</td>\n",
       "      <td>0</td>\n",
       "      <td>0</td>\n",
       "      <td>0</td>\n",
       "      <td>0</td>\n",
       "      <td>0</td>\n",
       "      <td>A young street magician (Jacob Latimore) is le...</td>\n",
       "      <td>R</td>\n",
       "      <td>289</td>\n",
       "    </tr>\n",
       "  </tbody>\n",
       "</table>\n",
       "</div>"
      ],
      "text/plain": [
       "             name  action  adventure  fantasy  sci-fi  crime  drama  history  \\\n",
       "0  Doctor Strange       1          1        1       1      0      0        0   \n",
       "1         Sleight       0          0        0       1      1      1        0   \n",
       "\n",
       "   comedy  biography  romance  horror  thriller  war  animation  family  \\\n",
       "0       0          0        0       0         0    0          0       0   \n",
       "1       0          0        0       0         0    0          0       0   \n",
       "\n",
       "   sport  music  mystery  short  western  musical  documentary  film-noir  \\\n",
       "0      0      0        0      0        0        0            0          0   \n",
       "1      0      0        0      0        0        0            0          0   \n",
       "\n",
       "   adult                                               plot rating  length  \n",
       "0      0  Marvel's \"Doctor Strange\" follows the story of...  PG-13     464  \n",
       "1      0  A young street magician (Jacob Latimore) is le...      R     289  "
      ]
     },
     "execution_count": 7,
     "metadata": {},
     "output_type": "execute_result"
    }
   ],
   "source": [
    "# Select features\n",
    "df_plot = df[['name', 'plot', 'rating', 'length']]\n",
    "full_df = pd.merge(df_genres, df_plot, on='name', how='inner')\n",
    "full_df.drop(columns=['genre_kaggle', 'genres_omdb'], inplace=True)\n",
    "full_df.head(2)"
   ]
  },
  {
   "cell_type": "code",
   "execution_count": 8,
   "metadata": {},
   "outputs": [
    {
     "data": {
      "text/plain": [
       "name           False\n",
       "action         False\n",
       "adventure      False\n",
       "fantasy        False\n",
       "sci-fi         False\n",
       "crime          False\n",
       "drama          False\n",
       "history        False\n",
       "comedy         False\n",
       "biography      False\n",
       "romance        False\n",
       "horror         False\n",
       "thriller       False\n",
       "war            False\n",
       "animation      False\n",
       "family         False\n",
       "sport          False\n",
       "music          False\n",
       "mystery        False\n",
       "short          False\n",
       "western        False\n",
       "musical        False\n",
       "documentary    False\n",
       "film-noir      False\n",
       "adult          False\n",
       "plot           False\n",
       "rating         False\n",
       "length         False\n",
       "dtype: bool"
      ]
     },
     "execution_count": 8,
     "metadata": {},
     "output_type": "execute_result"
    }
   ],
   "source": [
    "# Check if there's missing values\n",
    "full_df.isna().any()"
   ]
  },
  {
   "cell_type": "markdown",
   "metadata": {},
   "source": [
    "# Preprocessing - NLP - pt1"
   ]
  },
  {
   "cell_type": "markdown",
   "metadata": {},
   "source": [
    "### Remove punctuations"
   ]
  },
  {
   "cell_type": "code",
   "execution_count": 12,
   "metadata": {},
   "outputs": [],
   "source": [
    "import string\n",
    "\n",
    "def remove_punct(text):\n",
    "    table = str.maketrans(\"\", \"\", string.punctuation)\n",
    "    return text.translate(table)\n",
    "\n",
    "\n",
    "punc_removed = full_df.copy()\n",
    "punc_removed[\"punc_removed\"] = [remove_punct(x) for x in punc_removed['plot']]"
   ]
  },
  {
   "cell_type": "code",
   "execution_count": 13,
   "metadata": {},
   "outputs": [
    {
     "data": {
      "text/html": [
       "<div>\n",
       "<style scoped>\n",
       "    .dataframe tbody tr th:only-of-type {\n",
       "        vertical-align: middle;\n",
       "    }\n",
       "\n",
       "    .dataframe tbody tr th {\n",
       "        vertical-align: top;\n",
       "    }\n",
       "\n",
       "    .dataframe thead th {\n",
       "        text-align: right;\n",
       "    }\n",
       "</style>\n",
       "<table border=\"1\" class=\"dataframe\">\n",
       "  <thead>\n",
       "    <tr style=\"text-align: right;\">\n",
       "      <th></th>\n",
       "      <th>name</th>\n",
       "      <th>action</th>\n",
       "      <th>adventure</th>\n",
       "      <th>fantasy</th>\n",
       "      <th>sci-fi</th>\n",
       "      <th>crime</th>\n",
       "      <th>drama</th>\n",
       "      <th>history</th>\n",
       "      <th>comedy</th>\n",
       "      <th>biography</th>\n",
       "      <th>romance</th>\n",
       "      <th>horror</th>\n",
       "      <th>thriller</th>\n",
       "      <th>war</th>\n",
       "      <th>animation</th>\n",
       "      <th>family</th>\n",
       "      <th>sport</th>\n",
       "      <th>music</th>\n",
       "      <th>mystery</th>\n",
       "      <th>short</th>\n",
       "      <th>western</th>\n",
       "      <th>musical</th>\n",
       "      <th>documentary</th>\n",
       "      <th>film-noir</th>\n",
       "      <th>adult</th>\n",
       "      <th>plot</th>\n",
       "      <th>rating</th>\n",
       "      <th>length</th>\n",
       "      <th>punc_removed</th>\n",
       "    </tr>\n",
       "  </thead>\n",
       "  <tbody>\n",
       "    <tr>\n",
       "      <th>0</th>\n",
       "      <td>Doctor Strange</td>\n",
       "      <td>1</td>\n",
       "      <td>1</td>\n",
       "      <td>1</td>\n",
       "      <td>1</td>\n",
       "      <td>0</td>\n",
       "      <td>0</td>\n",
       "      <td>0</td>\n",
       "      <td>0</td>\n",
       "      <td>0</td>\n",
       "      <td>0</td>\n",
       "      <td>0</td>\n",
       "      <td>0</td>\n",
       "      <td>0</td>\n",
       "      <td>0</td>\n",
       "      <td>0</td>\n",
       "      <td>0</td>\n",
       "      <td>0</td>\n",
       "      <td>0</td>\n",
       "      <td>0</td>\n",
       "      <td>0</td>\n",
       "      <td>0</td>\n",
       "      <td>0</td>\n",
       "      <td>0</td>\n",
       "      <td>0</td>\n",
       "      <td>Marvel's \"Doctor Strange\" follows the story of...</td>\n",
       "      <td>PG-13</td>\n",
       "      <td>464</td>\n",
       "      <td>Marvels Doctor Strange follows the story of th...</td>\n",
       "    </tr>\n",
       "    <tr>\n",
       "      <th>1</th>\n",
       "      <td>Sleight</td>\n",
       "      <td>0</td>\n",
       "      <td>0</td>\n",
       "      <td>0</td>\n",
       "      <td>1</td>\n",
       "      <td>1</td>\n",
       "      <td>1</td>\n",
       "      <td>0</td>\n",
       "      <td>0</td>\n",
       "      <td>0</td>\n",
       "      <td>0</td>\n",
       "      <td>0</td>\n",
       "      <td>0</td>\n",
       "      <td>0</td>\n",
       "      <td>0</td>\n",
       "      <td>0</td>\n",
       "      <td>0</td>\n",
       "      <td>0</td>\n",
       "      <td>0</td>\n",
       "      <td>0</td>\n",
       "      <td>0</td>\n",
       "      <td>0</td>\n",
       "      <td>0</td>\n",
       "      <td>0</td>\n",
       "      <td>0</td>\n",
       "      <td>A young street magician (Jacob Latimore) is le...</td>\n",
       "      <td>R</td>\n",
       "      <td>289</td>\n",
       "      <td>A young street magician Jacob Latimore is left...</td>\n",
       "    </tr>\n",
       "  </tbody>\n",
       "</table>\n",
       "</div>"
      ],
      "text/plain": [
       "             name  action  adventure  fantasy  sci-fi  crime  drama  history  \\\n",
       "0  Doctor Strange       1          1        1       1      0      0        0   \n",
       "1         Sleight       0          0        0       1      1      1        0   \n",
       "\n",
       "   comedy  biography  romance  horror  thriller  war  animation  family  \\\n",
       "0       0          0        0       0         0    0          0       0   \n",
       "1       0          0        0       0         0    0          0       0   \n",
       "\n",
       "   sport  music  mystery  short  western  musical  documentary  film-noir  \\\n",
       "0      0      0        0      0        0        0            0          0   \n",
       "1      0      0        0      0        0        0            0          0   \n",
       "\n",
       "   adult                                               plot rating  length  \\\n",
       "0      0  Marvel's \"Doctor Strange\" follows the story of...  PG-13     464   \n",
       "1      0  A young street magician (Jacob Latimore) is le...      R     289   \n",
       "\n",
       "                                        punc_removed  \n",
       "0  Marvels Doctor Strange follows the story of th...  \n",
       "1  A young street magician Jacob Latimore is left...  "
      ]
     },
     "execution_count": 13,
     "metadata": {},
     "output_type": "execute_result"
    }
   ],
   "source": [
    "punc_removed.head(2)"
   ]
  },
  {
   "cell_type": "markdown",
   "metadata": {},
   "source": [
    "### Tokenization"
   ]
  },
  {
   "cell_type": "code",
   "execution_count": 14,
   "metadata": {
    "scrolled": false
   },
   "outputs": [],
   "source": [
    "# Tokenization with `nltk.word_tokenize`\n",
    "tokenized_df = punc_removed.copy()\n",
    "tokenized_df['tokens'] = tokenized_df.\\\n",
    "    apply(lambda row: nltk.word_tokenize(row['punc_removed']), axis=1)"
   ]
  },
  {
   "cell_type": "code",
   "execution_count": 15,
   "metadata": {},
   "outputs": [
    {
     "data": {
      "text/html": [
       "<div>\n",
       "<style scoped>\n",
       "    .dataframe tbody tr th:only-of-type {\n",
       "        vertical-align: middle;\n",
       "    }\n",
       "\n",
       "    .dataframe tbody tr th {\n",
       "        vertical-align: top;\n",
       "    }\n",
       "\n",
       "    .dataframe thead th {\n",
       "        text-align: right;\n",
       "    }\n",
       "</style>\n",
       "<table border=\"1\" class=\"dataframe\">\n",
       "  <thead>\n",
       "    <tr style=\"text-align: right;\">\n",
       "      <th></th>\n",
       "      <th>name</th>\n",
       "      <th>plot</th>\n",
       "      <th>punc_removed</th>\n",
       "      <th>tokens</th>\n",
       "    </tr>\n",
       "  </thead>\n",
       "  <tbody>\n",
       "    <tr>\n",
       "      <th>0</th>\n",
       "      <td>Doctor Strange</td>\n",
       "      <td>Marvel's \"Doctor Strange\" follows the story of...</td>\n",
       "      <td>Marvels Doctor Strange follows the story of th...</td>\n",
       "      <td>[Marvels, Doctor, Strange, follows, the, story...</td>\n",
       "    </tr>\n",
       "    <tr>\n",
       "      <th>1</th>\n",
       "      <td>Sleight</td>\n",
       "      <td>A young street magician (Jacob Latimore) is le...</td>\n",
       "      <td>A young street magician Jacob Latimore is left...</td>\n",
       "      <td>[A, young, street, magician, Jacob, Latimore, ...</td>\n",
       "    </tr>\n",
       "  </tbody>\n",
       "</table>\n",
       "</div>"
      ],
      "text/plain": [
       "             name                                               plot  \\\n",
       "0  Doctor Strange  Marvel's \"Doctor Strange\" follows the story of...   \n",
       "1         Sleight  A young street magician (Jacob Latimore) is le...   \n",
       "\n",
       "                                        punc_removed  \\\n",
       "0  Marvels Doctor Strange follows the story of th...   \n",
       "1  A young street magician Jacob Latimore is left...   \n",
       "\n",
       "                                              tokens  \n",
       "0  [Marvels, Doctor, Strange, follows, the, story...  \n",
       "1  [A, young, street, magician, Jacob, Latimore, ...  "
      ]
     },
     "execution_count": 15,
     "metadata": {},
     "output_type": "execute_result"
    }
   ],
   "source": [
    "tokenized_df[['name', 'plot', 'punc_removed', 'tokens']].head(2)"
   ]
  },
  {
   "cell_type": "markdown",
   "metadata": {},
   "source": [
    "### Stopwords removal"
   ]
  },
  {
   "cell_type": "code",
   "execution_count": 16,
   "metadata": {},
   "outputs": [],
   "source": [
    "# Remove stopwords\n",
    "from nltk.corpus import stopwords\n",
    "\n",
    "stop = set(stopwords.words(\"english\"))\n",
    "\n",
    "def remove_stopwords(tokens):\n",
    "    text = [word.lower() for word in tokens if word.lower() not in stop]\n",
    "    return text"
   ]
  },
  {
   "cell_type": "code",
   "execution_count": 17,
   "metadata": {},
   "outputs": [],
   "source": [
    "# Remove stopwords\n",
    "filtered_df = tokenized_df.copy()\n",
    "\n",
    "filtered_df[\"filtered\"] = [remove_stopwords(x) for x in filtered_df[\"tokens\"]]"
   ]
  },
  {
   "cell_type": "code",
   "execution_count": 18,
   "metadata": {},
   "outputs": [
    {
     "data": {
      "text/html": [
       "<div>\n",
       "<style scoped>\n",
       "    .dataframe tbody tr th:only-of-type {\n",
       "        vertical-align: middle;\n",
       "    }\n",
       "\n",
       "    .dataframe tbody tr th {\n",
       "        vertical-align: top;\n",
       "    }\n",
       "\n",
       "    .dataframe thead th {\n",
       "        text-align: right;\n",
       "    }\n",
       "</style>\n",
       "<table border=\"1\" class=\"dataframe\">\n",
       "  <thead>\n",
       "    <tr style=\"text-align: right;\">\n",
       "      <th></th>\n",
       "      <th>name</th>\n",
       "      <th>plot</th>\n",
       "      <th>punc_removed</th>\n",
       "      <th>tokens</th>\n",
       "      <th>filtered</th>\n",
       "    </tr>\n",
       "  </thead>\n",
       "  <tbody>\n",
       "    <tr>\n",
       "      <th>0</th>\n",
       "      <td>Doctor Strange</td>\n",
       "      <td>Marvel's \"Doctor Strange\" follows the story of...</td>\n",
       "      <td>Marvels Doctor Strange follows the story of th...</td>\n",
       "      <td>[Marvels, Doctor, Strange, follows, the, story...</td>\n",
       "      <td>[marvels, doctor, strange, follows, story, tal...</td>\n",
       "    </tr>\n",
       "    <tr>\n",
       "      <th>1</th>\n",
       "      <td>Sleight</td>\n",
       "      <td>A young street magician (Jacob Latimore) is le...</td>\n",
       "      <td>A young street magician Jacob Latimore is left...</td>\n",
       "      <td>[A, young, street, magician, Jacob, Latimore, ...</td>\n",
       "      <td>[young, street, magician, jacob, latimore, lef...</td>\n",
       "    </tr>\n",
       "  </tbody>\n",
       "</table>\n",
       "</div>"
      ],
      "text/plain": [
       "             name                                               plot  \\\n",
       "0  Doctor Strange  Marvel's \"Doctor Strange\" follows the story of...   \n",
       "1         Sleight  A young street magician (Jacob Latimore) is le...   \n",
       "\n",
       "                                        punc_removed  \\\n",
       "0  Marvels Doctor Strange follows the story of th...   \n",
       "1  A young street magician Jacob Latimore is left...   \n",
       "\n",
       "                                              tokens  \\\n",
       "0  [Marvels, Doctor, Strange, follows, the, story...   \n",
       "1  [A, young, street, magician, Jacob, Latimore, ...   \n",
       "\n",
       "                                            filtered  \n",
       "0  [marvels, doctor, strange, follows, story, tal...  \n",
       "1  [young, street, magician, jacob, latimore, lef...  "
      ]
     },
     "execution_count": 18,
     "metadata": {},
     "output_type": "execute_result"
    }
   ],
   "source": [
    "filtered_df[['name', 'plot', 'punc_removed', 'tokens', 'filtered']].head(2)"
   ]
  },
  {
   "cell_type": "code",
   "execution_count": 19,
   "metadata": {},
   "outputs": [],
   "source": [
    "# # Compare number of tokens pre- and post- stopwords removal\n",
    "# check_filter = filtered_df.copy()\n",
    "# check_filter['stopwords_filtered_out'] = ''\n",
    "\n",
    "# for index, row in check_filter.iterrows():\n",
    "#     token_count = len(check_filter.loc[index, 'tokens'])\n",
    "#     filtered_count = len(check_filter.loc[index, 'filtered'])\n",
    "#     check_filter.loc[index, 'stopwords_filtered_out'] = token_count - filtered_count\n",
    "\n",
    "# check_filter['stopwords_filtered_out'].value_counts()"
   ]
  },
  {
   "cell_type": "code",
   "execution_count": 20,
   "metadata": {},
   "outputs": [],
   "source": [
    "# check_filter[['name', 'tokens', 'filtered', 'stopwords_filtered_out']].head(3)"
   ]
  },
  {
   "cell_type": "markdown",
   "metadata": {},
   "source": [
    "### Word Normalization with Lemmatization\n",
    "\n",
    "Reduce inflection in words to their root forms and ensure the root form belongs to English."
   ]
  },
  {
   "cell_type": "code",
   "execution_count": 21,
   "metadata": {},
   "outputs": [],
   "source": [
    "# Lemmatization\n",
    "from nltk.stem import WordNetLemmatizer\n",
    "\n",
    "wordnet_lemmatizer = WordNetLemmatizer()\n",
    "\n",
    "def stemming(stopwords_removed):\n",
    "    text = [wordnet_lemmatizer.lemmatize(word) for word in stopwords_removed]\n",
    "    return text"
   ]
  },
  {
   "cell_type": "code",
   "execution_count": 22,
   "metadata": {},
   "outputs": [],
   "source": [
    "stemmed_df = filtered_df.copy()\n",
    "stemmed_df['stemmed'] = [stemming(x) for x in stemmed_df['filtered']]"
   ]
  },
  {
   "cell_type": "code",
   "execution_count": 23,
   "metadata": {},
   "outputs": [
    {
     "data": {
      "text/html": [
       "<div>\n",
       "<style scoped>\n",
       "    .dataframe tbody tr th:only-of-type {\n",
       "        vertical-align: middle;\n",
       "    }\n",
       "\n",
       "    .dataframe tbody tr th {\n",
       "        vertical-align: top;\n",
       "    }\n",
       "\n",
       "    .dataframe thead th {\n",
       "        text-align: right;\n",
       "    }\n",
       "</style>\n",
       "<table border=\"1\" class=\"dataframe\">\n",
       "  <thead>\n",
       "    <tr style=\"text-align: right;\">\n",
       "      <th></th>\n",
       "      <th>name</th>\n",
       "      <th>plot</th>\n",
       "      <th>punc_removed</th>\n",
       "      <th>tokens</th>\n",
       "      <th>filtered</th>\n",
       "      <th>stemmed</th>\n",
       "    </tr>\n",
       "  </thead>\n",
       "  <tbody>\n",
       "    <tr>\n",
       "      <th>0</th>\n",
       "      <td>Doctor Strange</td>\n",
       "      <td>Marvel's \"Doctor Strange\" follows the story of...</td>\n",
       "      <td>Marvels Doctor Strange follows the story of th...</td>\n",
       "      <td>[Marvels, Doctor, Strange, follows, the, story...</td>\n",
       "      <td>[marvels, doctor, strange, follows, story, tal...</td>\n",
       "      <td>[marvel, doctor, strange, follows, story, tale...</td>\n",
       "    </tr>\n",
       "    <tr>\n",
       "      <th>1</th>\n",
       "      <td>Sleight</td>\n",
       "      <td>A young street magician (Jacob Latimore) is le...</td>\n",
       "      <td>A young street magician Jacob Latimore is left...</td>\n",
       "      <td>[A, young, street, magician, Jacob, Latimore, ...</td>\n",
       "      <td>[young, street, magician, jacob, latimore, lef...</td>\n",
       "      <td>[young, street, magician, jacob, latimore, lef...</td>\n",
       "    </tr>\n",
       "  </tbody>\n",
       "</table>\n",
       "</div>"
      ],
      "text/plain": [
       "             name                                               plot  \\\n",
       "0  Doctor Strange  Marvel's \"Doctor Strange\" follows the story of...   \n",
       "1         Sleight  A young street magician (Jacob Latimore) is le...   \n",
       "\n",
       "                                        punc_removed  \\\n",
       "0  Marvels Doctor Strange follows the story of th...   \n",
       "1  A young street magician Jacob Latimore is left...   \n",
       "\n",
       "                                              tokens  \\\n",
       "0  [Marvels, Doctor, Strange, follows, the, story...   \n",
       "1  [A, young, street, magician, Jacob, Latimore, ...   \n",
       "\n",
       "                                            filtered  \\\n",
       "0  [marvels, doctor, strange, follows, story, tal...   \n",
       "1  [young, street, magician, jacob, latimore, lef...   \n",
       "\n",
       "                                             stemmed  \n",
       "0  [marvel, doctor, strange, follows, story, tale...  \n",
       "1  [young, street, magician, jacob, latimore, lef...  "
      ]
     },
     "execution_count": 23,
     "metadata": {},
     "output_type": "execute_result"
    }
   ],
   "source": [
    "stemmed_df[['name', 'plot', 'punc_removed', 'tokens', 'filtered', 'stemmed']].head(2)"
   ]
  },
  {
   "cell_type": "markdown",
   "metadata": {},
   "source": [
    "# Encoding"
   ]
  },
  {
   "cell_type": "code",
   "execution_count": 24,
   "metadata": {},
   "outputs": [],
   "source": [
    "# Encode 'rating'\n",
    "# ---------------\n",
    "from sklearn.preprocessing import LabelEncoder\n",
    "\n",
    "label_encoder = LabelEncoder()\n",
    "\n",
    "label_encoder.fit(stemmed_df['rating'])\n",
    "rating_encoded = stemmed_df.copy()\n",
    "rating_encoded['rating'] = label_encoder.transform(rating_encoded['rating'])"
   ]
  },
  {
   "cell_type": "code",
   "execution_count": 25,
   "metadata": {},
   "outputs": [
    {
     "data": {
      "text/html": [
       "<div>\n",
       "<style scoped>\n",
       "    .dataframe tbody tr th:only-of-type {\n",
       "        vertical-align: middle;\n",
       "    }\n",
       "\n",
       "    .dataframe tbody tr th {\n",
       "        vertical-align: top;\n",
       "    }\n",
       "\n",
       "    .dataframe thead th {\n",
       "        text-align: right;\n",
       "    }\n",
       "</style>\n",
       "<table border=\"1\" class=\"dataframe\">\n",
       "  <thead>\n",
       "    <tr style=\"text-align: right;\">\n",
       "      <th></th>\n",
       "      <th>rating</th>\n",
       "      <th>label</th>\n",
       "      <th>count</th>\n",
       "    </tr>\n",
       "  </thead>\n",
       "  <tbody>\n",
       "    <tr>\n",
       "      <th>0</th>\n",
       "      <td>R</td>\n",
       "      <td>4</td>\n",
       "      <td>3071</td>\n",
       "    </tr>\n",
       "    <tr>\n",
       "      <th>1</th>\n",
       "      <td>PG-13</td>\n",
       "      <td>3</td>\n",
       "      <td>1812</td>\n",
       "    </tr>\n",
       "    <tr>\n",
       "      <th>2</th>\n",
       "      <td>PG</td>\n",
       "      <td>2</td>\n",
       "      <td>883</td>\n",
       "    </tr>\n",
       "    <tr>\n",
       "      <th>3</th>\n",
       "      <td>G</td>\n",
       "      <td>0</td>\n",
       "      <td>128</td>\n",
       "    </tr>\n",
       "    <tr>\n",
       "      <th>4</th>\n",
       "      <td>NC-17</td>\n",
       "      <td>1</td>\n",
       "      <td>19</td>\n",
       "    </tr>\n",
       "  </tbody>\n",
       "</table>\n",
       "</div>"
      ],
      "text/plain": [
       "  rating  label  count\n",
       "0      R      4   3071\n",
       "1  PG-13      3   1812\n",
       "2     PG      2    883\n",
       "3      G      0    128\n",
       "4  NC-17      1     19"
      ]
     },
     "execution_count": 25,
     "metadata": {},
     "output_type": "execute_result"
    }
   ],
   "source": [
    "# Check success\n",
    "rating_original = pd.DataFrame(stemmed_df['rating'].value_counts()).reset_index()\n",
    "rating_new = pd.DataFrame(rating_encoded['rating'].value_counts()).reset_index()\n",
    "merged_rating = pd.merge(rating_original, rating_new, on='rating')\n",
    "merged_rating = merged_rating.rename(columns={'rating': 'count',\n",
    "                                              'index_x': 'rating',\n",
    "                                              'index_y': 'label'\n",
    "                                             })[['rating', 'label', 'count']]\n",
    "merged_rating"
   ]
  },
  {
   "cell_type": "markdown",
   "metadata": {},
   "source": [
    "# Select final features"
   ]
  },
  {
   "cell_type": "code",
   "execution_count": 280,
   "metadata": {},
   "outputs": [],
   "source": [
    "features_df = stemmed_df.drop(columns=['name', 'plot',\n",
    "                                       'punc_removed', 'tokens', 'filtered'])"
   ]
  },
  {
   "cell_type": "code",
   "execution_count": 281,
   "metadata": {},
   "outputs": [],
   "source": [
    "# Set features as X and output as y\n",
    "features_df = features_df.drop(\"rating\", axis=1)"
   ]
  },
  {
   "cell_type": "code",
   "execution_count": 282,
   "metadata": {},
   "outputs": [
    {
     "data": {
      "text/html": [
       "<div>\n",
       "<style scoped>\n",
       "    .dataframe tbody tr th:only-of-type {\n",
       "        vertical-align: middle;\n",
       "    }\n",
       "\n",
       "    .dataframe tbody tr th {\n",
       "        vertical-align: top;\n",
       "    }\n",
       "\n",
       "    .dataframe thead th {\n",
       "        text-align: right;\n",
       "    }\n",
       "</style>\n",
       "<table border=\"1\" class=\"dataframe\">\n",
       "  <thead>\n",
       "    <tr style=\"text-align: right;\">\n",
       "      <th></th>\n",
       "      <th>action</th>\n",
       "      <th>adventure</th>\n",
       "      <th>fantasy</th>\n",
       "      <th>sci-fi</th>\n",
       "      <th>crime</th>\n",
       "      <th>drama</th>\n",
       "      <th>history</th>\n",
       "      <th>comedy</th>\n",
       "      <th>biography</th>\n",
       "      <th>romance</th>\n",
       "      <th>horror</th>\n",
       "      <th>thriller</th>\n",
       "      <th>war</th>\n",
       "      <th>animation</th>\n",
       "      <th>family</th>\n",
       "      <th>sport</th>\n",
       "      <th>music</th>\n",
       "      <th>mystery</th>\n",
       "      <th>short</th>\n",
       "      <th>western</th>\n",
       "      <th>musical</th>\n",
       "      <th>documentary</th>\n",
       "      <th>film-noir</th>\n",
       "      <th>adult</th>\n",
       "      <th>length</th>\n",
       "      <th>stemmed</th>\n",
       "    </tr>\n",
       "  </thead>\n",
       "  <tbody>\n",
       "    <tr>\n",
       "      <th>0</th>\n",
       "      <td>1</td>\n",
       "      <td>1</td>\n",
       "      <td>1</td>\n",
       "      <td>1</td>\n",
       "      <td>0</td>\n",
       "      <td>0</td>\n",
       "      <td>0</td>\n",
       "      <td>0</td>\n",
       "      <td>0</td>\n",
       "      <td>0</td>\n",
       "      <td>0</td>\n",
       "      <td>0</td>\n",
       "      <td>0</td>\n",
       "      <td>0</td>\n",
       "      <td>0</td>\n",
       "      <td>0</td>\n",
       "      <td>0</td>\n",
       "      <td>0</td>\n",
       "      <td>0</td>\n",
       "      <td>0</td>\n",
       "      <td>0</td>\n",
       "      <td>0</td>\n",
       "      <td>0</td>\n",
       "      <td>0</td>\n",
       "      <td>464</td>\n",
       "      <td>[marvel, doctor, strange, follows, story, tale...</td>\n",
       "    </tr>\n",
       "  </tbody>\n",
       "</table>\n",
       "</div>"
      ],
      "text/plain": [
       "   action  adventure  fantasy  sci-fi  crime  drama  history  comedy  \\\n",
       "0       1          1        1       1      0      0        0       0   \n",
       "\n",
       "   biography  romance  horror  thriller  war  animation  family  sport  music  \\\n",
       "0          0        0       0         0    0          0       0      0      0   \n",
       "\n",
       "   mystery  short  western  musical  documentary  film-noir  adult  length  \\\n",
       "0        0      0        0        0            0          0      0     464   \n",
       "\n",
       "                                             stemmed  \n",
       "0  [marvel, doctor, strange, follows, story, tale...  "
      ]
     },
     "execution_count": 282,
     "metadata": {},
     "output_type": "execute_result"
    }
   ],
   "source": [
    "features_df.head(1)"
   ]
  },
  {
   "cell_type": "markdown",
   "metadata": {},
   "source": [
    "**We will be using sklearn's HashingVectorizer and TfidfTransformer to vectorize our plot NLP feature and scale by accounting for inverse document-frequency. Thus it's necessary to work with strings of plot objects instead of lists of tokenized plot objects.**"
   ]
  },
  {
   "cell_type": "code",
   "execution_count": 283,
   "metadata": {
    "scrolled": true
   },
   "outputs": [],
   "source": [
    "# Function to turn tokenized/filtered/Lemmatized list of words back to plot\n",
    "def tokens_to_plot(tokens_list):\n",
    "    plot = str(tokens_list).replace('[', '').replace(']', '').replace(',', '').replace(\"'\", '')\n",
    "    return plot"
   ]
  },
  {
   "cell_type": "markdown",
   "metadata": {},
   "source": [
    "**Define X and y**"
   ]
  },
  {
   "cell_type": "code",
   "execution_count": 284,
   "metadata": {},
   "outputs": [
    {
     "name": "stdout",
     "output_type": "stream",
     "text": [
      "(5913, 26) (5913, 1)\n"
     ]
    }
   ],
   "source": [
    "X = features_df.copy()\n",
    "X['stemmed'] = [tokens_to_plot(x) for x in X['stemmed']]\n",
    "\n",
    "y = rating_encoded['rating'].values.reshape(-1, 1)\n",
    "\n",
    "print(X.shape, y.shape)"
   ]
  },
  {
   "cell_type": "code",
   "execution_count": 311,
   "metadata": {},
   "outputs": [
    {
     "data": {
      "text/html": [
       "<div>\n",
       "<style scoped>\n",
       "    .dataframe tbody tr th:only-of-type {\n",
       "        vertical-align: middle;\n",
       "    }\n",
       "\n",
       "    .dataframe tbody tr th {\n",
       "        vertical-align: top;\n",
       "    }\n",
       "\n",
       "    .dataframe thead th {\n",
       "        text-align: right;\n",
       "    }\n",
       "</style>\n",
       "<table border=\"1\" class=\"dataframe\">\n",
       "  <thead>\n",
       "    <tr style=\"text-align: right;\">\n",
       "      <th></th>\n",
       "      <th>action</th>\n",
       "      <th>adventure</th>\n",
       "      <th>fantasy</th>\n",
       "      <th>sci-fi</th>\n",
       "      <th>crime</th>\n",
       "      <th>drama</th>\n",
       "      <th>history</th>\n",
       "      <th>comedy</th>\n",
       "      <th>biography</th>\n",
       "      <th>romance</th>\n",
       "      <th>horror</th>\n",
       "      <th>thriller</th>\n",
       "      <th>war</th>\n",
       "      <th>animation</th>\n",
       "      <th>family</th>\n",
       "      <th>sport</th>\n",
       "      <th>music</th>\n",
       "      <th>mystery</th>\n",
       "      <th>short</th>\n",
       "      <th>western</th>\n",
       "      <th>musical</th>\n",
       "      <th>documentary</th>\n",
       "      <th>film-noir</th>\n",
       "      <th>adult</th>\n",
       "      <th>length</th>\n",
       "      <th>stemmed</th>\n",
       "    </tr>\n",
       "  </thead>\n",
       "  <tbody>\n",
       "    <tr>\n",
       "      <th>0</th>\n",
       "      <td>1</td>\n",
       "      <td>1</td>\n",
       "      <td>1</td>\n",
       "      <td>1</td>\n",
       "      <td>0</td>\n",
       "      <td>0</td>\n",
       "      <td>0</td>\n",
       "      <td>0</td>\n",
       "      <td>0</td>\n",
       "      <td>0</td>\n",
       "      <td>0</td>\n",
       "      <td>0</td>\n",
       "      <td>0</td>\n",
       "      <td>0</td>\n",
       "      <td>0</td>\n",
       "      <td>0</td>\n",
       "      <td>0</td>\n",
       "      <td>0</td>\n",
       "      <td>0</td>\n",
       "      <td>0</td>\n",
       "      <td>0</td>\n",
       "      <td>0</td>\n",
       "      <td>0</td>\n",
       "      <td>0</td>\n",
       "      <td>464</td>\n",
       "      <td>marvel doctor strange follows story talented n...</td>\n",
       "    </tr>\n",
       "    <tr>\n",
       "      <th>1</th>\n",
       "      <td>0</td>\n",
       "      <td>0</td>\n",
       "      <td>0</td>\n",
       "      <td>1</td>\n",
       "      <td>1</td>\n",
       "      <td>1</td>\n",
       "      <td>0</td>\n",
       "      <td>0</td>\n",
       "      <td>0</td>\n",
       "      <td>0</td>\n",
       "      <td>0</td>\n",
       "      <td>0</td>\n",
       "      <td>0</td>\n",
       "      <td>0</td>\n",
       "      <td>0</td>\n",
       "      <td>0</td>\n",
       "      <td>0</td>\n",
       "      <td>0</td>\n",
       "      <td>0</td>\n",
       "      <td>0</td>\n",
       "      <td>0</td>\n",
       "      <td>0</td>\n",
       "      <td>0</td>\n",
       "      <td>0</td>\n",
       "      <td>289</td>\n",
       "      <td>young street magician jacob latimore left care...</td>\n",
       "    </tr>\n",
       "  </tbody>\n",
       "</table>\n",
       "</div>"
      ],
      "text/plain": [
       "   action  adventure  fantasy  sci-fi  crime  drama  history  comedy  \\\n",
       "0       1          1        1       1      0      0        0       0   \n",
       "1       0          0        0       1      1      1        0       0   \n",
       "\n",
       "   biography  romance  horror  thriller  war  animation  family  sport  music  \\\n",
       "0          0        0       0         0    0          0       0      0      0   \n",
       "1          0        0       0         0    0          0       0      0      0   \n",
       "\n",
       "   mystery  short  western  musical  documentary  film-noir  adult  length  \\\n",
       "0        0      0        0        0            0          0      0     464   \n",
       "1        0      0        0        0            0          0      0     289   \n",
       "\n",
       "                                             stemmed  \n",
       "0  marvel doctor strange follows story talented n...  \n",
       "1  young street magician jacob latimore left care...  "
      ]
     },
     "execution_count": 311,
     "metadata": {},
     "output_type": "execute_result"
    }
   ],
   "source": [
    "X.head(2)"
   ]
  },
  {
   "cell_type": "markdown",
   "metadata": {},
   "source": [
    "# Create a Train Test Split"
   ]
  },
  {
   "cell_type": "code",
   "execution_count": 352,
   "metadata": {},
   "outputs": [],
   "source": [
    "# Split train and test\n",
    "from sklearn.model_selection import train_test_split\n",
    "\n",
    "# Save the original labeled classes\n",
    "labeled_y = stemmed_df['rating'].values.reshape(-1, 1)\n",
    "\n",
    "# We will create an unvectorized train and test split sets too for testing purposes...\n",
    "features_train, features_test, labeled_y_train, labeled_y_test = train_test_split(features_df, labeled_y, random_state=42)\n",
    "\n",
    "# Actual data split\n",
    "X_train, X_test, y_train, y_test = train_test_split(X, y, random_state=42)"
   ]
  },
  {
   "cell_type": "code",
   "execution_count": 353,
   "metadata": {},
   "outputs": [
    {
     "name": "stdout",
     "output_type": "stream",
     "text": [
      "(4434, 26)\n",
      "(4434, 1)\n"
     ]
    }
   ],
   "source": [
    "print(X_train.shape)\n",
    "print(y_train.shape)"
   ]
  },
  {
   "cell_type": "code",
   "execution_count": 354,
   "metadata": {},
   "outputs": [
    {
     "data": {
      "text/html": [
       "<div>\n",
       "<style scoped>\n",
       "    .dataframe tbody tr th:only-of-type {\n",
       "        vertical-align: middle;\n",
       "    }\n",
       "\n",
       "    .dataframe tbody tr th {\n",
       "        vertical-align: top;\n",
       "    }\n",
       "\n",
       "    .dataframe thead th {\n",
       "        text-align: right;\n",
       "    }\n",
       "</style>\n",
       "<table border=\"1\" class=\"dataframe\">\n",
       "  <thead>\n",
       "    <tr style=\"text-align: right;\">\n",
       "      <th></th>\n",
       "      <th>action</th>\n",
       "      <th>adventure</th>\n",
       "      <th>fantasy</th>\n",
       "      <th>sci-fi</th>\n",
       "      <th>crime</th>\n",
       "      <th>drama</th>\n",
       "      <th>history</th>\n",
       "      <th>comedy</th>\n",
       "      <th>biography</th>\n",
       "      <th>romance</th>\n",
       "      <th>horror</th>\n",
       "      <th>thriller</th>\n",
       "      <th>war</th>\n",
       "      <th>animation</th>\n",
       "      <th>family</th>\n",
       "      <th>sport</th>\n",
       "      <th>music</th>\n",
       "      <th>mystery</th>\n",
       "      <th>short</th>\n",
       "      <th>western</th>\n",
       "      <th>musical</th>\n",
       "      <th>documentary</th>\n",
       "      <th>film-noir</th>\n",
       "      <th>adult</th>\n",
       "      <th>length</th>\n",
       "      <th>stemmed</th>\n",
       "    </tr>\n",
       "  </thead>\n",
       "  <tbody>\n",
       "    <tr>\n",
       "      <th>2173</th>\n",
       "      <td>0</td>\n",
       "      <td>0</td>\n",
       "      <td>1</td>\n",
       "      <td>0</td>\n",
       "      <td>0</td>\n",
       "      <td>0</td>\n",
       "      <td>0</td>\n",
       "      <td>1</td>\n",
       "      <td>0</td>\n",
       "      <td>1</td>\n",
       "      <td>0</td>\n",
       "      <td>0</td>\n",
       "      <td>0</td>\n",
       "      <td>0</td>\n",
       "      <td>0</td>\n",
       "      <td>0</td>\n",
       "      <td>0</td>\n",
       "      <td>0</td>\n",
       "      <td>0</td>\n",
       "      <td>0</td>\n",
       "      <td>0</td>\n",
       "      <td>0</td>\n",
       "      <td>0</td>\n",
       "      <td>0</td>\n",
       "      <td>1002</td>\n",
       "      <td>california san fernando valley isabel trying r...</td>\n",
       "    </tr>\n",
       "  </tbody>\n",
       "</table>\n",
       "</div>"
      ],
      "text/plain": [
       "      action  adventure  fantasy  sci-fi  crime  drama  history  comedy  \\\n",
       "2173       0          0        1       0      0      0        0       1   \n",
       "\n",
       "      biography  romance  horror  thriller  war  animation  family  sport  \\\n",
       "2173          0        1       0         0    0          0       0      0   \n",
       "\n",
       "      music  mystery  short  western  musical  documentary  film-noir  adult  \\\n",
       "2173      0        0      0        0        0            0          0      0   \n",
       "\n",
       "      length                                            stemmed  \n",
       "2173    1002  california san fernando valley isabel trying r...  "
      ]
     },
     "execution_count": 354,
     "metadata": {},
     "output_type": "execute_result"
    }
   ],
   "source": [
    "X_train.head(1)"
   ]
  },
  {
   "cell_type": "markdown",
   "metadata": {},
   "source": [
    "# Preprocessing - NLP - pt2"
   ]
  },
  {
   "cell_type": "markdown",
   "metadata": {},
   "source": [
    "## Vectorize plot data"
   ]
  },
  {
   "cell_type": "code",
   "execution_count": 267,
   "metadata": {},
   "outputs": [],
   "source": [
    "from sklearn.feature_extraction.text import CountVectorizer\n",
    "\n",
    "# Make a copy for vecorized data\n",
    "X_train_vectorized = X_train.copy().drop(columns='stemmed')\n",
    "X_test_vectorized = X_test.copy().drop(columns='stemmed')\n",
    "\n",
    "vectorizer = CountVectorizer(ngram_range=(1, 1))\n",
    "# Fit with train\n",
    "X_train_vectorized['vectorized'] = vectorizer.fit_transform(X_train['stemmed'])\n",
    "# Transform test\n",
    "X_test_vectorized['vectorized'] = vectorizer.transform(X_test['stemmed'])"
   ]
  },
  {
   "cell_type": "markdown",
   "metadata": {},
   "source": [
    "Validation..."
   ]
  },
  {
   "cell_type": "code",
   "execution_count": 269,
   "metadata": {},
   "outputs": [
    {
     "name": "stdout",
     "output_type": "stream",
     "text": [
      "\n",
      "    First row vectorized sum of words: 94 | Actual: 94\n",
      "    First row vectorized count of words (unique words): 81 | Actual: 81\n",
      "    \n"
     ]
    }
   ],
   "source": [
    "# Use the first plot object to test if the sum and the count of vector value matches\n",
    "test_vect = [x for x in list(X_train_vectorized['vectorized'])[0].toarray()[0].tolist() if x != 0]\n",
    "sum_vect = sum(test_vect) # Total words\n",
    "count_vect = len(test_vect) # Total unique words\n",
    "sum_actual = len(list(features_train['stemmed'])[0])\n",
    "count_actual = len(np.unique(np.array(list(features_train['stemmed'])[0])))\n",
    "\n",
    "print(\n",
    "    f'''\n",
    "    First row vectorized sum of words: {sum_vect} | Actual: {sum_actual}\n",
    "    First row vectorized count of words (unique words): {count_vect} | Actual: {count_actual}\n",
    "    '''\n",
    ")"
   ]
  },
  {
   "cell_type": "markdown",
   "metadata": {},
   "source": [
    "## TF-IDF\n",
    "\n",
    "Downweighting frequently occuring words in the feature vectors."
   ]
  },
  {
   "cell_type": "code",
   "execution_count": 276,
   "metadata": {},
   "outputs": [
    {
     "data": {
      "text/plain": [
       "array([[0, 0, 0, ..., 0, 0, 0],\n",
       "       [0, 0, 0, ..., 0, 0, 0],\n",
       "       [0, 0, 0, ..., 0, 0, 0],\n",
       "       ...,\n",
       "       [0, 0, 0, ..., 0, 0, 0],\n",
       "       [0, 0, 0, ..., 0, 0, 0],\n",
       "       [0, 0, 0, ..., 0, 0, 0]])"
      ]
     },
     "execution_count": 276,
     "metadata": {},
     "output_type": "execute_result"
    }
   ],
   "source": [
    "X_train_vectorized['vectorized'][0].toarray()"
   ]
  },
  {
   "cell_type": "code",
   "execution_count": 277,
   "metadata": {},
   "outputs": [],
   "source": [
    "X_train_tfidf['tfidf'] = tfidf_transformer.fit_transform(X_train_vectorized['vectorized'][0].toarray())"
   ]
  },
  {
   "cell_type": "code",
   "execution_count": 314,
   "metadata": {},
   "outputs": [],
   "source": [
    "from sklearn.feature_extraction.text import TfidfTransformer\n",
    "\n",
    "# Make a copy for TF-IDF transformed training data\n",
    "X_train_tfidf = X_train_vectorized.copy().drop(columns='vectorized')\n",
    "X_test_tfidf = X_test_vectorized.copy().drop(columns='vectorized')\n",
    "\n",
    "tfidf_transformer = TfidfTransformer()\n",
    "# Fit with train\n",
    "X_train_tfidf['tfidf'] = tfidf_transformer.fit_transform(X_train_vectorized['vectorized'])\n",
    "# Transform test\n",
    "X_test_tfidf['tfidf'] = tfidf_transformer.transform(X_test_vectorized['vectorized'])"
   ]
  },
  {
   "cell_type": "code",
   "execution_count": null,
   "metadata": {},
   "outputs": [],
   "source": []
  },
  {
   "cell_type": "code",
   "execution_count": null,
   "metadata": {},
   "outputs": [],
   "source": []
  },
  {
   "cell_type": "code",
   "execution_count": null,
   "metadata": {},
   "outputs": [],
   "source": []
  },
  {
   "cell_type": "code",
   "execution_count": null,
   "metadata": {},
   "outputs": [],
   "source": []
  },
  {
   "cell_type": "code",
   "execution_count": null,
   "metadata": {},
   "outputs": [],
   "source": []
  },
  {
   "cell_type": "code",
   "execution_count": null,
   "metadata": {},
   "outputs": [],
   "source": [
    "plot_df.rating.value_counts()"
   ]
  },
  {
   "cell_type": "code",
   "execution_count": null,
   "metadata": {},
   "outputs": [],
   "source": [
    "no_nc_df = plot_df[plot_df[\"rating\"] != \"NC-17\"]\n",
    "no_nc_df.head()"
   ]
  },
  {
   "cell_type": "code",
   "execution_count": null,
   "metadata": {},
   "outputs": [],
   "source": [
    "# Check to make sure that NC-17 rows have been removed\n",
    "no_nc_df.rating.value_counts()"
   ]
  },
  {
   "cell_type": "code",
   "execution_count": null,
   "metadata": {},
   "outputs": [],
   "source": [
    "# Grab ratings data to apply label encoding \n",
    "ratings = no_nc_df[[\"name\", \"rating\"]]\n",
    "ratings"
   ]
  },
  {
   "cell_type": "code",
   "execution_count": null,
   "metadata": {},
   "outputs": [],
   "source": [
    "# Import label encoder \n",
    "from sklearn import preprocessing"
   ]
  },
  {
   "cell_type": "code",
   "execution_count": null,
   "metadata": {},
   "outputs": [],
   "source": [
    "# Set label encoder method to variable for use\n",
    "label_encoder = preprocessing.LabelEncoder()"
   ]
  },
  {
   "cell_type": "code",
   "execution_count": null,
   "metadata": {},
   "outputs": [],
   "source": [
    "# Encode ratigs  \n",
    "ratings[\"encoded_rating\"] = label_encoder.fit_transform(ratings[\"rating\"]) \n",
    "ratings"
   ]
  },
  {
   "cell_type": "code",
   "execution_count": null,
   "metadata": {},
   "outputs": [],
   "source": [
    "ratings.encoded_rating.value_counts()"
   ]
  },
  {
   "cell_type": "code",
   "execution_count": null,
   "metadata": {},
   "outputs": [],
   "source": [
    "ratings.rating.value_counts()"
   ]
  },
  {
   "cell_type": "code",
   "execution_count": null,
   "metadata": {},
   "outputs": [],
   "source": [
    "# # Read in tokenized plot Dataframe \n",
    "# path = os.path.join('..','resources','cleaned_data', 'plot_features.csv')\n",
    "# plots_df = pd.read_csv(path)\n",
    "# plots_df.head()"
   ]
  },
  {
   "cell_type": "code",
   "execution_count": null,
   "metadata": {},
   "outputs": [],
   "source": [
    "# # Merge ratings and plot dataframes\n",
    "# merged_df = ratings.merge(plots_df, on=\"name\")\n",
    "# merged_df.head()"
   ]
  },
  {
   "cell_type": "code",
   "execution_count": null,
   "metadata": {},
   "outputs": [],
   "source": [
    "target = ratings[\"encoded_rating\"]\n",
    "target_names = [\"G\", \"PG\", \"PG-13\", \"R\"]\n",
    "target"
   ]
  },
  {
   "cell_type": "code",
   "execution_count": null,
   "metadata": {},
   "outputs": [],
   "source": [
    "data = train_tfidf\n",
    "data"
   ]
  },
  {
   "cell_type": "code",
   "execution_count": null,
   "metadata": {},
   "outputs": [],
   "source": [
    "from sklearn.model_selection import train_test_split\n",
    "X_train, X_test, y_train, y_test = train_test_split(data, target, random_state=42)"
   ]
  },
  {
   "cell_type": "code",
   "execution_count": null,
   "metadata": {
    "scrolled": false
   },
   "outputs": [],
   "source": [
    "# Support vector machine linear classifier\n",
    "from sklearn.svm import SVC \n",
    "model = SVC(kernel='linear')\n",
    "model.fit(X_train, y_train)"
   ]
  },
  {
   "cell_type": "code",
   "execution_count": null,
   "metadata": {},
   "outputs": [],
   "source": [
    "# Model Accuracy\n",
    "print('Test Acc: %.3f' % model.score(X_test, y_test))"
   ]
  },
  {
   "cell_type": "code",
   "execution_count": null,
   "metadata": {},
   "outputs": [],
   "source": [
    "# Calculate classification report\n",
    "from sklearn.metrics import classification_report\n",
    "predictions = model.predict(X_test)\n",
    "print(classification_report(y_test, predictions,\n",
    "                            target_names=target_names))"
   ]
  },
  {
   "cell_type": "code",
   "execution_count": null,
   "metadata": {},
   "outputs": [],
   "source": []
  }
 ],
 "metadata": {
  "kernelspec": {
   "display_name": "Python [conda env:PythonAdv] *",
   "language": "python",
   "name": "conda-env-PythonAdv-py"
  },
  "language_info": {
   "codemirror_mode": {
    "name": "ipython",
    "version": 3
   },
   "file_extension": ".py",
   "mimetype": "text/x-python",
   "name": "python",
   "nbconvert_exporter": "python",
   "pygments_lexer": "ipython3",
   "version": "3.6.13"
  }
 },
 "nbformat": 4,
 "nbformat_minor": 4
}
