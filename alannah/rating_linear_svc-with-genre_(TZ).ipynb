{
 "cells": [
  {
   "cell_type": "markdown",
   "metadata": {},
   "source": [
    "# Predicting Movie Ratings - Linear SVC\n",
    "\n",
    "## Features: genre, corpus length, plot\n",
    "\n",
    "#### In this notebook we will be building a Linear SVC to predict movies' Motion Picture Association rating."
   ]
  },
  {
   "cell_type": "code",
   "execution_count": 1,
   "metadata": {},
   "outputs": [
    {
     "name": "stderr",
     "output_type": "stream",
     "text": [
      "[nltk_data] Downloading package punkt to /Users/ZTC/nltk_data...\n",
      "[nltk_data]   Package punkt is already up-to-date!\n",
      "[nltk_data] Downloading package stopwords to /Users/ZTC/nltk_data...\n",
      "[nltk_data]   Package stopwords is already up-to-date!\n",
      "[nltk_data] Downloading package wordnet to /Users/ZTC/nltk_data...\n",
      "[nltk_data]   Package wordnet is already up-to-date!\n"
     ]
    },
    {
     "data": {
      "text/plain": [
       "True"
      ]
     },
     "execution_count": 1,
     "metadata": {},
     "output_type": "execute_result"
    }
   ],
   "source": [
    "# Dependencies\n",
    "import pandas as pd\n",
    "import os\n",
    "import numpy as np\n",
    "import matplotlib.pyplot as plt\n",
    "import seaborn as sn\n",
    "\n",
    "import nltk\n",
    "nltk.download('punkt')\n",
    "nltk.download('stopwords')\n",
    "nltk.download('wordnet')"
   ]
  },
  {
   "cell_type": "code",
   "execution_count": 2,
   "metadata": {},
   "outputs": [],
   "source": [
    "# Visualize more columns\n",
    "pd.options.display.max_columns = None"
   ]
  },
  {
   "cell_type": "markdown",
   "metadata": {},
   "source": [
    "# Load data"
   ]
  },
  {
   "cell_type": "code",
   "execution_count": 3,
   "metadata": {
    "scrolled": true
   },
   "outputs": [
    {
     "data": {
      "text/html": [
       "<div>\n",
       "<style scoped>\n",
       "    .dataframe tbody tr th:only-of-type {\n",
       "        vertical-align: middle;\n",
       "    }\n",
       "\n",
       "    .dataframe tbody tr th {\n",
       "        vertical-align: top;\n",
       "    }\n",
       "\n",
       "    .dataframe thead th {\n",
       "        text-align: right;\n",
       "    }\n",
       "</style>\n",
       "<table border=\"1\" class=\"dataframe\">\n",
       "  <thead>\n",
       "    <tr style=\"text-align: right;\">\n",
       "      <th></th>\n",
       "      <th>name</th>\n",
       "      <th>production</th>\n",
       "      <th>director</th>\n",
       "      <th>runtime</th>\n",
       "      <th>released</th>\n",
       "      <th>year</th>\n",
       "      <th>month</th>\n",
       "      <th>country_kaggle</th>\n",
       "      <th>country_omdb</th>\n",
       "      <th>star_kaggle</th>\n",
       "      <th>actors_omdb</th>\n",
       "      <th>writer_kaggle</th>\n",
       "      <th>writers_omdb</th>\n",
       "      <th>language_omdb</th>\n",
       "      <th>plot</th>\n",
       "      <th>awards</th>\n",
       "      <th>score_imdb</th>\n",
       "      <th>votes_imdb</th>\n",
       "      <th>score_metacritic</th>\n",
       "      <th>budget</th>\n",
       "      <th>genre_kaggle</th>\n",
       "      <th>gross</th>\n",
       "      <th>genres_omdb</th>\n",
       "      <th>rating</th>\n",
       "    </tr>\n",
       "  </thead>\n",
       "  <tbody>\n",
       "    <tr>\n",
       "      <th>0</th>\n",
       "      <td>Doctor Strange</td>\n",
       "      <td>Marvel Studios</td>\n",
       "      <td>Scott Derrickson</td>\n",
       "      <td>115</td>\n",
       "      <td>2016-11-04</td>\n",
       "      <td>2016</td>\n",
       "      <td>11</td>\n",
       "      <td>USA</td>\n",
       "      <td>USA</td>\n",
       "      <td>Benedict Cumberbatch</td>\n",
       "      <td>Benedict Cumberbatch, Chiwetel Ejiofor, Rachel...</td>\n",
       "      <td>Jon Spaihts</td>\n",
       "      <td>Jon Spaihts, Scott Derrickson, C. Robert Cargi...</td>\n",
       "      <td>English</td>\n",
       "      <td>Marvel's \"Doctor Strange\" follows the story of...</td>\n",
       "      <td>Nominated for 1 Oscar. Another 19 wins &amp; 67 no...</td>\n",
       "      <td>7.5</td>\n",
       "      <td>348307</td>\n",
       "      <td>72.0</td>\n",
       "      <td>165000000</td>\n",
       "      <td>Action</td>\n",
       "      <td>232641920</td>\n",
       "      <td>Action, Adventure, Fantasy, Sci-Fi</td>\n",
       "      <td>PG-13</td>\n",
       "    </tr>\n",
       "    <tr>\n",
       "      <th>1</th>\n",
       "      <td>Sleight</td>\n",
       "      <td>Diablo Entertainment (II)</td>\n",
       "      <td>J.D. Dillard</td>\n",
       "      <td>89</td>\n",
       "      <td>2017-04-28</td>\n",
       "      <td>2016</td>\n",
       "      <td>4</td>\n",
       "      <td>USA</td>\n",
       "      <td>USA</td>\n",
       "      <td>Jacob Latimore</td>\n",
       "      <td>Jacob Latimore, Seychelle Gabriel, Storm Reid,...</td>\n",
       "      <td>J.D. Dillard</td>\n",
       "      <td>J.D. Dillard, Alex Theurer</td>\n",
       "      <td>English</td>\n",
       "      <td>A young street magician (Jacob Latimore) is le...</td>\n",
       "      <td>3 nominations.</td>\n",
       "      <td>5.9</td>\n",
       "      <td>4012</td>\n",
       "      <td>62.0</td>\n",
       "      <td>250000</td>\n",
       "      <td>Action</td>\n",
       "      <td>3986245</td>\n",
       "      <td>Crime, Drama, Sci-Fi</td>\n",
       "      <td>R</td>\n",
       "    </tr>\n",
       "  </tbody>\n",
       "</table>\n",
       "</div>"
      ],
      "text/plain": [
       "             name                 production          director  runtime  \\\n",
       "0  Doctor Strange             Marvel Studios  Scott Derrickson      115   \n",
       "1         Sleight  Diablo Entertainment (II)      J.D. Dillard       89   \n",
       "\n",
       "     released  year  month country_kaggle country_omdb           star_kaggle  \\\n",
       "0  2016-11-04  2016     11            USA          USA  Benedict Cumberbatch   \n",
       "1  2017-04-28  2016      4            USA          USA        Jacob Latimore   \n",
       "\n",
       "                                         actors_omdb writer_kaggle  \\\n",
       "0  Benedict Cumberbatch, Chiwetel Ejiofor, Rachel...   Jon Spaihts   \n",
       "1  Jacob Latimore, Seychelle Gabriel, Storm Reid,...  J.D. Dillard   \n",
       "\n",
       "                                        writers_omdb language_omdb  \\\n",
       "0  Jon Spaihts, Scott Derrickson, C. Robert Cargi...       English   \n",
       "1                         J.D. Dillard, Alex Theurer       English   \n",
       "\n",
       "                                                plot  \\\n",
       "0  Marvel's \"Doctor Strange\" follows the story of...   \n",
       "1  A young street magician (Jacob Latimore) is le...   \n",
       "\n",
       "                                              awards  score_imdb  votes_imdb  \\\n",
       "0  Nominated for 1 Oscar. Another 19 wins & 67 no...         7.5      348307   \n",
       "1                                     3 nominations.         5.9        4012   \n",
       "\n",
       "   score_metacritic     budget genre_kaggle      gross  \\\n",
       "0              72.0  165000000       Action  232641920   \n",
       "1              62.0     250000       Action    3986245   \n",
       "\n",
       "                          genres_omdb rating  \n",
       "0  Action, Adventure, Fantasy, Sci-Fi  PG-13  \n",
       "1                Crime, Drama, Sci-Fi      R  "
      ]
     },
     "execution_count": 3,
     "metadata": {},
     "output_type": "execute_result"
    }
   ],
   "source": [
    "path = os.path.join('..', 'resources','cleaned_data', 'movies_complete_cleaned.csv')\n",
    "# path = \"https://data-bootcamp-ztc.s3.amazonaws.com/movies_complete_cleaned.csv\"\n",
    "df = pd.read_csv(path)\n",
    "# Drop Null values in `plot` column\n",
    "df = df.dropna(axis='index', subset=['plot'])\n",
    "\n",
    "df.head(2)"
   ]
  },
  {
   "cell_type": "markdown",
   "metadata": {},
   "source": [
    "**Add a feature that's the length of the raw text.**"
   ]
  },
  {
   "cell_type": "code",
   "execution_count": 4,
   "metadata": {},
   "outputs": [],
   "source": [
    "df['length'] = [len(x) for x in df['plot']]"
   ]
  },
  {
   "cell_type": "code",
   "execution_count": 5,
   "metadata": {},
   "outputs": [
    {
     "data": {
      "text/html": [
       "<div>\n",
       "<style scoped>\n",
       "    .dataframe tbody tr th:only-of-type {\n",
       "        vertical-align: middle;\n",
       "    }\n",
       "\n",
       "    .dataframe tbody tr th {\n",
       "        vertical-align: top;\n",
       "    }\n",
       "\n",
       "    .dataframe thead th {\n",
       "        text-align: right;\n",
       "    }\n",
       "</style>\n",
       "<table border=\"1\" class=\"dataframe\">\n",
       "  <thead>\n",
       "    <tr style=\"text-align: right;\">\n",
       "      <th></th>\n",
       "      <th>name</th>\n",
       "      <th>production</th>\n",
       "      <th>director</th>\n",
       "      <th>runtime</th>\n",
       "      <th>released</th>\n",
       "      <th>year</th>\n",
       "      <th>month</th>\n",
       "      <th>country_kaggle</th>\n",
       "      <th>country_omdb</th>\n",
       "      <th>star_kaggle</th>\n",
       "      <th>actors_omdb</th>\n",
       "      <th>writer_kaggle</th>\n",
       "      <th>writers_omdb</th>\n",
       "      <th>language_omdb</th>\n",
       "      <th>plot</th>\n",
       "      <th>awards</th>\n",
       "      <th>score_imdb</th>\n",
       "      <th>votes_imdb</th>\n",
       "      <th>score_metacritic</th>\n",
       "      <th>budget</th>\n",
       "      <th>genre_kaggle</th>\n",
       "      <th>gross</th>\n",
       "      <th>genres_omdb</th>\n",
       "      <th>rating</th>\n",
       "      <th>length</th>\n",
       "    </tr>\n",
       "  </thead>\n",
       "  <tbody>\n",
       "    <tr>\n",
       "      <th>0</th>\n",
       "      <td>Doctor Strange</td>\n",
       "      <td>Marvel Studios</td>\n",
       "      <td>Scott Derrickson</td>\n",
       "      <td>115</td>\n",
       "      <td>2016-11-04</td>\n",
       "      <td>2016</td>\n",
       "      <td>11</td>\n",
       "      <td>USA</td>\n",
       "      <td>USA</td>\n",
       "      <td>Benedict Cumberbatch</td>\n",
       "      <td>Benedict Cumberbatch, Chiwetel Ejiofor, Rachel...</td>\n",
       "      <td>Jon Spaihts</td>\n",
       "      <td>Jon Spaihts, Scott Derrickson, C. Robert Cargi...</td>\n",
       "      <td>English</td>\n",
       "      <td>Marvel's \"Doctor Strange\" follows the story of...</td>\n",
       "      <td>Nominated for 1 Oscar. Another 19 wins &amp; 67 no...</td>\n",
       "      <td>7.5</td>\n",
       "      <td>348307</td>\n",
       "      <td>72.0</td>\n",
       "      <td>165000000</td>\n",
       "      <td>Action</td>\n",
       "      <td>232641920</td>\n",
       "      <td>Action, Adventure, Fantasy, Sci-Fi</td>\n",
       "      <td>PG-13</td>\n",
       "      <td>464</td>\n",
       "    </tr>\n",
       "    <tr>\n",
       "      <th>1</th>\n",
       "      <td>Sleight</td>\n",
       "      <td>Diablo Entertainment (II)</td>\n",
       "      <td>J.D. Dillard</td>\n",
       "      <td>89</td>\n",
       "      <td>2017-04-28</td>\n",
       "      <td>2016</td>\n",
       "      <td>4</td>\n",
       "      <td>USA</td>\n",
       "      <td>USA</td>\n",
       "      <td>Jacob Latimore</td>\n",
       "      <td>Jacob Latimore, Seychelle Gabriel, Storm Reid,...</td>\n",
       "      <td>J.D. Dillard</td>\n",
       "      <td>J.D. Dillard, Alex Theurer</td>\n",
       "      <td>English</td>\n",
       "      <td>A young street magician (Jacob Latimore) is le...</td>\n",
       "      <td>3 nominations.</td>\n",
       "      <td>5.9</td>\n",
       "      <td>4012</td>\n",
       "      <td>62.0</td>\n",
       "      <td>250000</td>\n",
       "      <td>Action</td>\n",
       "      <td>3986245</td>\n",
       "      <td>Crime, Drama, Sci-Fi</td>\n",
       "      <td>R</td>\n",
       "      <td>289</td>\n",
       "    </tr>\n",
       "  </tbody>\n",
       "</table>\n",
       "</div>"
      ],
      "text/plain": [
       "             name                 production          director  runtime  \\\n",
       "0  Doctor Strange             Marvel Studios  Scott Derrickson      115   \n",
       "1         Sleight  Diablo Entertainment (II)      J.D. Dillard       89   \n",
       "\n",
       "     released  year  month country_kaggle country_omdb           star_kaggle  \\\n",
       "0  2016-11-04  2016     11            USA          USA  Benedict Cumberbatch   \n",
       "1  2017-04-28  2016      4            USA          USA        Jacob Latimore   \n",
       "\n",
       "                                         actors_omdb writer_kaggle  \\\n",
       "0  Benedict Cumberbatch, Chiwetel Ejiofor, Rachel...   Jon Spaihts   \n",
       "1  Jacob Latimore, Seychelle Gabriel, Storm Reid,...  J.D. Dillard   \n",
       "\n",
       "                                        writers_omdb language_omdb  \\\n",
       "0  Jon Spaihts, Scott Derrickson, C. Robert Cargi...       English   \n",
       "1                         J.D. Dillard, Alex Theurer       English   \n",
       "\n",
       "                                                plot  \\\n",
       "0  Marvel's \"Doctor Strange\" follows the story of...   \n",
       "1  A young street magician (Jacob Latimore) is le...   \n",
       "\n",
       "                                              awards  score_imdb  votes_imdb  \\\n",
       "0  Nominated for 1 Oscar. Another 19 wins & 67 no...         7.5      348307   \n",
       "1                                     3 nominations.         5.9        4012   \n",
       "\n",
       "   score_metacritic     budget genre_kaggle      gross  \\\n",
       "0              72.0  165000000       Action  232641920   \n",
       "1              62.0     250000       Action    3986245   \n",
       "\n",
       "                          genres_omdb rating  length  \n",
       "0  Action, Adventure, Fantasy, Sci-Fi  PG-13     464  \n",
       "1                Crime, Drama, Sci-Fi      R     289  "
      ]
     },
     "execution_count": 5,
     "metadata": {},
     "output_type": "execute_result"
    }
   ],
   "source": [
    "df.head(2)"
   ]
  },
  {
   "cell_type": "code",
   "execution_count": 6,
   "metadata": {},
   "outputs": [
    {
     "data": {
      "text/html": [
       "<div>\n",
       "<style scoped>\n",
       "    .dataframe tbody tr th:only-of-type {\n",
       "        vertical-align: middle;\n",
       "    }\n",
       "\n",
       "    .dataframe tbody tr th {\n",
       "        vertical-align: top;\n",
       "    }\n",
       "\n",
       "    .dataframe thead th {\n",
       "        text-align: right;\n",
       "    }\n",
       "</style>\n",
       "<table border=\"1\" class=\"dataframe\">\n",
       "  <thead>\n",
       "    <tr style=\"text-align: right;\">\n",
       "      <th></th>\n",
       "      <th>name</th>\n",
       "      <th>genre_kaggle</th>\n",
       "      <th>genres_omdb</th>\n",
       "      <th>action</th>\n",
       "      <th>adventure</th>\n",
       "      <th>fantasy</th>\n",
       "      <th>sci-fi</th>\n",
       "      <th>crime</th>\n",
       "      <th>drama</th>\n",
       "      <th>history</th>\n",
       "      <th>comedy</th>\n",
       "      <th>biography</th>\n",
       "      <th>romance</th>\n",
       "      <th>horror</th>\n",
       "      <th>thriller</th>\n",
       "      <th>war</th>\n",
       "      <th>animation</th>\n",
       "      <th>family</th>\n",
       "      <th>sport</th>\n",
       "      <th>music</th>\n",
       "      <th>mystery</th>\n",
       "      <th>short</th>\n",
       "      <th>western</th>\n",
       "      <th>musical</th>\n",
       "      <th>documentary</th>\n",
       "      <th>film-noir</th>\n",
       "      <th>adult</th>\n",
       "    </tr>\n",
       "  </thead>\n",
       "  <tbody>\n",
       "    <tr>\n",
       "      <th>0</th>\n",
       "      <td>Doctor Strange</td>\n",
       "      <td>Action</td>\n",
       "      <td>Action, Adventure, Fantasy, Sci-Fi</td>\n",
       "      <td>1</td>\n",
       "      <td>1</td>\n",
       "      <td>1</td>\n",
       "      <td>1</td>\n",
       "      <td>0</td>\n",
       "      <td>0</td>\n",
       "      <td>0</td>\n",
       "      <td>0</td>\n",
       "      <td>0</td>\n",
       "      <td>0</td>\n",
       "      <td>0</td>\n",
       "      <td>0</td>\n",
       "      <td>0</td>\n",
       "      <td>0</td>\n",
       "      <td>0</td>\n",
       "      <td>0</td>\n",
       "      <td>0</td>\n",
       "      <td>0</td>\n",
       "      <td>0</td>\n",
       "      <td>0</td>\n",
       "      <td>0</td>\n",
       "      <td>0</td>\n",
       "      <td>0</td>\n",
       "      <td>0</td>\n",
       "    </tr>\n",
       "    <tr>\n",
       "      <th>1</th>\n",
       "      <td>Sleight</td>\n",
       "      <td>Action</td>\n",
       "      <td>Crime, Drama, Sci-Fi</td>\n",
       "      <td>0</td>\n",
       "      <td>0</td>\n",
       "      <td>0</td>\n",
       "      <td>1</td>\n",
       "      <td>1</td>\n",
       "      <td>1</td>\n",
       "      <td>0</td>\n",
       "      <td>0</td>\n",
       "      <td>0</td>\n",
       "      <td>0</td>\n",
       "      <td>0</td>\n",
       "      <td>0</td>\n",
       "      <td>0</td>\n",
       "      <td>0</td>\n",
       "      <td>0</td>\n",
       "      <td>0</td>\n",
       "      <td>0</td>\n",
       "      <td>0</td>\n",
       "      <td>0</td>\n",
       "      <td>0</td>\n",
       "      <td>0</td>\n",
       "      <td>0</td>\n",
       "      <td>0</td>\n",
       "      <td>0</td>\n",
       "    </tr>\n",
       "  </tbody>\n",
       "</table>\n",
       "</div>"
      ],
      "text/plain": [
       "             name genre_kaggle                         genres_omdb  action  \\\n",
       "0  Doctor Strange       Action  Action, Adventure, Fantasy, Sci-Fi       1   \n",
       "1         Sleight       Action                Crime, Drama, Sci-Fi       0   \n",
       "\n",
       "   adventure  fantasy  sci-fi  crime  drama  history  comedy  biography  \\\n",
       "0          1        1       1      0      0        0       0          0   \n",
       "1          0        0       1      1      1        0       0          0   \n",
       "\n",
       "   romance  horror  thriller  war  animation  family  sport  music  mystery  \\\n",
       "0        0       0         0    0          0       0      0      0        0   \n",
       "1        0       0         0    0          0       0      0      0        0   \n",
       "\n",
       "   short  western  musical  documentary  film-noir  adult  \n",
       "0      0        0        0            0          0      0  \n",
       "1      0        0        0            0          0      0  "
      ]
     },
     "execution_count": 6,
     "metadata": {},
     "output_type": "execute_result"
    }
   ],
   "source": [
    "genres_path = os.path.join('..', 'resources','cleaned_data', 'parsed_genres_table.csv')\n",
    "df_genres = pd.read_csv(genres_path)\n",
    "\n",
    "df_genres.head(2)"
   ]
  },
  {
   "cell_type": "markdown",
   "metadata": {},
   "source": [
    "# Select initial features to work with"
   ]
  },
  {
   "cell_type": "code",
   "execution_count": 7,
   "metadata": {
    "scrolled": true
   },
   "outputs": [
    {
     "data": {
      "text/html": [
       "<div>\n",
       "<style scoped>\n",
       "    .dataframe tbody tr th:only-of-type {\n",
       "        vertical-align: middle;\n",
       "    }\n",
       "\n",
       "    .dataframe tbody tr th {\n",
       "        vertical-align: top;\n",
       "    }\n",
       "\n",
       "    .dataframe thead th {\n",
       "        text-align: right;\n",
       "    }\n",
       "</style>\n",
       "<table border=\"1\" class=\"dataframe\">\n",
       "  <thead>\n",
       "    <tr style=\"text-align: right;\">\n",
       "      <th></th>\n",
       "      <th>name</th>\n",
       "      <th>action</th>\n",
       "      <th>adventure</th>\n",
       "      <th>fantasy</th>\n",
       "      <th>sci-fi</th>\n",
       "      <th>crime</th>\n",
       "      <th>drama</th>\n",
       "      <th>history</th>\n",
       "      <th>comedy</th>\n",
       "      <th>biography</th>\n",
       "      <th>romance</th>\n",
       "      <th>horror</th>\n",
       "      <th>thriller</th>\n",
       "      <th>war</th>\n",
       "      <th>animation</th>\n",
       "      <th>family</th>\n",
       "      <th>sport</th>\n",
       "      <th>music</th>\n",
       "      <th>mystery</th>\n",
       "      <th>short</th>\n",
       "      <th>western</th>\n",
       "      <th>musical</th>\n",
       "      <th>documentary</th>\n",
       "      <th>film-noir</th>\n",
       "      <th>adult</th>\n",
       "      <th>plot</th>\n",
       "      <th>rating</th>\n",
       "      <th>length</th>\n",
       "    </tr>\n",
       "  </thead>\n",
       "  <tbody>\n",
       "    <tr>\n",
       "      <th>0</th>\n",
       "      <td>Doctor Strange</td>\n",
       "      <td>1</td>\n",
       "      <td>1</td>\n",
       "      <td>1</td>\n",
       "      <td>1</td>\n",
       "      <td>0</td>\n",
       "      <td>0</td>\n",
       "      <td>0</td>\n",
       "      <td>0</td>\n",
       "      <td>0</td>\n",
       "      <td>0</td>\n",
       "      <td>0</td>\n",
       "      <td>0</td>\n",
       "      <td>0</td>\n",
       "      <td>0</td>\n",
       "      <td>0</td>\n",
       "      <td>0</td>\n",
       "      <td>0</td>\n",
       "      <td>0</td>\n",
       "      <td>0</td>\n",
       "      <td>0</td>\n",
       "      <td>0</td>\n",
       "      <td>0</td>\n",
       "      <td>0</td>\n",
       "      <td>0</td>\n",
       "      <td>Marvel's \"Doctor Strange\" follows the story of...</td>\n",
       "      <td>PG-13</td>\n",
       "      <td>464</td>\n",
       "    </tr>\n",
       "    <tr>\n",
       "      <th>1</th>\n",
       "      <td>Sleight</td>\n",
       "      <td>0</td>\n",
       "      <td>0</td>\n",
       "      <td>0</td>\n",
       "      <td>1</td>\n",
       "      <td>1</td>\n",
       "      <td>1</td>\n",
       "      <td>0</td>\n",
       "      <td>0</td>\n",
       "      <td>0</td>\n",
       "      <td>0</td>\n",
       "      <td>0</td>\n",
       "      <td>0</td>\n",
       "      <td>0</td>\n",
       "      <td>0</td>\n",
       "      <td>0</td>\n",
       "      <td>0</td>\n",
       "      <td>0</td>\n",
       "      <td>0</td>\n",
       "      <td>0</td>\n",
       "      <td>0</td>\n",
       "      <td>0</td>\n",
       "      <td>0</td>\n",
       "      <td>0</td>\n",
       "      <td>0</td>\n",
       "      <td>A young street magician (Jacob Latimore) is le...</td>\n",
       "      <td>R</td>\n",
       "      <td>289</td>\n",
       "    </tr>\n",
       "  </tbody>\n",
       "</table>\n",
       "</div>"
      ],
      "text/plain": [
       "             name  action  adventure  fantasy  sci-fi  crime  drama  history  \\\n",
       "0  Doctor Strange       1          1        1       1      0      0        0   \n",
       "1         Sleight       0          0        0       1      1      1        0   \n",
       "\n",
       "   comedy  biography  romance  horror  thriller  war  animation  family  \\\n",
       "0       0          0        0       0         0    0          0       0   \n",
       "1       0          0        0       0         0    0          0       0   \n",
       "\n",
       "   sport  music  mystery  short  western  musical  documentary  film-noir  \\\n",
       "0      0      0        0      0        0        0            0          0   \n",
       "1      0      0        0      0        0        0            0          0   \n",
       "\n",
       "   adult                                               plot rating  length  \n",
       "0      0  Marvel's \"Doctor Strange\" follows the story of...  PG-13     464  \n",
       "1      0  A young street magician (Jacob Latimore) is le...      R     289  "
      ]
     },
     "execution_count": 7,
     "metadata": {},
     "output_type": "execute_result"
    }
   ],
   "source": [
    "# Select features\n",
    "df_plot = df[['name', 'plot', 'rating', 'length']]\n",
    "full_df = pd.merge(df_genres, df_plot, on='name', how='inner')\n",
    "full_df.drop(columns=['genre_kaggle', 'genres_omdb'], inplace=True)\n",
    "full_df.head(2)"
   ]
  },
  {
   "cell_type": "code",
   "execution_count": 8,
   "metadata": {},
   "outputs": [
    {
     "data": {
      "text/plain": [
       "name           False\n",
       "action         False\n",
       "adventure      False\n",
       "fantasy        False\n",
       "sci-fi         False\n",
       "crime          False\n",
       "drama          False\n",
       "history        False\n",
       "comedy         False\n",
       "biography      False\n",
       "romance        False\n",
       "horror         False\n",
       "thriller       False\n",
       "war            False\n",
       "animation      False\n",
       "family         False\n",
       "sport          False\n",
       "music          False\n",
       "mystery        False\n",
       "short          False\n",
       "western        False\n",
       "musical        False\n",
       "documentary    False\n",
       "film-noir      False\n",
       "adult          False\n",
       "plot           False\n",
       "rating         False\n",
       "length         False\n",
       "dtype: bool"
      ]
     },
     "execution_count": 8,
     "metadata": {},
     "output_type": "execute_result"
    }
   ],
   "source": [
    "# Check if there's missing values\n",
    "full_df.isna().any()"
   ]
  },
  {
   "cell_type": "markdown",
   "metadata": {},
   "source": [
    "# Preprocessing - NLP - pt1"
   ]
  },
  {
   "cell_type": "markdown",
   "metadata": {},
   "source": [
    "### Remove punctuations"
   ]
  },
  {
   "cell_type": "code",
   "execution_count": 9,
   "metadata": {},
   "outputs": [],
   "source": [
    "import string\n",
    "\n",
    "def remove_punct(text):\n",
    "    table = str.maketrans(\"\", \"\", string.punctuation)\n",
    "    return text.translate(table)\n",
    "\n",
    "\n",
    "punc_removed = full_df.copy()\n",
    "punc_removed[\"punc_removed\"] = [remove_punct(x) for x in punc_removed['plot']]"
   ]
  },
  {
   "cell_type": "code",
   "execution_count": 10,
   "metadata": {},
   "outputs": [
    {
     "data": {
      "text/html": [
       "<div>\n",
       "<style scoped>\n",
       "    .dataframe tbody tr th:only-of-type {\n",
       "        vertical-align: middle;\n",
       "    }\n",
       "\n",
       "    .dataframe tbody tr th {\n",
       "        vertical-align: top;\n",
       "    }\n",
       "\n",
       "    .dataframe thead th {\n",
       "        text-align: right;\n",
       "    }\n",
       "</style>\n",
       "<table border=\"1\" class=\"dataframe\">\n",
       "  <thead>\n",
       "    <tr style=\"text-align: right;\">\n",
       "      <th></th>\n",
       "      <th>name</th>\n",
       "      <th>action</th>\n",
       "      <th>adventure</th>\n",
       "      <th>fantasy</th>\n",
       "      <th>sci-fi</th>\n",
       "      <th>crime</th>\n",
       "      <th>drama</th>\n",
       "      <th>history</th>\n",
       "      <th>comedy</th>\n",
       "      <th>biography</th>\n",
       "      <th>romance</th>\n",
       "      <th>horror</th>\n",
       "      <th>thriller</th>\n",
       "      <th>war</th>\n",
       "      <th>animation</th>\n",
       "      <th>family</th>\n",
       "      <th>sport</th>\n",
       "      <th>music</th>\n",
       "      <th>mystery</th>\n",
       "      <th>short</th>\n",
       "      <th>western</th>\n",
       "      <th>musical</th>\n",
       "      <th>documentary</th>\n",
       "      <th>film-noir</th>\n",
       "      <th>adult</th>\n",
       "      <th>plot</th>\n",
       "      <th>rating</th>\n",
       "      <th>length</th>\n",
       "      <th>punc_removed</th>\n",
       "    </tr>\n",
       "  </thead>\n",
       "  <tbody>\n",
       "    <tr>\n",
       "      <th>0</th>\n",
       "      <td>Doctor Strange</td>\n",
       "      <td>1</td>\n",
       "      <td>1</td>\n",
       "      <td>1</td>\n",
       "      <td>1</td>\n",
       "      <td>0</td>\n",
       "      <td>0</td>\n",
       "      <td>0</td>\n",
       "      <td>0</td>\n",
       "      <td>0</td>\n",
       "      <td>0</td>\n",
       "      <td>0</td>\n",
       "      <td>0</td>\n",
       "      <td>0</td>\n",
       "      <td>0</td>\n",
       "      <td>0</td>\n",
       "      <td>0</td>\n",
       "      <td>0</td>\n",
       "      <td>0</td>\n",
       "      <td>0</td>\n",
       "      <td>0</td>\n",
       "      <td>0</td>\n",
       "      <td>0</td>\n",
       "      <td>0</td>\n",
       "      <td>0</td>\n",
       "      <td>Marvel's \"Doctor Strange\" follows the story of...</td>\n",
       "      <td>PG-13</td>\n",
       "      <td>464</td>\n",
       "      <td>Marvels Doctor Strange follows the story of th...</td>\n",
       "    </tr>\n",
       "    <tr>\n",
       "      <th>1</th>\n",
       "      <td>Sleight</td>\n",
       "      <td>0</td>\n",
       "      <td>0</td>\n",
       "      <td>0</td>\n",
       "      <td>1</td>\n",
       "      <td>1</td>\n",
       "      <td>1</td>\n",
       "      <td>0</td>\n",
       "      <td>0</td>\n",
       "      <td>0</td>\n",
       "      <td>0</td>\n",
       "      <td>0</td>\n",
       "      <td>0</td>\n",
       "      <td>0</td>\n",
       "      <td>0</td>\n",
       "      <td>0</td>\n",
       "      <td>0</td>\n",
       "      <td>0</td>\n",
       "      <td>0</td>\n",
       "      <td>0</td>\n",
       "      <td>0</td>\n",
       "      <td>0</td>\n",
       "      <td>0</td>\n",
       "      <td>0</td>\n",
       "      <td>0</td>\n",
       "      <td>A young street magician (Jacob Latimore) is le...</td>\n",
       "      <td>R</td>\n",
       "      <td>289</td>\n",
       "      <td>A young street magician Jacob Latimore is left...</td>\n",
       "    </tr>\n",
       "  </tbody>\n",
       "</table>\n",
       "</div>"
      ],
      "text/plain": [
       "             name  action  adventure  fantasy  sci-fi  crime  drama  history  \\\n",
       "0  Doctor Strange       1          1        1       1      0      0        0   \n",
       "1         Sleight       0          0        0       1      1      1        0   \n",
       "\n",
       "   comedy  biography  romance  horror  thriller  war  animation  family  \\\n",
       "0       0          0        0       0         0    0          0       0   \n",
       "1       0          0        0       0         0    0          0       0   \n",
       "\n",
       "   sport  music  mystery  short  western  musical  documentary  film-noir  \\\n",
       "0      0      0        0      0        0        0            0          0   \n",
       "1      0      0        0      0        0        0            0          0   \n",
       "\n",
       "   adult                                               plot rating  length  \\\n",
       "0      0  Marvel's \"Doctor Strange\" follows the story of...  PG-13     464   \n",
       "1      0  A young street magician (Jacob Latimore) is le...      R     289   \n",
       "\n",
       "                                        punc_removed  \n",
       "0  Marvels Doctor Strange follows the story of th...  \n",
       "1  A young street magician Jacob Latimore is left...  "
      ]
     },
     "execution_count": 10,
     "metadata": {},
     "output_type": "execute_result"
    }
   ],
   "source": [
    "punc_removed.head(2)"
   ]
  },
  {
   "cell_type": "markdown",
   "metadata": {},
   "source": [
    "### Tokenization"
   ]
  },
  {
   "cell_type": "code",
   "execution_count": 11,
   "metadata": {
    "scrolled": false
   },
   "outputs": [],
   "source": [
    "# Tokenization with `nltk.word_tokenize`\n",
    "tokenized_df = punc_removed.copy()\n",
    "tokenized_df['tokens'] = tokenized_df.\\\n",
    "    apply(lambda row: nltk.word_tokenize(row['punc_removed']), axis=1)"
   ]
  },
  {
   "cell_type": "code",
   "execution_count": 12,
   "metadata": {},
   "outputs": [
    {
     "data": {
      "text/html": [
       "<div>\n",
       "<style scoped>\n",
       "    .dataframe tbody tr th:only-of-type {\n",
       "        vertical-align: middle;\n",
       "    }\n",
       "\n",
       "    .dataframe tbody tr th {\n",
       "        vertical-align: top;\n",
       "    }\n",
       "\n",
       "    .dataframe thead th {\n",
       "        text-align: right;\n",
       "    }\n",
       "</style>\n",
       "<table border=\"1\" class=\"dataframe\">\n",
       "  <thead>\n",
       "    <tr style=\"text-align: right;\">\n",
       "      <th></th>\n",
       "      <th>name</th>\n",
       "      <th>plot</th>\n",
       "      <th>punc_removed</th>\n",
       "      <th>tokens</th>\n",
       "    </tr>\n",
       "  </thead>\n",
       "  <tbody>\n",
       "    <tr>\n",
       "      <th>0</th>\n",
       "      <td>Doctor Strange</td>\n",
       "      <td>Marvel's \"Doctor Strange\" follows the story of...</td>\n",
       "      <td>Marvels Doctor Strange follows the story of th...</td>\n",
       "      <td>[Marvels, Doctor, Strange, follows, the, story...</td>\n",
       "    </tr>\n",
       "    <tr>\n",
       "      <th>1</th>\n",
       "      <td>Sleight</td>\n",
       "      <td>A young street magician (Jacob Latimore) is le...</td>\n",
       "      <td>A young street magician Jacob Latimore is left...</td>\n",
       "      <td>[A, young, street, magician, Jacob, Latimore, ...</td>\n",
       "    </tr>\n",
       "  </tbody>\n",
       "</table>\n",
       "</div>"
      ],
      "text/plain": [
       "             name                                               plot  \\\n",
       "0  Doctor Strange  Marvel's \"Doctor Strange\" follows the story of...   \n",
       "1         Sleight  A young street magician (Jacob Latimore) is le...   \n",
       "\n",
       "                                        punc_removed  \\\n",
       "0  Marvels Doctor Strange follows the story of th...   \n",
       "1  A young street magician Jacob Latimore is left...   \n",
       "\n",
       "                                              tokens  \n",
       "0  [Marvels, Doctor, Strange, follows, the, story...  \n",
       "1  [A, young, street, magician, Jacob, Latimore, ...  "
      ]
     },
     "execution_count": 12,
     "metadata": {},
     "output_type": "execute_result"
    }
   ],
   "source": [
    "tokenized_df[['name', 'plot', 'punc_removed', 'tokens']].head(2)"
   ]
  },
  {
   "cell_type": "markdown",
   "metadata": {},
   "source": [
    "### Stopwords removal"
   ]
  },
  {
   "cell_type": "code",
   "execution_count": 13,
   "metadata": {},
   "outputs": [],
   "source": [
    "# Remove stopwords\n",
    "from nltk.corpus import stopwords\n",
    "\n",
    "stop = set(stopwords.words(\"english\"))\n",
    "\n",
    "def remove_stopwords(tokens):\n",
    "    text = [word.lower() for word in tokens if word.lower() not in stop]\n",
    "    return text"
   ]
  },
  {
   "cell_type": "code",
   "execution_count": 14,
   "metadata": {},
   "outputs": [],
   "source": [
    "# Remove stopwords\n",
    "filtered_df = tokenized_df.copy()\n",
    "\n",
    "filtered_df[\"filtered\"] = [remove_stopwords(x) for x in filtered_df[\"tokens\"]]"
   ]
  },
  {
   "cell_type": "code",
   "execution_count": 15,
   "metadata": {},
   "outputs": [
    {
     "data": {
      "text/html": [
       "<div>\n",
       "<style scoped>\n",
       "    .dataframe tbody tr th:only-of-type {\n",
       "        vertical-align: middle;\n",
       "    }\n",
       "\n",
       "    .dataframe tbody tr th {\n",
       "        vertical-align: top;\n",
       "    }\n",
       "\n",
       "    .dataframe thead th {\n",
       "        text-align: right;\n",
       "    }\n",
       "</style>\n",
       "<table border=\"1\" class=\"dataframe\">\n",
       "  <thead>\n",
       "    <tr style=\"text-align: right;\">\n",
       "      <th></th>\n",
       "      <th>name</th>\n",
       "      <th>plot</th>\n",
       "      <th>punc_removed</th>\n",
       "      <th>tokens</th>\n",
       "      <th>filtered</th>\n",
       "    </tr>\n",
       "  </thead>\n",
       "  <tbody>\n",
       "    <tr>\n",
       "      <th>0</th>\n",
       "      <td>Doctor Strange</td>\n",
       "      <td>Marvel's \"Doctor Strange\" follows the story of...</td>\n",
       "      <td>Marvels Doctor Strange follows the story of th...</td>\n",
       "      <td>[Marvels, Doctor, Strange, follows, the, story...</td>\n",
       "      <td>[marvels, doctor, strange, follows, story, tal...</td>\n",
       "    </tr>\n",
       "    <tr>\n",
       "      <th>1</th>\n",
       "      <td>Sleight</td>\n",
       "      <td>A young street magician (Jacob Latimore) is le...</td>\n",
       "      <td>A young street magician Jacob Latimore is left...</td>\n",
       "      <td>[A, young, street, magician, Jacob, Latimore, ...</td>\n",
       "      <td>[young, street, magician, jacob, latimore, lef...</td>\n",
       "    </tr>\n",
       "  </tbody>\n",
       "</table>\n",
       "</div>"
      ],
      "text/plain": [
       "             name                                               plot  \\\n",
       "0  Doctor Strange  Marvel's \"Doctor Strange\" follows the story of...   \n",
       "1         Sleight  A young street magician (Jacob Latimore) is le...   \n",
       "\n",
       "                                        punc_removed  \\\n",
       "0  Marvels Doctor Strange follows the story of th...   \n",
       "1  A young street magician Jacob Latimore is left...   \n",
       "\n",
       "                                              tokens  \\\n",
       "0  [Marvels, Doctor, Strange, follows, the, story...   \n",
       "1  [A, young, street, magician, Jacob, Latimore, ...   \n",
       "\n",
       "                                            filtered  \n",
       "0  [marvels, doctor, strange, follows, story, tal...  \n",
       "1  [young, street, magician, jacob, latimore, lef...  "
      ]
     },
     "execution_count": 15,
     "metadata": {},
     "output_type": "execute_result"
    }
   ],
   "source": [
    "filtered_df[['name', 'plot', 'punc_removed', 'tokens', 'filtered']].head(2)"
   ]
  },
  {
   "cell_type": "code",
   "execution_count": 16,
   "metadata": {},
   "outputs": [
    {
     "data": {
      "text/plain": [
       "27     133\n",
       "24     132\n",
       "32     129\n",
       "31     128\n",
       "22     128\n",
       "      ... \n",
       "157      1\n",
       "156      1\n",
       "146      1\n",
       "144      1\n",
       "226      1\n",
       "Name: stopwords_filtered_out, Length: 188, dtype: int64"
      ]
     },
     "execution_count": 16,
     "metadata": {},
     "output_type": "execute_result"
    }
   ],
   "source": [
    "# Compare number of tokens pre- and post- stopwords removal\n",
    "check_filter = filtered_df.copy()\n",
    "check_filter['stopwords_filtered_out'] = ''\n",
    "\n",
    "for index, row in check_filter.iterrows():\n",
    "    token_count = len(check_filter.loc[index, 'tokens'])\n",
    "    filtered_count = len(check_filter.loc[index, 'filtered'])\n",
    "    check_filter.loc[index, 'stopwords_filtered_out'] = token_count - filtered_count\n",
    "\n",
    "check_filter['stopwords_filtered_out'].value_counts()"
   ]
  },
  {
   "cell_type": "code",
   "execution_count": 17,
   "metadata": {},
   "outputs": [
    {
     "data": {
      "text/html": [
       "<div>\n",
       "<style scoped>\n",
       "    .dataframe tbody tr th:only-of-type {\n",
       "        vertical-align: middle;\n",
       "    }\n",
       "\n",
       "    .dataframe tbody tr th {\n",
       "        vertical-align: top;\n",
       "    }\n",
       "\n",
       "    .dataframe thead th {\n",
       "        text-align: right;\n",
       "    }\n",
       "</style>\n",
       "<table border=\"1\" class=\"dataframe\">\n",
       "  <thead>\n",
       "    <tr style=\"text-align: right;\">\n",
       "      <th></th>\n",
       "      <th>name</th>\n",
       "      <th>tokens</th>\n",
       "      <th>filtered</th>\n",
       "      <th>stopwords_filtered_out</th>\n",
       "    </tr>\n",
       "  </thead>\n",
       "  <tbody>\n",
       "    <tr>\n",
       "      <th>0</th>\n",
       "      <td>Doctor Strange</td>\n",
       "      <td>[Marvels, Doctor, Strange, follows, the, story...</td>\n",
       "      <td>[marvels, doctor, strange, follows, story, tal...</td>\n",
       "      <td>24</td>\n",
       "    </tr>\n",
       "    <tr>\n",
       "      <th>1</th>\n",
       "      <td>Sleight</td>\n",
       "      <td>[A, young, street, magician, Jacob, Latimore, ...</td>\n",
       "      <td>[young, street, magician, jacob, latimore, lef...</td>\n",
       "      <td>27</td>\n",
       "    </tr>\n",
       "    <tr>\n",
       "      <th>2</th>\n",
       "      <td>Silence</td>\n",
       "      <td>[The, story, of, two, Catholic, missionaries, ...</td>\n",
       "      <td>[story, two, catholic, missionaries, andrew, g...</td>\n",
       "      <td>18</td>\n",
       "    </tr>\n",
       "  </tbody>\n",
       "</table>\n",
       "</div>"
      ],
      "text/plain": [
       "             name                                             tokens  \\\n",
       "0  Doctor Strange  [Marvels, Doctor, Strange, follows, the, story...   \n",
       "1         Sleight  [A, young, street, magician, Jacob, Latimore, ...   \n",
       "2         Silence  [The, story, of, two, Catholic, missionaries, ...   \n",
       "\n",
       "                                            filtered stopwords_filtered_out  \n",
       "0  [marvels, doctor, strange, follows, story, tal...                     24  \n",
       "1  [young, street, magician, jacob, latimore, lef...                     27  \n",
       "2  [story, two, catholic, missionaries, andrew, g...                     18  "
      ]
     },
     "execution_count": 17,
     "metadata": {},
     "output_type": "execute_result"
    }
   ],
   "source": [
    "check_filter[['name', 'tokens', 'filtered', 'stopwords_filtered_out']].head(3)"
   ]
  },
  {
   "cell_type": "markdown",
   "metadata": {},
   "source": [
    "### Word Normalization with Lemmatization\n",
    "\n",
    "Reduce inflection in words to their root forms and ensure the root form belongs to English."
   ]
  },
  {
   "cell_type": "code",
   "execution_count": 18,
   "metadata": {},
   "outputs": [],
   "source": [
    "# Lemmatization\n",
    "from nltk.stem import WordNetLemmatizer\n",
    "\n",
    "wordnet_lemmatizer = WordNetLemmatizer()\n",
    "\n",
    "def stemming(stopwords_removed):\n",
    "    text = [wordnet_lemmatizer.lemmatize(word) for word in stopwords_removed]\n",
    "    return text"
   ]
  },
  {
   "cell_type": "code",
   "execution_count": 19,
   "metadata": {},
   "outputs": [],
   "source": [
    "stemmed_df = filtered_df.copy()\n",
    "stemmed_df['stemmed'] = [stemming(x) for x in stemmed_df['filtered']]"
   ]
  },
  {
   "cell_type": "code",
   "execution_count": 20,
   "metadata": {},
   "outputs": [
    {
     "data": {
      "text/html": [
       "<div>\n",
       "<style scoped>\n",
       "    .dataframe tbody tr th:only-of-type {\n",
       "        vertical-align: middle;\n",
       "    }\n",
       "\n",
       "    .dataframe tbody tr th {\n",
       "        vertical-align: top;\n",
       "    }\n",
       "\n",
       "    .dataframe thead th {\n",
       "        text-align: right;\n",
       "    }\n",
       "</style>\n",
       "<table border=\"1\" class=\"dataframe\">\n",
       "  <thead>\n",
       "    <tr style=\"text-align: right;\">\n",
       "      <th></th>\n",
       "      <th>name</th>\n",
       "      <th>plot</th>\n",
       "      <th>punc_removed</th>\n",
       "      <th>tokens</th>\n",
       "      <th>filtered</th>\n",
       "      <th>stemmed</th>\n",
       "    </tr>\n",
       "  </thead>\n",
       "  <tbody>\n",
       "    <tr>\n",
       "      <th>0</th>\n",
       "      <td>Doctor Strange</td>\n",
       "      <td>Marvel's \"Doctor Strange\" follows the story of...</td>\n",
       "      <td>Marvels Doctor Strange follows the story of th...</td>\n",
       "      <td>[Marvels, Doctor, Strange, follows, the, story...</td>\n",
       "      <td>[marvels, doctor, strange, follows, story, tal...</td>\n",
       "      <td>[marvel, doctor, strange, follows, story, tale...</td>\n",
       "    </tr>\n",
       "    <tr>\n",
       "      <th>1</th>\n",
       "      <td>Sleight</td>\n",
       "      <td>A young street magician (Jacob Latimore) is le...</td>\n",
       "      <td>A young street magician Jacob Latimore is left...</td>\n",
       "      <td>[A, young, street, magician, Jacob, Latimore, ...</td>\n",
       "      <td>[young, street, magician, jacob, latimore, lef...</td>\n",
       "      <td>[young, street, magician, jacob, latimore, lef...</td>\n",
       "    </tr>\n",
       "  </tbody>\n",
       "</table>\n",
       "</div>"
      ],
      "text/plain": [
       "             name                                               plot  \\\n",
       "0  Doctor Strange  Marvel's \"Doctor Strange\" follows the story of...   \n",
       "1         Sleight  A young street magician (Jacob Latimore) is le...   \n",
       "\n",
       "                                        punc_removed  \\\n",
       "0  Marvels Doctor Strange follows the story of th...   \n",
       "1  A young street magician Jacob Latimore is left...   \n",
       "\n",
       "                                              tokens  \\\n",
       "0  [Marvels, Doctor, Strange, follows, the, story...   \n",
       "1  [A, young, street, magician, Jacob, Latimore, ...   \n",
       "\n",
       "                                            filtered  \\\n",
       "0  [marvels, doctor, strange, follows, story, tal...   \n",
       "1  [young, street, magician, jacob, latimore, lef...   \n",
       "\n",
       "                                             stemmed  \n",
       "0  [marvel, doctor, strange, follows, story, tale...  \n",
       "1  [young, street, magician, jacob, latimore, lef...  "
      ]
     },
     "execution_count": 20,
     "metadata": {},
     "output_type": "execute_result"
    }
   ],
   "source": [
    "stemmed_df[['name', 'plot', 'punc_removed', 'tokens', 'filtered', 'stemmed']].head(2)"
   ]
  },
  {
   "cell_type": "markdown",
   "metadata": {},
   "source": [
    "# Encoding"
   ]
  },
  {
   "cell_type": "code",
   "execution_count": 21,
   "metadata": {},
   "outputs": [
    {
     "data": {
      "text/plain": [
       "R        3071\n",
       "PG-13    1812\n",
       "PG        883\n",
       "G         128\n",
       "NC-17      19\n",
       "Name: rating, dtype: int64"
      ]
     },
     "execution_count": 21,
     "metadata": {},
     "output_type": "execute_result"
    }
   ],
   "source": [
    "# Check labels distribution\n",
    "stemmed_df['rating'].value_counts()"
   ]
  },
  {
   "cell_type": "markdown",
   "metadata": {},
   "source": [
    "**There is very little data on the rating \"NC-17\" and \"G\" compared with \"R\" and \"PG-13\". We will remove NC-17.**"
   ]
  },
  {
   "cell_type": "code",
   "execution_count": 22,
   "metadata": {},
   "outputs": [],
   "source": [
    "filt_nc = stemmed_df['rating'] != 'NC-17'\n",
    "stemmed_df = stemmed_df.loc[filt_nc]"
   ]
  },
  {
   "cell_type": "code",
   "execution_count": 23,
   "metadata": {},
   "outputs": [],
   "source": [
    "# Encode 'rating'\n",
    "# ---------------\n",
    "from sklearn.preprocessing import LabelEncoder\n",
    "\n",
    "label_encoder = LabelEncoder()\n",
    "\n",
    "label_encoder.fit(stemmed_df['rating'])\n",
    "rating_encoded = stemmed_df.copy()\n",
    "rating_encoded['rating'] = label_encoder.transform(rating_encoded['rating'])"
   ]
  },
  {
   "cell_type": "code",
   "execution_count": 24,
   "metadata": {},
   "outputs": [
    {
     "data": {
      "text/html": [
       "<div>\n",
       "<style scoped>\n",
       "    .dataframe tbody tr th:only-of-type {\n",
       "        vertical-align: middle;\n",
       "    }\n",
       "\n",
       "    .dataframe tbody tr th {\n",
       "        vertical-align: top;\n",
       "    }\n",
       "\n",
       "    .dataframe thead th {\n",
       "        text-align: right;\n",
       "    }\n",
       "</style>\n",
       "<table border=\"1\" class=\"dataframe\">\n",
       "  <thead>\n",
       "    <tr style=\"text-align: right;\">\n",
       "      <th></th>\n",
       "      <th>rating</th>\n",
       "      <th>label</th>\n",
       "      <th>count</th>\n",
       "    </tr>\n",
       "  </thead>\n",
       "  <tbody>\n",
       "    <tr>\n",
       "      <th>0</th>\n",
       "      <td>R</td>\n",
       "      <td>3</td>\n",
       "      <td>3071</td>\n",
       "    </tr>\n",
       "    <tr>\n",
       "      <th>1</th>\n",
       "      <td>PG-13</td>\n",
       "      <td>2</td>\n",
       "      <td>1812</td>\n",
       "    </tr>\n",
       "    <tr>\n",
       "      <th>2</th>\n",
       "      <td>PG</td>\n",
       "      <td>1</td>\n",
       "      <td>883</td>\n",
       "    </tr>\n",
       "    <tr>\n",
       "      <th>3</th>\n",
       "      <td>G</td>\n",
       "      <td>0</td>\n",
       "      <td>128</td>\n",
       "    </tr>\n",
       "  </tbody>\n",
       "</table>\n",
       "</div>"
      ],
      "text/plain": [
       "  rating  label  count\n",
       "0      R      3   3071\n",
       "1  PG-13      2   1812\n",
       "2     PG      1    883\n",
       "3      G      0    128"
      ]
     },
     "execution_count": 24,
     "metadata": {},
     "output_type": "execute_result"
    }
   ],
   "source": [
    "# Check success\n",
    "rating_original = pd.DataFrame(stemmed_df['rating'].value_counts()).reset_index()\n",
    "rating_new = pd.DataFrame(rating_encoded['rating'].value_counts()).reset_index()\n",
    "merged_rating = pd.merge(rating_original, rating_new, on='rating')\n",
    "merged_rating = merged_rating.rename(columns={'rating': 'count',\n",
    "                                              'index_x': 'rating',\n",
    "                                              'index_y': 'label'\n",
    "                                             })[['rating', 'label', 'count']]\n",
    "merged_rating"
   ]
  },
  {
   "cell_type": "markdown",
   "metadata": {},
   "source": [
    "Set target names for classification report"
   ]
  },
  {
   "cell_type": "code",
   "execution_count": 25,
   "metadata": {},
   "outputs": [
    {
     "data": {
      "text/plain": [
       "['G', 'PG', 'PG-13', 'R']"
      ]
     },
     "execution_count": 25,
     "metadata": {},
     "output_type": "execute_result"
    }
   ],
   "source": [
    "# Check class categories\n",
    "classes = list(label_encoder.classes_)\n",
    "classes"
   ]
  },
  {
   "cell_type": "code",
   "execution_count": 26,
   "metadata": {},
   "outputs": [
    {
     "data": {
      "text/plain": [
       "['G', 'PG', 'PG-13', 'R']"
      ]
     },
     "execution_count": 26,
     "metadata": {},
     "output_type": "execute_result"
    }
   ],
   "source": [
    "# Set target names\n",
    "target_names = classes\n",
    "target_names"
   ]
  },
  {
   "cell_type": "markdown",
   "metadata": {},
   "source": [
    "# Select final features"
   ]
  },
  {
   "cell_type": "code",
   "execution_count": 27,
   "metadata": {},
   "outputs": [],
   "source": [
    "features_df = stemmed_df.drop(columns=['name', 'plot',\n",
    "                                       'punc_removed', 'tokens', 'filtered'])"
   ]
  },
  {
   "cell_type": "code",
   "execution_count": 28,
   "metadata": {},
   "outputs": [],
   "source": [
    "# Set features as X and output as y\n",
    "features_df = features_df.drop(\"rating\", axis=1)"
   ]
  },
  {
   "cell_type": "code",
   "execution_count": 29,
   "metadata": {},
   "outputs": [
    {
     "data": {
      "text/html": [
       "<div>\n",
       "<style scoped>\n",
       "    .dataframe tbody tr th:only-of-type {\n",
       "        vertical-align: middle;\n",
       "    }\n",
       "\n",
       "    .dataframe tbody tr th {\n",
       "        vertical-align: top;\n",
       "    }\n",
       "\n",
       "    .dataframe thead th {\n",
       "        text-align: right;\n",
       "    }\n",
       "</style>\n",
       "<table border=\"1\" class=\"dataframe\">\n",
       "  <thead>\n",
       "    <tr style=\"text-align: right;\">\n",
       "      <th></th>\n",
       "      <th>action</th>\n",
       "      <th>adventure</th>\n",
       "      <th>fantasy</th>\n",
       "      <th>sci-fi</th>\n",
       "      <th>crime</th>\n",
       "      <th>drama</th>\n",
       "      <th>history</th>\n",
       "      <th>comedy</th>\n",
       "      <th>biography</th>\n",
       "      <th>romance</th>\n",
       "      <th>horror</th>\n",
       "      <th>thriller</th>\n",
       "      <th>war</th>\n",
       "      <th>animation</th>\n",
       "      <th>family</th>\n",
       "      <th>sport</th>\n",
       "      <th>music</th>\n",
       "      <th>mystery</th>\n",
       "      <th>short</th>\n",
       "      <th>western</th>\n",
       "      <th>musical</th>\n",
       "      <th>documentary</th>\n",
       "      <th>film-noir</th>\n",
       "      <th>adult</th>\n",
       "      <th>length</th>\n",
       "      <th>stemmed</th>\n",
       "    </tr>\n",
       "  </thead>\n",
       "  <tbody>\n",
       "    <tr>\n",
       "      <th>0</th>\n",
       "      <td>1</td>\n",
       "      <td>1</td>\n",
       "      <td>1</td>\n",
       "      <td>1</td>\n",
       "      <td>0</td>\n",
       "      <td>0</td>\n",
       "      <td>0</td>\n",
       "      <td>0</td>\n",
       "      <td>0</td>\n",
       "      <td>0</td>\n",
       "      <td>0</td>\n",
       "      <td>0</td>\n",
       "      <td>0</td>\n",
       "      <td>0</td>\n",
       "      <td>0</td>\n",
       "      <td>0</td>\n",
       "      <td>0</td>\n",
       "      <td>0</td>\n",
       "      <td>0</td>\n",
       "      <td>0</td>\n",
       "      <td>0</td>\n",
       "      <td>0</td>\n",
       "      <td>0</td>\n",
       "      <td>0</td>\n",
       "      <td>464</td>\n",
       "      <td>[marvel, doctor, strange, follows, story, tale...</td>\n",
       "    </tr>\n",
       "  </tbody>\n",
       "</table>\n",
       "</div>"
      ],
      "text/plain": [
       "   action  adventure  fantasy  sci-fi  crime  drama  history  comedy  \\\n",
       "0       1          1        1       1      0      0        0       0   \n",
       "\n",
       "   biography  romance  horror  thriller  war  animation  family  sport  music  \\\n",
       "0          0        0       0         0    0          0       0      0      0   \n",
       "\n",
       "   mystery  short  western  musical  documentary  film-noir  adult  length  \\\n",
       "0        0      0        0        0            0          0      0     464   \n",
       "\n",
       "                                             stemmed  \n",
       "0  [marvel, doctor, strange, follows, story, tale...  "
      ]
     },
     "execution_count": 29,
     "metadata": {},
     "output_type": "execute_result"
    }
   ],
   "source": [
    "features_df.head(1)"
   ]
  },
  {
   "cell_type": "markdown",
   "metadata": {},
   "source": [
    "**We will be using sklearn's HashingVectorizer and TfidfTransformer to vectorize our plot NLP feature and scale by accounting for inverse document-frequency. Thus it's necessary to work with strings of plot objects instead of lists of tokenized plot objects.**"
   ]
  },
  {
   "cell_type": "code",
   "execution_count": 30,
   "metadata": {
    "scrolled": true
   },
   "outputs": [],
   "source": [
    "# Function to turn tokenized/filtered/Lemmatized list of words back to plot\n",
    "def tokens_to_plot(tokens_list):\n",
    "    plot = str(tokens_list).replace('[', '').replace(']', '').replace(',', '').replace(\"'\", '')\n",
    "    return plot"
   ]
  },
  {
   "cell_type": "markdown",
   "metadata": {},
   "source": [
    "**Define X and y**"
   ]
  },
  {
   "cell_type": "code",
   "execution_count": 31,
   "metadata": {},
   "outputs": [
    {
     "name": "stdout",
     "output_type": "stream",
     "text": [
      "(5894, 26) (5894,)\n"
     ]
    }
   ],
   "source": [
    "X = features_df.copy()\n",
    "X['stemmed'] = [tokens_to_plot(x) for x in X['stemmed']]\n",
    "\n",
    "y = rating_encoded['rating'].values.reshape(-1, 1)\n",
    "y = rating_encoded['rating'].values.reshape(-1, )\n",
    "\n",
    "print(X.shape, y.shape)"
   ]
  },
  {
   "cell_type": "code",
   "execution_count": 32,
   "metadata": {},
   "outputs": [
    {
     "data": {
      "text/html": [
       "<div>\n",
       "<style scoped>\n",
       "    .dataframe tbody tr th:only-of-type {\n",
       "        vertical-align: middle;\n",
       "    }\n",
       "\n",
       "    .dataframe tbody tr th {\n",
       "        vertical-align: top;\n",
       "    }\n",
       "\n",
       "    .dataframe thead th {\n",
       "        text-align: right;\n",
       "    }\n",
       "</style>\n",
       "<table border=\"1\" class=\"dataframe\">\n",
       "  <thead>\n",
       "    <tr style=\"text-align: right;\">\n",
       "      <th></th>\n",
       "      <th>action</th>\n",
       "      <th>adventure</th>\n",
       "      <th>fantasy</th>\n",
       "      <th>sci-fi</th>\n",
       "      <th>crime</th>\n",
       "      <th>drama</th>\n",
       "      <th>history</th>\n",
       "      <th>comedy</th>\n",
       "      <th>biography</th>\n",
       "      <th>romance</th>\n",
       "      <th>horror</th>\n",
       "      <th>thriller</th>\n",
       "      <th>war</th>\n",
       "      <th>animation</th>\n",
       "      <th>family</th>\n",
       "      <th>sport</th>\n",
       "      <th>music</th>\n",
       "      <th>mystery</th>\n",
       "      <th>short</th>\n",
       "      <th>western</th>\n",
       "      <th>musical</th>\n",
       "      <th>documentary</th>\n",
       "      <th>film-noir</th>\n",
       "      <th>adult</th>\n",
       "      <th>length</th>\n",
       "      <th>stemmed</th>\n",
       "    </tr>\n",
       "  </thead>\n",
       "  <tbody>\n",
       "    <tr>\n",
       "      <th>0</th>\n",
       "      <td>1</td>\n",
       "      <td>1</td>\n",
       "      <td>1</td>\n",
       "      <td>1</td>\n",
       "      <td>0</td>\n",
       "      <td>0</td>\n",
       "      <td>0</td>\n",
       "      <td>0</td>\n",
       "      <td>0</td>\n",
       "      <td>0</td>\n",
       "      <td>0</td>\n",
       "      <td>0</td>\n",
       "      <td>0</td>\n",
       "      <td>0</td>\n",
       "      <td>0</td>\n",
       "      <td>0</td>\n",
       "      <td>0</td>\n",
       "      <td>0</td>\n",
       "      <td>0</td>\n",
       "      <td>0</td>\n",
       "      <td>0</td>\n",
       "      <td>0</td>\n",
       "      <td>0</td>\n",
       "      <td>0</td>\n",
       "      <td>464</td>\n",
       "      <td>marvel doctor strange follows story talented n...</td>\n",
       "    </tr>\n",
       "    <tr>\n",
       "      <th>1</th>\n",
       "      <td>0</td>\n",
       "      <td>0</td>\n",
       "      <td>0</td>\n",
       "      <td>1</td>\n",
       "      <td>1</td>\n",
       "      <td>1</td>\n",
       "      <td>0</td>\n",
       "      <td>0</td>\n",
       "      <td>0</td>\n",
       "      <td>0</td>\n",
       "      <td>0</td>\n",
       "      <td>0</td>\n",
       "      <td>0</td>\n",
       "      <td>0</td>\n",
       "      <td>0</td>\n",
       "      <td>0</td>\n",
       "      <td>0</td>\n",
       "      <td>0</td>\n",
       "      <td>0</td>\n",
       "      <td>0</td>\n",
       "      <td>0</td>\n",
       "      <td>0</td>\n",
       "      <td>0</td>\n",
       "      <td>0</td>\n",
       "      <td>289</td>\n",
       "      <td>young street magician jacob latimore left care...</td>\n",
       "    </tr>\n",
       "  </tbody>\n",
       "</table>\n",
       "</div>"
      ],
      "text/plain": [
       "   action  adventure  fantasy  sci-fi  crime  drama  history  comedy  \\\n",
       "0       1          1        1       1      0      0        0       0   \n",
       "1       0          0        0       1      1      1        0       0   \n",
       "\n",
       "   biography  romance  horror  thriller  war  animation  family  sport  music  \\\n",
       "0          0        0       0         0    0          0       0      0      0   \n",
       "1          0        0       0         0    0          0       0      0      0   \n",
       "\n",
       "   mystery  short  western  musical  documentary  film-noir  adult  length  \\\n",
       "0        0      0        0        0            0          0      0     464   \n",
       "1        0      0        0        0            0          0      0     289   \n",
       "\n",
       "                                             stemmed  \n",
       "0  marvel doctor strange follows story talented n...  \n",
       "1  young street magician jacob latimore left care...  "
      ]
     },
     "execution_count": 32,
     "metadata": {},
     "output_type": "execute_result"
    }
   ],
   "source": [
    "X.head(2)"
   ]
  },
  {
   "cell_type": "markdown",
   "metadata": {},
   "source": [
    "# Create a Train Test Split"
   ]
  },
  {
   "cell_type": "code",
   "execution_count": 33,
   "metadata": {},
   "outputs": [],
   "source": [
    "# Split train and test\n",
    "from sklearn.model_selection import train_test_split\n",
    "\n",
    "# Save the original labeled classes\n",
    "labeled_y = stemmed_df['rating'].values.reshape(-1, 1)\n",
    "\n",
    "# We will create an unvectorized train and test split sets too for testing purposes...\n",
    "features_train, features_test, labeled_y_train, labeled_y_test = train_test_split(features_df, labeled_y, random_state=42)\n",
    "\n",
    "# Actual data split\n",
    "X_train, X_test, y_train, y_test = train_test_split(X, y, random_state=42)"
   ]
  },
  {
   "cell_type": "code",
   "execution_count": 34,
   "metadata": {},
   "outputs": [
    {
     "name": "stdout",
     "output_type": "stream",
     "text": [
      "(4420, 26)\n",
      "(4420,)\n"
     ]
    }
   ],
   "source": [
    "print(X_train.shape)\n",
    "print(y_train.shape)"
   ]
  },
  {
   "cell_type": "code",
   "execution_count": 35,
   "metadata": {},
   "outputs": [],
   "source": [
    "X_train_scaled = X_train.copy().drop(columns='stemmed')\n",
    "X_test_scaled = X_test.copy().drop(columns='stemmed')"
   ]
  },
  {
   "cell_type": "code",
   "execution_count": 36,
   "metadata": {},
   "outputs": [],
   "source": [
    "# Scale\n",
    "from sklearn.preprocessing import MinMaxScaler\n",
    "\n",
    "# Fit\n",
    "X_scaler = MinMaxScaler().fit(X_train_scaled)\n",
    "\n",
    "# Transform\n",
    "X_train_scaled = X_scaler.transform(X_train_scaled)\n",
    "X_test_scaled = X_scaler.transform(X_test_scaled)"
   ]
  },
  {
   "cell_type": "code",
   "execution_count": 37,
   "metadata": {},
   "outputs": [
    {
     "data": {
      "text/plain": [
       "Index(['action', 'adventure', 'fantasy', 'sci-fi', 'crime', 'drama', 'history',\n",
       "       'comedy', 'biography', 'romance', 'horror', 'thriller', 'war',\n",
       "       'animation', 'family', 'sport', 'music', 'mystery', 'short', 'western',\n",
       "       'musical', 'documentary', 'film-noir', 'adult', 'length'],\n",
       "      dtype='object')"
      ]
     },
     "execution_count": 37,
     "metadata": {},
     "output_type": "execute_result"
    }
   ],
   "source": [
    "X_train.iloc[:, :-1].columns"
   ]
  },
  {
   "cell_type": "code",
   "execution_count": 38,
   "metadata": {
    "scrolled": true
   },
   "outputs": [],
   "source": [
    "X_train_scaled = pd.DataFrame(X_train_scaled, index=X_train.index, columns=X_train.iloc[:, :-1].columns)\n",
    "X_test_scaled = pd.DataFrame(X_test_scaled, index=X_test.index, columns=X_test.iloc[:, :-1].columns)\n"
   ]
  },
  {
   "cell_type": "markdown",
   "metadata": {},
   "source": [
    "# Preprocessing - NLP - pt2"
   ]
  },
  {
   "cell_type": "markdown",
   "metadata": {},
   "source": [
    "## TF-IDF-Vectorize plot data"
   ]
  },
  {
   "cell_type": "code",
   "execution_count": 39,
   "metadata": {
    "scrolled": false
   },
   "outputs": [
    {
     "data": {
      "text/html": [
       "<div>\n",
       "<style scoped>\n",
       "    .dataframe tbody tr th:only-of-type {\n",
       "        vertical-align: middle;\n",
       "    }\n",
       "\n",
       "    .dataframe tbody tr th {\n",
       "        vertical-align: top;\n",
       "    }\n",
       "\n",
       "    .dataframe thead th {\n",
       "        text-align: right;\n",
       "    }\n",
       "</style>\n",
       "<table border=\"1\" class=\"dataframe\">\n",
       "  <thead>\n",
       "    <tr style=\"text-align: right;\">\n",
       "      <th></th>\n",
       "      <th>action</th>\n",
       "      <th>adventure</th>\n",
       "      <th>fantasy</th>\n",
       "      <th>sci-fi</th>\n",
       "      <th>crime</th>\n",
       "      <th>drama</th>\n",
       "      <th>history</th>\n",
       "      <th>comedy</th>\n",
       "      <th>biography</th>\n",
       "      <th>romance</th>\n",
       "      <th>horror</th>\n",
       "      <th>thriller</th>\n",
       "      <th>war</th>\n",
       "      <th>animation</th>\n",
       "      <th>family</th>\n",
       "      <th>sport</th>\n",
       "      <th>music</th>\n",
       "      <th>mystery</th>\n",
       "      <th>short</th>\n",
       "      <th>western</th>\n",
       "      <th>musical</th>\n",
       "      <th>documentary</th>\n",
       "      <th>film-noir</th>\n",
       "      <th>adult</th>\n",
       "      <th>length</th>\n",
       "      <th>stemmed</th>\n",
       "    </tr>\n",
       "  </thead>\n",
       "  <tbody>\n",
       "    <tr>\n",
       "      <th>1035</th>\n",
       "      <td>0</td>\n",
       "      <td>0</td>\n",
       "      <td>0</td>\n",
       "      <td>0</td>\n",
       "      <td>0</td>\n",
       "      <td>1</td>\n",
       "      <td>0</td>\n",
       "      <td>0</td>\n",
       "      <td>0</td>\n",
       "      <td>1</td>\n",
       "      <td>0</td>\n",
       "      <td>0</td>\n",
       "      <td>0</td>\n",
       "      <td>0</td>\n",
       "      <td>0</td>\n",
       "      <td>0</td>\n",
       "      <td>0</td>\n",
       "      <td>0</td>\n",
       "      <td>0</td>\n",
       "      <td>0</td>\n",
       "      <td>0</td>\n",
       "      <td>0</td>\n",
       "      <td>0</td>\n",
       "      <td>0</td>\n",
       "      <td>376</td>\n",
       "      <td>parent death jacob jankowski left penniless ho...</td>\n",
       "    </tr>\n",
       "  </tbody>\n",
       "</table>\n",
       "</div>"
      ],
      "text/plain": [
       "      action  adventure  fantasy  sci-fi  crime  drama  history  comedy  \\\n",
       "1035       0          0        0       0      0      1        0       0   \n",
       "\n",
       "      biography  romance  horror  thriller  war  animation  family  sport  \\\n",
       "1035          0        1       0         0    0          0       0      0   \n",
       "\n",
       "      music  mystery  short  western  musical  documentary  film-noir  adult  \\\n",
       "1035      0        0      0        0        0            0          0      0   \n",
       "\n",
       "      length                                            stemmed  \n",
       "1035     376  parent death jacob jankowski left penniless ho...  "
      ]
     },
     "execution_count": 39,
     "metadata": {},
     "output_type": "execute_result"
    }
   ],
   "source": [
    "X_train.head(1)"
   ]
  },
  {
   "cell_type": "code",
   "execution_count": 40,
   "metadata": {},
   "outputs": [],
   "source": [
    "from sklearn.feature_extraction.text import TfidfVectorizer\n",
    "\n",
    "vectorizer = TfidfVectorizer()\n",
    "\n",
    "# If we use the plot and the genre as the features\n",
    "# Make a copy for vecorized data\n",
    "X_train_tfidf = X_train.copy().drop(columns='stemmed')\n",
    "X_test_tfidf = X_test.copy().drop(columns='stemmed')\n",
    "\n",
    "# Fit with train\n",
    "X_train_scaled['tfidf_vectorized'] = vectorizer.fit_transform(X_train['stemmed'])\n",
    "# Transform test\n",
    "X_test_scaled['tfidf_vectorized'] = vectorizer.transform(X_test['stemmed']) # transform only..."
   ]
  },
  {
   "cell_type": "markdown",
   "metadata": {},
   "source": [
    "### Convert features other than the vectorized plot data (genres and length) into a matrix\n",
    "\n",
    "So that we can later join tfidf_vectorized with the genre and length data."
   ]
  },
  {
   "cell_type": "code",
   "execution_count": 41,
   "metadata": {},
   "outputs": [
    {
     "data": {
      "text/plain": [
       "array([[0.        , 0.        , 0.        , ..., 0.        , 0.        ,\n",
       "        0.11924822],\n",
       "       [0.        , 1.        , 0.        , ..., 0.        , 0.        ,\n",
       "        0.34640311],\n",
       "       [0.        , 0.        , 0.        , ..., 0.        , 0.        ,\n",
       "        0.43875567],\n",
       "       ...,\n",
       "       [0.        , 0.        , 0.        , ..., 0.        , 0.        ,\n",
       "        0.05638367],\n",
       "       [0.        , 0.        , 0.        , ..., 0.        , 0.        ,\n",
       "        0.06740117],\n",
       "       [0.        , 0.        , 0.        , ..., 0.        , 0.        ,\n",
       "        0.20187946]])"
      ]
     },
     "execution_count": 41,
     "metadata": {},
     "output_type": "execute_result"
    }
   ],
   "source": [
    "X_train_scaled.iloc[:, :-1].values"
   ]
  },
  {
   "cell_type": "code",
   "execution_count": 42,
   "metadata": {},
   "outputs": [],
   "source": [
    "import scipy\n",
    "from scipy.sparse import csr_matrix\n",
    "\n",
    "# Matrix conversion\n",
    "features_mat_train = csr_matrix(X_train_scaled.iloc[:, :-1].values)\n",
    "features_mat_test = csr_matrix(X_test_scaled.iloc[:, :-1].values)"
   ]
  },
  {
   "cell_type": "code",
   "execution_count": 43,
   "metadata": {
    "scrolled": true
   },
   "outputs": [
    {
     "data": {
      "text/plain": [
       "array([[0.        , 0.        , 0.        , ..., 0.        , 0.        ,\n",
       "        0.11924822],\n",
       "       [0.        , 1.        , 0.        , ..., 0.        , 0.        ,\n",
       "        0.34640311],\n",
       "       [0.        , 0.        , 0.        , ..., 0.        , 0.        ,\n",
       "        0.43875567],\n",
       "       ...,\n",
       "       [0.        , 0.        , 0.        , ..., 0.        , 0.        ,\n",
       "        0.05638367],\n",
       "       [0.        , 0.        , 0.        , ..., 0.        , 0.        ,\n",
       "        0.06740117],\n",
       "       [0.        , 0.        , 0.        , ..., 0.        , 0.        ,\n",
       "        0.20187946]])"
      ]
     },
     "execution_count": 43,
     "metadata": {},
     "output_type": "execute_result"
    }
   ],
   "source": [
    "features_mat_train.toarray()"
   ]
  },
  {
   "cell_type": "markdown",
   "metadata": {},
   "source": [
    "### Join tfidf_vectorized with the converted matrix"
   ]
  },
  {
   "cell_type": "code",
   "execution_count": 44,
   "metadata": {},
   "outputs": [],
   "source": [
    "# Get the plot only data as a matrix as well for joining\n",
    "X_train_plot_only = vectorizer.fit_transform(X_train['stemmed'])\n",
    "X_test_plot_only = vectorizer.transform(X_test['stemmed']) # transform only..."
   ]
  },
  {
   "cell_type": "code",
   "execution_count": 45,
   "metadata": {},
   "outputs": [],
   "source": [
    "# Join matrices\n",
    "from scipy.sparse import hstack\n",
    "\n",
    "X_train_with_genres = hstack([features_mat_train, X_train_plot_only])\n",
    "X_test_with_genres = hstack([features_mat_test, X_test_plot_only])"
   ]
  },
  {
   "cell_type": "code",
   "execution_count": 46,
   "metadata": {},
   "outputs": [
    {
     "data": {
      "text/plain": [
       "<4420x26822 sparse matrix of type '<class 'numpy.float64'>'\n",
       "\twith 223796 stored elements in COOrdinate format>"
      ]
     },
     "execution_count": 46,
     "metadata": {},
     "output_type": "execute_result"
    }
   ],
   "source": [
    "# testing...\n",
    "X_train_with_genres"
   ]
  },
  {
   "cell_type": "markdown",
   "metadata": {},
   "source": [
    "Validation..."
   ]
  },
  {
   "cell_type": "code",
   "execution_count": 47,
   "metadata": {
    "scrolled": true
   },
   "outputs": [
    {
     "name": "stdout",
     "output_type": "stream",
     "text": [
      "[1.0, 1.0, 0.11924821775761504, 0.1098033602995272, 0.3900715627736618, 0.11620949234471986, 0.12267042720687812, 0.21096479045655606, 0.17780049614092763, 0.09834394651199359, 0.11971112816866741, 0.12225667896016754, 0.14501390806143835, 0.06575030556786744, 0.11400246067221245, 0.16960868942399537, 0.12124912857632231, 0.3623848305631871, 0.23579625440437982, 0.18723960189704125, 0.10473309329573763, 0.1131089736865019, 0.08024795973241312, 0.23579625440437982, 0.10993333648994974, 0.18959760879988224, 0.21096479045655606, 0.1539427890593824, 0.14407933325016856, 0.09476775772836082, 0.19218051312417997, 0.18723960189704125, 0.1850704458194541, 0.13355449427390473, 0.10903632842533419, 0.08938378512698705, 0.11238626462382494]\n",
      "[1.0, 1.0, 1.0, 1.0, 1.0, 0.34640311082307196, 0.05449897979598542, 0.04962602695468612, 0.06486763090360406, 0.04145246792982052, 0.046132067387602914, 0.06518967678551799, 0.05540906305226113, 0.13811859247378214, 0.04126124453442222, 0.05413066523757891, 0.05925612451620117, 0.07878558318710664, 0.06658021489615461, 0.043950853888783205, 0.0812646645278431, 0.05475148623330838, 0.06207557661326182, 0.08896539453590237, 0.07428094490421386, 0.07504744225239977, 0.0658632045117246, 0.04107325688520193, 0.07878558318710664, 0.059449343386233276, 0.06338412317098814, 0.032615975639731946, 0.054624515651373884, 0.06046930735539893, 0.09652787812889377, 0.06658021489615461, 0.02982779168734692, 0.057661339564483896, 0.08896539453590237, 0.07878558318710664, 0.059449343386233276, 0.09216148626106882, 0.043024500473396725, 0.05054888066773027, 0.04962602695468612, 0.037858540168257036, 0.07504744225239977, 0.08274817226045902, 0.24824451678137707, 0.057820607376540344, 0.06817003736345818, 0.13634007472691637, 0.06552133738459959, 0.059449343386233276, 0.0480523173328376, 0.6756860500240764, 0.03506028447948759, 0.07995611797011679, 0.1689215125060191, 0.05377417032033036, 0.046551355071896346, 0.07054280396950698, 0.029376435267111825, 0.07289040679357724, 0.04692378564331463, 0.027038748592305352, 0.06552133738459959, 0.26689618360770706, 0.04869967353929964, 0.045067847339280424, 0.057488946777458735, 0.05732675696274537, 0.07995611797011679, 0.07504744225239977, 0.07616825543130236, 0.07054280396950698, 0.042046716789003555, 0.05266226261265203, 0.08274817226045902, 0.04819294965361945, 0.07054280396950698, 0.08896539453590237, 0.08446075625300956, 0.05554538138821269, 0.08446075625300956, 0.04589939281022991, 0.11739169513346581, 0.03194039945680452, 0.052044892402784704, 0.06005001967110548, 0.09666612454396159, 0.05732675696274537, 0.039223055635255376, 0.05194525222822202, 0.07002597566749239, 0.03552556863692496, 0.06905929623689107]\n"
     ]
    }
   ],
   "source": [
    "# Test to see if the combined matrix with genre, length, and plot data worked\n",
    "print([x for x in X_train_with_genres.toarray()[0].tolist() if x != 0])\n",
    "print([x for x in X_train_with_genres.toarray()[1].tolist() if x != 0])"
   ]
  },
  {
   "cell_type": "markdown",
   "metadata": {},
   "source": [
    "<hr>"
   ]
  },
  {
   "cell_type": "markdown",
   "metadata": {},
   "source": [
    "# Train the Model"
   ]
  },
  {
   "cell_type": "markdown",
   "metadata": {},
   "source": [
    "**Linear SVC**"
   ]
  },
  {
   "cell_type": "code",
   "execution_count": 48,
   "metadata": {},
   "outputs": [],
   "source": [
    "from sklearn.svm import LinearSVC \n",
    "\n",
    "svm_model_genre = LinearSVC(class_weight='balanced',\n",
    "                            verbose=2, random_state=42,\n",
    "                            max_iter=100000)"
   ]
  },
  {
   "cell_type": "code",
   "execution_count": 49,
   "metadata": {},
   "outputs": [
    {
     "data": {
      "text/plain": [
       "(4420, 26822)"
      ]
     },
     "execution_count": 49,
     "metadata": {},
     "output_type": "execute_result"
    }
   ],
   "source": [
    "X_train_with_genres.shape"
   ]
  },
  {
   "cell_type": "code",
   "execution_count": 50,
   "metadata": {},
   "outputs": [
    {
     "name": "stdout",
     "output_type": "stream",
     "text": [
      "[LibLinear]"
     ]
    },
    {
     "data": {
      "text/plain": [
       "LinearSVC(class_weight='balanced', max_iter=100000, random_state=42, verbose=2)"
      ]
     },
     "execution_count": 50,
     "metadata": {},
     "output_type": "execute_result"
    }
   ],
   "source": [
    "# Fit\n",
    "svm_model_genre.fit(X_train_with_genres, y_train)"
   ]
  },
  {
   "cell_type": "code",
   "execution_count": 51,
   "metadata": {},
   "outputs": [
    {
     "name": "stdout",
     "output_type": "stream",
     "text": [
      "Training Data Score: 0.9973\n",
      "Testing Data Score: 0.6418\n"
     ]
    }
   ],
   "source": [
    "# Evaluation\n",
    "print(f'Training Data Score: {round(svm_model_genre.score(X_train_with_genres, y_train), 4)}')\n",
    "print(f'Testing Data Score: {round(svm_model_genre.score(X_test_with_genres, y_test), 4)}')"
   ]
  },
  {
   "cell_type": "markdown",
   "metadata": {},
   "source": [
    "# Hyperparameter Tuning\n",
    "\n",
    "Use `GridSearchCV` to tune the model's parameters"
   ]
  },
  {
   "cell_type": "code",
   "execution_count": 52,
   "metadata": {},
   "outputs": [],
   "source": [
    "# # Create the GridSearchCV model\n",
    "# from sklearn.model_selection import GridSearchCV\n",
    "\n",
    "# # Parameters\n",
    "# param_grid = {\n",
    "#     'C': [1, 10, 100, 1000]\n",
    "# }\n",
    "\n",
    "# grid = GridSearchCV(svm_model_genre, param_grid, verbose=3)"
   ]
  },
  {
   "cell_type": "code",
   "execution_count": 53,
   "metadata": {},
   "outputs": [],
   "source": [
    "# # See which parameters we can tune\n",
    "# grid.get_params()"
   ]
  },
  {
   "cell_type": "code",
   "execution_count": 54,
   "metadata": {
    "scrolled": true
   },
   "outputs": [],
   "source": [
    "# # Train the model with GridSearch\n",
    "# grid.fit(X_train_with_genres, y_train)"
   ]
  },
  {
   "cell_type": "code",
   "execution_count": 55,
   "metadata": {},
   "outputs": [],
   "source": [
    "# # Performance assessment\n",
    "# print(f'Best parameters: {grid.best_params_}')\n",
    "# print(f'Best score: {grid.best_score_}')"
   ]
  },
  {
   "cell_type": "markdown",
   "metadata": {},
   "source": [
    "<hr>\n",
    "\n",
    "## Classification Reports"
   ]
  },
  {
   "cell_type": "markdown",
   "metadata": {},
   "source": [
    "Classification Report on **svm_model_genre**"
   ]
  },
  {
   "cell_type": "code",
   "execution_count": 56,
   "metadata": {},
   "outputs": [
    {
     "name": "stdout",
     "output_type": "stream",
     "text": [
      "              precision    recall  f1-score   support\n",
      "\n",
      "           G       0.58      0.21      0.31        33\n",
      "          PG       0.68      0.53      0.60       219\n",
      "       PG-13       0.51      0.48      0.49       444\n",
      "           R       0.70      0.78      0.74       778\n",
      "\n",
      "    accuracy                           0.64      1474\n",
      "   macro avg       0.62      0.50      0.53      1474\n",
      "weighted avg       0.64      0.64      0.63      1474\n",
      "\n"
     ]
    }
   ],
   "source": [
    "from sklearn.metrics import classification_report\n",
    "\n",
    "predictions_svm = svm_model_genre.predict(X_test_with_genres)\n",
    "\n",
    "print(classification_report(y_test, predictions_svm,\n",
    "                            target_names=target_names,\n",
    "                            zero_division=0))"
   ]
  },
  {
   "cell_type": "markdown",
   "metadata": {},
   "source": [
    "Classification Report on **hypertuned svm_model_genre**"
   ]
  },
  {
   "cell_type": "code",
   "execution_count": 57,
   "metadata": {},
   "outputs": [],
   "source": [
    "# predictions_grid = grid.predict(X_test_with_genres)\n",
    "\n",
    "# print(classification_report(y_test, predictions_grid,\n",
    "#                             target_names=target_names,\n",
    "#                             zero_division=0))"
   ]
  },
  {
   "cell_type": "markdown",
   "metadata": {},
   "source": [
    "<hr>"
   ]
  },
  {
   "cell_type": "markdown",
   "metadata": {},
   "source": [
    "## Confusion Matrix"
   ]
  },
  {
   "cell_type": "code",
   "execution_count": 58,
   "metadata": {},
   "outputs": [
    {
     "data": {
      "text/plain": [
       "3    778\n",
       "2    444\n",
       "1    219\n",
       "0     33\n",
       "Name: rating, dtype: int64"
      ]
     },
     "execution_count": 58,
     "metadata": {},
     "output_type": "execute_result"
    }
   ],
   "source": [
    "# Actual classes\n",
    "pd.DataFrame(y_test, columns=['rating'])['rating'].value_counts()"
   ]
  },
  {
   "cell_type": "code",
   "execution_count": 59,
   "metadata": {
    "scrolled": false
   },
   "outputs": [
    {
     "data": {
      "text/plain": [
       "3    870\n",
       "2    419\n",
       "1    173\n",
       "0     12\n",
       "Name: rating, dtype: int64"
      ]
     },
     "execution_count": 59,
     "metadata": {},
     "output_type": "execute_result"
    }
   ],
   "source": [
    "# Predicted classes\n",
    "pd.DataFrame(predictions_svm, columns=['rating'])['rating'].value_counts()"
   ]
  },
  {
   "cell_type": "markdown",
   "metadata": {},
   "source": [
    "The model failed to predict G rated class because the data is unbalanced."
   ]
  },
  {
   "cell_type": "code",
   "execution_count": 60,
   "metadata": {
    "scrolled": false
   },
   "outputs": [
    {
     "data": {
      "image/png": "[encoded data removed]",
      "text/plain": [
       "<Figure size 432x288 with 2 Axes>"
      ]
     },
     "metadata": {
      "needs_background": "light"
     },
     "output_type": "display_data"
    }
   ],
   "source": [
    "# Use Confusion Matrix to visualize\n",
    "from sklearn.metrics import confusion_matrix\n",
    "\n",
    "cm = confusion_matrix(y_test, predictions_svm)\n",
    "df_cm = pd.DataFrame(cm, index=target_names, columns=target_names)\n",
    "\n",
    "heatmap = sn.heatmap(df_cm, annot=True, cmap=\"YlGnBu\")\n",
    "\n",
    "plt.title(\"Confusion Matrix - Linear SVC (Plot & Genre)\")\n",
    "plt.xlabel(\"Predicted\")\n",
    "plt.ylabel(\"Actual\")\n",
    "\n",
    "plt.savefig('../image_highlights/rating_svc/confusion_matrix_linear_svc_with_genre.png')\n",
    "plt.show()"
   ]
  },
  {
   "cell_type": "code",
   "execution_count": 61,
   "metadata": {},
   "outputs": [
    {
     "data": {
      "text/plain": [
       "1474"
      ]
     },
     "execution_count": 61,
     "metadata": {},
     "output_type": "execute_result"
    }
   ],
   "source": [
    "# Check to see if the confusion matrix accounted for all predictions\n",
    "total = 0\n",
    "for column in df_cm.columns:\n",
    "    total += df_cm[column].sum()\n",
    "total"
   ]
  },
  {
   "cell_type": "code",
   "execution_count": 62,
   "metadata": {},
   "outputs": [
    {
     "data": {
      "text/plain": [
       "1474"
      ]
     },
     "execution_count": 62,
     "metadata": {},
     "output_type": "execute_result"
    }
   ],
   "source": [
    "len(y_test)"
   ]
  },
  {
   "cell_type": "markdown",
   "metadata": {},
   "source": [
    "# Save the Model"
   ]
  },
  {
   "cell_type": "code",
   "execution_count": 63,
   "metadata": {},
   "outputs": [
    {
     "data": {
      "text/plain": [
       "['../saved_models/rating_linear_svc_with_genre.sav']"
      ]
     },
     "execution_count": 63,
     "metadata": {},
     "output_type": "execute_result"
    }
   ],
   "source": [
    "# Random forests model\n",
    "import joblib\n",
    "\n",
    "filename = os.path.join('..', 'flask_app','rating_linear_svc_with_genre.sav')\n",
    "filename_flask = os.path.join('..', 'saved_models','rating_linear_svc_with_genre.sav')\n",
    "joblib.dump(svm_model_genre, filename)\n",
    "joblib.dump(svm_model_genre, filename_flask)"
   ]
  },
  {
   "cell_type": "code",
   "execution_count": 64,
   "metadata": {
    "scrolled": true
   },
   "outputs": [],
   "source": [
    "# # Tuned model\n",
    "# filename = os.path.join('..', 'saved_models','rating_linear_svc_with_genre.sav_tuned.sav')\n",
    "# joblib.dump(grid, filename)"
   ]
  },
  {
   "cell_type": "code",
   "execution_count": null,
   "metadata": {},
   "outputs": [],
   "source": []
  },
  {
   "cell_type": "code",
   "execution_count": null,
   "metadata": {},
   "outputs": [],
   "source": []
  }
 ],
 "metadata": {
  "kernelspec": {
   "display_name": "Python [conda env:PythonAdv] *",
   "language": "python",
   "name": "conda-env-PythonAdv-py"
  },
  "language_info": {
   "codemirror_mode": {
    "name": "ipython",
    "version": 3
   },
   "file_extension": ".py",
   "mimetype": "text/x-python",
   "name": "python",
   "nbconvert_exporter": "python",
   "pygments_lexer": "ipython3",
   "version": "3.6.13"
  }
 },
 "nbformat": 4,
 "nbformat_minor": 4
}
