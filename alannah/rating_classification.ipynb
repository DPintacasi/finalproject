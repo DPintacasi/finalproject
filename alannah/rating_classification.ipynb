{
 "cells": [
  {
   "cell_type": "markdown",
   "metadata": {},
   "source": [
    "# Movie Ratings - Classification Model"
   ]
  },
  {
   "cell_type": "code",
   "execution_count": 1,
   "metadata": {},
   "outputs": [],
   "source": [
    "# Import initial dependencies\n",
    "import pandas as pd\n",
    "import os\n",
    "import nltk"
   ]
  },
  {
   "cell_type": "code",
   "execution_count": 2,
   "metadata": {},
   "outputs": [
    {
     "data": {
      "text/html": [
       "<div>\n",
       "<style scoped>\n",
       "    .dataframe tbody tr th:only-of-type {\n",
       "        vertical-align: middle;\n",
       "    }\n",
       "\n",
       "    .dataframe tbody tr th {\n",
       "        vertical-align: top;\n",
       "    }\n",
       "\n",
       "    .dataframe thead th {\n",
       "        text-align: right;\n",
       "    }\n",
       "</style>\n",
       "<table border=\"1\" class=\"dataframe\">\n",
       "  <thead>\n",
       "    <tr style=\"text-align: right;\">\n",
       "      <th></th>\n",
       "      <th>name</th>\n",
       "      <th>production</th>\n",
       "      <th>director</th>\n",
       "      <th>runtime</th>\n",
       "      <th>released</th>\n",
       "      <th>year</th>\n",
       "      <th>month</th>\n",
       "      <th>country_kaggle</th>\n",
       "      <th>country_omdb</th>\n",
       "      <th>star_kaggle</th>\n",
       "      <th>...</th>\n",
       "      <th>plot</th>\n",
       "      <th>awards</th>\n",
       "      <th>score_imdb</th>\n",
       "      <th>votes_imdb</th>\n",
       "      <th>score_metacritic</th>\n",
       "      <th>budget</th>\n",
       "      <th>genre_kaggle</th>\n",
       "      <th>gross</th>\n",
       "      <th>genres_omdb</th>\n",
       "      <th>rating</th>\n",
       "    </tr>\n",
       "  </thead>\n",
       "  <tbody>\n",
       "    <tr>\n",
       "      <th>0</th>\n",
       "      <td>Doctor Strange</td>\n",
       "      <td>Marvel Studios</td>\n",
       "      <td>Scott Derrickson</td>\n",
       "      <td>115</td>\n",
       "      <td>2016-11-04</td>\n",
       "      <td>2016</td>\n",
       "      <td>11</td>\n",
       "      <td>USA</td>\n",
       "      <td>USA</td>\n",
       "      <td>Benedict Cumberbatch</td>\n",
       "      <td>...</td>\n",
       "      <td>Marvel's \"Doctor Strange\" follows the story of...</td>\n",
       "      <td>Nominated for 1 Oscar. Another 19 wins &amp; 67 no...</td>\n",
       "      <td>7.5</td>\n",
       "      <td>348307</td>\n",
       "      <td>72.0</td>\n",
       "      <td>165000000</td>\n",
       "      <td>Action</td>\n",
       "      <td>232641920</td>\n",
       "      <td>Action, Adventure, Fantasy, Sci-Fi</td>\n",
       "      <td>PG-13</td>\n",
       "    </tr>\n",
       "    <tr>\n",
       "      <th>1</th>\n",
       "      <td>Sleight</td>\n",
       "      <td>Diablo Entertainment (II)</td>\n",
       "      <td>J.D. Dillard</td>\n",
       "      <td>89</td>\n",
       "      <td>2017-04-28</td>\n",
       "      <td>2016</td>\n",
       "      <td>4</td>\n",
       "      <td>USA</td>\n",
       "      <td>USA</td>\n",
       "      <td>Jacob Latimore</td>\n",
       "      <td>...</td>\n",
       "      <td>A young street magician (Jacob Latimore) is le...</td>\n",
       "      <td>3 nominations.</td>\n",
       "      <td>5.9</td>\n",
       "      <td>4012</td>\n",
       "      <td>62.0</td>\n",
       "      <td>250000</td>\n",
       "      <td>Action</td>\n",
       "      <td>3986245</td>\n",
       "      <td>Crime, Drama, Sci-Fi</td>\n",
       "      <td>R</td>\n",
       "    </tr>\n",
       "    <tr>\n",
       "      <th>2</th>\n",
       "      <td>Silence</td>\n",
       "      <td>Cappa Defina Productions</td>\n",
       "      <td>Martin Scorsese</td>\n",
       "      <td>161</td>\n",
       "      <td>2017-01-13</td>\n",
       "      <td>2016</td>\n",
       "      <td>1</td>\n",
       "      <td>USA</td>\n",
       "      <td>USA, UK, Taiwan, Japan, Mexico, Italy</td>\n",
       "      <td>Andrew Garfield</td>\n",
       "      <td>...</td>\n",
       "      <td>The story of two Catholic missionaries (Andrew...</td>\n",
       "      <td>Nominated for 1 Oscar. Another 6 wins &amp; 56 nom...</td>\n",
       "      <td>7.2</td>\n",
       "      <td>61798</td>\n",
       "      <td>79.0</td>\n",
       "      <td>46000000</td>\n",
       "      <td>Adventure</td>\n",
       "      <td>7100177</td>\n",
       "      <td>Drama, History</td>\n",
       "      <td>R</td>\n",
       "    </tr>\n",
       "    <tr>\n",
       "      <th>3</th>\n",
       "      <td>Manchester by the Sea</td>\n",
       "      <td>Amazon Studios</td>\n",
       "      <td>Kenneth Lonergan</td>\n",
       "      <td>137</td>\n",
       "      <td>2016-12-16</td>\n",
       "      <td>2016</td>\n",
       "      <td>12</td>\n",
       "      <td>USA</td>\n",
       "      <td>USA</td>\n",
       "      <td>Casey Affleck</td>\n",
       "      <td>...</td>\n",
       "      <td>Lee Chandler is a brooding, irritable loner wh...</td>\n",
       "      <td>Won 2 Oscars. Another 127 wins &amp; 263 nominations.</td>\n",
       "      <td>7.9</td>\n",
       "      <td>159673</td>\n",
       "      <td>96.0</td>\n",
       "      <td>8500000</td>\n",
       "      <td>Drama</td>\n",
       "      <td>47695371</td>\n",
       "      <td>Drama</td>\n",
       "      <td>R</td>\n",
       "    </tr>\n",
       "    <tr>\n",
       "      <th>4</th>\n",
       "      <td>Dirty Grandpa</td>\n",
       "      <td>Lionsgate</td>\n",
       "      <td>Dan Mazer</td>\n",
       "      <td>102</td>\n",
       "      <td>2016-01-22</td>\n",
       "      <td>2016</td>\n",
       "      <td>1</td>\n",
       "      <td>USA</td>\n",
       "      <td>United States, United Kingdom</td>\n",
       "      <td>Robert De Niro</td>\n",
       "      <td>...</td>\n",
       "      <td>Jason Kelly, the grandson of Dick Kelly, loses...</td>\n",
       "      <td>2 wins &amp; 11 nominations</td>\n",
       "      <td>6.0</td>\n",
       "      <td>82289</td>\n",
       "      <td>21.0</td>\n",
       "      <td>27500000</td>\n",
       "      <td>Comedy</td>\n",
       "      <td>35593113</td>\n",
       "      <td>Comedy</td>\n",
       "      <td>R</td>\n",
       "    </tr>\n",
       "  </tbody>\n",
       "</table>\n",
       "<p>5 rows × 24 columns</p>\n",
       "</div>"
      ],
      "text/plain": [
       "                    name                 production          director  \\\n",
       "0         Doctor Strange             Marvel Studios  Scott Derrickson   \n",
       "1                Sleight  Diablo Entertainment (II)      J.D. Dillard   \n",
       "2                Silence   Cappa Defina Productions   Martin Scorsese   \n",
       "3  Manchester by the Sea             Amazon Studios  Kenneth Lonergan   \n",
       "4          Dirty Grandpa                  Lionsgate         Dan Mazer   \n",
       "\n",
       "   runtime    released  year  month country_kaggle  \\\n",
       "0      115  2016-11-04  2016     11            USA   \n",
       "1       89  2017-04-28  2016      4            USA   \n",
       "2      161  2017-01-13  2016      1            USA   \n",
       "3      137  2016-12-16  2016     12            USA   \n",
       "4      102  2016-01-22  2016      1            USA   \n",
       "\n",
       "                            country_omdb           star_kaggle  ...  \\\n",
       "0                                    USA  Benedict Cumberbatch  ...   \n",
       "1                                    USA        Jacob Latimore  ...   \n",
       "2  USA, UK, Taiwan, Japan, Mexico, Italy       Andrew Garfield  ...   \n",
       "3                                    USA         Casey Affleck  ...   \n",
       "4          United States, United Kingdom        Robert De Niro  ...   \n",
       "\n",
       "                                                plot  \\\n",
       "0  Marvel's \"Doctor Strange\" follows the story of...   \n",
       "1  A young street magician (Jacob Latimore) is le...   \n",
       "2  The story of two Catholic missionaries (Andrew...   \n",
       "3  Lee Chandler is a brooding, irritable loner wh...   \n",
       "4  Jason Kelly, the grandson of Dick Kelly, loses...   \n",
       "\n",
       "                                              awards score_imdb votes_imdb  \\\n",
       "0  Nominated for 1 Oscar. Another 19 wins & 67 no...        7.5     348307   \n",
       "1                                     3 nominations.        5.9       4012   \n",
       "2  Nominated for 1 Oscar. Another 6 wins & 56 nom...        7.2      61798   \n",
       "3  Won 2 Oscars. Another 127 wins & 263 nominations.        7.9     159673   \n",
       "4                            2 wins & 11 nominations        6.0      82289   \n",
       "\n",
       "  score_metacritic     budget  genre_kaggle      gross  \\\n",
       "0             72.0  165000000        Action  232641920   \n",
       "1             62.0     250000        Action    3986245   \n",
       "2             79.0   46000000     Adventure    7100177   \n",
       "3             96.0    8500000         Drama   47695371   \n",
       "4             21.0   27500000        Comedy   35593113   \n",
       "\n",
       "                          genres_omdb  rating  \n",
       "0  Action, Adventure, Fantasy, Sci-Fi   PG-13  \n",
       "1                Crime, Drama, Sci-Fi       R  \n",
       "2                      Drama, History       R  \n",
       "3                               Drama       R  \n",
       "4                              Comedy       R  \n",
       "\n",
       "[5 rows x 24 columns]"
      ]
     },
     "execution_count": 2,
     "metadata": {},
     "output_type": "execute_result"
    }
   ],
   "source": [
    "# Import movies dataframe\n",
    "movies_df = pd.read_csv(\"https://data-bootcamp-ztc.s3.amazonaws.com/movies_complete_cleaned.csv\")\n",
    "movies_df.head()"
   ]
  },
  {
   "cell_type": "markdown",
   "metadata": {},
   "source": [
    "## Cleaning Data for Tokenization"
   ]
  },
  {
   "cell_type": "code",
   "execution_count": 3,
   "metadata": {},
   "outputs": [
    {
     "data": {
      "text/html": [
       "<div>\n",
       "<style scoped>\n",
       "    .dataframe tbody tr th:only-of-type {\n",
       "        vertical-align: middle;\n",
       "    }\n",
       "\n",
       "    .dataframe tbody tr th {\n",
       "        vertical-align: top;\n",
       "    }\n",
       "\n",
       "    .dataframe thead th {\n",
       "        text-align: right;\n",
       "    }\n",
       "</style>\n",
       "<table border=\"1\" class=\"dataframe\">\n",
       "  <thead>\n",
       "    <tr style=\"text-align: right;\">\n",
       "      <th></th>\n",
       "      <th>name</th>\n",
       "      <th>plot</th>\n",
       "      <th>genre_kaggle</th>\n",
       "      <th>rating</th>\n",
       "    </tr>\n",
       "  </thead>\n",
       "  <tbody>\n",
       "    <tr>\n",
       "      <th>0</th>\n",
       "      <td>Doctor Strange</td>\n",
       "      <td>Marvel's \"Doctor Strange\" follows the story of...</td>\n",
       "      <td>Action</td>\n",
       "      <td>PG-13</td>\n",
       "    </tr>\n",
       "    <tr>\n",
       "      <th>1</th>\n",
       "      <td>Sleight</td>\n",
       "      <td>A young street magician (Jacob Latimore) is le...</td>\n",
       "      <td>Action</td>\n",
       "      <td>R</td>\n",
       "    </tr>\n",
       "    <tr>\n",
       "      <th>2</th>\n",
       "      <td>Silence</td>\n",
       "      <td>The story of two Catholic missionaries (Andrew...</td>\n",
       "      <td>Adventure</td>\n",
       "      <td>R</td>\n",
       "    </tr>\n",
       "    <tr>\n",
       "      <th>3</th>\n",
       "      <td>Manchester by the Sea</td>\n",
       "      <td>Lee Chandler is a brooding, irritable loner wh...</td>\n",
       "      <td>Drama</td>\n",
       "      <td>R</td>\n",
       "    </tr>\n",
       "    <tr>\n",
       "      <th>4</th>\n",
       "      <td>Dirty Grandpa</td>\n",
       "      <td>Jason Kelly, the grandson of Dick Kelly, loses...</td>\n",
       "      <td>Comedy</td>\n",
       "      <td>R</td>\n",
       "    </tr>\n",
       "    <tr>\n",
       "      <th>...</th>\n",
       "      <td>...</td>\n",
       "      <td>...</td>\n",
       "      <td>...</td>\n",
       "      <td>...</td>\n",
       "    </tr>\n",
       "    <tr>\n",
       "      <th>6251</th>\n",
       "      <td>Hoosiers</td>\n",
       "      <td>Based on the true story of a small-town Indian...</td>\n",
       "      <td>Drama</td>\n",
       "      <td>PG</td>\n",
       "    </tr>\n",
       "    <tr>\n",
       "      <th>6252</th>\n",
       "      <td>Off Beat</td>\n",
       "      <td>Traumatised paramedic looks for the woman of h...</td>\n",
       "      <td>Comedy</td>\n",
       "      <td>PG</td>\n",
       "    </tr>\n",
       "    <tr>\n",
       "      <th>6253</th>\n",
       "      <td>Big Trouble in Little China</td>\n",
       "      <td>Truck driver Jack Burton arrives in Chinatown,...</td>\n",
       "      <td>Action</td>\n",
       "      <td>PG-13</td>\n",
       "    </tr>\n",
       "    <tr>\n",
       "      <th>6254</th>\n",
       "      <td>Biggles: Adventures in Time</td>\n",
       "      <td>One minute the New Yorker advertising expert J...</td>\n",
       "      <td>Adventure</td>\n",
       "      <td>PG</td>\n",
       "    </tr>\n",
       "    <tr>\n",
       "      <th>6255</th>\n",
       "      <td>Soul Man</td>\n",
       "      <td>Mark doesn't expect any problems in going to c...</td>\n",
       "      <td>Comedy</td>\n",
       "      <td>PG-13</td>\n",
       "    </tr>\n",
       "  </tbody>\n",
       "</table>\n",
       "<p>6256 rows × 4 columns</p>\n",
       "</div>"
      ],
      "text/plain": [
       "                             name  \\\n",
       "0                  Doctor Strange   \n",
       "1                         Sleight   \n",
       "2                         Silence   \n",
       "3           Manchester by the Sea   \n",
       "4                   Dirty Grandpa   \n",
       "...                           ...   \n",
       "6251                     Hoosiers   \n",
       "6252                     Off Beat   \n",
       "6253  Big Trouble in Little China   \n",
       "6254  Biggles: Adventures in Time   \n",
       "6255                     Soul Man   \n",
       "\n",
       "                                                   plot genre_kaggle rating  \n",
       "0     Marvel's \"Doctor Strange\" follows the story of...       Action  PG-13  \n",
       "1     A young street magician (Jacob Latimore) is le...       Action      R  \n",
       "2     The story of two Catholic missionaries (Andrew...    Adventure      R  \n",
       "3     Lee Chandler is a brooding, irritable loner wh...        Drama      R  \n",
       "4     Jason Kelly, the grandson of Dick Kelly, loses...       Comedy      R  \n",
       "...                                                 ...          ...    ...  \n",
       "6251  Based on the true story of a small-town Indian...        Drama     PG  \n",
       "6252  Traumatised paramedic looks for the woman of h...       Comedy     PG  \n",
       "6253  Truck driver Jack Burton arrives in Chinatown,...       Action  PG-13  \n",
       "6254  One minute the New Yorker advertising expert J...    Adventure     PG  \n",
       "6255  Mark doesn't expect any problems in going to c...       Comedy  PG-13  \n",
       "\n",
       "[6256 rows x 4 columns]"
      ]
     },
     "execution_count": 3,
     "metadata": {},
     "output_type": "execute_result"
    }
   ],
   "source": [
    "# Extract plot data\n",
    "plot_df = movies_df[[\"name\", \"plot\", \"genre_kaggle\", \"rating\"]]\n",
    "plot_df"
   ]
  },
  {
   "cell_type": "code",
   "execution_count": 4,
   "metadata": {},
   "outputs": [
    {
     "name": "stderr",
     "output_type": "stream",
     "text": [
      "/Users/alannahmarie/opt/anaconda3/envs/PythonAdv/lib/python3.6/site-packages/pandas/core/series.py:4536: SettingWithCopyWarning: \n",
      "A value is trying to be set on a copy of a slice from a DataFrame\n",
      "\n",
      "See the caveats in the documentation: https://pandas.pydata.org/pandas-docs/stable/user_guide/indexing.html#returning-a-view-versus-a-copy\n",
      "  downcast=downcast,\n"
     ]
    },
    {
     "data": {
      "text/html": [
       "<div>\n",
       "<style scoped>\n",
       "    .dataframe tbody tr th:only-of-type {\n",
       "        vertical-align: middle;\n",
       "    }\n",
       "\n",
       "    .dataframe tbody tr th {\n",
       "        vertical-align: top;\n",
       "    }\n",
       "\n",
       "    .dataframe thead th {\n",
       "        text-align: right;\n",
       "    }\n",
       "</style>\n",
       "<table border=\"1\" class=\"dataframe\">\n",
       "  <thead>\n",
       "    <tr style=\"text-align: right;\">\n",
       "      <th></th>\n",
       "      <th>name</th>\n",
       "      <th>plot</th>\n",
       "      <th>genre_kaggle</th>\n",
       "      <th>rating</th>\n",
       "    </tr>\n",
       "  </thead>\n",
       "  <tbody>\n",
       "    <tr>\n",
       "      <th>0</th>\n",
       "      <td>Doctor Strange</td>\n",
       "      <td>Marvel's \"Doctor Strange\" follows the story of...</td>\n",
       "      <td>Action</td>\n",
       "      <td>PG-13</td>\n",
       "    </tr>\n",
       "    <tr>\n",
       "      <th>1</th>\n",
       "      <td>Sleight</td>\n",
       "      <td>A young street magician (Jacob Latimore) is le...</td>\n",
       "      <td>Action</td>\n",
       "      <td>R</td>\n",
       "    </tr>\n",
       "    <tr>\n",
       "      <th>2</th>\n",
       "      <td>Silence</td>\n",
       "      <td>The story of two Catholic missionaries (Andrew...</td>\n",
       "      <td>Adventure</td>\n",
       "      <td>R</td>\n",
       "    </tr>\n",
       "    <tr>\n",
       "      <th>3</th>\n",
       "      <td>Manchester by the Sea</td>\n",
       "      <td>Lee Chandler is a brooding, irritable loner wh...</td>\n",
       "      <td>Drama</td>\n",
       "      <td>R</td>\n",
       "    </tr>\n",
       "    <tr>\n",
       "      <th>4</th>\n",
       "      <td>Dirty Grandpa</td>\n",
       "      <td>Jason Kelly, the grandson of Dick Kelly, loses...</td>\n",
       "      <td>Comedy</td>\n",
       "      <td>R</td>\n",
       "    </tr>\n",
       "    <tr>\n",
       "      <th>...</th>\n",
       "      <td>...</td>\n",
       "      <td>...</td>\n",
       "      <td>...</td>\n",
       "      <td>...</td>\n",
       "    </tr>\n",
       "    <tr>\n",
       "      <th>6251</th>\n",
       "      <td>Hoosiers</td>\n",
       "      <td>Based on the true story of a small-town Indian...</td>\n",
       "      <td>Drama</td>\n",
       "      <td>PG</td>\n",
       "    </tr>\n",
       "    <tr>\n",
       "      <th>6252</th>\n",
       "      <td>Off Beat</td>\n",
       "      <td>Traumatised paramedic looks for the woman of h...</td>\n",
       "      <td>Comedy</td>\n",
       "      <td>PG</td>\n",
       "    </tr>\n",
       "    <tr>\n",
       "      <th>6253</th>\n",
       "      <td>Big Trouble in Little China</td>\n",
       "      <td>Truck driver Jack Burton arrives in Chinatown,...</td>\n",
       "      <td>Action</td>\n",
       "      <td>PG-13</td>\n",
       "    </tr>\n",
       "    <tr>\n",
       "      <th>6254</th>\n",
       "      <td>Biggles: Adventures in Time</td>\n",
       "      <td>One minute the New Yorker advertising expert J...</td>\n",
       "      <td>Adventure</td>\n",
       "      <td>PG</td>\n",
       "    </tr>\n",
       "    <tr>\n",
       "      <th>6255</th>\n",
       "      <td>Soul Man</td>\n",
       "      <td>Mark doesn't expect any problems in going to c...</td>\n",
       "      <td>Comedy</td>\n",
       "      <td>PG-13</td>\n",
       "    </tr>\n",
       "  </tbody>\n",
       "</table>\n",
       "<p>6256 rows × 4 columns</p>\n",
       "</div>"
      ],
      "text/plain": [
       "                             name  \\\n",
       "0                  Doctor Strange   \n",
       "1                         Sleight   \n",
       "2                         Silence   \n",
       "3           Manchester by the Sea   \n",
       "4                   Dirty Grandpa   \n",
       "...                           ...   \n",
       "6251                     Hoosiers   \n",
       "6252                     Off Beat   \n",
       "6253  Big Trouble in Little China   \n",
       "6254  Biggles: Adventures in Time   \n",
       "6255                     Soul Man   \n",
       "\n",
       "                                                   plot genre_kaggle rating  \n",
       "0     Marvel's \"Doctor Strange\" follows the story of...       Action  PG-13  \n",
       "1     A young street magician (Jacob Latimore) is le...       Action      R  \n",
       "2     The story of two Catholic missionaries (Andrew...    Adventure      R  \n",
       "3     Lee Chandler is a brooding, irritable loner wh...        Drama      R  \n",
       "4     Jason Kelly, the grandson of Dick Kelly, loses...       Comedy      R  \n",
       "...                                                 ...          ...    ...  \n",
       "6251  Based on the true story of a small-town Indian...        Drama     PG  \n",
       "6252  Traumatised paramedic looks for the woman of h...       Comedy     PG  \n",
       "6253  Truck driver Jack Burton arrives in Chinatown,...       Action  PG-13  \n",
       "6254  One minute the New Yorker advertising expert J...    Adventure     PG  \n",
       "6255  Mark doesn't expect any problems in going to c...       Comedy  PG-13  \n",
       "\n",
       "[6256 rows x 4 columns]"
      ]
     },
     "execution_count": 4,
     "metadata": {},
     "output_type": "execute_result"
    }
   ],
   "source": [
    "plot_df[plot_df[\"plot\"].isna()]\n",
    "plot_df[\"plot\"].fillna(\"\", inplace=True)\n",
    "plot_df"
   ]
  },
  {
   "cell_type": "code",
   "execution_count": 5,
   "metadata": {},
   "outputs": [
    {
     "name": "stderr",
     "output_type": "stream",
     "text": [
      "/Users/alannahmarie/opt/anaconda3/envs/PythonAdv/lib/python3.6/site-packages/ipykernel_launcher.py:10: SettingWithCopyWarning: \n",
      "A value is trying to be set on a copy of a slice from a DataFrame.\n",
      "Try using .loc[row_indexer,col_indexer] = value instead\n",
      "\n",
      "See the caveats in the documentation: https://pandas.pydata.org/pandas-docs/stable/user_guide/indexing.html#returning-a-view-versus-a-copy\n",
      "  # Remove the CWD from sys.path while we load stuff.\n"
     ]
    }
   ],
   "source": [
    "# Remove punctuation\n",
    "import string\n",
    "\n",
    "\n",
    "def remove_punct(text):\n",
    "    table = str.maketrans(\"\", \"\", string.punctuation)\n",
    "    return text.translate(table)\n",
    "\n",
    "\n",
    "plot_df[\"plot\"] = [remove_punct(x) for x in plot_df[\"plot\"]]"
   ]
  },
  {
   "cell_type": "code",
   "execution_count": 6,
   "metadata": {},
   "outputs": [
    {
     "name": "stderr",
     "output_type": "stream",
     "text": [
      "[nltk_data] Downloading package stopwords to\n",
      "[nltk_data]     /Users/alannahmarie/nltk_data...\n",
      "[nltk_data]   Package stopwords is already up-to-date!\n",
      "/Users/alannahmarie/opt/anaconda3/envs/PythonAdv/lib/python3.6/site-packages/ipykernel_launcher.py:15: SettingWithCopyWarning: \n",
      "A value is trying to be set on a copy of a slice from a DataFrame.\n",
      "Try using .loc[row_indexer,col_indexer] = value instead\n",
      "\n",
      "See the caveats in the documentation: https://pandas.pydata.org/pandas-docs/stable/user_guide/indexing.html#returning-a-view-versus-a-copy\n",
      "  from ipykernel import kernelapp as app\n"
     ]
    }
   ],
   "source": [
    "# Remove stopwords\n",
    "import nltk\n",
    "nltk.download('stopwords')\n",
    "from nltk.corpus import stopwords\n",
    "\n",
    "stop = set(stopwords.words(\"english\"))\n",
    "\n",
    "\n",
    "def remove_stopwords(text):\n",
    "    text = [word.lower() for word in text.split() if word.lower() not in stop]\n",
    "\n",
    "    return \" \".join(text)\n",
    "\n",
    "\n",
    "plot_df[\"plot\"] = [remove_stopwords(x) for x in plot_df[\"plot\"]]"
   ]
  },
  {
   "cell_type": "code",
   "execution_count": 7,
   "metadata": {},
   "outputs": [],
   "source": [
    "# # Implement stemming\n",
    "# from nltk.stem.porter import PorterStemmer\n",
    "\n",
    "# stemmer = PorterStemmer()\n",
    "\n",
    "\n",
    "# def stemming(text):\n",
    "#     text = [stemmer.stem(word) for word in text.split()]\n",
    "\n",
    "#     return \" \".join(text)"
   ]
  },
  {
   "cell_type": "code",
   "execution_count": 8,
   "metadata": {},
   "outputs": [],
   "source": [
    "# plot_df[\"plot\"] = [stemming(x) for x in plot_df[\"plot\"]]"
   ]
  },
  {
   "cell_type": "markdown",
   "metadata": {},
   "source": [
    "## Tokenization"
   ]
  },
  {
   "cell_type": "code",
   "execution_count": 9,
   "metadata": {},
   "outputs": [
    {
     "name": "stderr",
     "output_type": "stream",
     "text": [
      "/Users/alannahmarie/opt/anaconda3/envs/PythonAdv/lib/python3.6/site-packages/ipykernel_launcher.py:5: SettingWithCopyWarning: \n",
      "A value is trying to be set on a copy of a slice from a DataFrame.\n",
      "Try using .loc[row_indexer,col_indexer] = value instead\n",
      "\n",
      "See the caveats in the documentation: https://pandas.pydata.org/pandas-docs/stable/user_guide/indexing.html#returning-a-view-versus-a-copy\n",
      "  \"\"\"\n"
     ]
    }
   ],
   "source": [
    "from nltk.tokenize import TreebankWordTokenizer\n",
    "\n",
    "tokenizer = TreebankWordTokenizer()\n",
    "\n",
    "plot_df[\"tokens\"] = plot_df[\"plot\"].map(tokenizer.tokenize)"
   ]
  },
  {
   "cell_type": "code",
   "execution_count": 10,
   "metadata": {},
   "outputs": [
    {
     "data": {
      "text/html": [
       "<div>\n",
       "<style scoped>\n",
       "    .dataframe tbody tr th:only-of-type {\n",
       "        vertical-align: middle;\n",
       "    }\n",
       "\n",
       "    .dataframe tbody tr th {\n",
       "        vertical-align: top;\n",
       "    }\n",
       "\n",
       "    .dataframe thead th {\n",
       "        text-align: right;\n",
       "    }\n",
       "</style>\n",
       "<table border=\"1\" class=\"dataframe\">\n",
       "  <thead>\n",
       "    <tr style=\"text-align: right;\">\n",
       "      <th></th>\n",
       "      <th>plot</th>\n",
       "      <th>tokens</th>\n",
       "    </tr>\n",
       "  </thead>\n",
       "  <tbody>\n",
       "    <tr>\n",
       "      <th>0</th>\n",
       "      <td>marvels doctor strange follows story talented ...</td>\n",
       "      <td>[marvels, doctor, strange, follows, story, tal...</td>\n",
       "    </tr>\n",
       "    <tr>\n",
       "      <th>1</th>\n",
       "      <td>young street magician jacob latimore left care...</td>\n",
       "      <td>[young, street, magician, jacob, latimore, lef...</td>\n",
       "    </tr>\n",
       "    <tr>\n",
       "      <th>2</th>\n",
       "      <td>story two catholic missionaries andrew garfiel...</td>\n",
       "      <td>[story, two, catholic, missionaries, andrew, g...</td>\n",
       "    </tr>\n",
       "    <tr>\n",
       "      <th>3</th>\n",
       "      <td>lee chandler brooding irritable loner works ha...</td>\n",
       "      <td>[lee, chandler, brooding, irritable, loner, wo...</td>\n",
       "    </tr>\n",
       "    <tr>\n",
       "      <th>4</th>\n",
       "      <td>jason kelly grandson dick kelly loses grandmot...</td>\n",
       "      <td>[jason, kelly, grandson, dick, kelly, loses, g...</td>\n",
       "    </tr>\n",
       "  </tbody>\n",
       "</table>\n",
       "</div>"
      ],
      "text/plain": [
       "                                                plot  \\\n",
       "0  marvels doctor strange follows story talented ...   \n",
       "1  young street magician jacob latimore left care...   \n",
       "2  story two catholic missionaries andrew garfiel...   \n",
       "3  lee chandler brooding irritable loner works ha...   \n",
       "4  jason kelly grandson dick kelly loses grandmot...   \n",
       "\n",
       "                                              tokens  \n",
       "0  [marvels, doctor, strange, follows, story, tal...  \n",
       "1  [young, street, magician, jacob, latimore, lef...  \n",
       "2  [story, two, catholic, missionaries, andrew, g...  \n",
       "3  [lee, chandler, brooding, irritable, loner, wo...  \n",
       "4  [jason, kelly, grandson, dick, kelly, loses, g...  "
      ]
     },
     "execution_count": 10,
     "metadata": {},
     "output_type": "execute_result"
    }
   ],
   "source": [
    "plot_df[[\"plot\", \"tokens\"]].head()"
   ]
  },
  {
   "cell_type": "code",
   "execution_count": 11,
   "metadata": {},
   "outputs": [],
   "source": [
    "plot_df = plot_df[plot_df[\"rating\"] != \"NC-17\"]"
   ]
  },
  {
   "cell_type": "code",
   "execution_count": 12,
   "metadata": {},
   "outputs": [],
   "source": [
    "# TFIDF\n",
    "from sklearn.feature_extraction.text import TfidfVectorizer\n",
    "\n",
    "\n",
    "def tfidf(data, ngrams=(1, 1)):\n",
    "    tfidf_vectorizer = TfidfVectorizer(ngram_range=ngrams)\n",
    "    train = tfidf_vectorizer.fit_transform(data)\n",
    "\n",
    "    return train, tfidf_vectorizer\n",
    "\n",
    "\n",
    "train_tfidf, tfidf_vectorizer = tfidf(plot_df[\"plot\"])\n",
    "# test_tfidf = tfidf_vectorizer.transform(test[\"text\"])"
   ]
  },
  {
   "cell_type": "code",
   "execution_count": 13,
   "metadata": {},
   "outputs": [
    {
     "data": {
      "text/plain": [
       "[0.13208518554434392,\n",
       " 0.10010192923231205,\n",
       " 0.110688149121315,\n",
       " 0.15810799752318755,\n",
       " 0.17284733473105102,\n",
       " 0.1689703819261967,\n",
       " 0.14336866031532408,\n",
       " 0.09538473722900326,\n",
       " 0.11470273586100549,\n",
       " 0.09276911399057444,\n",
       " 0.17284733473105102,\n",
       " 0.1297200426309384,\n",
       " 0.18370971913406017,\n",
       " 0.32743493745710167,\n",
       " 0.1423311682756979,\n",
       " 0.09811315665210747,\n",
       " 0.1775923414782809,\n",
       " 0.11415746576218766,\n",
       " 0.18370971913406017,\n",
       " 0.09786150438138708,\n",
       " 0.12147445341205515,\n",
       " 0.18370971913406017,\n",
       " 0.17284733473105102,\n",
       " 0.19233167868614437,\n",
       " 0.13901298394480913,\n",
       " 0.18370971913406017,\n",
       " 0.18370971913406017,\n",
       " 0.05758307997817369,\n",
       " 0.10356596870013475,\n",
       " 0.09836782279409588,\n",
       " 0.09190106004819884,\n",
       " 0.11046072055022857,\n",
       " 0.14134194951150433,\n",
       " 0.07258751515350385,\n",
       " 0.31963829504698205,\n",
       " 0.12709146989530906,\n",
       " 0.12147445341205515,\n",
       " 0.1333743298546905,\n",
       " 0.19233167868614437,\n",
       " 0.15095312782778209,\n",
       " 0.11115043621259274,\n",
       " 0.13523015967037505,\n",
       " 0.0830597167066226]"
      ]
     },
     "execution_count": 13,
     "metadata": {},
     "output_type": "execute_result"
    }
   ],
   "source": [
    "# Test TFIDF\n",
    "[x for x in train_tfidf.todense()[0][0:].tolist()[0] if x != 0]"
   ]
  },
  {
   "cell_type": "code",
   "execution_count": null,
   "metadata": {},
   "outputs": [],
   "source": []
  },
  {
   "cell_type": "code",
   "execution_count": null,
   "metadata": {},
   "outputs": [],
   "source": []
  },
  {
   "cell_type": "code",
   "execution_count": null,
   "metadata": {},
   "outputs": [],
   "source": []
  },
  {
   "cell_type": "code",
   "execution_count": null,
   "metadata": {},
   "outputs": [],
   "source": []
  },
  {
   "cell_type": "code",
   "execution_count": null,
   "metadata": {},
   "outputs": [],
   "source": []
  },
  {
   "cell_type": "code",
   "execution_count": 14,
   "metadata": {},
   "outputs": [
    {
     "data": {
      "text/plain": [
       "R        3261\n",
       "PG-13    1903\n",
       "PG        927\n",
       "G         143\n",
       "Name: rating, dtype: int64"
      ]
     },
     "execution_count": 14,
     "metadata": {},
     "output_type": "execute_result"
    }
   ],
   "source": [
    "plot_df.rating.value_counts()"
   ]
  },
  {
   "cell_type": "code",
   "execution_count": 15,
   "metadata": {},
   "outputs": [
    {
     "data": {
      "text/html": [
       "<div>\n",
       "<style scoped>\n",
       "    .dataframe tbody tr th:only-of-type {\n",
       "        vertical-align: middle;\n",
       "    }\n",
       "\n",
       "    .dataframe tbody tr th {\n",
       "        vertical-align: top;\n",
       "    }\n",
       "\n",
       "    .dataframe thead th {\n",
       "        text-align: right;\n",
       "    }\n",
       "</style>\n",
       "<table border=\"1\" class=\"dataframe\">\n",
       "  <thead>\n",
       "    <tr style=\"text-align: right;\">\n",
       "      <th></th>\n",
       "      <th>name</th>\n",
       "      <th>plot</th>\n",
       "      <th>genre_kaggle</th>\n",
       "      <th>rating</th>\n",
       "      <th>tokens</th>\n",
       "    </tr>\n",
       "  </thead>\n",
       "  <tbody>\n",
       "    <tr>\n",
       "      <th>0</th>\n",
       "      <td>Doctor Strange</td>\n",
       "      <td>marvels doctor strange follows story talented ...</td>\n",
       "      <td>Action</td>\n",
       "      <td>PG-13</td>\n",
       "      <td>[marvels, doctor, strange, follows, story, tal...</td>\n",
       "    </tr>\n",
       "    <tr>\n",
       "      <th>1</th>\n",
       "      <td>Sleight</td>\n",
       "      <td>young street magician jacob latimore left care...</td>\n",
       "      <td>Action</td>\n",
       "      <td>R</td>\n",
       "      <td>[young, street, magician, jacob, latimore, lef...</td>\n",
       "    </tr>\n",
       "    <tr>\n",
       "      <th>2</th>\n",
       "      <td>Silence</td>\n",
       "      <td>story two catholic missionaries andrew garfiel...</td>\n",
       "      <td>Adventure</td>\n",
       "      <td>R</td>\n",
       "      <td>[story, two, catholic, missionaries, andrew, g...</td>\n",
       "    </tr>\n",
       "    <tr>\n",
       "      <th>3</th>\n",
       "      <td>Manchester by the Sea</td>\n",
       "      <td>lee chandler brooding irritable loner works ha...</td>\n",
       "      <td>Drama</td>\n",
       "      <td>R</td>\n",
       "      <td>[lee, chandler, brooding, irritable, loner, wo...</td>\n",
       "    </tr>\n",
       "    <tr>\n",
       "      <th>4</th>\n",
       "      <td>Dirty Grandpa</td>\n",
       "      <td>jason kelly grandson dick kelly loses grandmot...</td>\n",
       "      <td>Comedy</td>\n",
       "      <td>R</td>\n",
       "      <td>[jason, kelly, grandson, dick, kelly, loses, g...</td>\n",
       "    </tr>\n",
       "  </tbody>\n",
       "</table>\n",
       "</div>"
      ],
      "text/plain": [
       "                    name                                               plot  \\\n",
       "0         Doctor Strange  marvels doctor strange follows story talented ...   \n",
       "1                Sleight  young street magician jacob latimore left care...   \n",
       "2                Silence  story two catholic missionaries andrew garfiel...   \n",
       "3  Manchester by the Sea  lee chandler brooding irritable loner works ha...   \n",
       "4          Dirty Grandpa  jason kelly grandson dick kelly loses grandmot...   \n",
       "\n",
       "  genre_kaggle rating                                             tokens  \n",
       "0       Action  PG-13  [marvels, doctor, strange, follows, story, tal...  \n",
       "1       Action      R  [young, street, magician, jacob, latimore, lef...  \n",
       "2    Adventure      R  [story, two, catholic, missionaries, andrew, g...  \n",
       "3        Drama      R  [lee, chandler, brooding, irritable, loner, wo...  \n",
       "4       Comedy      R  [jason, kelly, grandson, dick, kelly, loses, g...  "
      ]
     },
     "execution_count": 15,
     "metadata": {},
     "output_type": "execute_result"
    }
   ],
   "source": [
    "no_nc_df = plot_df[plot_df[\"rating\"] != \"NC-17\"]\n",
    "no_nc_df.head()"
   ]
  },
  {
   "cell_type": "code",
   "execution_count": 16,
   "metadata": {},
   "outputs": [
    {
     "data": {
      "text/plain": [
       "R        3261\n",
       "PG-13    1903\n",
       "PG        927\n",
       "G         143\n",
       "Name: rating, dtype: int64"
      ]
     },
     "execution_count": 16,
     "metadata": {},
     "output_type": "execute_result"
    }
   ],
   "source": [
    "# Check to make sure that NC-17 rows have been removed\n",
    "no_nc_df.rating.value_counts()"
   ]
  },
  {
   "cell_type": "code",
   "execution_count": 17,
   "metadata": {},
   "outputs": [
    {
     "data": {
      "text/html": [
       "<div>\n",
       "<style scoped>\n",
       "    .dataframe tbody tr th:only-of-type {\n",
       "        vertical-align: middle;\n",
       "    }\n",
       "\n",
       "    .dataframe tbody tr th {\n",
       "        vertical-align: top;\n",
       "    }\n",
       "\n",
       "    .dataframe thead th {\n",
       "        text-align: right;\n",
       "    }\n",
       "</style>\n",
       "<table border=\"1\" class=\"dataframe\">\n",
       "  <thead>\n",
       "    <tr style=\"text-align: right;\">\n",
       "      <th></th>\n",
       "      <th>name</th>\n",
       "      <th>rating</th>\n",
       "    </tr>\n",
       "  </thead>\n",
       "  <tbody>\n",
       "    <tr>\n",
       "      <th>0</th>\n",
       "      <td>Doctor Strange</td>\n",
       "      <td>PG-13</td>\n",
       "    </tr>\n",
       "    <tr>\n",
       "      <th>1</th>\n",
       "      <td>Sleight</td>\n",
       "      <td>R</td>\n",
       "    </tr>\n",
       "    <tr>\n",
       "      <th>2</th>\n",
       "      <td>Silence</td>\n",
       "      <td>R</td>\n",
       "    </tr>\n",
       "    <tr>\n",
       "      <th>3</th>\n",
       "      <td>Manchester by the Sea</td>\n",
       "      <td>R</td>\n",
       "    </tr>\n",
       "    <tr>\n",
       "      <th>4</th>\n",
       "      <td>Dirty Grandpa</td>\n",
       "      <td>R</td>\n",
       "    </tr>\n",
       "    <tr>\n",
       "      <th>...</th>\n",
       "      <td>...</td>\n",
       "      <td>...</td>\n",
       "    </tr>\n",
       "    <tr>\n",
       "      <th>6251</th>\n",
       "      <td>Hoosiers</td>\n",
       "      <td>PG</td>\n",
       "    </tr>\n",
       "    <tr>\n",
       "      <th>6252</th>\n",
       "      <td>Off Beat</td>\n",
       "      <td>PG</td>\n",
       "    </tr>\n",
       "    <tr>\n",
       "      <th>6253</th>\n",
       "      <td>Big Trouble in Little China</td>\n",
       "      <td>PG-13</td>\n",
       "    </tr>\n",
       "    <tr>\n",
       "      <th>6254</th>\n",
       "      <td>Biggles: Adventures in Time</td>\n",
       "      <td>PG</td>\n",
       "    </tr>\n",
       "    <tr>\n",
       "      <th>6255</th>\n",
       "      <td>Soul Man</td>\n",
       "      <td>PG-13</td>\n",
       "    </tr>\n",
       "  </tbody>\n",
       "</table>\n",
       "<p>6234 rows × 2 columns</p>\n",
       "</div>"
      ],
      "text/plain": [
       "                             name rating\n",
       "0                  Doctor Strange  PG-13\n",
       "1                         Sleight      R\n",
       "2                         Silence      R\n",
       "3           Manchester by the Sea      R\n",
       "4                   Dirty Grandpa      R\n",
       "...                           ...    ...\n",
       "6251                     Hoosiers     PG\n",
       "6252                     Off Beat     PG\n",
       "6253  Big Trouble in Little China  PG-13\n",
       "6254  Biggles: Adventures in Time     PG\n",
       "6255                     Soul Man  PG-13\n",
       "\n",
       "[6234 rows x 2 columns]"
      ]
     },
     "execution_count": 17,
     "metadata": {},
     "output_type": "execute_result"
    }
   ],
   "source": [
    "# Grab ratings data to apply label encoding \n",
    "ratings = no_nc_df[[\"name\", \"rating\"]]\n",
    "ratings"
   ]
  },
  {
   "cell_type": "code",
   "execution_count": 18,
   "metadata": {},
   "outputs": [],
   "source": [
    "# Import label encoder \n",
    "from sklearn import preprocessing"
   ]
  },
  {
   "cell_type": "code",
   "execution_count": 19,
   "metadata": {},
   "outputs": [],
   "source": [
    "# Set label encoder method to variable for use\n",
    "label_encoder = preprocessing.LabelEncoder()"
   ]
  },
  {
   "cell_type": "code",
   "execution_count": 20,
   "metadata": {},
   "outputs": [
    {
     "name": "stderr",
     "output_type": "stream",
     "text": [
      "/Users/alannahmarie/opt/anaconda3/envs/PythonAdv/lib/python3.6/site-packages/ipykernel_launcher.py:2: SettingWithCopyWarning: \n",
      "A value is trying to be set on a copy of a slice from a DataFrame.\n",
      "Try using .loc[row_indexer,col_indexer] = value instead\n",
      "\n",
      "See the caveats in the documentation: https://pandas.pydata.org/pandas-docs/stable/user_guide/indexing.html#returning-a-view-versus-a-copy\n",
      "  \n"
     ]
    },
    {
     "data": {
      "text/html": [
       "<div>\n",
       "<style scoped>\n",
       "    .dataframe tbody tr th:only-of-type {\n",
       "        vertical-align: middle;\n",
       "    }\n",
       "\n",
       "    .dataframe tbody tr th {\n",
       "        vertical-align: top;\n",
       "    }\n",
       "\n",
       "    .dataframe thead th {\n",
       "        text-align: right;\n",
       "    }\n",
       "</style>\n",
       "<table border=\"1\" class=\"dataframe\">\n",
       "  <thead>\n",
       "    <tr style=\"text-align: right;\">\n",
       "      <th></th>\n",
       "      <th>name</th>\n",
       "      <th>rating</th>\n",
       "      <th>encoded_rating</th>\n",
       "    </tr>\n",
       "  </thead>\n",
       "  <tbody>\n",
       "    <tr>\n",
       "      <th>0</th>\n",
       "      <td>Doctor Strange</td>\n",
       "      <td>PG-13</td>\n",
       "      <td>2</td>\n",
       "    </tr>\n",
       "    <tr>\n",
       "      <th>1</th>\n",
       "      <td>Sleight</td>\n",
       "      <td>R</td>\n",
       "      <td>3</td>\n",
       "    </tr>\n",
       "    <tr>\n",
       "      <th>2</th>\n",
       "      <td>Silence</td>\n",
       "      <td>R</td>\n",
       "      <td>3</td>\n",
       "    </tr>\n",
       "    <tr>\n",
       "      <th>3</th>\n",
       "      <td>Manchester by the Sea</td>\n",
       "      <td>R</td>\n",
       "      <td>3</td>\n",
       "    </tr>\n",
       "    <tr>\n",
       "      <th>4</th>\n",
       "      <td>Dirty Grandpa</td>\n",
       "      <td>R</td>\n",
       "      <td>3</td>\n",
       "    </tr>\n",
       "    <tr>\n",
       "      <th>...</th>\n",
       "      <td>...</td>\n",
       "      <td>...</td>\n",
       "      <td>...</td>\n",
       "    </tr>\n",
       "    <tr>\n",
       "      <th>6251</th>\n",
       "      <td>Hoosiers</td>\n",
       "      <td>PG</td>\n",
       "      <td>1</td>\n",
       "    </tr>\n",
       "    <tr>\n",
       "      <th>6252</th>\n",
       "      <td>Off Beat</td>\n",
       "      <td>PG</td>\n",
       "      <td>1</td>\n",
       "    </tr>\n",
       "    <tr>\n",
       "      <th>6253</th>\n",
       "      <td>Big Trouble in Little China</td>\n",
       "      <td>PG-13</td>\n",
       "      <td>2</td>\n",
       "    </tr>\n",
       "    <tr>\n",
       "      <th>6254</th>\n",
       "      <td>Biggles: Adventures in Time</td>\n",
       "      <td>PG</td>\n",
       "      <td>1</td>\n",
       "    </tr>\n",
       "    <tr>\n",
       "      <th>6255</th>\n",
       "      <td>Soul Man</td>\n",
       "      <td>PG-13</td>\n",
       "      <td>2</td>\n",
       "    </tr>\n",
       "  </tbody>\n",
       "</table>\n",
       "<p>6234 rows × 3 columns</p>\n",
       "</div>"
      ],
      "text/plain": [
       "                             name rating  encoded_rating\n",
       "0                  Doctor Strange  PG-13               2\n",
       "1                         Sleight      R               3\n",
       "2                         Silence      R               3\n",
       "3           Manchester by the Sea      R               3\n",
       "4                   Dirty Grandpa      R               3\n",
       "...                           ...    ...             ...\n",
       "6251                     Hoosiers     PG               1\n",
       "6252                     Off Beat     PG               1\n",
       "6253  Big Trouble in Little China  PG-13               2\n",
       "6254  Biggles: Adventures in Time     PG               1\n",
       "6255                     Soul Man  PG-13               2\n",
       "\n",
       "[6234 rows x 3 columns]"
      ]
     },
     "execution_count": 20,
     "metadata": {},
     "output_type": "execute_result"
    }
   ],
   "source": [
    "# Encode ratigs  \n",
    "ratings[\"encoded_rating\"] = label_encoder.fit_transform(ratings[\"rating\"]) \n",
    "ratings"
   ]
  },
  {
   "cell_type": "code",
   "execution_count": 21,
   "metadata": {},
   "outputs": [
    {
     "data": {
      "text/plain": [
       "3    3261\n",
       "2    1903\n",
       "1     927\n",
       "0     143\n",
       "Name: encoded_rating, dtype: int64"
      ]
     },
     "execution_count": 21,
     "metadata": {},
     "output_type": "execute_result"
    }
   ],
   "source": [
    "ratings.encoded_rating.value_counts()"
   ]
  },
  {
   "cell_type": "code",
   "execution_count": 22,
   "metadata": {},
   "outputs": [
    {
     "data": {
      "text/plain": [
       "R        3261\n",
       "PG-13    1903\n",
       "PG        927\n",
       "G         143\n",
       "Name: rating, dtype: int64"
      ]
     },
     "execution_count": 22,
     "metadata": {},
     "output_type": "execute_result"
    }
   ],
   "source": [
    "ratings.rating.value_counts()"
   ]
  },
  {
   "cell_type": "code",
   "execution_count": 23,
   "metadata": {},
   "outputs": [],
   "source": [
    "# # Read in tokenized plot Dataframe \n",
    "# path = os.path.join('..','resources','cleaned_data', 'plot_features.csv')\n",
    "# plots_df = pd.read_csv(path)\n",
    "# plots_df.head()"
   ]
  },
  {
   "cell_type": "code",
   "execution_count": 24,
   "metadata": {},
   "outputs": [],
   "source": [
    "# # Merge ratings and plot dataframes\n",
    "# merged_df = ratings.merge(plots_df, on=\"name\")\n",
    "# merged_df.head()"
   ]
  },
  {
   "cell_type": "code",
   "execution_count": 25,
   "metadata": {},
   "outputs": [
    {
     "data": {
      "text/plain": [
       "0       2\n",
       "1       3\n",
       "2       3\n",
       "3       3\n",
       "4       3\n",
       "       ..\n",
       "6251    1\n",
       "6252    1\n",
       "6253    2\n",
       "6254    1\n",
       "6255    2\n",
       "Name: encoded_rating, Length: 6234, dtype: int64"
      ]
     },
     "execution_count": 25,
     "metadata": {},
     "output_type": "execute_result"
    }
   ],
   "source": [
    "target = ratings[\"encoded_rating\"]\n",
    "target_names = [\"G\", \"PG\", \"PG-13\", \"R\"]\n",
    "target"
   ]
  },
  {
   "cell_type": "code",
   "execution_count": 26,
   "metadata": {},
   "outputs": [
    {
     "data": {
      "text/plain": [
       "<6234x34827 sparse matrix of type '<class 'numpy.float64'>'\n",
       "\twith 280250 stored elements in Compressed Sparse Row format>"
      ]
     },
     "execution_count": 26,
     "metadata": {},
     "output_type": "execute_result"
    }
   ],
   "source": [
    "data = train_tfidf\n",
    "data"
   ]
  },
  {
   "cell_type": "code",
   "execution_count": 27,
   "metadata": {},
   "outputs": [],
   "source": [
    "from sklearn.model_selection import train_test_split\n",
    "X_train, X_test, y_train, y_test = train_test_split(data, target, random_state=42)"
   ]
  },
  {
   "cell_type": "code",
   "execution_count": 28,
   "metadata": {
    "scrolled": false
   },
   "outputs": [
    {
     "data": {
      "text/plain": [
       "SVC(kernel='linear')"
      ]
     },
     "execution_count": 28,
     "metadata": {},
     "output_type": "execute_result"
    }
   ],
   "source": [
    "# Support vector machine linear classifier\n",
    "from sklearn.svm import SVC \n",
    "model = SVC(kernel='linear')\n",
    "model.fit(X_train, y_train)"
   ]
  },
  {
   "cell_type": "code",
   "execution_count": 29,
   "metadata": {},
   "outputs": [
    {
     "name": "stdout",
     "output_type": "stream",
     "text": [
      "Test Acc: 0.564\n"
     ]
    }
   ],
   "source": [
    "# Model Accuracy\n",
    "print('Test Acc: %.3f' % model.score(X_test, y_test))"
   ]
  },
  {
   "cell_type": "code",
   "execution_count": 30,
   "metadata": {},
   "outputs": [
    {
     "name": "stdout",
     "output_type": "stream",
     "text": [
      "              precision    recall  f1-score   support\n",
      "\n",
      "           G       0.00      0.00      0.00        38\n",
      "          PG       0.45      0.13      0.20       215\n",
      "       PG-13       0.46      0.25      0.32       489\n",
      "           R       0.59      0.89      0.71       817\n",
      "\n",
      "    accuracy                           0.56      1559\n",
      "   macro avg       0.38      0.32      0.31      1559\n",
      "weighted avg       0.52      0.56      0.50      1559\n",
      "\n"
     ]
    },
    {
     "name": "stderr",
     "output_type": "stream",
     "text": [
      "/Users/alannahmarie/opt/anaconda3/envs/PythonAdv/lib/python3.6/site-packages/sklearn/metrics/_classification.py:1248: UndefinedMetricWarning: Precision and F-score are ill-defined and being set to 0.0 in labels with no predicted samples. Use `zero_division` parameter to control this behavior.\n",
      "  _warn_prf(average, modifier, msg_start, len(result))\n",
      "/Users/alannahmarie/opt/anaconda3/envs/PythonAdv/lib/python3.6/site-packages/sklearn/metrics/_classification.py:1248: UndefinedMetricWarning: Precision and F-score are ill-defined and being set to 0.0 in labels with no predicted samples. Use `zero_division` parameter to control this behavior.\n",
      "  _warn_prf(average, modifier, msg_start, len(result))\n",
      "/Users/alannahmarie/opt/anaconda3/envs/PythonAdv/lib/python3.6/site-packages/sklearn/metrics/_classification.py:1248: UndefinedMetricWarning: Precision and F-score are ill-defined and being set to 0.0 in labels with no predicted samples. Use `zero_division` parameter to control this behavior.\n",
      "  _warn_prf(average, modifier, msg_start, len(result))\n"
     ]
    }
   ],
   "source": [
    "# Calculate classification report\n",
    "from sklearn.metrics import classification_report\n",
    "predictions = model.predict(X_test)\n",
    "print(classification_report(y_test, predictions,\n",
    "                            target_names=target_names))"
   ]
  },
  {
   "cell_type": "code",
   "execution_count": null,
   "metadata": {},
   "outputs": [],
   "source": []
  }
 ],
 "metadata": {
  "kernelspec": {
   "display_name": "Python [conda env:PythonAdv] *",
   "language": "python",
   "name": "conda-env-PythonAdv-py"
  },
  "language_info": {
   "codemirror_mode": {
    "name": "ipython",
    "version": 3
   },
   "file_extension": ".py",
   "mimetype": "text/x-python",
   "name": "python",
   "nbconvert_exporter": "python",
   "pygments_lexer": "ipython3",
   "version": "3.6.13"
  }
 },
 "nbformat": 4,
 "nbformat_minor": 4
}
