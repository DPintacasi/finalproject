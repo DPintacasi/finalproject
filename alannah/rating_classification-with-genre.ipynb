{
 "cells": [
  {
   "cell_type": "markdown",
   "metadata": {},
   "source": [
    "# Movie Ratings - Classification Model"
   ]
  },
  {
   "cell_type": "code",
   "execution_count": 1,
   "metadata": {},
   "outputs": [],
   "source": [
    "# Import initial dependencies\n",
    "import pandas as pd\n",
    "import os\n",
    "import nltk\n",
    "import matplotlib.pyplot as plt"
   ]
  },
  {
   "cell_type": "code",
   "execution_count": 2,
   "metadata": {},
   "outputs": [
    {
     "data": {
      "text/html": [
       "<div>\n",
       "<style scoped>\n",
       "    .dataframe tbody tr th:only-of-type {\n",
       "        vertical-align: middle;\n",
       "    }\n",
       "\n",
       "    .dataframe tbody tr th {\n",
       "        vertical-align: top;\n",
       "    }\n",
       "\n",
       "    .dataframe thead th {\n",
       "        text-align: right;\n",
       "    }\n",
       "</style>\n",
       "<table border=\"1\" class=\"dataframe\">\n",
       "  <thead>\n",
       "    <tr style=\"text-align: right;\">\n",
       "      <th></th>\n",
       "      <th>name</th>\n",
       "      <th>production</th>\n",
       "      <th>director</th>\n",
       "      <th>runtime</th>\n",
       "      <th>released</th>\n",
       "      <th>year</th>\n",
       "      <th>month</th>\n",
       "      <th>country_kaggle</th>\n",
       "      <th>country_omdb</th>\n",
       "      <th>star_kaggle</th>\n",
       "      <th>...</th>\n",
       "      <th>plot</th>\n",
       "      <th>awards</th>\n",
       "      <th>score_imdb</th>\n",
       "      <th>votes_imdb</th>\n",
       "      <th>score_metacritic</th>\n",
       "      <th>budget</th>\n",
       "      <th>genre_kaggle</th>\n",
       "      <th>gross</th>\n",
       "      <th>genres_omdb</th>\n",
       "      <th>rating</th>\n",
       "    </tr>\n",
       "  </thead>\n",
       "  <tbody>\n",
       "    <tr>\n",
       "      <th>0</th>\n",
       "      <td>Doctor Strange</td>\n",
       "      <td>Marvel Studios</td>\n",
       "      <td>Scott Derrickson</td>\n",
       "      <td>115</td>\n",
       "      <td>2016-11-04</td>\n",
       "      <td>2016</td>\n",
       "      <td>11</td>\n",
       "      <td>USA</td>\n",
       "      <td>USA</td>\n",
       "      <td>Benedict Cumberbatch</td>\n",
       "      <td>...</td>\n",
       "      <td>Marvel's \"Doctor Strange\" follows the story of...</td>\n",
       "      <td>Nominated for 1 Oscar. Another 19 wins &amp; 67 no...</td>\n",
       "      <td>7.5</td>\n",
       "      <td>348307</td>\n",
       "      <td>72.0</td>\n",
       "      <td>165000000</td>\n",
       "      <td>Action</td>\n",
       "      <td>232641920</td>\n",
       "      <td>Action, Adventure, Fantasy, Sci-Fi</td>\n",
       "      <td>PG-13</td>\n",
       "    </tr>\n",
       "    <tr>\n",
       "      <th>1</th>\n",
       "      <td>Sleight</td>\n",
       "      <td>Diablo Entertainment (II)</td>\n",
       "      <td>J.D. Dillard</td>\n",
       "      <td>89</td>\n",
       "      <td>2017-04-28</td>\n",
       "      <td>2016</td>\n",
       "      <td>4</td>\n",
       "      <td>USA</td>\n",
       "      <td>USA</td>\n",
       "      <td>Jacob Latimore</td>\n",
       "      <td>...</td>\n",
       "      <td>A young street magician (Jacob Latimore) is le...</td>\n",
       "      <td>3 nominations.</td>\n",
       "      <td>5.9</td>\n",
       "      <td>4012</td>\n",
       "      <td>62.0</td>\n",
       "      <td>250000</td>\n",
       "      <td>Action</td>\n",
       "      <td>3986245</td>\n",
       "      <td>Crime, Drama, Sci-Fi</td>\n",
       "      <td>R</td>\n",
       "    </tr>\n",
       "  </tbody>\n",
       "</table>\n",
       "<p>2 rows × 24 columns</p>\n",
       "</div>"
      ],
      "text/plain": [
       "             name                 production          director  runtime  \\\n",
       "0  Doctor Strange             Marvel Studios  Scott Derrickson      115   \n",
       "1         Sleight  Diablo Entertainment (II)      J.D. Dillard       89   \n",
       "\n",
       "     released  year  month country_kaggle country_omdb           star_kaggle  \\\n",
       "0  2016-11-04  2016     11            USA          USA  Benedict Cumberbatch   \n",
       "1  2017-04-28  2016      4            USA          USA        Jacob Latimore   \n",
       "\n",
       "   ...                                               plot  \\\n",
       "0  ...  Marvel's \"Doctor Strange\" follows the story of...   \n",
       "1  ...  A young street magician (Jacob Latimore) is le...   \n",
       "\n",
       "                                              awards score_imdb votes_imdb  \\\n",
       "0  Nominated for 1 Oscar. Another 19 wins & 67 no...        7.5     348307   \n",
       "1                                     3 nominations.        5.9       4012   \n",
       "\n",
       "  score_metacritic     budget  genre_kaggle      gross  \\\n",
       "0             72.0  165000000        Action  232641920   \n",
       "1             62.0     250000        Action    3986245   \n",
       "\n",
       "                          genres_omdb  rating  \n",
       "0  Action, Adventure, Fantasy, Sci-Fi   PG-13  \n",
       "1                Crime, Drama, Sci-Fi       R  \n",
       "\n",
       "[2 rows x 24 columns]"
      ]
     },
     "execution_count": 2,
     "metadata": {},
     "output_type": "execute_result"
    }
   ],
   "source": [
    "# Import movies dataframe\n",
    "movies_df = pd.read_csv(\"https://data-bootcamp-ztc.s3.amazonaws.com/movies_complete_cleaned.csv\")\n",
    "movies_df.head(2)"
   ]
  },
  {
   "cell_type": "code",
   "execution_count": 3,
   "metadata": {},
   "outputs": [
    {
     "data": {
      "text/plain": [
       "R        3261\n",
       "PG-13    1903\n",
       "PG        927\n",
       "G         143\n",
       "NC-17      22\n",
       "Name: rating, dtype: int64"
      ]
     },
     "execution_count": 3,
     "metadata": {},
     "output_type": "execute_result"
    }
   ],
   "source": [
    "movies_df[\"rating\"].value_counts()"
   ]
  },
  {
   "cell_type": "code",
   "execution_count": 4,
   "metadata": {
    "scrolled": true
   },
   "outputs": [],
   "source": [
    "#drop NC-17 as there are very few instances\n",
    "movies_df = movies_df[movies_df[\"rating\"]  != \"NC-17\"]"
   ]
  },
  {
   "cell_type": "code",
   "execution_count": 5,
   "metadata": {},
   "outputs": [
    {
     "data": {
      "text/plain": [
       "Comedy       1943\n",
       "Action       1243\n",
       "Drama        1225\n",
       "Crime         460\n",
       "Adventure     376\n",
       "Biography     333\n",
       "Animation     266\n",
       "Horror        259\n",
       "Mystery        37\n",
       "Fantasy        29\n",
       "Thriller       16\n",
       "Family         14\n",
       "Romance        14\n",
       "Sci-Fi         13\n",
       "Western         2\n",
       "Musical         2\n",
       "War             2\n",
       "Name: genre_kaggle, dtype: int64"
      ]
     },
     "execution_count": 5,
     "metadata": {},
     "output_type": "execute_result"
    }
   ],
   "source": [
    "movies_df[\"genre_kaggle\"].value_counts()"
   ]
  },
  {
   "cell_type": "code",
   "execution_count": 6,
   "metadata": {},
   "outputs": [
    {
     "data": {
      "image/png": "[encoded data removed]",
      "text/plain": [
       "<Figure size 432x288 with 1 Axes>"
      ]
     },
     "metadata": {
      "needs_background": "light"
     },
     "output_type": "display_data"
    },
    {
     "data": {
      "image/png": "[encoded data removed]",
      "text/plain": [
       "<Figure size 432x288 with 1 Axes>"
      ]
     },
     "metadata": {
      "needs_background": "light"
     },
     "output_type": "display_data"
    },
    {
     "data": {
      "image/png": "[encoded data removed]",
      "text/plain": [
       "<Figure size 432x288 with 1 Axes>"
      ]
     },
     "metadata": {
      "needs_background": "light"
     },
     "output_type": "display_data"
    },
    {
     "data": {
      "image/png": "[encoded data removed]",
      "text/plain": [
       "<Figure size 432x288 with 1 Axes>"
      ]
     },
     "metadata": {
      "needs_background": "light"
     },
     "output_type": "display_data"
    },
    {
     "data": {
      "image/png": "[encoded data removed]",
      "text/plain": [
       "<Figure size 432x288 with 1 Axes>"
      ]
     },
     "metadata": {
      "needs_background": "light"
     },
     "output_type": "display_data"
    },
    {
     "data": {
      "image/png": "[encoded data removed]",
      "text/plain": [
       "<Figure size 432x288 with 1 Axes>"
      ]
     },
     "metadata": {
      "needs_background": "light"
     },
     "output_type": "display_data"
    },
    {
     "data": {
      "image/png": "[encoded data removed]",
      "text/plain": [
       "<Figure size 432x288 with 1 Axes>"
      ]
     },
     "metadata": {
      "needs_background": "light"
     },
     "output_type": "display_data"
    },
    {
     "data": {
      "image/png": "[encoded data removed]",
      "text/plain": [
       "<Figure size 432x288 with 1 Axes>"
      ]
     },
     "metadata": {
      "needs_background": "light"
     },
     "output_type": "display_data"
    },
    {
     "data": {
      "image/png": "[encoded data removed]",
      "text/plain": [
       "<Figure size 432x288 with 1 Axes>"
      ]
     },
     "metadata": {
      "needs_background": "light"
     },
     "output_type": "display_data"
    },
    {
     "data": {
      "image/png": "[encoded data removed]",
      "text/plain": [
       "<Figure size 432x288 with 1 Axes>"
      ]
     },
     "metadata": {
      "needs_background": "light"
     },
     "output_type": "display_data"
    },
    {
     "data": {
      "image/png": "[encoded data removed]",
      "text/plain": [
       "<Figure size 432x288 with 1 Axes>"
      ]
     },
     "metadata": {
      "needs_background": "light"
     },
     "output_type": "display_data"
    },
    {
     "data": {
      "image/png": "[encoded data removed]",
      "text/plain": [
       "<Figure size 432x288 with 1 Axes>"
      ]
     },
     "metadata": {
      "needs_background": "light"
     },
     "output_type": "display_data"
    },
    {
     "data": {
      "image/png": "[encoded data removed]",
      "text/plain": [
       "<Figure size 432x288 with 1 Axes>"
      ]
     },
     "metadata": {
      "needs_background": "light"
     },
     "output_type": "display_data"
    },
    {
     "data": {
      "image/png": "[encoded data removed]",
      "text/plain": [
       "<Figure size 432x288 with 1 Axes>"
      ]
     },
     "metadata": {
      "needs_background": "light"
     },
     "output_type": "display_data"
    },
    {
     "data": {
      "image/png": "[encoded data removed]",
      "text/plain": [
       "<Figure size 432x288 with 1 Axes>"
      ]
     },
     "metadata": {
      "needs_background": "light"
     },
     "output_type": "display_data"
    },
    {
     "data": {
      "image/png": "[encoded data removed]",
      "text/plain": [
       "<Figure size 432x288 with 1 Axes>"
      ]
     },
     "metadata": {
      "needs_background": "light"
     },
     "output_type": "display_data"
    },
    {
     "data": {
      "image/png": "[encoded data removed]",
      "text/plain": [
       "<Figure size 432x288 with 1 Axes>"
      ]
     },
     "metadata": {
      "needs_background": "light"
     },
     "output_type": "display_data"
    }
   ],
   "source": [
    "for genre in movies_df['genre_kaggle'].unique():\n",
    "#     print(genre)\n",
    "    df = movies_df[movies_df['genre_kaggle']==genre]  \n",
    "#     print(len(df))\n",
    "    plt.figure()\n",
    "    plt.title(genre)\n",
    "    df['rating'].value_counts().plot(kind='barh')\n",
    "\n",
    "plt.show()"
   ]
  },
  {
   "cell_type": "code",
   "execution_count": null,
   "metadata": {},
   "outputs": [],
   "source": []
  },
  {
   "cell_type": "markdown",
   "metadata": {},
   "source": [
    "## Cleaning Data for Tokenization"
   ]
  },
  {
   "cell_type": "code",
   "execution_count": 7,
   "metadata": {},
   "outputs": [
    {
     "data": {
      "text/html": [
       "<div>\n",
       "<style scoped>\n",
       "    .dataframe tbody tr th:only-of-type {\n",
       "        vertical-align: middle;\n",
       "    }\n",
       "\n",
       "    .dataframe tbody tr th {\n",
       "        vertical-align: top;\n",
       "    }\n",
       "\n",
       "    .dataframe thead th {\n",
       "        text-align: right;\n",
       "    }\n",
       "</style>\n",
       "<table border=\"1\" class=\"dataframe\">\n",
       "  <thead>\n",
       "    <tr style=\"text-align: right;\">\n",
       "      <th></th>\n",
       "      <th>plot</th>\n",
       "      <th>genre_kaggle</th>\n",
       "      <th>rating</th>\n",
       "    </tr>\n",
       "    <tr>\n",
       "      <th>name</th>\n",
       "      <th></th>\n",
       "      <th></th>\n",
       "      <th></th>\n",
       "    </tr>\n",
       "  </thead>\n",
       "  <tbody>\n",
       "    <tr>\n",
       "      <th>Doctor Strange</th>\n",
       "      <td>Marvel's \"Doctor Strange\" follows the story of...</td>\n",
       "      <td>Action</td>\n",
       "      <td>PG-13</td>\n",
       "    </tr>\n",
       "    <tr>\n",
       "      <th>Sleight</th>\n",
       "      <td>A young street magician (Jacob Latimore) is le...</td>\n",
       "      <td>Action</td>\n",
       "      <td>R</td>\n",
       "    </tr>\n",
       "    <tr>\n",
       "      <th>Silence</th>\n",
       "      <td>The story of two Catholic missionaries (Andrew...</td>\n",
       "      <td>Adventure</td>\n",
       "      <td>R</td>\n",
       "    </tr>\n",
       "    <tr>\n",
       "      <th>Manchester by the Sea</th>\n",
       "      <td>Lee Chandler is a brooding, irritable loner wh...</td>\n",
       "      <td>Drama</td>\n",
       "      <td>R</td>\n",
       "    </tr>\n",
       "    <tr>\n",
       "      <th>Dirty Grandpa</th>\n",
       "      <td>Jason Kelly, the grandson of Dick Kelly, loses...</td>\n",
       "      <td>Comedy</td>\n",
       "      <td>R</td>\n",
       "    </tr>\n",
       "  </tbody>\n",
       "</table>\n",
       "</div>"
      ],
      "text/plain": [
       "                                                                    plot  \\\n",
       "name                                                                       \n",
       "Doctor Strange         Marvel's \"Doctor Strange\" follows the story of...   \n",
       "Sleight                A young street magician (Jacob Latimore) is le...   \n",
       "Silence                The story of two Catholic missionaries (Andrew...   \n",
       "Manchester by the Sea  Lee Chandler is a brooding, irritable loner wh...   \n",
       "Dirty Grandpa          Jason Kelly, the grandson of Dick Kelly, loses...   \n",
       "\n",
       "                      genre_kaggle rating  \n",
       "name                                       \n",
       "Doctor Strange              Action  PG-13  \n",
       "Sleight                     Action      R  \n",
       "Silence                  Adventure      R  \n",
       "Manchester by the Sea        Drama      R  \n",
       "Dirty Grandpa               Comedy      R  "
      ]
     },
     "execution_count": 7,
     "metadata": {},
     "output_type": "execute_result"
    }
   ],
   "source": [
    "# Extract plot data\n",
    "df = movies_df[[\"name\", \"plot\", \"genre_kaggle\", \"rating\"]]\n",
    "df.set_index(\"name\",inplace = True)\n",
    "df.head()"
   ]
  },
  {
   "cell_type": "code",
   "execution_count": 8,
   "metadata": {},
   "outputs": [
    {
     "name": "stderr",
     "output_type": "stream",
     "text": [
      "/opt/anaconda3/envs/PythonAdv/lib/python3.6/site-packages/pandas/core/series.py:4536: SettingWithCopyWarning: \n",
      "A value is trying to be set on a copy of a slice from a DataFrame\n",
      "\n",
      "See the caveats in the documentation: https://pandas.pydata.org/pandas-docs/stable/user_guide/indexing.html#returning-a-view-versus-a-copy\n",
      "  downcast=downcast,\n"
     ]
    }
   ],
   "source": [
    "df[\"plot\"].fillna(\"\", inplace=True)"
   ]
  },
  {
   "cell_type": "code",
   "execution_count": 9,
   "metadata": {},
   "outputs": [
    {
     "name": "stderr",
     "output_type": "stream",
     "text": [
      "/opt/anaconda3/envs/PythonAdv/lib/python3.6/site-packages/ipykernel_launcher.py:10: SettingWithCopyWarning: \n",
      "A value is trying to be set on a copy of a slice from a DataFrame.\n",
      "Try using .loc[row_indexer,col_indexer] = value instead\n",
      "\n",
      "See the caveats in the documentation: https://pandas.pydata.org/pandas-docs/stable/user_guide/indexing.html#returning-a-view-versus-a-copy\n",
      "  # Remove the CWD from sys.path while we load stuff.\n"
     ]
    }
   ],
   "source": [
    "# Remove punctuation\n",
    "import string\n",
    "\n",
    "\n",
    "def remove_punct(text):\n",
    "    table = str.maketrans(\"\", \"\", string.punctuation)\n",
    "    return text.translate(table)\n",
    "\n",
    "\n",
    "df[\"plot\"] = [remove_punct(x) for x in df[\"plot\"]]"
   ]
  },
  {
   "cell_type": "code",
   "execution_count": 10,
   "metadata": {},
   "outputs": [
    {
     "name": "stderr",
     "output_type": "stream",
     "text": [
      "[nltk_data] Downloading package stopwords to\n",
      "[nltk_data]     /Users/daniellepintacasi/nltk_data...\n",
      "[nltk_data]   Package stopwords is already up-to-date!\n",
      "/opt/anaconda3/envs/PythonAdv/lib/python3.6/site-packages/ipykernel_launcher.py:15: SettingWithCopyWarning: \n",
      "A value is trying to be set on a copy of a slice from a DataFrame.\n",
      "Try using .loc[row_indexer,col_indexer] = value instead\n",
      "\n",
      "See the caveats in the documentation: https://pandas.pydata.org/pandas-docs/stable/user_guide/indexing.html#returning-a-view-versus-a-copy\n",
      "  from ipykernel import kernelapp as app\n"
     ]
    }
   ],
   "source": [
    "# Remove stopwords\n",
    "import nltk\n",
    "nltk.download('stopwords')\n",
    "from nltk.corpus import stopwords\n",
    "\n",
    "stop = set(stopwords.words(\"english\"))\n",
    "\n",
    "\n",
    "def remove_stopwords(text):\n",
    "    text = [word.lower() for word in text.split() if word.lower() not in stop]\n",
    "\n",
    "    return \" \".join(text)\n",
    "\n",
    "\n",
    "df[\"plot\"] = [remove_stopwords(x) for x in df[\"plot\"]]"
   ]
  },
  {
   "cell_type": "code",
   "execution_count": 11,
   "metadata": {},
   "outputs": [
    {
     "name": "stderr",
     "output_type": "stream",
     "text": [
      "/opt/anaconda3/envs/PythonAdv/lib/python3.6/site-packages/ipykernel_launcher.py:3: SettingWithCopyWarning: \n",
      "A value is trying to be set on a copy of a slice from a DataFrame.\n",
      "Try using .loc[row_indexer,col_indexer] = value instead\n",
      "\n",
      "See the caveats in the documentation: https://pandas.pydata.org/pandas-docs/stable/user_guide/indexing.html#returning-a-view-versus-a-copy\n",
      "  This is separate from the ipykernel package so we can avoid doing imports until\n"
     ]
    }
   ],
   "source": [
    "#adding plot length feature\n",
    "\n",
    "df[\"plot_len\"] = [len(x) for x in df[\"plot\"]]"
   ]
  },
  {
   "cell_type": "code",
   "execution_count": 12,
   "metadata": {},
   "outputs": [
    {
     "data": {
      "text/html": [
       "<div>\n",
       "<style scoped>\n",
       "    .dataframe tbody tr th:only-of-type {\n",
       "        vertical-align: middle;\n",
       "    }\n",
       "\n",
       "    .dataframe tbody tr th {\n",
       "        vertical-align: top;\n",
       "    }\n",
       "\n",
       "    .dataframe thead th {\n",
       "        text-align: right;\n",
       "    }\n",
       "</style>\n",
       "<table border=\"1\" class=\"dataframe\">\n",
       "  <thead>\n",
       "    <tr style=\"text-align: right;\">\n",
       "      <th></th>\n",
       "      <th>plot</th>\n",
       "      <th>genre_kaggle</th>\n",
       "      <th>rating</th>\n",
       "      <th>plot_len</th>\n",
       "    </tr>\n",
       "    <tr>\n",
       "      <th>name</th>\n",
       "      <th></th>\n",
       "      <th></th>\n",
       "      <th></th>\n",
       "      <th></th>\n",
       "    </tr>\n",
       "  </thead>\n",
       "  <tbody>\n",
       "    <tr>\n",
       "      <th>Doctor Strange</th>\n",
       "      <td>marvels doctor strange follows story talented ...</td>\n",
       "      <td>Action</td>\n",
       "      <td>PG-13</td>\n",
       "      <td>365</td>\n",
       "    </tr>\n",
       "    <tr>\n",
       "      <th>Sleight</th>\n",
       "      <td>young street magician jacob latimore left care...</td>\n",
       "      <td>Action</td>\n",
       "      <td>R</td>\n",
       "      <td>181</td>\n",
       "    </tr>\n",
       "    <tr>\n",
       "      <th>Silence</th>\n",
       "      <td>story two catholic missionaries andrew garfiel...</td>\n",
       "      <td>Adventure</td>\n",
       "      <td>R</td>\n",
       "      <td>176</td>\n",
       "    </tr>\n",
       "    <tr>\n",
       "      <th>Manchester by the Sea</th>\n",
       "      <td>lee chandler brooding irritable loner works ha...</td>\n",
       "      <td>Drama</td>\n",
       "      <td>R</td>\n",
       "      <td>294</td>\n",
       "    </tr>\n",
       "    <tr>\n",
       "      <th>Dirty Grandpa</th>\n",
       "      <td>jason kelly grandson dick kelly loses grandmot...</td>\n",
       "      <td>Comedy</td>\n",
       "      <td>R</td>\n",
       "      <td>226</td>\n",
       "    </tr>\n",
       "    <tr>\n",
       "      <th>...</th>\n",
       "      <td>...</td>\n",
       "      <td>...</td>\n",
       "      <td>...</td>\n",
       "      <td>...</td>\n",
       "    </tr>\n",
       "    <tr>\n",
       "      <th>Hoosiers</th>\n",
       "      <td>based true story smalltown indiana team made s...</td>\n",
       "      <td>Drama</td>\n",
       "      <td>PG</td>\n",
       "      <td>165</td>\n",
       "    </tr>\n",
       "    <tr>\n",
       "      <th>Off Beat</th>\n",
       "      <td>traumatised paramedic looks woman dreams</td>\n",
       "      <td>Comedy</td>\n",
       "      <td>PG</td>\n",
       "      <td>40</td>\n",
       "    </tr>\n",
       "    <tr>\n",
       "      <th>Big Trouble in Little China</th>\n",
       "      <td>truck driver jack burton arrives chinatown san...</td>\n",
       "      <td>Action</td>\n",
       "      <td>PG-13</td>\n",
       "      <td>577</td>\n",
       "    </tr>\n",
       "    <tr>\n",
       "      <th>Biggles: Adventures in Time</th>\n",
       "      <td>one minute new yorker advertising expert jim f...</td>\n",
       "      <td>Adventure</td>\n",
       "      <td>PG</td>\n",
       "      <td>332</td>\n",
       "    </tr>\n",
       "    <tr>\n",
       "      <th>Soul Man</th>\n",
       "      <td>mark doesnt expect problems going college frie...</td>\n",
       "      <td>Comedy</td>\n",
       "      <td>PG-13</td>\n",
       "      <td>436</td>\n",
       "    </tr>\n",
       "  </tbody>\n",
       "</table>\n",
       "<p>6234 rows × 4 columns</p>\n",
       "</div>"
      ],
      "text/plain": [
       "                                                                          plot  \\\n",
       "name                                                                             \n",
       "Doctor Strange               marvels doctor strange follows story talented ...   \n",
       "Sleight                      young street magician jacob latimore left care...   \n",
       "Silence                      story two catholic missionaries andrew garfiel...   \n",
       "Manchester by the Sea        lee chandler brooding irritable loner works ha...   \n",
       "Dirty Grandpa                jason kelly grandson dick kelly loses grandmot...   \n",
       "...                                                                        ...   \n",
       "Hoosiers                     based true story smalltown indiana team made s...   \n",
       "Off Beat                              traumatised paramedic looks woman dreams   \n",
       "Big Trouble in Little China  truck driver jack burton arrives chinatown san...   \n",
       "Biggles: Adventures in Time  one minute new yorker advertising expert jim f...   \n",
       "Soul Man                     mark doesnt expect problems going college frie...   \n",
       "\n",
       "                            genre_kaggle rating  plot_len  \n",
       "name                                                       \n",
       "Doctor Strange                    Action  PG-13       365  \n",
       "Sleight                           Action      R       181  \n",
       "Silence                        Adventure      R       176  \n",
       "Manchester by the Sea              Drama      R       294  \n",
       "Dirty Grandpa                     Comedy      R       226  \n",
       "...                                  ...    ...       ...  \n",
       "Hoosiers                           Drama     PG       165  \n",
       "Off Beat                          Comedy     PG        40  \n",
       "Big Trouble in Little China       Action  PG-13       577  \n",
       "Biggles: Adventures in Time    Adventure     PG       332  \n",
       "Soul Man                          Comedy  PG-13       436  \n",
       "\n",
       "[6234 rows x 4 columns]"
      ]
     },
     "execution_count": 12,
     "metadata": {},
     "output_type": "execute_result"
    }
   ],
   "source": [
    "df"
   ]
  },
  {
   "cell_type": "markdown",
   "metadata": {},
   "source": [
    "### Encode Ratings Label"
   ]
  },
  {
   "cell_type": "code",
   "execution_count": 13,
   "metadata": {},
   "outputs": [
    {
     "name": "stderr",
     "output_type": "stream",
     "text": [
      "/opt/anaconda3/envs/PythonAdv/lib/python3.6/site-packages/ipykernel_launcher.py:8: SettingWithCopyWarning: \n",
      "A value is trying to be set on a copy of a slice from a DataFrame.\n",
      "Try using .loc[row_indexer,col_indexer] = value instead\n",
      "\n",
      "See the caveats in the documentation: https://pandas.pydata.org/pandas-docs/stable/user_guide/indexing.html#returning-a-view-versus-a-copy\n",
      "  \n"
     ]
    },
    {
     "data": {
      "text/html": [
       "<div>\n",
       "<style scoped>\n",
       "    .dataframe tbody tr th:only-of-type {\n",
       "        vertical-align: middle;\n",
       "    }\n",
       "\n",
       "    .dataframe tbody tr th {\n",
       "        vertical-align: top;\n",
       "    }\n",
       "\n",
       "    .dataframe thead th {\n",
       "        text-align: right;\n",
       "    }\n",
       "</style>\n",
       "<table border=\"1\" class=\"dataframe\">\n",
       "  <thead>\n",
       "    <tr style=\"text-align: right;\">\n",
       "      <th></th>\n",
       "      <th>plot</th>\n",
       "      <th>genre_kaggle</th>\n",
       "      <th>rating</th>\n",
       "      <th>plot_len</th>\n",
       "      <th>encoded_rating</th>\n",
       "    </tr>\n",
       "    <tr>\n",
       "      <th>name</th>\n",
       "      <th></th>\n",
       "      <th></th>\n",
       "      <th></th>\n",
       "      <th></th>\n",
       "      <th></th>\n",
       "    </tr>\n",
       "  </thead>\n",
       "  <tbody>\n",
       "    <tr>\n",
       "      <th>Doctor Strange</th>\n",
       "      <td>marvels doctor strange follows story talented ...</td>\n",
       "      <td>Action</td>\n",
       "      <td>PG-13</td>\n",
       "      <td>365</td>\n",
       "      <td>2</td>\n",
       "    </tr>\n",
       "    <tr>\n",
       "      <th>Sleight</th>\n",
       "      <td>young street magician jacob latimore left care...</td>\n",
       "      <td>Action</td>\n",
       "      <td>R</td>\n",
       "      <td>181</td>\n",
       "      <td>3</td>\n",
       "    </tr>\n",
       "    <tr>\n",
       "      <th>Silence</th>\n",
       "      <td>story two catholic missionaries andrew garfiel...</td>\n",
       "      <td>Adventure</td>\n",
       "      <td>R</td>\n",
       "      <td>176</td>\n",
       "      <td>3</td>\n",
       "    </tr>\n",
       "    <tr>\n",
       "      <th>Manchester by the Sea</th>\n",
       "      <td>lee chandler brooding irritable loner works ha...</td>\n",
       "      <td>Drama</td>\n",
       "      <td>R</td>\n",
       "      <td>294</td>\n",
       "      <td>3</td>\n",
       "    </tr>\n",
       "    <tr>\n",
       "      <th>Dirty Grandpa</th>\n",
       "      <td>jason kelly grandson dick kelly loses grandmot...</td>\n",
       "      <td>Comedy</td>\n",
       "      <td>R</td>\n",
       "      <td>226</td>\n",
       "      <td>3</td>\n",
       "    </tr>\n",
       "  </tbody>\n",
       "</table>\n",
       "</div>"
      ],
      "text/plain": [
       "                                                                    plot  \\\n",
       "name                                                                       \n",
       "Doctor Strange         marvels doctor strange follows story talented ...   \n",
       "Sleight                young street magician jacob latimore left care...   \n",
       "Silence                story two catholic missionaries andrew garfiel...   \n",
       "Manchester by the Sea  lee chandler brooding irritable loner works ha...   \n",
       "Dirty Grandpa          jason kelly grandson dick kelly loses grandmot...   \n",
       "\n",
       "                      genre_kaggle rating  plot_len  encoded_rating  \n",
       "name                                                                 \n",
       "Doctor Strange              Action  PG-13       365               2  \n",
       "Sleight                     Action      R       181               3  \n",
       "Silence                  Adventure      R       176               3  \n",
       "Manchester by the Sea        Drama      R       294               3  \n",
       "Dirty Grandpa               Comedy      R       226               3  "
      ]
     },
     "execution_count": 13,
     "metadata": {},
     "output_type": "execute_result"
    }
   ],
   "source": [
    "# Import label encoder \n",
    "from sklearn import preprocessing\n",
    "\n",
    "# Set label encoder method to variable for use\n",
    "label_encoder = preprocessing.LabelEncoder()\n",
    "\n",
    "# Encode ratigs  \n",
    "df[\"encoded_rating\"] = label_encoder.fit_transform(df[\"rating\"]) \n",
    "df.head()"
   ]
  },
  {
   "cell_type": "code",
   "execution_count": 14,
   "metadata": {},
   "outputs": [
    {
     "name": "stdout",
     "output_type": "stream",
     "text": [
      "check encoding:\n",
      "---------------------------------------------------------------------------\n",
      "R        3261\n",
      "PG-13    1903\n",
      "PG        927\n",
      "G         143\n",
      "Name: rating, dtype: int64\n",
      "---------------------------------------------------------------------------\n",
      "3    3261\n",
      "2    1903\n",
      "1     927\n",
      "0     143\n",
      "Name: encoded_rating, dtype: int64\n"
     ]
    }
   ],
   "source": [
    "print(\"check encoding:\")\n",
    "print(\"---------------------------------------------------------------------------\")\n",
    "print(df.rating.value_counts())\n",
    "print(\"---------------------------------------------------------------------------\")\n",
    "print(df.encoded_rating.value_counts())"
   ]
  },
  {
   "cell_type": "markdown",
   "metadata": {},
   "source": [
    "### Encoding Genre and converting it into a matrix"
   ]
  },
  {
   "cell_type": "code",
   "execution_count": 15,
   "metadata": {},
   "outputs": [
    {
     "data": {
      "text/html": [
       "<div>\n",
       "<style scoped>\n",
       "    .dataframe tbody tr th:only-of-type {\n",
       "        vertical-align: middle;\n",
       "    }\n",
       "\n",
       "    .dataframe tbody tr th {\n",
       "        vertical-align: top;\n",
       "    }\n",
       "\n",
       "    .dataframe thead th {\n",
       "        text-align: right;\n",
       "    }\n",
       "</style>\n",
       "<table border=\"1\" class=\"dataframe\">\n",
       "  <thead>\n",
       "    <tr style=\"text-align: right;\">\n",
       "      <th></th>\n",
       "      <th>Action</th>\n",
       "      <th>Adventure</th>\n",
       "      <th>Animation</th>\n",
       "      <th>Biography</th>\n",
       "      <th>Comedy</th>\n",
       "      <th>Crime</th>\n",
       "      <th>Drama</th>\n",
       "      <th>Family</th>\n",
       "      <th>Fantasy</th>\n",
       "      <th>Horror</th>\n",
       "      <th>Musical</th>\n",
       "      <th>Mystery</th>\n",
       "      <th>Romance</th>\n",
       "      <th>Sci-Fi</th>\n",
       "      <th>Thriller</th>\n",
       "      <th>War</th>\n",
       "      <th>Western</th>\n",
       "    </tr>\n",
       "    <tr>\n",
       "      <th>name</th>\n",
       "      <th></th>\n",
       "      <th></th>\n",
       "      <th></th>\n",
       "      <th></th>\n",
       "      <th></th>\n",
       "      <th></th>\n",
       "      <th></th>\n",
       "      <th></th>\n",
       "      <th></th>\n",
       "      <th></th>\n",
       "      <th></th>\n",
       "      <th></th>\n",
       "      <th></th>\n",
       "      <th></th>\n",
       "      <th></th>\n",
       "      <th></th>\n",
       "      <th></th>\n",
       "    </tr>\n",
       "  </thead>\n",
       "  <tbody>\n",
       "    <tr>\n",
       "      <th>Doctor Strange</th>\n",
       "      <td>1</td>\n",
       "      <td>0</td>\n",
       "      <td>0</td>\n",
       "      <td>0</td>\n",
       "      <td>0</td>\n",
       "      <td>0</td>\n",
       "      <td>0</td>\n",
       "      <td>0</td>\n",
       "      <td>0</td>\n",
       "      <td>0</td>\n",
       "      <td>0</td>\n",
       "      <td>0</td>\n",
       "      <td>0</td>\n",
       "      <td>0</td>\n",
       "      <td>0</td>\n",
       "      <td>0</td>\n",
       "      <td>0</td>\n",
       "    </tr>\n",
       "    <tr>\n",
       "      <th>Sleight</th>\n",
       "      <td>1</td>\n",
       "      <td>0</td>\n",
       "      <td>0</td>\n",
       "      <td>0</td>\n",
       "      <td>0</td>\n",
       "      <td>0</td>\n",
       "      <td>0</td>\n",
       "      <td>0</td>\n",
       "      <td>0</td>\n",
       "      <td>0</td>\n",
       "      <td>0</td>\n",
       "      <td>0</td>\n",
       "      <td>0</td>\n",
       "      <td>0</td>\n",
       "      <td>0</td>\n",
       "      <td>0</td>\n",
       "      <td>0</td>\n",
       "    </tr>\n",
       "    <tr>\n",
       "      <th>Silence</th>\n",
       "      <td>0</td>\n",
       "      <td>1</td>\n",
       "      <td>0</td>\n",
       "      <td>0</td>\n",
       "      <td>0</td>\n",
       "      <td>0</td>\n",
       "      <td>0</td>\n",
       "      <td>0</td>\n",
       "      <td>0</td>\n",
       "      <td>0</td>\n",
       "      <td>0</td>\n",
       "      <td>0</td>\n",
       "      <td>0</td>\n",
       "      <td>0</td>\n",
       "      <td>0</td>\n",
       "      <td>0</td>\n",
       "      <td>0</td>\n",
       "    </tr>\n",
       "  </tbody>\n",
       "</table>\n",
       "</div>"
      ],
      "text/plain": [
       "                Action  Adventure  Animation  Biography  Comedy  Crime  Drama  \\\n",
       "name                                                                            \n",
       "Doctor Strange       1          0          0          0       0      0      0   \n",
       "Sleight              1          0          0          0       0      0      0   \n",
       "Silence              0          1          0          0       0      0      0   \n",
       "\n",
       "                Family  Fantasy  Horror  Musical  Mystery  Romance  Sci-Fi  \\\n",
       "name                                                                         \n",
       "Doctor Strange       0        0       0        0        0        0       0   \n",
       "Sleight              0        0       0        0        0        0       0   \n",
       "Silence              0        0       0        0        0        0       0   \n",
       "\n",
       "                Thriller  War  Western  \n",
       "name                                    \n",
       "Doctor Strange         0    0        0  \n",
       "Sleight                0    0        0  \n",
       "Silence                0    0        0  "
      ]
     },
     "execution_count": 15,
     "metadata": {},
     "output_type": "execute_result"
    }
   ],
   "source": [
    "genres = pd.get_dummies(df[\"genre_kaggle\"])  # one hot encoding genres\n",
    "genres.head(3)"
   ]
  },
  {
   "cell_type": "code",
   "execution_count": 16,
   "metadata": {},
   "outputs": [
    {
     "data": {
      "text/html": [
       "<div>\n",
       "<style scoped>\n",
       "    .dataframe tbody tr th:only-of-type {\n",
       "        vertical-align: middle;\n",
       "    }\n",
       "\n",
       "    .dataframe tbody tr th {\n",
       "        vertical-align: top;\n",
       "    }\n",
       "\n",
       "    .dataframe thead th {\n",
       "        text-align: right;\n",
       "    }\n",
       "</style>\n",
       "<table border=\"1\" class=\"dataframe\">\n",
       "  <thead>\n",
       "    <tr style=\"text-align: right;\">\n",
       "      <th></th>\n",
       "      <th>plot</th>\n",
       "      <th>genre_kaggle</th>\n",
       "      <th>rating</th>\n",
       "      <th>plot_len</th>\n",
       "      <th>encoded_rating</th>\n",
       "      <th>Action</th>\n",
       "      <th>Adventure</th>\n",
       "      <th>Animation</th>\n",
       "      <th>Biography</th>\n",
       "      <th>Comedy</th>\n",
       "      <th>...</th>\n",
       "      <th>Family</th>\n",
       "      <th>Fantasy</th>\n",
       "      <th>Horror</th>\n",
       "      <th>Musical</th>\n",
       "      <th>Mystery</th>\n",
       "      <th>Romance</th>\n",
       "      <th>Sci-Fi</th>\n",
       "      <th>Thriller</th>\n",
       "      <th>War</th>\n",
       "      <th>Western</th>\n",
       "    </tr>\n",
       "    <tr>\n",
       "      <th>name</th>\n",
       "      <th></th>\n",
       "      <th></th>\n",
       "      <th></th>\n",
       "      <th></th>\n",
       "      <th></th>\n",
       "      <th></th>\n",
       "      <th></th>\n",
       "      <th></th>\n",
       "      <th></th>\n",
       "      <th></th>\n",
       "      <th></th>\n",
       "      <th></th>\n",
       "      <th></th>\n",
       "      <th></th>\n",
       "      <th></th>\n",
       "      <th></th>\n",
       "      <th></th>\n",
       "      <th></th>\n",
       "      <th></th>\n",
       "      <th></th>\n",
       "      <th></th>\n",
       "    </tr>\n",
       "  </thead>\n",
       "  <tbody>\n",
       "    <tr>\n",
       "      <th>Doctor Strange</th>\n",
       "      <td>marvels doctor strange follows story talented ...</td>\n",
       "      <td>Action</td>\n",
       "      <td>PG-13</td>\n",
       "      <td>365</td>\n",
       "      <td>2</td>\n",
       "      <td>1</td>\n",
       "      <td>0</td>\n",
       "      <td>0</td>\n",
       "      <td>0</td>\n",
       "      <td>0</td>\n",
       "      <td>...</td>\n",
       "      <td>0</td>\n",
       "      <td>0</td>\n",
       "      <td>0</td>\n",
       "      <td>0</td>\n",
       "      <td>0</td>\n",
       "      <td>0</td>\n",
       "      <td>0</td>\n",
       "      <td>0</td>\n",
       "      <td>0</td>\n",
       "      <td>0</td>\n",
       "    </tr>\n",
       "    <tr>\n",
       "      <th>Sleight</th>\n",
       "      <td>young street magician jacob latimore left care...</td>\n",
       "      <td>Action</td>\n",
       "      <td>R</td>\n",
       "      <td>181</td>\n",
       "      <td>3</td>\n",
       "      <td>1</td>\n",
       "      <td>0</td>\n",
       "      <td>0</td>\n",
       "      <td>0</td>\n",
       "      <td>0</td>\n",
       "      <td>...</td>\n",
       "      <td>0</td>\n",
       "      <td>0</td>\n",
       "      <td>0</td>\n",
       "      <td>0</td>\n",
       "      <td>0</td>\n",
       "      <td>0</td>\n",
       "      <td>0</td>\n",
       "      <td>0</td>\n",
       "      <td>0</td>\n",
       "      <td>0</td>\n",
       "    </tr>\n",
       "  </tbody>\n",
       "</table>\n",
       "<p>2 rows × 22 columns</p>\n",
       "</div>"
      ],
      "text/plain": [
       "                                                             plot  \\\n",
       "name                                                                \n",
       "Doctor Strange  marvels doctor strange follows story talented ...   \n",
       "Sleight         young street magician jacob latimore left care...   \n",
       "\n",
       "               genre_kaggle rating  plot_len  encoded_rating  Action  \\\n",
       "name                                                                   \n",
       "Doctor Strange       Action  PG-13       365               2       1   \n",
       "Sleight              Action      R       181               3       1   \n",
       "\n",
       "                Adventure  Animation  Biography  Comedy  ...  Family  Fantasy  \\\n",
       "name                                                     ...                    \n",
       "Doctor Strange          0          0          0       0  ...       0        0   \n",
       "Sleight                 0          0          0       0  ...       0        0   \n",
       "\n",
       "                Horror  Musical  Mystery  Romance  Sci-Fi  Thriller  War  \\\n",
       "name                                                                       \n",
       "Doctor Strange       0        0        0        0       0         0    0   \n",
       "Sleight              0        0        0        0       0         0    0   \n",
       "\n",
       "                Western  \n",
       "name                     \n",
       "Doctor Strange        0  \n",
       "Sleight               0  \n",
       "\n",
       "[2 rows x 22 columns]"
      ]
     },
     "execution_count": 16,
     "metadata": {},
     "output_type": "execute_result"
    }
   ],
   "source": [
    "clean_df = pd.merge(df, genres, how = \"left\", on = \"name\")\n",
    "clean_df.head(2)\n",
    "# import scipy\n",
    "# from scipy.sparse import csr_matrix\n",
    "# genres_mat = scipy.sparse.csr_matrix(genres.values)\n",
    "# genres_mat"
   ]
  },
  {
   "cell_type": "markdown",
   "metadata": {},
   "source": [
    "## Split Data"
   ]
  },
  {
   "cell_type": "code",
   "execution_count": 17,
   "metadata": {},
   "outputs": [
    {
     "data": {
      "text/html": [
       "<div>\n",
       "<style scoped>\n",
       "    .dataframe tbody tr th:only-of-type {\n",
       "        vertical-align: middle;\n",
       "    }\n",
       "\n",
       "    .dataframe tbody tr th {\n",
       "        vertical-align: top;\n",
       "    }\n",
       "\n",
       "    .dataframe thead th {\n",
       "        text-align: right;\n",
       "    }\n",
       "</style>\n",
       "<table border=\"1\" class=\"dataframe\">\n",
       "  <thead>\n",
       "    <tr style=\"text-align: right;\">\n",
       "      <th></th>\n",
       "      <th>plot</th>\n",
       "      <th>plot_len</th>\n",
       "      <th>Action</th>\n",
       "      <th>Adventure</th>\n",
       "      <th>Animation</th>\n",
       "      <th>Biography</th>\n",
       "      <th>Comedy</th>\n",
       "      <th>Crime</th>\n",
       "      <th>Drama</th>\n",
       "      <th>Family</th>\n",
       "      <th>Fantasy</th>\n",
       "      <th>Horror</th>\n",
       "      <th>Musical</th>\n",
       "      <th>Mystery</th>\n",
       "      <th>Romance</th>\n",
       "      <th>Sci-Fi</th>\n",
       "      <th>Thriller</th>\n",
       "      <th>War</th>\n",
       "      <th>Western</th>\n",
       "    </tr>\n",
       "    <tr>\n",
       "      <th>name</th>\n",
       "      <th></th>\n",
       "      <th></th>\n",
       "      <th></th>\n",
       "      <th></th>\n",
       "      <th></th>\n",
       "      <th></th>\n",
       "      <th></th>\n",
       "      <th></th>\n",
       "      <th></th>\n",
       "      <th></th>\n",
       "      <th></th>\n",
       "      <th></th>\n",
       "      <th></th>\n",
       "      <th></th>\n",
       "      <th></th>\n",
       "      <th></th>\n",
       "      <th></th>\n",
       "      <th></th>\n",
       "      <th></th>\n",
       "    </tr>\n",
       "  </thead>\n",
       "  <tbody>\n",
       "    <tr>\n",
       "      <th>Hard Promises</th>\n",
       "      <td>man doesnt like stable work environments away ...</td>\n",
       "      <td>262</td>\n",
       "      <td>0</td>\n",
       "      <td>0</td>\n",
       "      <td>0</td>\n",
       "      <td>0</td>\n",
       "      <td>1</td>\n",
       "      <td>0</td>\n",
       "      <td>0</td>\n",
       "      <td>0</td>\n",
       "      <td>0</td>\n",
       "      <td>0</td>\n",
       "      <td>0</td>\n",
       "      <td>0</td>\n",
       "      <td>0</td>\n",
       "      <td>0</td>\n",
       "      <td>0</td>\n",
       "      <td>0</td>\n",
       "      <td>0</td>\n",
       "    </tr>\n",
       "    <tr>\n",
       "      <th>El juego del miedo VI</th>\n",
       "      <td></td>\n",
       "      <td>0</td>\n",
       "      <td>0</td>\n",
       "      <td>0</td>\n",
       "      <td>0</td>\n",
       "      <td>0</td>\n",
       "      <td>0</td>\n",
       "      <td>0</td>\n",
       "      <td>0</td>\n",
       "      <td>0</td>\n",
       "      <td>0</td>\n",
       "      <td>1</td>\n",
       "      <td>0</td>\n",
       "      <td>0</td>\n",
       "      <td>0</td>\n",
       "      <td>0</td>\n",
       "      <td>0</td>\n",
       "      <td>0</td>\n",
       "      <td>0</td>\n",
       "    </tr>\n",
       "    <tr>\n",
       "      <th>A.I. Artificial Intelligence</th>\n",
       "      <td>notsofar future polar ice caps melted resultin...</td>\n",
       "      <td>518</td>\n",
       "      <td>0</td>\n",
       "      <td>1</td>\n",
       "      <td>0</td>\n",
       "      <td>0</td>\n",
       "      <td>0</td>\n",
       "      <td>0</td>\n",
       "      <td>0</td>\n",
       "      <td>0</td>\n",
       "      <td>0</td>\n",
       "      <td>0</td>\n",
       "      <td>0</td>\n",
       "      <td>0</td>\n",
       "      <td>0</td>\n",
       "      <td>0</td>\n",
       "      <td>0</td>\n",
       "      <td>0</td>\n",
       "      <td>0</td>\n",
       "    </tr>\n",
       "    <tr>\n",
       "      <th>Rapsodia en agosto</th>\n",
       "      <td></td>\n",
       "      <td>0</td>\n",
       "      <td>0</td>\n",
       "      <td>0</td>\n",
       "      <td>0</td>\n",
       "      <td>0</td>\n",
       "      <td>0</td>\n",
       "      <td>0</td>\n",
       "      <td>1</td>\n",
       "      <td>0</td>\n",
       "      <td>0</td>\n",
       "      <td>0</td>\n",
       "      <td>0</td>\n",
       "      <td>0</td>\n",
       "      <td>0</td>\n",
       "      <td>0</td>\n",
       "      <td>0</td>\n",
       "      <td>0</td>\n",
       "      <td>0</td>\n",
       "    </tr>\n",
       "    <tr>\n",
       "      <th>That Awkward Moment</th>\n",
       "      <td>jason dumped didnt even realize going meanwhil...</td>\n",
       "      <td>356</td>\n",
       "      <td>0</td>\n",
       "      <td>0</td>\n",
       "      <td>0</td>\n",
       "      <td>0</td>\n",
       "      <td>1</td>\n",
       "      <td>0</td>\n",
       "      <td>0</td>\n",
       "      <td>0</td>\n",
       "      <td>0</td>\n",
       "      <td>0</td>\n",
       "      <td>0</td>\n",
       "      <td>0</td>\n",
       "      <td>0</td>\n",
       "      <td>0</td>\n",
       "      <td>0</td>\n",
       "      <td>0</td>\n",
       "      <td>0</td>\n",
       "    </tr>\n",
       "    <tr>\n",
       "      <th>...</th>\n",
       "      <td>...</td>\n",
       "      <td>...</td>\n",
       "      <td>...</td>\n",
       "      <td>...</td>\n",
       "      <td>...</td>\n",
       "      <td>...</td>\n",
       "      <td>...</td>\n",
       "      <td>...</td>\n",
       "      <td>...</td>\n",
       "      <td>...</td>\n",
       "      <td>...</td>\n",
       "      <td>...</td>\n",
       "      <td>...</td>\n",
       "      <td>...</td>\n",
       "      <td>...</td>\n",
       "      <td>...</td>\n",
       "      <td>...</td>\n",
       "      <td>...</td>\n",
       "      <td>...</td>\n",
       "    </tr>\n",
       "    <tr>\n",
       "      <th>Permanent Midnight</th>\n",
       "      <td>comedy writer jerry stahl whose 6000aweek hero...</td>\n",
       "      <td>404</td>\n",
       "      <td>0</td>\n",
       "      <td>0</td>\n",
       "      <td>0</td>\n",
       "      <td>1</td>\n",
       "      <td>0</td>\n",
       "      <td>0</td>\n",
       "      <td>0</td>\n",
       "      <td>0</td>\n",
       "      <td>0</td>\n",
       "      <td>0</td>\n",
       "      <td>0</td>\n",
       "      <td>0</td>\n",
       "      <td>0</td>\n",
       "      <td>0</td>\n",
       "      <td>0</td>\n",
       "      <td>0</td>\n",
       "      <td>0</td>\n",
       "    </tr>\n",
       "    <tr>\n",
       "      <th>True Identity</th>\n",
       "      <td>true identity comedy black actor named miles p...</td>\n",
       "      <td>532</td>\n",
       "      <td>0</td>\n",
       "      <td>0</td>\n",
       "      <td>0</td>\n",
       "      <td>0</td>\n",
       "      <td>1</td>\n",
       "      <td>0</td>\n",
       "      <td>0</td>\n",
       "      <td>0</td>\n",
       "      <td>0</td>\n",
       "      <td>0</td>\n",
       "      <td>0</td>\n",
       "      <td>0</td>\n",
       "      <td>0</td>\n",
       "      <td>0</td>\n",
       "      <td>0</td>\n",
       "      <td>0</td>\n",
       "      <td>0</td>\n",
       "    </tr>\n",
       "    <tr>\n",
       "      <th>Love &amp; Murder</th>\n",
       "      <td>murphy american living paris enters highly sex...</td>\n",
       "      <td>147</td>\n",
       "      <td>0</td>\n",
       "      <td>0</td>\n",
       "      <td>0</td>\n",
       "      <td>0</td>\n",
       "      <td>0</td>\n",
       "      <td>1</td>\n",
       "      <td>0</td>\n",
       "      <td>0</td>\n",
       "      <td>0</td>\n",
       "      <td>0</td>\n",
       "      <td>0</td>\n",
       "      <td>0</td>\n",
       "      <td>0</td>\n",
       "      <td>0</td>\n",
       "      <td>0</td>\n",
       "      <td>0</td>\n",
       "      <td>0</td>\n",
       "    </tr>\n",
       "    <tr>\n",
       "      <th>Die Hard 2</th>\n",
       "      <td>terrifying events la john mcclane willis go te...</td>\n",
       "      <td>295</td>\n",
       "      <td>1</td>\n",
       "      <td>0</td>\n",
       "      <td>0</td>\n",
       "      <td>0</td>\n",
       "      <td>0</td>\n",
       "      <td>0</td>\n",
       "      <td>0</td>\n",
       "      <td>0</td>\n",
       "      <td>0</td>\n",
       "      <td>0</td>\n",
       "      <td>0</td>\n",
       "      <td>0</td>\n",
       "      <td>0</td>\n",
       "      <td>0</td>\n",
       "      <td>0</td>\n",
       "      <td>0</td>\n",
       "      <td>0</td>\n",
       "    </tr>\n",
       "    <tr>\n",
       "      <th>What to Expect When You're Expecting</th>\n",
       "      <td>five couples intertwined lives turned upside c...</td>\n",
       "      <td>691</td>\n",
       "      <td>0</td>\n",
       "      <td>0</td>\n",
       "      <td>0</td>\n",
       "      <td>0</td>\n",
       "      <td>1</td>\n",
       "      <td>0</td>\n",
       "      <td>0</td>\n",
       "      <td>0</td>\n",
       "      <td>0</td>\n",
       "      <td>0</td>\n",
       "      <td>0</td>\n",
       "      <td>0</td>\n",
       "      <td>0</td>\n",
       "      <td>0</td>\n",
       "      <td>0</td>\n",
       "      <td>0</td>\n",
       "      <td>0</td>\n",
       "    </tr>\n",
       "  </tbody>\n",
       "</table>\n",
       "<p>4675 rows × 19 columns</p>\n",
       "</div>"
      ],
      "text/plain": [
       "                                                                                   plot  \\\n",
       "name                                                                                      \n",
       "Hard Promises                         man doesnt like stable work environments away ...   \n",
       "El juego del miedo VI                                                                     \n",
       "A.I. Artificial Intelligence          notsofar future polar ice caps melted resultin...   \n",
       "Rapsodia en agosto                                                                        \n",
       "That Awkward Moment                   jason dumped didnt even realize going meanwhil...   \n",
       "...                                                                                 ...   \n",
       "Permanent Midnight                    comedy writer jerry stahl whose 6000aweek hero...   \n",
       "True Identity                         true identity comedy black actor named miles p...   \n",
       "Love & Murder                         murphy american living paris enters highly sex...   \n",
       "Die Hard 2                            terrifying events la john mcclane willis go te...   \n",
       "What to Expect When You're Expecting  five couples intertwined lives turned upside c...   \n",
       "\n",
       "                                      plot_len  Action  Adventure  Animation  \\\n",
       "name                                                                           \n",
       "Hard Promises                              262       0          0          0   \n",
       "El juego del miedo VI                        0       0          0          0   \n",
       "A.I. Artificial Intelligence               518       0          1          0   \n",
       "Rapsodia en agosto                           0       0          0          0   \n",
       "That Awkward Moment                        356       0          0          0   \n",
       "...                                        ...     ...        ...        ...   \n",
       "Permanent Midnight                         404       0          0          0   \n",
       "True Identity                              532       0          0          0   \n",
       "Love & Murder                              147       0          0          0   \n",
       "Die Hard 2                                 295       1          0          0   \n",
       "What to Expect When You're Expecting       691       0          0          0   \n",
       "\n",
       "                                      Biography  Comedy  Crime  Drama  Family  \\\n",
       "name                                                                            \n",
       "Hard Promises                                 0       1      0      0       0   \n",
       "El juego del miedo VI                         0       0      0      0       0   \n",
       "A.I. Artificial Intelligence                  0       0      0      0       0   \n",
       "Rapsodia en agosto                            0       0      0      1       0   \n",
       "That Awkward Moment                           0       1      0      0       0   \n",
       "...                                         ...     ...    ...    ...     ...   \n",
       "Permanent Midnight                            1       0      0      0       0   \n",
       "True Identity                                 0       1      0      0       0   \n",
       "Love & Murder                                 0       0      1      0       0   \n",
       "Die Hard 2                                    0       0      0      0       0   \n",
       "What to Expect When You're Expecting          0       1      0      0       0   \n",
       "\n",
       "                                      Fantasy  Horror  Musical  Mystery  \\\n",
       "name                                                                      \n",
       "Hard Promises                               0       0        0        0   \n",
       "El juego del miedo VI                       0       1        0        0   \n",
       "A.I. Artificial Intelligence                0       0        0        0   \n",
       "Rapsodia en agosto                          0       0        0        0   \n",
       "That Awkward Moment                         0       0        0        0   \n",
       "...                                       ...     ...      ...      ...   \n",
       "Permanent Midnight                          0       0        0        0   \n",
       "True Identity                               0       0        0        0   \n",
       "Love & Murder                               0       0        0        0   \n",
       "Die Hard 2                                  0       0        0        0   \n",
       "What to Expect When You're Expecting        0       0        0        0   \n",
       "\n",
       "                                      Romance  Sci-Fi  Thriller  War  Western  \n",
       "name                                                                           \n",
       "Hard Promises                               0       0         0    0        0  \n",
       "El juego del miedo VI                       0       0         0    0        0  \n",
       "A.I. Artificial Intelligence                0       0         0    0        0  \n",
       "Rapsodia en agosto                          0       0         0    0        0  \n",
       "That Awkward Moment                         0       0         0    0        0  \n",
       "...                                       ...     ...       ...  ...      ...  \n",
       "Permanent Midnight                          0       0         0    0        0  \n",
       "True Identity                               0       0         0    0        0  \n",
       "Love & Murder                               0       0         0    0        0  \n",
       "Die Hard 2                                  0       0         0    0        0  \n",
       "What to Expect When You're Expecting        0       0         0    0        0  \n",
       "\n",
       "[4675 rows x 19 columns]"
      ]
     },
     "execution_count": 17,
     "metadata": {},
     "output_type": "execute_result"
    }
   ],
   "source": [
    "from sklearn.model_selection import train_test_split\n",
    "X = clean_df.drop(columns = [\"genre_kaggle\",\"rating\",\"encoded_rating\"])\n",
    "y = clean_df[\"encoded_rating\"]\n",
    "\n",
    "X_train, X_test, y_train, y_test = train_test_split(X, y, random_state=42)\n",
    "X_train"
   ]
  },
  {
   "cell_type": "markdown",
   "metadata": {},
   "source": [
    "## Tokenization"
   ]
  },
  {
   "cell_type": "code",
   "execution_count": 18,
   "metadata": {},
   "outputs": [
    {
     "name": "stdout",
     "output_type": "stream",
     "text": [
      "------------------------------\n",
      "Type: <class 'scipy.sparse.csr.csr_matrix'>\n",
      "Shape : (4675, 1048576)\n",
      "------------------------------\n",
      "See one vector to check: \n",
      "\n",
      "  (0, 1044795)\t0.10361481633509335\n",
      "  (0, 1044318)\t-0.17549910565821986\n",
      "  (0, 1028871)\t0.15707370587907726\n",
      "  (0, 1010002)\t-0.1619488799539372\n",
      "  (0, 1001111)\t0.1337860746505659\n",
      "  (0, 975831)\t-0.1209499933999824\n",
      "  (0, 949757)\t0.13072960783981136\n",
      "  (0, 908475)\t-0.13922920435904731\n",
      "  (0, 887334)\t0.1270705232053098\n",
      "  (0, 865698)\t0.09296541413390898\n",
      "  (0, 831271)\t-0.11769624496172522\n",
      "  (0, 825537)\t-0.21495024447831454\n",
      "  (0, 759455)\t-0.12566402633387508\n",
      "  (0, 745451)\t-0.10215634114079349\n",
      "  (0, 588962)\t-0.12566402633387508\n",
      "  (0, 585652)\t0.14030955265068806\n",
      "  (0, 524212)\t0.13697636854413842\n",
      "  (0, 518913)\t0.11685527962923703\n",
      "  (0, 484920)\t-0.0988994980624522\n",
      "  (0, 467032)\t0.12001801523043129\n",
      "  (0, 416002)\t0.201501654078737\n",
      "  (0, 351030)\t-0.22016549762621118\n",
      "  (0, 323739)\t-0.197138432961469\n",
      "  (0, 303493)\t0.11644314228811156\n",
      "  (0, 242749)\t0.16151224416240248\n",
      "  :\t:\n",
      "  (4674, 271848)\t-0.10973378832108943\n",
      "  (4674, 271701)\t0.08050191936019528\n",
      "  (4674, 241269)\t-0.05330518079793617\n",
      "  (4674, 237243)\t-0.10895935327951276\n",
      "  (4674, 234970)\t0.07502844277025386\n",
      "  (4674, 234158)\t0.13698817994901247\n",
      "  (4674, 227230)\t0.0744435826514527\n",
      "  (4674, 223627)\t0.1054686771984776\n",
      "  (4674, 210078)\t0.08352404569220036\n",
      "  (4674, 203718)\t-0.12265447358739097\n",
      "  (4674, 199353)\t-0.08936214913187536\n",
      "  (4674, 170522)\t-0.07761463654862481\n",
      "  (4674, 131620)\t0.12265447358739097\n",
      "  (4674, 127771)\t0.0827730285460807\n",
      "  (4674, 120741)\t0.07458776050168602\n",
      "  (4674, 96592)\t-0.08899405718388549\n",
      "  (4674, 76299)\t-0.09012538274563191\n",
      "  (4674, 76282)\t-0.05545253636043862\n",
      "  (4674, 72847)\t0.10096841302621826\n",
      "  (4674, 67719)\t0.13064541384068545\n",
      "  (4674, 49119)\t-0.2206409768701935\n",
      "  (4674, 9241)\t-0.13064541384068545\n",
      "  (4674, 8333)\t-0.07205269054945808\n",
      "  (4674, 6035)\t0.07833399022894201\n",
      "  (4674, 911)\t0.12265447358739097\n"
     ]
    }
   ],
   "source": [
    "from sklearn.feature_extraction.text import HashingVectorizer\n",
    "from sklearn.feature_extraction.text import TfidfTransformer\n",
    "\n",
    "# hash plot\n",
    "cv = HashingVectorizer().fit(X_train[\"plot\"])\n",
    "X_train_counts = cv.transform(X_train[\"plot\"])\n",
    "X_test_counts = cv.transform(X_test[\"plot\"])\n",
    "\n",
    "# pass the hashed vector through a tfidf transformer\n",
    "tf_transformer = TfidfTransformer(use_idf=True).fit(X_train_counts)\n",
    "X_train_tfidf = tf_transformer.transform(X_train_counts)\n",
    "X_test_tfidf = tf_transformer.transform(X_test_counts)\n",
    "\n",
    "print(\"------------------------------\")\n",
    "print(f\"Type: {type(X_train_tfidf)}\")\n",
    "print(f\"Shape : {X_train_tfidf.shape}\")\n",
    "print(\"------------------------------\")\n",
    "print(\"See one vector to check: \\n\")\n",
    "print(X_train_tfidf)"
   ]
  },
  {
   "cell_type": "code",
   "execution_count": 19,
   "metadata": {},
   "outputs": [
    {
     "data": {
      "text/plain": [
       "matrix([[0, 0, 0, ..., 0, 0, 0],\n",
       "        [0, 0, 0, ..., 0, 0, 0],\n",
       "        [0, 1, 0, ..., 0, 0, 0],\n",
       "        ...,\n",
       "        [0, 0, 0, ..., 0, 0, 0],\n",
       "        [1, 0, 0, ..., 0, 0, 0],\n",
       "        [0, 0, 0, ..., 0, 0, 0]], dtype=uint8)"
      ]
     },
     "execution_count": 19,
     "metadata": {},
     "output_type": "execute_result"
    }
   ],
   "source": [
    "#create matrix with other features data\n",
    "\n",
    "import numpy as np\n",
    "from scipy.sparse import csr_matrix\n",
    "\n",
    "# X_train_extra_features_mat = csr_matrix(X_train.drop(columns=[\"plot\"])) #run these lines to include plot len\n",
    "# X_test_extra_features_mat = csr_matrix(X_test.drop(columns=[\"plot\"])) #run these lines to include plot len\n",
    "X_train_extra_features_mat = csr_matrix(X_train.drop(columns=[\"plot\", \"plot_len\"]))\n",
    "X_test_extra_features_mat = csr_matrix(X_test.drop(columns=[\"plot\", \"plot_len\"]))\n",
    "X_train_extra_features_mat.todense()"
   ]
  },
  {
   "cell_type": "code",
   "execution_count": 20,
   "metadata": {},
   "outputs": [
    {
     "name": "stdout",
     "output_type": "stream",
     "text": [
      "(4675, 1048593)\n",
      "(1559, 1048593)\n"
     ]
    }
   ],
   "source": [
    "#combine both matices \n",
    "from scipy.sparse import hstack\n",
    "\n",
    "X_train_full = hstack([X_train_tfidf, X_train_extra_features_mat])\n",
    "X_test_full = hstack([X_test_tfidf, X_test_extra_features_mat])\n",
    "\n",
    "print(X_train_full.shape)\n",
    "print(X_test_full.shape)"
   ]
  },
  {
   "cell_type": "markdown",
   "metadata": {},
   "source": [
    "### Train and Fit Model"
   ]
  },
  {
   "cell_type": "code",
   "execution_count": 21,
   "metadata": {},
   "outputs": [
    {
     "data": {
      "text/plain": [
       "SVC(kernel='linear')"
      ]
     },
     "execution_count": 21,
     "metadata": {},
     "output_type": "execute_result"
    }
   ],
   "source": [
    "\"\"\"\n",
    "with genres no balancing\n",
    "\"\"\"\n",
    "# Support vector machine linear classifier\n",
    "from sklearn.svm import SVC \n",
    "\n",
    "model = SVC(kernel='linear')\n",
    "model.fit(X_train_full, y_train)"
   ]
  },
  {
   "cell_type": "code",
   "execution_count": 22,
   "metadata": {},
   "outputs": [
    {
     "name": "stdout",
     "output_type": "stream",
     "text": [
      "              precision    recall  f1-score   support\n",
      "\n",
      "           G       1.00      0.03      0.05        38\n",
      "          PG       0.43      0.31      0.36       215\n",
      "       PG-13       0.48      0.29      0.36       489\n",
      "           R       0.62      0.84      0.71       817\n",
      "\n",
      "    accuracy                           0.58      1559\n",
      "   macro avg       0.63      0.37      0.37      1559\n",
      "weighted avg       0.56      0.58      0.54      1559\n",
      "\n"
     ]
    }
   ],
   "source": [
    "# Calculate classification report\n",
    "from sklearn.metrics import classification_report\n",
    "\n",
    "predictions = model.predict(X_test_full)\n",
    "target_names = [\"G\", \"PG\", \"PG-13\", \"R\"]\n",
    "print(classification_report(y_test, predictions,\n",
    "                            target_names=target_names))"
   ]
  },
  {
   "cell_type": "code",
   "execution_count": 23,
   "metadata": {},
   "outputs": [
    {
     "name": "stdout",
     "output_type": "stream",
     "text": [
      "              precision    recall  f1-score   support\n",
      "\n",
      "           G       0.46      0.47      0.47        38\n",
      "          PG       0.33      0.34      0.34       215\n",
      "       PG-13       0.43      0.55      0.48       489\n",
      "           R       0.71      0.58      0.64       817\n",
      "\n",
      "    accuracy                           0.54      1559\n",
      "   macro avg       0.48      0.49      0.48      1559\n",
      "weighted avg       0.56      0.54      0.54      1559\n",
      "\n"
     ]
    }
   ],
   "source": [
    "\"\"\"\n",
    "With genres with balancing\n",
    "\"\"\"\n",
    "#join ifidf vector and genre data\n",
    "\n",
    "\n",
    "# Support vector machine linear classifier\n",
    "from sklearn.svm import SVC \n",
    "model = SVC(kernel='linear',  class_weight='balanced')\n",
    "model.fit(X_train_full, y_train)\n",
    "\n",
    "# Calculate classification report\n",
    "from sklearn.metrics import classification_report\n",
    "target_names = [\"G\", \"PG\", \"PG-13\", \"R\"]\n",
    "predictions = model.predict(X_test_full)\n",
    "print(classification_report(y_test, predictions,\n",
    "                            target_names=target_names))"
   ]
  },
  {
   "cell_type": "code",
   "execution_count": 24,
   "metadata": {},
   "outputs": [
    {
     "name": "stdout",
     "output_type": "stream",
     "text": [
      "              precision    recall  f1-score   support\n",
      "\n",
      "           G       0.50      0.05      0.10        38\n",
      "          PG       0.31      0.31      0.31       215\n",
      "       PG-13       0.43      0.43      0.43       489\n",
      "           R       0.66      0.69      0.67       817\n",
      "\n",
      "    accuracy                           0.54      1559\n",
      "   macro avg       0.48      0.37      0.38      1559\n",
      "weighted avg       0.54      0.54      0.53      1559\n",
      "\n"
     ]
    }
   ],
   "source": [
    "\"\"\"\n",
    "without genre with balancing\n",
    "\"\"\"\n",
    "\n",
    "target_names = [\"G\", \"PG\", \"PG-13\", \"R\"]\n",
    "\n",
    "# Support vector machine linear classifier\n",
    "from sklearn.svm import SVC \n",
    "model = SVC(kernel='linear',  class_weight='balanced')\n",
    "model.fit(X_train_tfidf, y_train)\n",
    "\n",
    "# Calculate classification report\n",
    "from sklearn.metrics import classification_report\n",
    "predictions = model.predict(X_test_tfidf)\n",
    "print(classification_report(y_test, predictions,\n",
    "                            target_names=target_names))"
   ]
  },
  {
   "cell_type": "code",
   "execution_count": 25,
   "metadata": {},
   "outputs": [],
   "source": [
    "# from sklearn.model_selection import GridSearchCV\n",
    "# from sklearn.metrics import classification_report\n",
    "\n",
    "# target_names = [\"G\", \"PG\", \"PG-13\", \"R\"]\n",
    "\n",
    "\n",
    "# # Set the parameters by cross-validation\n",
    "# tuned_parameters = [{'kernel': ['rbf'], 'gamma': [1e-3, 1e-4],\n",
    "#                      'C': [1, 10, 100, 1000] },\n",
    "#                     {'kernel': ['linear'], 'C': [1, 10, 100, 1000]}]\n",
    "\n",
    "# scores = ['precision', 'recall']\n",
    "\n",
    "# for score in scores:\n",
    "#     print(\"# Tuning hyper-parameters for %s\" % score)\n",
    "#     print()\n",
    "\n",
    "#     clf = GridSearchCV(\n",
    "#         SVC(class_weight = \"balanced\"), tuned_parameters, scoring='%s_macro' % score\n",
    "#     )\n",
    "#     clf.fit(X_train_full, y_train)\n",
    "\n",
    "#     print(\"Best parameters set found on development set:\")\n",
    "#     print()\n",
    "#     print(clf.best_params_)\n",
    "#     print()\n",
    "#     print(\"Grid scores on development set:\")\n",
    "#     print()\n",
    "#     means = clf.cv_results_['mean_test_score']\n",
    "#     stds = clf.cv_results_['std_test_score']\n",
    "#     for mean, std, params in zip(means, stds, clf.cv_results_['params']):\n",
    "#         print(\"%0.3f (+/-%0.03f) for %r\"\n",
    "#               % (mean, std * 2, params))\n",
    "#     print()\n",
    "\n",
    "#     print(\"Detailed classification report:\")\n",
    "#     print()\n",
    "#     print(\"The model is trained on the full development set.\")\n",
    "#     print(\"The scores are computed on the full evaluation set.\")\n",
    "#     print()\n",
    "#     y_true, y_pred = y_test, clf.predict(X_test_full)\n",
    "#     print(classification_report(y_true, y_pred))\n",
    "#     print()"
   ]
  },
  {
   "cell_type": "code",
   "execution_count": 26,
   "metadata": {},
   "outputs": [
    {
     "data": {
      "image/png": "[encoded data removed]",
      "text/plain": [
       "<Figure size 1152x864 with 3 Axes>"
      ]
     },
     "metadata": {
      "needs_background": "light"
     },
     "output_type": "display_data"
    }
   ],
   "source": [
    "from sklearn.decomposition import PCA, TruncatedSVD\n",
    "import matplotlib.pyplot as plt\n",
    "\n",
    "import matplotlib \n",
    "import matplotlib.patches as mpatches\n",
    "\n",
    "\n",
    "# X_full = hstack([X_train_tfidf,genres_mat])\n",
    "# X_tfidf = hstack([train_tfidf])\n",
    "# y = ratings[\"encoded_rating\"]\n",
    "test_labels = [\"G\", \"PG\", \"PG-13\", \"R\"]\n",
    "\n",
    "def plot_LSA(test_data, test_labels, plot=True):\n",
    "    \"\"\"\n",
    "    This function first uses SK-Learn's truncated SVD (LSA) class to \n",
    "    transform the high dimensionality (number of columns) of the BoW \n",
    "    embedding down to 2 dimensions. Then the two dimensions are used\n",
    "    to plot each song, colored by the song writer (class).\n",
    "    \n",
    "    Inputs:\n",
    "        test_data (pd.DataFrame): BoW embeddings.\n",
    "        test_labels (pd.Series): In this case the songwriter of each\n",
    "        Beatles' song.\n",
    "        plot (boolean): Whether or not to plot. Defaults to True.\n",
    "    \n",
    "    Outputs:\n",
    "        None.\n",
    "    \"\"\"\n",
    "    \n",
    "    lsa = TruncatedSVD(n_components=2)\n",
    "    lsa.fit(test_data)\n",
    "    lsa_scores = lsa.transform(test_data)\n",
    "    color_mapper = {label:idx for idx,label in enumerate(set(test_labels))}\n",
    "    color_column = [color_mapper[label] for label in test_labels]\n",
    "    colors = ['blue','green','purple', 'red']\n",
    "    if plot:\n",
    "        plt.scatter(lsa_scores[:,0], lsa_scores[:,1], s=8, alpha=.8, c=test_labels, cmap=matplotlib.colors.ListedColormap(colors))\n",
    "        blue_patch = mpatches.Patch(color='blue', label='G')\n",
    "        green_patch = mpatches.Patch(color='green', label='PG')\n",
    "        purple_patch = mpatches.Patch(color='purple', label='PG-13')\n",
    "        orange_patch = mpatches.Patch(color='red', label='R')\n",
    "        plt.legend(handles=[blue_patch, green_patch, purple_patch, orange_patch], prop={'size': 18})\n",
    "        plt.xlabel('Principal Component One')\n",
    "        plt.ylabel('Principal Component Two')\n",
    "        plt.rcParams[\"xtick.labelsize\"] = 20\n",
    "        plt.rcParams[\"ytick.labelsize\"] = 20\n",
    "\n",
    "plt.figure(1, figsize=(16, 12))\n",
    "plt.subplot(3, 1, 1)\n",
    "plot_LSA(X_train_tfidf, y_train)\n",
    "plt.subplot(3, 1, 2)\n",
    "plot_LSA(X_train_extra_features_mat, y_train)\n",
    "plt.subplot(3, 1, 3)\n",
    "plot_LSA(X_train_full, y_train)\n",
    "\n"
   ]
  },
  {
   "cell_type": "markdown",
   "metadata": {},
   "source": [
    "## Export "
   ]
  },
  {
   "cell_type": "code",
   "execution_count": 28,
   "metadata": {},
   "outputs": [
    {
     "data": {
      "text/plain": [
       "['../saved_models/ratings_SVM_classifier.sav']"
      ]
     },
     "execution_count": 28,
     "metadata": {},
     "output_type": "execute_result"
    }
   ],
   "source": [
    "import joblib\n",
    "\n",
    "\n",
    "best_model = SVC(kernel='linear',  class_weight='balanced')\n",
    "best_model.fit(X_train_full, y_train)\n",
    "\n",
    "filename = os.path.join(\n",
    "    \"..\", \"saved_models\", \"ratings_SVM_classifier.sav\"\n",
    ")\n",
    "joblib.dump(best_model, filename)"
   ]
  },
  {
   "cell_type": "code",
   "execution_count": null,
   "metadata": {},
   "outputs": [],
   "source": []
  }
 ],
 "metadata": {
  "kernelspec": {
   "display_name": "Python [conda env:PythonAdv] *",
   "language": "python",
   "name": "conda-env-PythonAdv-py"
  },
  "language_info": {
   "codemirror_mode": {
    "name": "ipython",
    "version": 3
   },
   "file_extension": ".py",
   "mimetype": "text/x-python",
   "name": "python",
   "nbconvert_exporter": "python",
   "pygments_lexer": "ipython3",
   "version": "3.6.13"
  }
 },
 "nbformat": 4,
 "nbformat_minor": 4
}
