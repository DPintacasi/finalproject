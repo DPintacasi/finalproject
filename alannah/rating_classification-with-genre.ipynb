{
 "cells": [
  {
   "cell_type": "markdown",
   "metadata": {},
   "source": [
    "# Movie Ratings - Classification Model"
   ]
  },
  {
   "cell_type": "code",
   "execution_count": 1,
   "metadata": {},
   "outputs": [],
   "source": [
    "# Import initial dependencies\n",
    "import pandas as pd\n",
    "import os\n",
    "import nltk\n",
    "import matplotlib.pyplot as plt"
   ]
  },
  {
   "cell_type": "code",
   "execution_count": 2,
   "metadata": {},
   "outputs": [
    {
     "data": {
      "text/html": [
       "<div>\n",
       "<style scoped>\n",
       "    .dataframe tbody tr th:only-of-type {\n",
       "        vertical-align: middle;\n",
       "    }\n",
       "\n",
       "    .dataframe tbody tr th {\n",
       "        vertical-align: top;\n",
       "    }\n",
       "\n",
       "    .dataframe thead th {\n",
       "        text-align: right;\n",
       "    }\n",
       "</style>\n",
       "<table border=\"1\" class=\"dataframe\">\n",
       "  <thead>\n",
       "    <tr style=\"text-align: right;\">\n",
       "      <th></th>\n",
       "      <th>name</th>\n",
       "      <th>production</th>\n",
       "      <th>director</th>\n",
       "      <th>runtime</th>\n",
       "      <th>released</th>\n",
       "      <th>year</th>\n",
       "      <th>month</th>\n",
       "      <th>country_kaggle</th>\n",
       "      <th>country_omdb</th>\n",
       "      <th>star_kaggle</th>\n",
       "      <th>...</th>\n",
       "      <th>plot</th>\n",
       "      <th>awards</th>\n",
       "      <th>score_imdb</th>\n",
       "      <th>votes_imdb</th>\n",
       "      <th>score_metacritic</th>\n",
       "      <th>budget</th>\n",
       "      <th>genre_kaggle</th>\n",
       "      <th>gross</th>\n",
       "      <th>genres_omdb</th>\n",
       "      <th>rating</th>\n",
       "    </tr>\n",
       "  </thead>\n",
       "  <tbody>\n",
       "    <tr>\n",
       "      <th>0</th>\n",
       "      <td>Doctor Strange</td>\n",
       "      <td>Marvel Studios</td>\n",
       "      <td>Scott Derrickson</td>\n",
       "      <td>115</td>\n",
       "      <td>2016-11-04</td>\n",
       "      <td>2016</td>\n",
       "      <td>11</td>\n",
       "      <td>USA</td>\n",
       "      <td>USA</td>\n",
       "      <td>Benedict Cumberbatch</td>\n",
       "      <td>...</td>\n",
       "      <td>Marvel's \"Doctor Strange\" follows the story of...</td>\n",
       "      <td>Nominated for 1 Oscar. Another 19 wins &amp; 67 no...</td>\n",
       "      <td>7.5</td>\n",
       "      <td>348307</td>\n",
       "      <td>72.0</td>\n",
       "      <td>165000000</td>\n",
       "      <td>Action</td>\n",
       "      <td>232641920</td>\n",
       "      <td>Action, Adventure, Fantasy, Sci-Fi</td>\n",
       "      <td>PG-13</td>\n",
       "    </tr>\n",
       "    <tr>\n",
       "      <th>1</th>\n",
       "      <td>Sleight</td>\n",
       "      <td>Diablo Entertainment (II)</td>\n",
       "      <td>J.D. Dillard</td>\n",
       "      <td>89</td>\n",
       "      <td>2017-04-28</td>\n",
       "      <td>2016</td>\n",
       "      <td>4</td>\n",
       "      <td>USA</td>\n",
       "      <td>USA</td>\n",
       "      <td>Jacob Latimore</td>\n",
       "      <td>...</td>\n",
       "      <td>A young street magician (Jacob Latimore) is le...</td>\n",
       "      <td>3 nominations.</td>\n",
       "      <td>5.9</td>\n",
       "      <td>4012</td>\n",
       "      <td>62.0</td>\n",
       "      <td>250000</td>\n",
       "      <td>Action</td>\n",
       "      <td>3986245</td>\n",
       "      <td>Crime, Drama, Sci-Fi</td>\n",
       "      <td>R</td>\n",
       "    </tr>\n",
       "  </tbody>\n",
       "</table>\n",
       "<p>2 rows × 24 columns</p>\n",
       "</div>"
      ],
      "text/plain": [
       "             name                 production          director  runtime  \\\n",
       "0  Doctor Strange             Marvel Studios  Scott Derrickson      115   \n",
       "1         Sleight  Diablo Entertainment (II)      J.D. Dillard       89   \n",
       "\n",
       "     released  year  month country_kaggle country_omdb           star_kaggle  \\\n",
       "0  2016-11-04  2016     11            USA          USA  Benedict Cumberbatch   \n",
       "1  2017-04-28  2016      4            USA          USA        Jacob Latimore   \n",
       "\n",
       "   ...                                               plot  \\\n",
       "0  ...  Marvel's \"Doctor Strange\" follows the story of...   \n",
       "1  ...  A young street magician (Jacob Latimore) is le...   \n",
       "\n",
       "                                              awards score_imdb votes_imdb  \\\n",
       "0  Nominated for 1 Oscar. Another 19 wins & 67 no...        7.5     348307   \n",
       "1                                     3 nominations.        5.9       4012   \n",
       "\n",
       "  score_metacritic     budget  genre_kaggle      gross  \\\n",
       "0             72.0  165000000        Action  232641920   \n",
       "1             62.0     250000        Action    3986245   \n",
       "\n",
       "                          genres_omdb  rating  \n",
       "0  Action, Adventure, Fantasy, Sci-Fi   PG-13  \n",
       "1                Crime, Drama, Sci-Fi       R  \n",
       "\n",
       "[2 rows x 24 columns]"
      ]
     },
     "execution_count": 2,
     "metadata": {},
     "output_type": "execute_result"
    }
   ],
   "source": [
    "# Import movies dataframe\n",
    "movies_df = pd.read_csv(\"https://data-bootcamp-ztc.s3.amazonaws.com/movies_complete_cleaned.csv\")\n",
    "movies_df.head(2)"
   ]
  },
  {
   "cell_type": "code",
   "execution_count": 3,
   "metadata": {},
   "outputs": [
    {
     "data": {
      "text/plain": [
       "R        3261\n",
       "PG-13    1903\n",
       "PG        927\n",
       "G         143\n",
       "NC-17      22\n",
       "Name: rating, dtype: int64"
      ]
     },
     "execution_count": 3,
     "metadata": {},
     "output_type": "execute_result"
    }
   ],
   "source": [
    "movies_df[\"rating\"].value_counts()"
   ]
  },
  {
   "cell_type": "code",
   "execution_count": 4,
   "metadata": {
    "scrolled": true
   },
   "outputs": [],
   "source": [
    "#drop NC-17 as there are very few instances\n",
    "movies_df = movies_df[movies_df[\"rating\"]  != \"NC-17\"]"
   ]
  },
  {
   "cell_type": "code",
   "execution_count": 5,
   "metadata": {},
   "outputs": [],
   "source": [
    "# movies_df[\"genre_kaggle\"].value_counts()"
   ]
  },
  {
   "cell_type": "code",
   "execution_count": 6,
   "metadata": {},
   "outputs": [
    {
     "data": {
      "image/png": "[encoded data removed]",
      "text/plain": [
       "<Figure size 432x288 with 1 Axes>"
      ]
     },
     "metadata": {
      "needs_background": "light"
     },
     "output_type": "display_data"
    },
    {
     "data": {
      "image/png": "[encoded data removed]",
      "text/plain": [
       "<Figure size 432x288 with 1 Axes>"
      ]
     },
     "metadata": {
      "needs_background": "light"
     },
     "output_type": "display_data"
    },
    {
     "data": {
      "image/png": "[encoded data removed]",
      "text/plain": [
       "<Figure size 432x288 with 1 Axes>"
      ]
     },
     "metadata": {
      "needs_background": "light"
     },
     "output_type": "display_data"
    },
    {
     "data": {
      "image/png": "[encoded data removed]",
      "text/plain": [
       "<Figure size 432x288 with 1 Axes>"
      ]
     },
     "metadata": {
      "needs_background": "light"
     },
     "output_type": "display_data"
    },
    {
     "data": {
      "image/png": "[encoded data removed]",
      "text/plain": [
       "<Figure size 432x288 with 1 Axes>"
      ]
     },
     "metadata": {
      "needs_background": "light"
     },
     "output_type": "display_data"
    },
    {
     "data": {
      "image/png": "[encoded data removed]",
      "text/plain": [
       "<Figure size 432x288 with 1 Axes>"
      ]
     },
     "metadata": {
      "needs_background": "light"
     },
     "output_type": "display_data"
    },
    {
     "data": {
      "image/png": "[encoded data removed]",
      "text/plain": [
       "<Figure size 432x288 with 1 Axes>"
      ]
     },
     "metadata": {
      "needs_background": "light"
     },
     "output_type": "display_data"
    },
    {
     "data": {
      "image/png": "[encoded data removed]",
      "text/plain": [
       "<Figure size 432x288 with 1 Axes>"
      ]
     },
     "metadata": {
      "needs_background": "light"
     },
     "output_type": "display_data"
    },
    {
     "data": {
      "image/png": "[encoded data removed]",
      "text/plain": [
       "<Figure size 432x288 with 1 Axes>"
      ]
     },
     "metadata": {
      "needs_background": "light"
     },
     "output_type": "display_data"
    },
    {
     "data": {
      "image/png": "[encoded data removed]",
      "text/plain": [
       "<Figure size 432x288 with 1 Axes>"
      ]
     },
     "metadata": {
      "needs_background": "light"
     },
     "output_type": "display_data"
    },
    {
     "data": {
      "image/png": "[encoded data removed]",
      "text/plain": [
       "<Figure size 432x288 with 1 Axes>"
      ]
     },
     "metadata": {
      "needs_background": "light"
     },
     "output_type": "display_data"
    },
    {
     "data": {
      "image/png": "[encoded data removed]",
      "text/plain": [
       "<Figure size 432x288 with 1 Axes>"
      ]
     },
     "metadata": {
      "needs_background": "light"
     },
     "output_type": "display_data"
    },
    {
     "data": {
      "image/png": "[encoded data removed]",
      "text/plain": [
       "<Figure size 432x288 with 1 Axes>"
      ]
     },
     "metadata": {
      "needs_background": "light"
     },
     "output_type": "display_data"
    },
    {
     "data": {
      "image/png": "[encoded data removed]",
      "text/plain": [
       "<Figure size 432x288 with 1 Axes>"
      ]
     },
     "metadata": {
      "needs_background": "light"
     },
     "output_type": "display_data"
    },
    {
     "data": {
      "image/png": "[encoded data removed]",
      "text/plain": [
       "<Figure size 432x288 with 1 Axes>"
      ]
     },
     "metadata": {
      "needs_background": "light"
     },
     "output_type": "display_data"
    },
    {
     "data": {
      "image/png": "[encoded data removed]",
      "text/plain": [
       "<Figure size 432x288 with 1 Axes>"
      ]
     },
     "metadata": {
      "needs_background": "light"
     },
     "output_type": "display_data"
    },
    {
     "data": {
      "image/png": "[encoded data removed]",
      "text/plain": [
       "<Figure size 432x288 with 1 Axes>"
      ]
     },
     "metadata": {
      "needs_background": "light"
     },
     "output_type": "display_data"
    }
   ],
   "source": [
    "for genre in movies_df['genre_kaggle'].unique():\n",
    "#     print(genre)\n",
    "    df = movies_df[movies_df['genre_kaggle']==genre]  \n",
    "#     print(len(df))\n",
    "    plt.figure()\n",
    "    plt.title(genre)\n",
    "    df['rating'].value_counts().plot(kind='barh')\n",
    "\n",
    "plt.show()"
   ]
  },
  {
   "cell_type": "code",
   "execution_count": null,
   "metadata": {},
   "outputs": [],
   "source": []
  },
  {
   "cell_type": "markdown",
   "metadata": {},
   "source": [
    "## Cleaning Data for Tokenization"
   ]
  },
  {
   "cell_type": "code",
   "execution_count": 7,
   "metadata": {},
   "outputs": [
    {
     "data": {
      "text/html": [
       "<div>\n",
       "<style scoped>\n",
       "    .dataframe tbody tr th:only-of-type {\n",
       "        vertical-align: middle;\n",
       "    }\n",
       "\n",
       "    .dataframe tbody tr th {\n",
       "        vertical-align: top;\n",
       "    }\n",
       "\n",
       "    .dataframe thead th {\n",
       "        text-align: right;\n",
       "    }\n",
       "</style>\n",
       "<table border=\"1\" class=\"dataframe\">\n",
       "  <thead>\n",
       "    <tr style=\"text-align: right;\">\n",
       "      <th></th>\n",
       "      <th>plot</th>\n",
       "      <th>rating</th>\n",
       "    </tr>\n",
       "    <tr>\n",
       "      <th>name</th>\n",
       "      <th></th>\n",
       "      <th></th>\n",
       "    </tr>\n",
       "  </thead>\n",
       "  <tbody>\n",
       "    <tr>\n",
       "      <th>Doctor Strange</th>\n",
       "      <td>Marvel's \"Doctor Strange\" follows the story of...</td>\n",
       "      <td>PG-13</td>\n",
       "    </tr>\n",
       "    <tr>\n",
       "      <th>Sleight</th>\n",
       "      <td>A young street magician (Jacob Latimore) is le...</td>\n",
       "      <td>R</td>\n",
       "    </tr>\n",
       "    <tr>\n",
       "      <th>Silence</th>\n",
       "      <td>The story of two Catholic missionaries (Andrew...</td>\n",
       "      <td>R</td>\n",
       "    </tr>\n",
       "    <tr>\n",
       "      <th>Manchester by the Sea</th>\n",
       "      <td>Lee Chandler is a brooding, irritable loner wh...</td>\n",
       "      <td>R</td>\n",
       "    </tr>\n",
       "    <tr>\n",
       "      <th>Dirty Grandpa</th>\n",
       "      <td>Jason Kelly, the grandson of Dick Kelly, loses...</td>\n",
       "      <td>R</td>\n",
       "    </tr>\n",
       "  </tbody>\n",
       "</table>\n",
       "</div>"
      ],
      "text/plain": [
       "                                                                    plot  \\\n",
       "name                                                                       \n",
       "Doctor Strange         Marvel's \"Doctor Strange\" follows the story of...   \n",
       "Sleight                A young street magician (Jacob Latimore) is le...   \n",
       "Silence                The story of two Catholic missionaries (Andrew...   \n",
       "Manchester by the Sea  Lee Chandler is a brooding, irritable loner wh...   \n",
       "Dirty Grandpa          Jason Kelly, the grandson of Dick Kelly, loses...   \n",
       "\n",
       "                      rating  \n",
       "name                          \n",
       "Doctor Strange         PG-13  \n",
       "Sleight                    R  \n",
       "Silence                    R  \n",
       "Manchester by the Sea      R  \n",
       "Dirty Grandpa              R  "
      ]
     },
     "execution_count": 7,
     "metadata": {},
     "output_type": "execute_result"
    }
   ],
   "source": [
    "# Extract plot data\n",
    "df = movies_df[[\"name\", \"plot\",\"rating\"]]\n",
    "df.set_index(\"name\",inplace = True)\n",
    "df.head()"
   ]
  },
  {
   "cell_type": "code",
   "execution_count": 8,
   "metadata": {},
   "outputs": [],
   "source": [
    "df = df.dropna(axis='index', subset=['plot'])\n",
    "df[\"plot_len\"] = [len(x) for x in df[\"plot\"]]"
   ]
  },
  {
   "cell_type": "code",
   "execution_count": 9,
   "metadata": {},
   "outputs": [],
   "source": [
    "# Remove punctuation\n",
    "import string\n",
    "\n",
    "\n",
    "def remove_punct(text):\n",
    "    table = str.maketrans(\"\", \"\", string.punctuation)\n",
    "    return text.translate(table)\n",
    "\n",
    "\n",
    "df[\"plot\"] = [remove_punct(x) for x in df[\"plot\"]]"
   ]
  },
  {
   "cell_type": "code",
   "execution_count": 10,
   "metadata": {},
   "outputs": [
    {
     "name": "stderr",
     "output_type": "stream",
     "text": [
      "[nltk_data] Downloading package stopwords to\n",
      "[nltk_data]     /Users/daniellepintacasi/nltk_data...\n",
      "[nltk_data]   Package stopwords is already up-to-date!\n"
     ]
    }
   ],
   "source": [
    "# Remove stopwords\n",
    "import nltk\n",
    "nltk.download('stopwords')\n",
    "from nltk.corpus import stopwords\n",
    "\n",
    "stop = set(stopwords.words(\"english\"))\n",
    "\n",
    "\n",
    "def remove_stopwords(text):\n",
    "    text = [word.lower() for word in text.split() if word.lower() not in stop]\n",
    "\n",
    "    return \" \".join(text)\n",
    "\n",
    "\n",
    "df[\"plot\"] = [remove_stopwords(x) for x in df[\"plot\"]]"
   ]
  },
  {
   "cell_type": "code",
   "execution_count": 11,
   "metadata": {},
   "outputs": [],
   "source": [
    "#adding plot length feature\n",
    "\n"
   ]
  },
  {
   "cell_type": "code",
   "execution_count": 12,
   "metadata": {},
   "outputs": [
    {
     "data": {
      "text/html": [
       "<div>\n",
       "<style scoped>\n",
       "    .dataframe tbody tr th:only-of-type {\n",
       "        vertical-align: middle;\n",
       "    }\n",
       "\n",
       "    .dataframe tbody tr th {\n",
       "        vertical-align: top;\n",
       "    }\n",
       "\n",
       "    .dataframe thead th {\n",
       "        text-align: right;\n",
       "    }\n",
       "</style>\n",
       "<table border=\"1\" class=\"dataframe\">\n",
       "  <thead>\n",
       "    <tr style=\"text-align: right;\">\n",
       "      <th></th>\n",
       "      <th>plot</th>\n",
       "      <th>rating</th>\n",
       "      <th>plot_len</th>\n",
       "    </tr>\n",
       "    <tr>\n",
       "      <th>name</th>\n",
       "      <th></th>\n",
       "      <th></th>\n",
       "      <th></th>\n",
       "    </tr>\n",
       "  </thead>\n",
       "  <tbody>\n",
       "    <tr>\n",
       "      <th>Doctor Strange</th>\n",
       "      <td>marvels doctor strange follows story talented ...</td>\n",
       "      <td>PG-13</td>\n",
       "      <td>464</td>\n",
       "    </tr>\n",
       "    <tr>\n",
       "      <th>Sleight</th>\n",
       "      <td>young street magician jacob latimore left care...</td>\n",
       "      <td>R</td>\n",
       "      <td>289</td>\n",
       "    </tr>\n",
       "    <tr>\n",
       "      <th>Silence</th>\n",
       "      <td>story two catholic missionaries andrew garfiel...</td>\n",
       "      <td>R</td>\n",
       "      <td>254</td>\n",
       "    </tr>\n",
       "    <tr>\n",
       "      <th>Manchester by the Sea</th>\n",
       "      <td>lee chandler brooding irritable loner works ha...</td>\n",
       "      <td>R</td>\n",
       "      <td>420</td>\n",
       "    </tr>\n",
       "    <tr>\n",
       "      <th>Dirty Grandpa</th>\n",
       "      <td>jason kelly grandson dick kelly loses grandmot...</td>\n",
       "      <td>R</td>\n",
       "      <td>344</td>\n",
       "    </tr>\n",
       "    <tr>\n",
       "      <th>...</th>\n",
       "      <td>...</td>\n",
       "      <td>...</td>\n",
       "      <td>...</td>\n",
       "    </tr>\n",
       "    <tr>\n",
       "      <th>Hoosiers</th>\n",
       "      <td>based true story smalltown indiana team made s...</td>\n",
       "      <td>PG</td>\n",
       "      <td>236</td>\n",
       "    </tr>\n",
       "    <tr>\n",
       "      <th>Off Beat</th>\n",
       "      <td>traumatised paramedic looks woman dreams</td>\n",
       "      <td>PG</td>\n",
       "      <td>56</td>\n",
       "    </tr>\n",
       "    <tr>\n",
       "      <th>Big Trouble in Little China</th>\n",
       "      <td>truck driver jack burton arrives chinatown san...</td>\n",
       "      <td>PG-13</td>\n",
       "      <td>805</td>\n",
       "    </tr>\n",
       "    <tr>\n",
       "      <th>Biggles: Adventures in Time</th>\n",
       "      <td>one minute new yorker advertising expert jim f...</td>\n",
       "      <td>PG</td>\n",
       "      <td>507</td>\n",
       "    </tr>\n",
       "    <tr>\n",
       "      <th>Soul Man</th>\n",
       "      <td>mark doesnt expect problems going college frie...</td>\n",
       "      <td>PG-13</td>\n",
       "      <td>675</td>\n",
       "    </tr>\n",
       "  </tbody>\n",
       "</table>\n",
       "<p>5895 rows × 3 columns</p>\n",
       "</div>"
      ],
      "text/plain": [
       "                                                                          plot  \\\n",
       "name                                                                             \n",
       "Doctor Strange               marvels doctor strange follows story talented ...   \n",
       "Sleight                      young street magician jacob latimore left care...   \n",
       "Silence                      story two catholic missionaries andrew garfiel...   \n",
       "Manchester by the Sea        lee chandler brooding irritable loner works ha...   \n",
       "Dirty Grandpa                jason kelly grandson dick kelly loses grandmot...   \n",
       "...                                                                        ...   \n",
       "Hoosiers                     based true story smalltown indiana team made s...   \n",
       "Off Beat                              traumatised paramedic looks woman dreams   \n",
       "Big Trouble in Little China  truck driver jack burton arrives chinatown san...   \n",
       "Biggles: Adventures in Time  one minute new yorker advertising expert jim f...   \n",
       "Soul Man                     mark doesnt expect problems going college frie...   \n",
       "\n",
       "                            rating  plot_len  \n",
       "name                                          \n",
       "Doctor Strange               PG-13       464  \n",
       "Sleight                          R       289  \n",
       "Silence                          R       254  \n",
       "Manchester by the Sea            R       420  \n",
       "Dirty Grandpa                    R       344  \n",
       "...                            ...       ...  \n",
       "Hoosiers                        PG       236  \n",
       "Off Beat                        PG        56  \n",
       "Big Trouble in Little China  PG-13       805  \n",
       "Biggles: Adventures in Time     PG       507  \n",
       "Soul Man                     PG-13       675  \n",
       "\n",
       "[5895 rows x 3 columns]"
      ]
     },
     "execution_count": 12,
     "metadata": {},
     "output_type": "execute_result"
    }
   ],
   "source": [
    "df"
   ]
  },
  {
   "cell_type": "markdown",
   "metadata": {},
   "source": [
    "### Encode Ratings Label"
   ]
  },
  {
   "cell_type": "code",
   "execution_count": 13,
   "metadata": {},
   "outputs": [
    {
     "data": {
      "text/html": [
       "<div>\n",
       "<style scoped>\n",
       "    .dataframe tbody tr th:only-of-type {\n",
       "        vertical-align: middle;\n",
       "    }\n",
       "\n",
       "    .dataframe tbody tr th {\n",
       "        vertical-align: top;\n",
       "    }\n",
       "\n",
       "    .dataframe thead th {\n",
       "        text-align: right;\n",
       "    }\n",
       "</style>\n",
       "<table border=\"1\" class=\"dataframe\">\n",
       "  <thead>\n",
       "    <tr style=\"text-align: right;\">\n",
       "      <th></th>\n",
       "      <th>plot</th>\n",
       "      <th>rating</th>\n",
       "      <th>plot_len</th>\n",
       "      <th>encoded_rating</th>\n",
       "    </tr>\n",
       "    <tr>\n",
       "      <th>name</th>\n",
       "      <th></th>\n",
       "      <th></th>\n",
       "      <th></th>\n",
       "      <th></th>\n",
       "    </tr>\n",
       "  </thead>\n",
       "  <tbody>\n",
       "    <tr>\n",
       "      <th>Doctor Strange</th>\n",
       "      <td>marvels doctor strange follows story talented ...</td>\n",
       "      <td>PG-13</td>\n",
       "      <td>464</td>\n",
       "      <td>2</td>\n",
       "    </tr>\n",
       "    <tr>\n",
       "      <th>Sleight</th>\n",
       "      <td>young street magician jacob latimore left care...</td>\n",
       "      <td>R</td>\n",
       "      <td>289</td>\n",
       "      <td>3</td>\n",
       "    </tr>\n",
       "    <tr>\n",
       "      <th>Silence</th>\n",
       "      <td>story two catholic missionaries andrew garfiel...</td>\n",
       "      <td>R</td>\n",
       "      <td>254</td>\n",
       "      <td>3</td>\n",
       "    </tr>\n",
       "    <tr>\n",
       "      <th>Manchester by the Sea</th>\n",
       "      <td>lee chandler brooding irritable loner works ha...</td>\n",
       "      <td>R</td>\n",
       "      <td>420</td>\n",
       "      <td>3</td>\n",
       "    </tr>\n",
       "    <tr>\n",
       "      <th>Dirty Grandpa</th>\n",
       "      <td>jason kelly grandson dick kelly loses grandmot...</td>\n",
       "      <td>R</td>\n",
       "      <td>344</td>\n",
       "      <td>3</td>\n",
       "    </tr>\n",
       "  </tbody>\n",
       "</table>\n",
       "</div>"
      ],
      "text/plain": [
       "                                                                    plot  \\\n",
       "name                                                                       \n",
       "Doctor Strange         marvels doctor strange follows story talented ...   \n",
       "Sleight                young street magician jacob latimore left care...   \n",
       "Silence                story two catholic missionaries andrew garfiel...   \n",
       "Manchester by the Sea  lee chandler brooding irritable loner works ha...   \n",
       "Dirty Grandpa          jason kelly grandson dick kelly loses grandmot...   \n",
       "\n",
       "                      rating  plot_len  encoded_rating  \n",
       "name                                                    \n",
       "Doctor Strange         PG-13       464               2  \n",
       "Sleight                    R       289               3  \n",
       "Silence                    R       254               3  \n",
       "Manchester by the Sea      R       420               3  \n",
       "Dirty Grandpa              R       344               3  "
      ]
     },
     "execution_count": 13,
     "metadata": {},
     "output_type": "execute_result"
    }
   ],
   "source": [
    "# Import label encoder \n",
    "from sklearn import preprocessing\n",
    "\n",
    "# Set label encoder method to variable for use\n",
    "label_encoder = preprocessing.LabelEncoder()\n",
    "\n",
    "# Encode ratigs  \n",
    "df[\"encoded_rating\"] = label_encoder.fit_transform(df[\"rating\"]) \n",
    "df.head()"
   ]
  },
  {
   "cell_type": "code",
   "execution_count": 14,
   "metadata": {},
   "outputs": [
    {
     "name": "stdout",
     "output_type": "stream",
     "text": [
      "check encoding:\n",
      "---------------------------------------------------------------------------\n",
      "R        3071\n",
      "PG-13    1813\n",
      "PG        883\n",
      "G         128\n",
      "Name: rating, dtype: int64\n",
      "---------------------------------------------------------------------------\n",
      "3    3071\n",
      "2    1813\n",
      "1     883\n",
      "0     128\n",
      "Name: encoded_rating, dtype: int64\n"
     ]
    }
   ],
   "source": [
    "print(\"check encoding:\")\n",
    "print(\"---------------------------------------------------------------------------\")\n",
    "print(df.rating.value_counts())\n",
    "print(\"---------------------------------------------------------------------------\")\n",
    "print(df.encoded_rating.value_counts())"
   ]
  },
  {
   "cell_type": "markdown",
   "metadata": {},
   "source": [
    "### Encoding Genre and converting it into a matrix"
   ]
  },
  {
   "cell_type": "code",
   "execution_count": 15,
   "metadata": {},
   "outputs": [
    {
     "data": {
      "text/html": [
       "<div>\n",
       "<style scoped>\n",
       "    .dataframe tbody tr th:only-of-type {\n",
       "        vertical-align: middle;\n",
       "    }\n",
       "\n",
       "    .dataframe tbody tr th {\n",
       "        vertical-align: top;\n",
       "    }\n",
       "\n",
       "    .dataframe thead th {\n",
       "        text-align: right;\n",
       "    }\n",
       "</style>\n",
       "<table border=\"1\" class=\"dataframe\">\n",
       "  <thead>\n",
       "    <tr style=\"text-align: right;\">\n",
       "      <th></th>\n",
       "      <th>action</th>\n",
       "      <th>adventure</th>\n",
       "      <th>fantasy</th>\n",
       "      <th>sci-fi</th>\n",
       "      <th>crime</th>\n",
       "      <th>drama</th>\n",
       "      <th>history</th>\n",
       "      <th>comedy</th>\n",
       "      <th>biography</th>\n",
       "      <th>romance</th>\n",
       "      <th>...</th>\n",
       "      <th>family</th>\n",
       "      <th>sport</th>\n",
       "      <th>music</th>\n",
       "      <th>mystery</th>\n",
       "      <th>short</th>\n",
       "      <th>western</th>\n",
       "      <th>musical</th>\n",
       "      <th>documentary</th>\n",
       "      <th>film-noir</th>\n",
       "      <th>adult</th>\n",
       "    </tr>\n",
       "    <tr>\n",
       "      <th>name</th>\n",
       "      <th></th>\n",
       "      <th></th>\n",
       "      <th></th>\n",
       "      <th></th>\n",
       "      <th></th>\n",
       "      <th></th>\n",
       "      <th></th>\n",
       "      <th></th>\n",
       "      <th></th>\n",
       "      <th></th>\n",
       "      <th></th>\n",
       "      <th></th>\n",
       "      <th></th>\n",
       "      <th></th>\n",
       "      <th></th>\n",
       "      <th></th>\n",
       "      <th></th>\n",
       "      <th></th>\n",
       "      <th></th>\n",
       "      <th></th>\n",
       "      <th></th>\n",
       "    </tr>\n",
       "  </thead>\n",
       "  <tbody>\n",
       "    <tr>\n",
       "      <th>Doctor Strange</th>\n",
       "      <td>1</td>\n",
       "      <td>1</td>\n",
       "      <td>1</td>\n",
       "      <td>1</td>\n",
       "      <td>0</td>\n",
       "      <td>0</td>\n",
       "      <td>0</td>\n",
       "      <td>0</td>\n",
       "      <td>0</td>\n",
       "      <td>0</td>\n",
       "      <td>...</td>\n",
       "      <td>0</td>\n",
       "      <td>0</td>\n",
       "      <td>0</td>\n",
       "      <td>0</td>\n",
       "      <td>0</td>\n",
       "      <td>0</td>\n",
       "      <td>0</td>\n",
       "      <td>0</td>\n",
       "      <td>0</td>\n",
       "      <td>0</td>\n",
       "    </tr>\n",
       "    <tr>\n",
       "      <th>Sleight</th>\n",
       "      <td>0</td>\n",
       "      <td>0</td>\n",
       "      <td>0</td>\n",
       "      <td>1</td>\n",
       "      <td>1</td>\n",
       "      <td>1</td>\n",
       "      <td>0</td>\n",
       "      <td>0</td>\n",
       "      <td>0</td>\n",
       "      <td>0</td>\n",
       "      <td>...</td>\n",
       "      <td>0</td>\n",
       "      <td>0</td>\n",
       "      <td>0</td>\n",
       "      <td>0</td>\n",
       "      <td>0</td>\n",
       "      <td>0</td>\n",
       "      <td>0</td>\n",
       "      <td>0</td>\n",
       "      <td>0</td>\n",
       "      <td>0</td>\n",
       "    </tr>\n",
       "    <tr>\n",
       "      <th>Silence</th>\n",
       "      <td>0</td>\n",
       "      <td>0</td>\n",
       "      <td>0</td>\n",
       "      <td>0</td>\n",
       "      <td>0</td>\n",
       "      <td>1</td>\n",
       "      <td>1</td>\n",
       "      <td>0</td>\n",
       "      <td>0</td>\n",
       "      <td>0</td>\n",
       "      <td>...</td>\n",
       "      <td>0</td>\n",
       "      <td>0</td>\n",
       "      <td>0</td>\n",
       "      <td>0</td>\n",
       "      <td>0</td>\n",
       "      <td>0</td>\n",
       "      <td>0</td>\n",
       "      <td>0</td>\n",
       "      <td>0</td>\n",
       "      <td>0</td>\n",
       "    </tr>\n",
       "  </tbody>\n",
       "</table>\n",
       "<p>3 rows × 24 columns</p>\n",
       "</div>"
      ],
      "text/plain": [
       "                action  adventure  fantasy  sci-fi  crime  drama  history  \\\n",
       "name                                                                        \n",
       "Doctor Strange       1          1        1       1      0      0        0   \n",
       "Sleight              0          0        0       1      1      1        0   \n",
       "Silence              0          0        0       0      0      1        1   \n",
       "\n",
       "                comedy  biography  romance  ...  family  sport  music  \\\n",
       "name                                        ...                         \n",
       "Doctor Strange       0          0        0  ...       0      0      0   \n",
       "Sleight              0          0        0  ...       0      0      0   \n",
       "Silence              0          0        0  ...       0      0      0   \n",
       "\n",
       "                mystery  short  western  musical  documentary  film-noir  \\\n",
       "name                                                                       \n",
       "Doctor Strange        0      0        0        0            0          0   \n",
       "Sleight               0      0        0        0            0          0   \n",
       "Silence               0      0        0        0            0          0   \n",
       "\n",
       "                adult  \n",
       "name                   \n",
       "Doctor Strange      0  \n",
       "Sleight             0  \n",
       "Silence             0  \n",
       "\n",
       "[3 rows x 24 columns]"
      ]
     },
     "execution_count": 15,
     "metadata": {},
     "output_type": "execute_result"
    }
   ],
   "source": [
    "genres = pd.read_csv(\"https://data-bootcamp-ztc.s3.amazonaws.com/parsed_genres_table.csv\")  # one hot encoding genres\n",
    "genres.set_index(\"name\", inplace = True)\n",
    "genres = genres.drop(columns = [\"genre_kaggle\", \"genres_omdb\"])\n",
    "genres.head(3)"
   ]
  },
  {
   "cell_type": "code",
   "execution_count": 16,
   "metadata": {},
   "outputs": [
    {
     "data": {
      "text/html": [
       "<div>\n",
       "<style scoped>\n",
       "    .dataframe tbody tr th:only-of-type {\n",
       "        vertical-align: middle;\n",
       "    }\n",
       "\n",
       "    .dataframe tbody tr th {\n",
       "        vertical-align: top;\n",
       "    }\n",
       "\n",
       "    .dataframe thead th {\n",
       "        text-align: right;\n",
       "    }\n",
       "</style>\n",
       "<table border=\"1\" class=\"dataframe\">\n",
       "  <thead>\n",
       "    <tr style=\"text-align: right;\">\n",
       "      <th></th>\n",
       "      <th>plot</th>\n",
       "      <th>rating</th>\n",
       "      <th>plot_len</th>\n",
       "      <th>encoded_rating</th>\n",
       "      <th>action</th>\n",
       "      <th>adventure</th>\n",
       "      <th>fantasy</th>\n",
       "      <th>sci-fi</th>\n",
       "      <th>crime</th>\n",
       "      <th>drama</th>\n",
       "      <th>...</th>\n",
       "      <th>family</th>\n",
       "      <th>sport</th>\n",
       "      <th>music</th>\n",
       "      <th>mystery</th>\n",
       "      <th>short</th>\n",
       "      <th>western</th>\n",
       "      <th>musical</th>\n",
       "      <th>documentary</th>\n",
       "      <th>film-noir</th>\n",
       "      <th>adult</th>\n",
       "    </tr>\n",
       "    <tr>\n",
       "      <th>name</th>\n",
       "      <th></th>\n",
       "      <th></th>\n",
       "      <th></th>\n",
       "      <th></th>\n",
       "      <th></th>\n",
       "      <th></th>\n",
       "      <th></th>\n",
       "      <th></th>\n",
       "      <th></th>\n",
       "      <th></th>\n",
       "      <th></th>\n",
       "      <th></th>\n",
       "      <th></th>\n",
       "      <th></th>\n",
       "      <th></th>\n",
       "      <th></th>\n",
       "      <th></th>\n",
       "      <th></th>\n",
       "      <th></th>\n",
       "      <th></th>\n",
       "      <th></th>\n",
       "    </tr>\n",
       "  </thead>\n",
       "  <tbody>\n",
       "    <tr>\n",
       "      <th>Doctor Strange</th>\n",
       "      <td>marvels doctor strange follows story talented ...</td>\n",
       "      <td>PG-13</td>\n",
       "      <td>464</td>\n",
       "      <td>2</td>\n",
       "      <td>1</td>\n",
       "      <td>1</td>\n",
       "      <td>1</td>\n",
       "      <td>1</td>\n",
       "      <td>0</td>\n",
       "      <td>0</td>\n",
       "      <td>...</td>\n",
       "      <td>0</td>\n",
       "      <td>0</td>\n",
       "      <td>0</td>\n",
       "      <td>0</td>\n",
       "      <td>0</td>\n",
       "      <td>0</td>\n",
       "      <td>0</td>\n",
       "      <td>0</td>\n",
       "      <td>0</td>\n",
       "      <td>0</td>\n",
       "    </tr>\n",
       "    <tr>\n",
       "      <th>Sleight</th>\n",
       "      <td>young street magician jacob latimore left care...</td>\n",
       "      <td>R</td>\n",
       "      <td>289</td>\n",
       "      <td>3</td>\n",
       "      <td>0</td>\n",
       "      <td>0</td>\n",
       "      <td>0</td>\n",
       "      <td>1</td>\n",
       "      <td>1</td>\n",
       "      <td>1</td>\n",
       "      <td>...</td>\n",
       "      <td>0</td>\n",
       "      <td>0</td>\n",
       "      <td>0</td>\n",
       "      <td>0</td>\n",
       "      <td>0</td>\n",
       "      <td>0</td>\n",
       "      <td>0</td>\n",
       "      <td>0</td>\n",
       "      <td>0</td>\n",
       "      <td>0</td>\n",
       "    </tr>\n",
       "  </tbody>\n",
       "</table>\n",
       "<p>2 rows × 28 columns</p>\n",
       "</div>"
      ],
      "text/plain": [
       "                                                             plot rating  \\\n",
       "name                                                                       \n",
       "Doctor Strange  marvels doctor strange follows story talented ...  PG-13   \n",
       "Sleight         young street magician jacob latimore left care...      R   \n",
       "\n",
       "                plot_len  encoded_rating  action  adventure  fantasy  sci-fi  \\\n",
       "name                                                                           \n",
       "Doctor Strange       464               2       1          1        1       1   \n",
       "Sleight              289               3       0          0        0       1   \n",
       "\n",
       "                crime  drama  ...  family  sport  music  mystery  short  \\\n",
       "name                          ...                                         \n",
       "Doctor Strange      0      0  ...       0      0      0        0      0   \n",
       "Sleight             1      1  ...       0      0      0        0      0   \n",
       "\n",
       "                western  musical  documentary  film-noir  adult  \n",
       "name                                                             \n",
       "Doctor Strange        0        0            0          0      0  \n",
       "Sleight               0        0            0          0      0  \n",
       "\n",
       "[2 rows x 28 columns]"
      ]
     },
     "execution_count": 16,
     "metadata": {},
     "output_type": "execute_result"
    }
   ],
   "source": [
    "clean_df = pd.merge(df, genres, how = \"inner\", on = \"name\")\n",
    "clean_df.head(2)\n",
    "# import scipy\n",
    "# from scipy.sparse import csr_matrix\n",
    "# genres_mat = scipy.sparse.csr_matrix(genres.values)\n",
    "# genres_mat"
   ]
  },
  {
   "cell_type": "code",
   "execution_count": 17,
   "metadata": {},
   "outputs": [],
   "source": [
    "# clean_df.isnull().sum()"
   ]
  },
  {
   "cell_type": "markdown",
   "metadata": {},
   "source": [
    "## Split Data"
   ]
  },
  {
   "cell_type": "code",
   "execution_count": 18,
   "metadata": {},
   "outputs": [
    {
     "data": {
      "text/html": [
       "<div>\n",
       "<style scoped>\n",
       "    .dataframe tbody tr th:only-of-type {\n",
       "        vertical-align: middle;\n",
       "    }\n",
       "\n",
       "    .dataframe tbody tr th {\n",
       "        vertical-align: top;\n",
       "    }\n",
       "\n",
       "    .dataframe thead th {\n",
       "        text-align: right;\n",
       "    }\n",
       "</style>\n",
       "<table border=\"1\" class=\"dataframe\">\n",
       "  <thead>\n",
       "    <tr style=\"text-align: right;\">\n",
       "      <th></th>\n",
       "      <th>plot</th>\n",
       "      <th>plot_len</th>\n",
       "      <th>action</th>\n",
       "      <th>adventure</th>\n",
       "      <th>fantasy</th>\n",
       "      <th>sci-fi</th>\n",
       "      <th>crime</th>\n",
       "      <th>drama</th>\n",
       "      <th>history</th>\n",
       "      <th>comedy</th>\n",
       "      <th>...</th>\n",
       "      <th>family</th>\n",
       "      <th>sport</th>\n",
       "      <th>music</th>\n",
       "      <th>mystery</th>\n",
       "      <th>short</th>\n",
       "      <th>western</th>\n",
       "      <th>musical</th>\n",
       "      <th>documentary</th>\n",
       "      <th>film-noir</th>\n",
       "      <th>adult</th>\n",
       "    </tr>\n",
       "    <tr>\n",
       "      <th>name</th>\n",
       "      <th></th>\n",
       "      <th></th>\n",
       "      <th></th>\n",
       "      <th></th>\n",
       "      <th></th>\n",
       "      <th></th>\n",
       "      <th></th>\n",
       "      <th></th>\n",
       "      <th></th>\n",
       "      <th></th>\n",
       "      <th></th>\n",
       "      <th></th>\n",
       "      <th></th>\n",
       "      <th></th>\n",
       "      <th></th>\n",
       "      <th></th>\n",
       "      <th></th>\n",
       "      <th></th>\n",
       "      <th></th>\n",
       "      <th></th>\n",
       "      <th></th>\n",
       "    </tr>\n",
       "  </thead>\n",
       "  <tbody>\n",
       "    <tr>\n",
       "      <th>Water for Elephants</th>\n",
       "      <td>parents death jacob jankowski left penniless h...</td>\n",
       "      <td>376</td>\n",
       "      <td>0</td>\n",
       "      <td>0</td>\n",
       "      <td>0</td>\n",
       "      <td>0</td>\n",
       "      <td>0</td>\n",
       "      <td>1</td>\n",
       "      <td>0</td>\n",
       "      <td>0</td>\n",
       "      <td>...</td>\n",
       "      <td>0</td>\n",
       "      <td>0</td>\n",
       "      <td>0</td>\n",
       "      <td>0</td>\n",
       "      <td>0</td>\n",
       "      <td>0</td>\n",
       "      <td>0</td>\n",
       "      <td>0</td>\n",
       "      <td>0</td>\n",
       "      <td>0</td>\n",
       "    </tr>\n",
       "    <tr>\n",
       "      <th>The Lizzie McGuire Movie</th>\n",
       "      <td>teen queen lizzie mcguire grows bit hits big s...</td>\n",
       "      <td>1077</td>\n",
       "      <td>0</td>\n",
       "      <td>1</td>\n",
       "      <td>0</td>\n",
       "      <td>0</td>\n",
       "      <td>0</td>\n",
       "      <td>0</td>\n",
       "      <td>0</td>\n",
       "      <td>1</td>\n",
       "      <td>...</td>\n",
       "      <td>1</td>\n",
       "      <td>0</td>\n",
       "      <td>1</td>\n",
       "      <td>0</td>\n",
       "      <td>0</td>\n",
       "      <td>0</td>\n",
       "      <td>0</td>\n",
       "      <td>0</td>\n",
       "      <td>0</td>\n",
       "      <td>0</td>\n",
       "    </tr>\n",
       "    <tr>\n",
       "      <th>Let's Go to Prison</th>\n",
       "      <td>john lyshitski young man prison often entire c...</td>\n",
       "      <td>1362</td>\n",
       "      <td>0</td>\n",
       "      <td>0</td>\n",
       "      <td>0</td>\n",
       "      <td>0</td>\n",
       "      <td>1</td>\n",
       "      <td>0</td>\n",
       "      <td>0</td>\n",
       "      <td>1</td>\n",
       "      <td>...</td>\n",
       "      <td>0</td>\n",
       "      <td>0</td>\n",
       "      <td>0</td>\n",
       "      <td>0</td>\n",
       "      <td>0</td>\n",
       "      <td>0</td>\n",
       "      <td>0</td>\n",
       "      <td>0</td>\n",
       "      <td>0</td>\n",
       "      <td>0</td>\n",
       "    </tr>\n",
       "    <tr>\n",
       "      <th>10 Years</th>\n",
       "      <td>night high school reunion group friends realiz...</td>\n",
       "      <td>114</td>\n",
       "      <td>0</td>\n",
       "      <td>0</td>\n",
       "      <td>0</td>\n",
       "      <td>0</td>\n",
       "      <td>0</td>\n",
       "      <td>1</td>\n",
       "      <td>0</td>\n",
       "      <td>1</td>\n",
       "      <td>...</td>\n",
       "      <td>0</td>\n",
       "      <td>0</td>\n",
       "      <td>0</td>\n",
       "      <td>0</td>\n",
       "      <td>0</td>\n",
       "      <td>0</td>\n",
       "      <td>0</td>\n",
       "      <td>0</td>\n",
       "      <td>0</td>\n",
       "      <td>0</td>\n",
       "    </tr>\n",
       "    <tr>\n",
       "      <th>Two Moon Junction</th>\n",
       "      <td>april graduated exclusive southern college she...</td>\n",
       "      <td>520</td>\n",
       "      <td>0</td>\n",
       "      <td>0</td>\n",
       "      <td>0</td>\n",
       "      <td>0</td>\n",
       "      <td>0</td>\n",
       "      <td>1</td>\n",
       "      <td>0</td>\n",
       "      <td>0</td>\n",
       "      <td>...</td>\n",
       "      <td>0</td>\n",
       "      <td>0</td>\n",
       "      <td>0</td>\n",
       "      <td>0</td>\n",
       "      <td>0</td>\n",
       "      <td>0</td>\n",
       "      <td>0</td>\n",
       "      <td>0</td>\n",
       "      <td>0</td>\n",
       "      <td>0</td>\n",
       "    </tr>\n",
       "    <tr>\n",
       "      <th>...</th>\n",
       "      <td>...</td>\n",
       "      <td>...</td>\n",
       "      <td>...</td>\n",
       "      <td>...</td>\n",
       "      <td>...</td>\n",
       "      <td>...</td>\n",
       "      <td>...</td>\n",
       "      <td>...</td>\n",
       "      <td>...</td>\n",
       "      <td>...</td>\n",
       "      <td>...</td>\n",
       "      <td>...</td>\n",
       "      <td>...</td>\n",
       "      <td>...</td>\n",
       "      <td>...</td>\n",
       "      <td>...</td>\n",
       "      <td>...</td>\n",
       "      <td>...</td>\n",
       "      <td>...</td>\n",
       "      <td>...</td>\n",
       "      <td>...</td>\n",
       "    </tr>\n",
       "    <tr>\n",
       "      <th>Jingle All the Way</th>\n",
       "      <td>meet howard langston salesman mattress company...</td>\n",
       "      <td>664</td>\n",
       "      <td>0</td>\n",
       "      <td>1</td>\n",
       "      <td>0</td>\n",
       "      <td>0</td>\n",
       "      <td>0</td>\n",
       "      <td>0</td>\n",
       "      <td>0</td>\n",
       "      <td>1</td>\n",
       "      <td>...</td>\n",
       "      <td>1</td>\n",
       "      <td>0</td>\n",
       "      <td>0</td>\n",
       "      <td>0</td>\n",
       "      <td>0</td>\n",
       "      <td>0</td>\n",
       "      <td>0</td>\n",
       "      <td>0</td>\n",
       "      <td>0</td>\n",
       "      <td>0</td>\n",
       "    </tr>\n",
       "    <tr>\n",
       "      <th>Immediate Family</th>\n",
       "      <td>linda michael married ten years desperately wa...</td>\n",
       "      <td>308</td>\n",
       "      <td>0</td>\n",
       "      <td>0</td>\n",
       "      <td>0</td>\n",
       "      <td>0</td>\n",
       "      <td>0</td>\n",
       "      <td>1</td>\n",
       "      <td>0</td>\n",
       "      <td>0</td>\n",
       "      <td>...</td>\n",
       "      <td>0</td>\n",
       "      <td>0</td>\n",
       "      <td>0</td>\n",
       "      <td>0</td>\n",
       "      <td>0</td>\n",
       "      <td>0</td>\n",
       "      <td>0</td>\n",
       "      <td>0</td>\n",
       "      <td>0</td>\n",
       "      <td>0</td>\n",
       "    </tr>\n",
       "    <tr>\n",
       "      <th>Cookie</th>\n",
       "      <td>paroled labor racketeer dapper dino sought pol...</td>\n",
       "      <td>182</td>\n",
       "      <td>0</td>\n",
       "      <td>0</td>\n",
       "      <td>0</td>\n",
       "      <td>0</td>\n",
       "      <td>1</td>\n",
       "      <td>0</td>\n",
       "      <td>0</td>\n",
       "      <td>1</td>\n",
       "      <td>...</td>\n",
       "      <td>0</td>\n",
       "      <td>0</td>\n",
       "      <td>0</td>\n",
       "      <td>0</td>\n",
       "      <td>0</td>\n",
       "      <td>0</td>\n",
       "      <td>0</td>\n",
       "      <td>0</td>\n",
       "      <td>0</td>\n",
       "      <td>0</td>\n",
       "    </tr>\n",
       "    <tr>\n",
       "      <th>Friday the 13th Part VII: The New Blood</th>\n",
       "      <td>lying dormant bottom camp crystal lake jason v...</td>\n",
       "      <td>216</td>\n",
       "      <td>0</td>\n",
       "      <td>0</td>\n",
       "      <td>0</td>\n",
       "      <td>0</td>\n",
       "      <td>0</td>\n",
       "      <td>0</td>\n",
       "      <td>0</td>\n",
       "      <td>0</td>\n",
       "      <td>...</td>\n",
       "      <td>0</td>\n",
       "      <td>0</td>\n",
       "      <td>0</td>\n",
       "      <td>0</td>\n",
       "      <td>0</td>\n",
       "      <td>0</td>\n",
       "      <td>0</td>\n",
       "      <td>0</td>\n",
       "      <td>0</td>\n",
       "      <td>0</td>\n",
       "    </tr>\n",
       "    <tr>\n",
       "      <th>Being Flynn</th>\n",
       "      <td>nick flynn 20s hasnt found place world yet hop...</td>\n",
       "      <td>631</td>\n",
       "      <td>0</td>\n",
       "      <td>0</td>\n",
       "      <td>0</td>\n",
       "      <td>0</td>\n",
       "      <td>0</td>\n",
       "      <td>1</td>\n",
       "      <td>0</td>\n",
       "      <td>0</td>\n",
       "      <td>...</td>\n",
       "      <td>0</td>\n",
       "      <td>0</td>\n",
       "      <td>0</td>\n",
       "      <td>0</td>\n",
       "      <td>0</td>\n",
       "      <td>0</td>\n",
       "      <td>0</td>\n",
       "      <td>0</td>\n",
       "      <td>0</td>\n",
       "      <td>0</td>\n",
       "    </tr>\n",
       "  </tbody>\n",
       "</table>\n",
       "<p>4420 rows × 26 columns</p>\n",
       "</div>"
      ],
      "text/plain": [
       "                                                                                      plot  \\\n",
       "name                                                                                         \n",
       "Water for Elephants                      parents death jacob jankowski left penniless h...   \n",
       "The Lizzie McGuire Movie                 teen queen lizzie mcguire grows bit hits big s...   \n",
       "Let's Go to Prison                       john lyshitski young man prison often entire c...   \n",
       "10 Years                                 night high school reunion group friends realiz...   \n",
       "Two Moon Junction                        april graduated exclusive southern college she...   \n",
       "...                                                                                    ...   \n",
       "Jingle All the Way                       meet howard langston salesman mattress company...   \n",
       "Immediate Family                         linda michael married ten years desperately wa...   \n",
       "Cookie                                   paroled labor racketeer dapper dino sought pol...   \n",
       "Friday the 13th Part VII: The New Blood  lying dormant bottom camp crystal lake jason v...   \n",
       "Being Flynn                              nick flynn 20s hasnt found place world yet hop...   \n",
       "\n",
       "                                         plot_len  action  adventure  fantasy  \\\n",
       "name                                                                            \n",
       "Water for Elephants                           376       0          0        0   \n",
       "The Lizzie McGuire Movie                     1077       0          1        0   \n",
       "Let's Go to Prison                           1362       0          0        0   \n",
       "10 Years                                      114       0          0        0   \n",
       "Two Moon Junction                             520       0          0        0   \n",
       "...                                           ...     ...        ...      ...   \n",
       "Jingle All the Way                            664       0          1        0   \n",
       "Immediate Family                              308       0          0        0   \n",
       "Cookie                                        182       0          0        0   \n",
       "Friday the 13th Part VII: The New Blood       216       0          0        0   \n",
       "Being Flynn                                   631       0          0        0   \n",
       "\n",
       "                                         sci-fi  crime  drama  history  \\\n",
       "name                                                                     \n",
       "Water for Elephants                           0      0      1        0   \n",
       "The Lizzie McGuire Movie                      0      0      0        0   \n",
       "Let's Go to Prison                            0      1      0        0   \n",
       "10 Years                                      0      0      1        0   \n",
       "Two Moon Junction                             0      0      1        0   \n",
       "...                                         ...    ...    ...      ...   \n",
       "Jingle All the Way                            0      0      0        0   \n",
       "Immediate Family                              0      0      1        0   \n",
       "Cookie                                        0      1      0        0   \n",
       "Friday the 13th Part VII: The New Blood       0      0      0        0   \n",
       "Being Flynn                                   0      0      1        0   \n",
       "\n",
       "                                         comedy  ...  family  sport  music  \\\n",
       "name                                             ...                         \n",
       "Water for Elephants                           0  ...       0      0      0   \n",
       "The Lizzie McGuire Movie                      1  ...       1      0      1   \n",
       "Let's Go to Prison                            1  ...       0      0      0   \n",
       "10 Years                                      1  ...       0      0      0   \n",
       "Two Moon Junction                             0  ...       0      0      0   \n",
       "...                                         ...  ...     ...    ...    ...   \n",
       "Jingle All the Way                            1  ...       1      0      0   \n",
       "Immediate Family                              0  ...       0      0      0   \n",
       "Cookie                                        1  ...       0      0      0   \n",
       "Friday the 13th Part VII: The New Blood       0  ...       0      0      0   \n",
       "Being Flynn                                   0  ...       0      0      0   \n",
       "\n",
       "                                         mystery  short  western  musical  \\\n",
       "name                                                                        \n",
       "Water for Elephants                            0      0        0        0   \n",
       "The Lizzie McGuire Movie                       0      0        0        0   \n",
       "Let's Go to Prison                             0      0        0        0   \n",
       "10 Years                                       0      0        0        0   \n",
       "Two Moon Junction                              0      0        0        0   \n",
       "...                                          ...    ...      ...      ...   \n",
       "Jingle All the Way                             0      0        0        0   \n",
       "Immediate Family                               0      0        0        0   \n",
       "Cookie                                         0      0        0        0   \n",
       "Friday the 13th Part VII: The New Blood        0      0        0        0   \n",
       "Being Flynn                                    0      0        0        0   \n",
       "\n",
       "                                         documentary  film-noir  adult  \n",
       "name                                                                    \n",
       "Water for Elephants                                0          0      0  \n",
       "The Lizzie McGuire Movie                           0          0      0  \n",
       "Let's Go to Prison                                 0          0      0  \n",
       "10 Years                                           0          0      0  \n",
       "Two Moon Junction                                  0          0      0  \n",
       "...                                              ...        ...    ...  \n",
       "Jingle All the Way                                 0          0      0  \n",
       "Immediate Family                                   0          0      0  \n",
       "Cookie                                             0          0      0  \n",
       "Friday the 13th Part VII: The New Blood            0          0      0  \n",
       "Being Flynn                                        0          0      0  \n",
       "\n",
       "[4420 rows x 26 columns]"
      ]
     },
     "execution_count": 18,
     "metadata": {},
     "output_type": "execute_result"
    }
   ],
   "source": [
    "from sklearn.model_selection import train_test_split\n",
    "X = clean_df.drop(columns = [\"rating\",\"encoded_rating\"])\n",
    "y = clean_df[\"encoded_rating\"]\n",
    "\n",
    "X_train, X_test, y_train, y_test = train_test_split(X, y, random_state=42)\n",
    "X_train"
   ]
  },
  {
   "cell_type": "markdown",
   "metadata": {},
   "source": [
    "## Tokenization"
   ]
  },
  {
   "cell_type": "code",
   "execution_count": 19,
   "metadata": {},
   "outputs": [
    {
     "name": "stdout",
     "output_type": "stream",
     "text": [
      "------------------------------\n",
      "Type: <class 'scipy.sparse.csr.csr_matrix'>\n",
      "Shape : (4420, 1048576)\n",
      "------------------------------\n",
      "See one vector to check: \n",
      "\n",
      "  (0, 1047404)\t-0.14353251889794175\n",
      "  (0, 1036687)\t0.1853268562788059\n",
      "  (0, 999705)\t0.1321901687192151\n",
      "  (0, 932074)\t0.35522063727664094\n",
      "  (0, 920155)\t0.3860867878385826\n",
      "  (0, 869863)\t-0.1276618622332636\n",
      "  (0, 779551)\t0.23338747844118218\n",
      "  (0, 767195)\t-0.10868166438609576\n",
      "  (0, 758978)\t-0.12334168489559938\n",
      "  (0, 728023)\t-0.12100776620553749\n",
      "  (0, 704780)\t-0.1214172878082159\n",
      "  (0, 704556)\t-0.20880968024237387\n",
      "  (0, 673732)\t0.09871958752248178\n",
      "  (0, 672777)\t-0.08234067421860514\n",
      "  (0, 672587)\t-0.10999678777062567\n",
      "  (0, 606279)\t-0.10792246812382217\n",
      "  (0, 555581)\t0.12001050844975987\n",
      "  (0, 530489)\t-0.09379965797003842\n",
      "  (0, 463730)\t0.17598417568057634\n",
      "  (0, 441259)\t0.1251764610852203\n",
      "  (0, 392855)\t0.18766077496886774\n",
      "  (0, 380136)\t-0.11195350928895997\n",
      "  (0, 379061)\t0.20391924287975977\n",
      "  (0, 367561)\t0.11137973032088308\n",
      "  (0, 343575)\t-0.23338747844118218\n",
      "  :\t:\n",
      "  (4419, 447656)\t-0.06940053319367429\n",
      "  (4419, 442579)\t-0.07046230084881568\n",
      "  (4419, 432545)\t0.1647612652916611\n",
      "  (4419, 416002)\t0.12917423131659458\n",
      "  (4419, 393667)\t-0.17281441127791664\n",
      "  (4419, 380414)\t0.15099432129725562\n",
      "  (4419, 360882)\t0.06961939493257807\n",
      "  (4419, 360387)\t-0.07764505094651579\n",
      "  (4419, 358928)\t0.0988165444588424\n",
      "  (4419, 346524)\t0.09414671326592451\n",
      "  (4419, 326152)\t-0.13563760891800009\n",
      "  (4419, 318564)\t0.1647612652916611\n",
      "  (4419, 317505)\t-0.12611256730727546\n",
      "  (4419, 288820)\t-0.10928395930355088\n",
      "  (4419, 170522)\t-0.099300995349678\n",
      "  (4419, 158803)\t-0.06093452594119982\n",
      "  (4419, 144774)\t-0.2522251346145509\n",
      "  (4419, 91974)\t0.14528052328910565\n",
      "  (4419, 86257)\t0.12430573116806189\n",
      "  (4419, 76338)\t0.09954772525334922\n",
      "  (4419, 57090)\t-0.08344143328083813\n",
      "  (4419, 45875)\t0.08960157595659488\n",
      "  (4419, 42885)\t0.10526152326149915\n",
      "  (4419, 12687)\t0.13279541125031016\n",
      "  (4419, 1907)\t-0.08154842997033936\n"
     ]
    },
    {
     "data": {
      "text/plain": [
       "'alternative vectorizor'"
      ]
     },
     "execution_count": 19,
     "metadata": {},
     "output_type": "execute_result"
    }
   ],
   "source": [
    "from sklearn.feature_extraction.text import HashingVectorizer\n",
    "from sklearn.feature_extraction.text import TfidfTransformer\n",
    "\n",
    "# hash plot\n",
    "cv = HashingVectorizer().fit(X_train[\"plot\"])\n",
    "X_train_counts = cv.transform(X_train[\"plot\"])\n",
    "X_test_counts = cv.transform(X_test[\"plot\"])\n",
    "\n",
    "# pass the hashed vector through a tfidf transformer\n",
    "tf_transformer = TfidfTransformer(use_idf=True).fit(X_train_counts)\n",
    "X_train_tfidf = tf_transformer.transform(X_train_counts)\n",
    "X_test_tfidf = tf_transformer.transform(X_test_counts)\n",
    "\n",
    "print(\"------------------------------\")\n",
    "print(f\"Type: {type(X_train_tfidf)}\")\n",
    "print(f\"Shape : {X_train_tfidf.shape}\")\n",
    "print(\"------------------------------\")\n",
    "print(\"See one vector to check: \\n\")\n",
    "print(X_train_tfidf)\n",
    "\n",
    "\"\"\"alternative vectorizor\"\"\"\n",
    "# from sklearn.feature_extraction.text import TfidfVectorizer\n",
    "\n",
    "# vectorizer = TfidfVectorizer().fit(X_train[\"plot\"])\n",
    "\n",
    "\n",
    "# X_train_tfidf = vectorizer.transform(X_train[\"plot\"])\n",
    "# X_test_tfidf = vectorizer.transform(X_test[\"plot\"])\n"
   ]
  },
  {
   "cell_type": "code",
   "execution_count": 20,
   "metadata": {},
   "outputs": [
    {
     "name": "stderr",
     "output_type": "stream",
     "text": [
      "/opt/anaconda3/envs/PythonAdv/lib/python3.6/site-packages/ipykernel_launcher.py:7: SettingWithCopyWarning: \n",
      "A value is trying to be set on a copy of a slice from a DataFrame.\n",
      "Try using .loc[row_indexer,col_indexer] = value instead\n",
      "\n",
      "See the caveats in the documentation: https://pandas.pydata.org/pandas-docs/stable/user_guide/indexing.html#returning-a-view-versus-a-copy\n",
      "  import sys\n",
      "/opt/anaconda3/envs/PythonAdv/lib/python3.6/site-packages/ipykernel_launcher.py:8: SettingWithCopyWarning: \n",
      "A value is trying to be set on a copy of a slice from a DataFrame.\n",
      "Try using .loc[row_indexer,col_indexer] = value instead\n",
      "\n",
      "See the caveats in the documentation: https://pandas.pydata.org/pandas-docs/stable/user_guide/indexing.html#returning-a-view-versus-a-copy\n",
      "  \n"
     ]
    }
   ],
   "source": [
    "# These features and y values are chosen to be scaled because the data is heavily skewed\n",
    "from sklearn.preprocessing import MinMaxScaler\n",
    "\n",
    "# Transform selected X ('runtime', 'votes_imdb', 'adjusted_budget')\n",
    "X_scaler = MinMaxScaler().fit(X_train[\"plot_len\"].values.reshape(-1,1))\n",
    "\n",
    "X_train[\"plot_len\"] = X_scaler.transform(X_train[\"plot_len\"].values.reshape(-1,1))\n",
    "X_test[\"plot_len\"] = X_scaler.transform(X_test[\"plot_len\"].values.reshape(-1,1))"
   ]
  },
  {
   "cell_type": "code",
   "execution_count": 21,
   "metadata": {},
   "outputs": [
    {
     "data": {
      "text/plain": [
       "matrix([[0.11924822, 0.        , 0.        , ..., 0.        , 0.        ,\n",
       "         0.        ],\n",
       "        [0.34640311, 0.        , 1.        , ..., 0.        , 0.        ,\n",
       "         0.        ],\n",
       "        [0.43875567, 0.        , 0.        , ..., 0.        , 0.        ,\n",
       "         0.        ],\n",
       "        ...,\n",
       "        [0.05638367, 0.        , 0.        , ..., 0.        , 0.        ,\n",
       "         0.        ],\n",
       "        [0.06740117, 0.        , 0.        , ..., 0.        , 0.        ,\n",
       "         0.        ],\n",
       "        [0.20187946, 0.        , 0.        , ..., 0.        , 0.        ,\n",
       "         0.        ]])"
      ]
     },
     "execution_count": 21,
     "metadata": {},
     "output_type": "execute_result"
    }
   ],
   "source": [
    "#create matrix with other features data\n",
    "\n",
    "import numpy as np\n",
    "from scipy.sparse import csr_matrix\n",
    "\n",
    "X_train_extra_features_mat = csr_matrix(X_train.drop(columns=[\"plot\"])) #run these lines to include plot len\n",
    "X_test_extra_features_mat = csr_matrix(X_test.drop(columns=[\"plot\"])) #run these lines to include plot len\n",
    "# X_train_extra_features_mat = csr_matrix(X_train.drop(columns=[\"plot\", \"plot_len\"]))\n",
    "# X_test_extra_features_mat = csr_matrix(X_test.drop(columns=[\"plot\", \"plot_len\"]))\n",
    "X_train_extra_features_mat.todense()"
   ]
  },
  {
   "cell_type": "code",
   "execution_count": 22,
   "metadata": {},
   "outputs": [
    {
     "name": "stdout",
     "output_type": "stream",
     "text": [
      "(4420, 1048601)\n",
      "(1474, 1048601)\n"
     ]
    }
   ],
   "source": [
    "#combine both matices \n",
    "from scipy.sparse import hstack\n",
    "\n",
    "X_train_full = hstack([X_train_tfidf, X_train_extra_features_mat])\n",
    "X_test_full = hstack([X_test_tfidf, X_test_extra_features_mat])\n",
    "\n",
    "print(X_train_full.shape)\n",
    "print(X_test_full.shape)"
   ]
  },
  {
   "cell_type": "markdown",
   "metadata": {},
   "source": [
    "### Train and Fit Model"
   ]
  },
  {
   "cell_type": "code",
   "execution_count": 23,
   "metadata": {},
   "outputs": [
    {
     "name": "stdout",
     "output_type": "stream",
     "text": [
      "[LibLinear]"
     ]
    },
    {
     "data": {
      "text/plain": [
       "LinearSVC(class_weight='balanced', max_iter=100000, random_state=42, verbose=2)"
      ]
     },
     "execution_count": 23,
     "metadata": {},
     "output_type": "execute_result"
    }
   ],
   "source": [
    "from sklearn.svm import LinearSVC \n",
    "\n",
    "model = LinearSVC(class_weight='balanced',\n",
    "                        verbose=2, random_state=42,\n",
    "                        max_iter=100000)\n",
    "model.fit(X_train_full, y_train)"
   ]
  },
  {
   "cell_type": "code",
   "execution_count": 24,
   "metadata": {},
   "outputs": [],
   "source": [
    "# \"\"\"\n",
    "# with genres no balancing\n",
    "# \"\"\"\n",
    "# # Support vector machine linear classifier\n",
    "# from sklearn.svm import SVC \n",
    "\n",
    "# model = SVC(kernel='linear')\n",
    "# model.fit(X_train_full, y_train)"
   ]
  },
  {
   "cell_type": "code",
   "execution_count": 32,
   "metadata": {},
   "outputs": [
    {
     "name": "stdout",
     "output_type": "stream",
     "text": [
      "              precision    recall  f1-score   support\n",
      "\n",
      "           G       0.60      0.18      0.28        33\n",
      "          PG       0.69      0.53      0.60       219\n",
      "       PG-13       0.49      0.48      0.48       444\n",
      "           R       0.70      0.78      0.74       778\n",
      "\n",
      "    accuracy                           0.64      1474\n",
      "   macro avg       0.62      0.49      0.53      1474\n",
      "weighted avg       0.63      0.64      0.63      1474\n",
      "\n"
     ]
    }
   ],
   "source": [
    "# Calculate classification report\n",
    "from sklearn.metrics import classification_report\n",
    "\n",
    "predictions = model.predict(X_test_full)\n",
    "target_names = [\"G\", \"PG\", \"PG-13\", \"R\"]\n",
    "print(classification_report(y_test, predictions,\n",
    "                            target_names=target_names))"
   ]
  },
  {
   "cell_type": "code",
   "execution_count": 26,
   "metadata": {},
   "outputs": [
    {
     "data": {
      "text/plain": [
       "'\\nWith genres with balancing\\n'"
      ]
     },
     "execution_count": 26,
     "metadata": {},
     "output_type": "execute_result"
    }
   ],
   "source": [
    "\"\"\"\n",
    "With genres with balancing\n",
    "\"\"\"\n",
    "#join ifidf vector and genre data\n",
    "\n",
    "\n",
    "# Support vector machine linear classifier\n",
    "# from sklearn.svm import SVC \n",
    "# model = SVC(kernel='linear',  class_weight='balanced')\n",
    "# model.fit(X_train_full, y_train)\n",
    "\n",
    "# # Calculate classification report\n",
    "# from sklearn.metrics import classification_report\n",
    "# target_names = [\"G\", \"PG\", \"PG-13\", \"R\"]\n",
    "# predictions = model.predict(X_test_full)\n",
    "# print(classification_report(y_test, predictions,\n",
    "#                             target_names=target_names))"
   ]
  },
  {
   "cell_type": "code",
   "execution_count": 27,
   "metadata": {},
   "outputs": [],
   "source": [
    "# \"\"\"\n",
    "# without genre with balancing\n",
    "# \"\"\"\n",
    "\n",
    "# target_names = [\"G\", \"PG\", \"PG-13\", \"R\"]\n",
    "\n",
    "# # Support vector machine linear classifier\n",
    "# from sklearn.svm import SVC \n",
    "# model = SVC(kernel='linear',  class_weight='balanced')\n",
    "# model.fit(X_train_tfidf, y_train)\n",
    "\n",
    "# # Calculate classification report\n",
    "# from sklearn.metrics import classification_report\n",
    "# predictions = model.predict(X_test_tfidf)\n",
    "# print(classification_report(y_test, predictions,\n",
    "#                             target_names=target_names))"
   ]
  },
  {
   "cell_type": "code",
   "execution_count": 28,
   "metadata": {},
   "outputs": [],
   "source": [
    "# from sklearn.model_selection import GridSearchCV\n",
    "# from sklearn.metrics import classification_report\n",
    "\n",
    "# target_names = [\"G\", \"PG\", \"PG-13\", \"R\"]\n",
    "\n",
    "\n",
    "# # Set the parameters by cross-validation\n",
    "# tuned_parameters = [{'kernel': ['rbf'], 'gamma': [1e-3, 1e-4],\n",
    "#                      'C': [1, 10, 100, 1000] },\n",
    "#                     {'kernel': ['linear'], 'C': [1, 10, 100, 1000]}]\n",
    "\n",
    "# scores = ['precision', 'recall']\n",
    "\n",
    "# for score in scores:\n",
    "#     print(\"# Tuning hyper-parameters for %s\" % score)\n",
    "#     print()\n",
    "\n",
    "#     clf = GridSearchCV(\n",
    "#         SVC(class_weight = \"balanced\"), tuned_parameters, scoring='%s_macro' % score\n",
    "#     )\n",
    "#     clf.fit(X_train_full, y_train)\n",
    "\n",
    "#     print(\"Best parameters set found on development set:\")\n",
    "#     print()\n",
    "#     print(clf.best_params_)\n",
    "#     print()\n",
    "#     print(\"Grid scores on development set:\")\n",
    "#     print()\n",
    "#     means = clf.cv_results_['mean_test_score']\n",
    "#     stds = clf.cv_results_['std_test_score']\n",
    "#     for mean, std, params in zip(means, stds, clf.cv_results_['params']):\n",
    "#         print(\"%0.3f (+/-%0.03f) for %r\"\n",
    "#               % (mean, std * 2, params))\n",
    "#     print()\n",
    "\n",
    "#     print(\"Detailed classification report:\")\n",
    "#     print()\n",
    "#     print(\"The model is trained on the full development set.\")\n",
    "#     print(\"The scores are computed on the full evaluation set.\")\n",
    "#     print()\n",
    "#     y_true, y_pred = y_test, clf.predict(X_test_full)\n",
    "#     print(classification_report(y_true, y_pred))\n",
    "#     print()"
   ]
  },
  {
   "cell_type": "code",
   "execution_count": 29,
   "metadata": {},
   "outputs": [],
   "source": [
    "# from sklearn.decomposition import PCA, TruncatedSVD\n",
    "# import matplotlib.pyplot as plt\n",
    "\n",
    "# import matplotlib \n",
    "# import matplotlib.patches as mpatches\n",
    "\n",
    "\n",
    "# # X_full = hstack([X_train_tfidf,genres_mat])\n",
    "# # X_tfidf = hstack([train_tfidf])\n",
    "# # y = ratings[\"encoded_rating\"]\n",
    "# test_labels = [\"G\", \"PG\", \"PG-13\", \"R\"]\n",
    "\n",
    "# def plot_LSA(test_data, test_labels, plot=True):\n",
    "#     \"\"\"\n",
    "#     This function first uses SK-Learn's truncated SVD (LSA) class to \n",
    "#     transform the high dimensionality (number of columns) of the BoW \n",
    "#     embedding down to 2 dimensions. Then the two dimensions are used\n",
    "#     to plot each song, colored by the song writer (class).\n",
    "    \n",
    "#     Inputs:\n",
    "#         test_data (pd.DataFrame): BoW embeddings.\n",
    "#         test_labels (pd.Series): In this case the songwriter of each\n",
    "#         Beatles' song.\n",
    "#         plot (boolean): Whether or not to plot. Defaults to True.\n",
    "    \n",
    "#     Outputs:\n",
    "#         None.\n",
    "#     \"\"\"\n",
    "    \n",
    "#     lsa = TruncatedSVD(n_components=2)\n",
    "#     lsa.fit(test_data)\n",
    "#     lsa_scores = lsa.transform(test_data)\n",
    "#     color_mapper = {label:idx for idx,label in enumerate(set(test_labels))}\n",
    "#     color_column = [color_mapper[label] for label in test_labels]\n",
    "#     colors = ['blue','green','purple', 'red']\n",
    "#     if plot:\n",
    "#         plt.scatter(lsa_scores[:,0], lsa_scores[:,1], s=8, alpha=.8, c=test_labels, cmap=matplotlib.colors.ListedColormap(colors))\n",
    "#         blue_patch = mpatches.Patch(color='blue', label='G')\n",
    "#         green_patch = mpatches.Patch(color='green', label='PG')\n",
    "#         purple_patch = mpatches.Patch(color='purple', label='PG-13')\n",
    "#         orange_patch = mpatches.Patch(color='red', label='R')\n",
    "#         plt.legend(handles=[blue_patch, green_patch, purple_patch, orange_patch], prop={'size': 18})\n",
    "#         plt.xlabel('Principal Component One')\n",
    "#         plt.ylabel('Principal Component Two')\n",
    "#         plt.rcParams[\"xtick.labelsize\"] = 20\n",
    "#         plt.rcParams[\"ytick.labelsize\"] = 20\n",
    "\n",
    "# plt.figure(1, figsize=(16, 12))\n",
    "# plt.subplot(3, 1, 1)\n",
    "# plot_LSA(X_train_tfidf, y_train)\n",
    "# plt.subplot(3, 1, 2)\n",
    "# plot_LSA(X_train_extra_features_mat, y_train)\n",
    "# plt.subplot(3, 1, 3)\n",
    "# plot_LSA(X_train_full, y_train)\n",
    "\n"
   ]
  },
  {
   "cell_type": "markdown",
   "metadata": {},
   "source": [
    "## Export "
   ]
  },
  {
   "cell_type": "code",
   "execution_count": 30,
   "metadata": {},
   "outputs": [
    {
     "data": {
      "text/plain": [
       "['../flask_app/ratings_SVM_classifier.sav']"
      ]
     },
     "execution_count": 30,
     "metadata": {},
     "output_type": "execute_result"
    }
   ],
   "source": [
    "import joblib\n",
    "\n",
    "\n",
    "\n",
    "filename = os.path.join(\n",
    "    \"..\", \"saved_models\", \"ratings_SVM_classifier.sav\"\n",
    ")\n",
    "joblib.dump(model, filename)\n",
    "\n",
    "filename = os.path.join(\n",
    "    \"..\", \"flask_app\", \"ratings_SVM_classifier.sav\"\n",
    ")\n",
    "joblib.dump(model, filename)"
   ]
  },
  {
   "cell_type": "code",
   "execution_count": 31,
   "metadata": {},
   "outputs": [
    {
     "data": {
      "text/plain": [
       "(4420, 1048601)"
      ]
     },
     "execution_count": 31,
     "metadata": {},
     "output_type": "execute_result"
    }
   ],
   "source": [
    "X_train_full.shape"
   ]
  },
  {
   "cell_type": "code",
   "execution_count": null,
   "metadata": {},
   "outputs": [],
   "source": []
  }
 ],
 "metadata": {
  "kernelspec": {
   "display_name": "Python [conda env:PythonAdv] *",
   "language": "python",
   "name": "conda-env-PythonAdv-py"
  },
  "language_info": {
   "codemirror_mode": {
    "name": "ipython",
    "version": 3
   },
   "file_extension": ".py",
   "mimetype": "text/x-python",
   "name": "python",
   "nbconvert_exporter": "python",
   "pygments_lexer": "ipython3",
   "version": "3.6.13"
  }
 },
 "nbformat": 4,
 "nbformat_minor": 4
}
